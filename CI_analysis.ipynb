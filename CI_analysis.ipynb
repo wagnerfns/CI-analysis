{
 "cells": [
  {
   "cell_type": "code",
   "execution_count": 1,
   "metadata": {},
   "outputs": [],
   "source": [
    "import pandas as np"
   ]
  },
  {
   "cell_type": "code",
   "execution_count": 2,
   "metadata": {
    "scrolled": true
   },
   "outputs": [
    {
     "name": "stderr",
     "output_type": "stream",
     "text": [
      "/home/wagner/anaconda3/lib/python3.6/site-packages/IPython/core/interactiveshell.py:2785: DtypeWarning: Columns (3,6,18) have mixed types. Specify dtype option on import or set low_memory=False.\n",
      "  interactivity=interactivity, compiler=compiler, result=result)\n"
     ]
    }
   ],
   "source": [
    "dataset = np.read_csv('travistorrent_11_1_2017.csv',sep=',', engine='c', nrows=3000000, na_values=str, keep_default_na = bool, encoding='utf-8')\n",
    "# nrows=1000000\n",
    "'''\n",
    "Signature:\n",
    "    sep - separa por virgula\n",
    "    nrows - limite de linhas lidas\n",
    "    encoding - tipo de caracter\n",
    "    engine - Mecanismo do analisador\n",
    "    na_values - procura os padrões na|nan como str\n",
    "    keep_default_na - define como nan os padroes econtrados em na_values\n",
    "    \n",
    "'''\n",
    "\n",
    "# Eliminando colunas\n",
    "dataset.drop([  'gh_diff_files_added',\n",
    "                'gh_commits_in_push',\n",
    "                'gh_diff_files_deleted',\n",
    "                'gh_diff_files_modified',\n",
    "                'gh_diff_tests_added',\n",
    "                'gh_diff_tests_deleted',\n",
    "                'gh_diff_src_files',\n",
    "                'gh_diff_doc_files',\n",
    "                'gh_diff_other_files',\n",
    "                'gh_sloc',\n",
    "                'gh_test_lines_per_kloc',\n",
    "                'gh_test_cases_per_kloc',\n",
    "            \n",
    "                'tr_duration',\n",
    "                'tr_log_lan',\n",
    "                'tr_log_num_tests_run',\n",
    "                'tr_log_setup_time',\n",
    "                'tr_log_analyzer',\n",
    "                'tr_log_frameworks',\n",
    "                'tr_log_bool_tests_ran',\n",
    "                'tr_log_bool_tests_failed',\n",
    "                'tr_log_tests_failed',\n",
    "                'tr_log_testduration',\n",
    "                'tr_log_buildduration'], axis=1, inplace=True)"
   ]
  },
  {
   "cell_type": "markdown",
   "metadata": {},
   "source": []
  },
  {
   "cell_type": "code",
   "execution_count": null,
   "metadata": {},
   "outputs": [],
   "source": [
    "def categorizaPush(valor):\n",
    "    if(valor < 20):\n",
    "        return 0"
   ]
  },
  {
   "cell_type": "code",
   "execution_count": 14,
   "metadata": {
    "scrolled": true
   },
   "outputs": [],
   "source": [
    "df_java = dataset.loc[dataset['gh_lang']=='java'] # Filtro apenas linguagem java\n",
    "\n",
    "df_java = df_java.loc[df_java['gh_project_name']=='SonarSource/sonarqube'] # Filtro penas o projeto SonarSource\n",
    "\n",
    "\n",
    "df_statusFail = df_java.loc[df_java['tr_status']=='failed'] # Filtra apenas as bulds quebradas"
   ]
  },
  {
   "cell_type": "code",
   "execution_count": 15,
   "metadata": {},
   "outputs": [
    {
     "data": {
      "text/html": [
       "<div>\n",
       "<style scoped>\n",
       "    .dataframe tbody tr th:only-of-type {\n",
       "        vertical-align: middle;\n",
       "    }\n",
       "\n",
       "    .dataframe tbody tr th {\n",
       "        vertical-align: top;\n",
       "    }\n",
       "\n",
       "    .dataframe thead th {\n",
       "        text-align: right;\n",
       "    }\n",
       "</style>\n",
       "<table border=\"1\" class=\"dataframe\">\n",
       "  <thead>\n",
       "    <tr style=\"text-align: right;\">\n",
       "      <th></th>\n",
       "      <th>tr_build_id</th>\n",
       "      <th>gh_project_name</th>\n",
       "      <th>gh_is_pr</th>\n",
       "      <th>gh_pr_created_at</th>\n",
       "      <th>gh_pull_req_num</th>\n",
       "      <th>gh_lang</th>\n",
       "      <th>git_merged_with</th>\n",
       "      <th>git_branch</th>\n",
       "      <th>gh_num_commits_in_push</th>\n",
       "      <th>git_prev_commit_resolution_status</th>\n",
       "      <th>...</th>\n",
       "      <th>gh_pushed_at</th>\n",
       "      <th>gh_build_started_at</th>\n",
       "      <th>tr_status</th>\n",
       "      <th>tr_jobs</th>\n",
       "      <th>tr_build_number</th>\n",
       "      <th>tr_job_id</th>\n",
       "      <th>tr_log_status</th>\n",
       "      <th>tr_log_num_tests_ok</th>\n",
       "      <th>tr_log_num_tests_failed</th>\n",
       "      <th>tr_log_num_tests_skipped</th>\n",
       "    </tr>\n",
       "  </thead>\n",
       "  <tbody>\n",
       "    <tr>\n",
       "      <th>2310262</th>\n",
       "      <td>54731125</td>\n",
       "      <td>SonarSource/sonarqube</td>\n",
       "      <td>False</td>\n",
       "      <td>NaN</td>\n",
       "      <td>NaN</td>\n",
       "      <td>java</td>\n",
       "      <td>NaN</td>\n",
       "      <td>master</td>\n",
       "      <td>1.0</td>\n",
       "      <td>merge_found</td>\n",
       "      <td>...</td>\n",
       "      <td>2014-12-19 11:25:34</td>\n",
       "      <td>2015-03-17 15:04:32</td>\n",
       "      <td>failed</td>\n",
       "      <td>[54731126, 54731127]</td>\n",
       "      <td>1</td>\n",
       "      <td>54731127</td>\n",
       "      <td>broken</td>\n",
       "      <td>NaN</td>\n",
       "      <td>NaN</td>\n",
       "      <td>NaN</td>\n",
       "    </tr>\n",
       "  </tbody>\n",
       "</table>\n",
       "<p>1 rows × 38 columns</p>\n",
       "</div>"
      ],
      "text/plain": [
       "         tr_build_id        gh_project_name  gh_is_pr gh_pr_created_at  \\\n",
       "2310262     54731125  SonarSource/sonarqube     False              NaN   \n",
       "\n",
       "         gh_pull_req_num gh_lang git_merged_with git_branch  \\\n",
       "2310262              NaN    java             NaN     master   \n",
       "\n",
       "         gh_num_commits_in_push git_prev_commit_resolution_status  \\\n",
       "2310262                     1.0                       merge_found   \n",
       "\n",
       "                   ...                    gh_pushed_at  gh_build_started_at  \\\n",
       "2310262            ...             2014-12-19 11:25:34  2015-03-17 15:04:32   \n",
       "\n",
       "        tr_status               tr_jobs tr_build_number  tr_job_id  \\\n",
       "2310262    failed  [54731126, 54731127]               1   54731127   \n",
       "\n",
       "        tr_log_status tr_log_num_tests_ok tr_log_num_tests_failed  \\\n",
       "2310262        broken                 NaN                     NaN   \n",
       "\n",
       "         tr_log_num_tests_skipped  \n",
       "2310262                       NaN  \n",
       "\n",
       "[1 rows x 38 columns]"
      ]
     },
     "execution_count": 15,
     "metadata": {},
     "output_type": "execute_result"
    }
   ],
   "source": [
    "df_java.loc[df_java['gh_num_commits_in_push'] > 0].head(1)"
   ]
  },
  {
   "cell_type": "code",
   "execution_count": 90,
   "metadata": {},
   "outputs": [
    {
     "data": {
      "text/plain": [
       "2310262    2014-12-19 11:25:34\n",
       "2310263    2014-12-19 11:25:34\n",
       "2310282    2014-12-19 11:25:34\n",
       "2310283    2014-12-19 11:25:34\n",
       "2310327    2014-12-19 13:59:58\n",
       "2310328    2014-12-19 13:59:58\n",
       "2310522    2014-12-19 12:55:59\n",
       "2310523    2014-12-19 12:55:59\n",
       "2310847    2014-12-19 15:46:30\n",
       "2310848    2014-12-19 15:46:30\n",
       "2311365    2014-12-19 18:59:51\n",
       "2311366    2014-12-19 18:59:51\n",
       "2311438    2014-12-22 10:07:39\n",
       "2311439    2014-12-22 10:07:39\n",
       "2312768    2014-12-20 01:50:02\n",
       "2312769    2014-12-20 01:50:02\n",
       "2312822    2014-12-20 03:11:19\n",
       "2312823    2014-12-20 05:29:53\n",
       "2312832    2014-12-20 03:17:50\n",
       "2312833    2014-12-20 03:17:50\n",
       "2312834    2014-12-20 03:17:50\n",
       "2312835    2015-01-06 17:56:17\n",
       "2312985    2014-12-20 05:09:45\n",
       "2312986    2014-12-20 05:09:45\n",
       "2313159    2014-12-29 19:03:31\n",
       "2313160    2014-12-29 19:03:31\n",
       "2313162    2014-12-29 19:03:31\n",
       "2313163    2014-12-20 07:14:02\n",
       "2313164    2014-12-20 07:14:02\n",
       "2313165    2014-12-20 07:21:14\n",
       "                  ...         \n",
       "2999689    2015-07-11 19:25:29\n",
       "2999690    2015-07-11 19:25:29\n",
       "2999691    2015-07-11 19:25:29\n",
       "2999720    2015-07-11 19:26:10\n",
       "2999721    2015-07-11 19:26:10\n",
       "2999722    2015-07-11 19:26:10\n",
       "2999723    2015-07-11 19:26:10\n",
       "2999724    2015-07-11 19:33:36\n",
       "2999725    2015-07-11 19:34:42\n",
       "2999726    2015-07-11 19:35:53\n",
       "2999727    2015-07-11 19:35:53\n",
       "2999728    2015-07-11 19:35:53\n",
       "2999924    2015-07-11 19:57:52\n",
       "2999925    2015-07-11 19:57:52\n",
       "2999926    2015-07-11 19:57:52\n",
       "2999927    2015-07-11 19:57:52\n",
       "2999928    2015-07-11 19:57:52\n",
       "2999929    2015-07-11 19:57:52\n",
       "2999930    2015-07-11 19:57:52\n",
       "2999931    2015-07-11 19:57:52\n",
       "2999932    2015-07-11 19:57:52\n",
       "2999988    2015-07-11 20:03:49\n",
       "2999989    2015-07-11 20:03:49\n",
       "2999990    2015-07-11 20:03:49\n",
       "2999991    2015-07-11 20:03:49\n",
       "2999992    2015-07-11 20:03:49\n",
       "2999993    2015-07-11 20:03:49\n",
       "2999994    2015-07-11 20:03:49\n",
       "2999995    2015-07-11 20:03:49\n",
       "2999996    2015-07-11 20:03:49\n",
       "Name: gh_pushed_at, Length: 14839, dtype: object"
      ]
     },
     "execution_count": 90,
     "metadata": {},
     "output_type": "execute_result"
    }
   ],
   "source": [
    "test = df_java.gh_pushed_at\n",
    "\n",
    "test"
   ]
  },
  {
   "cell_type": "markdown",
   "metadata": {},
   "source": [
    "##### Info\n",
    "- tr_log_status = log do travis se passou ou nã o push\n",
    "- \n",
    "- \n",
    "- \n",
    "- \n",
    "- \n",
    "- "
   ]
  },
  {
   "cell_type": "code",
   "execution_count": null,
   "metadata": {},
   "outputs": [],
   "source": []
  }
 ],
 "metadata": {
  "kernelspec": {
   "display_name": "Python 3",
   "language": "python",
   "name": "python3"
  },
  "language_info": {
   "codemirror_mode": {
    "name": "ipython",
    "version": 3
   },
   "file_extension": ".py",
   "mimetype": "text/x-python",
   "name": "python",
   "nbconvert_exporter": "python",
   "pygments_lexer": "ipython3",
   "version": "3.6.5"
  }
 },
 "nbformat": 4,
 "nbformat_minor": 2
}
