{
 "cells": [
  {
   "cell_type": "code",
   "execution_count": 1,
   "metadata": {},
   "outputs": [],
   "source": [
    "import pandas as pd"
   ]
  },
  {
   "cell_type": "code",
   "execution_count": 2,
   "metadata": {},
   "outputs": [],
   "source": [
    "file = 'travistorrent_11_1_2017.csv'\n",
    "chunksize = 1000000"
   ]
  },
  {
   "cell_type": "code",
   "execution_count": 3,
   "metadata": {},
   "outputs": [
    {
     "name": "stderr",
     "output_type": "stream",
     "text": [
      "/home/wagner/anaconda3/lib/python3.6/site-packages/IPython/core/interactiveshell.py:2785: DtypeWarning: Columns (3,6,18) have mixed types. Specify dtype option on import or set low_memory=False.\n",
      "  interactivity=interactivity, compiler=compiler, result=result)\n"
     ]
    },
    {
     "ename": "NameError",
     "evalue": "name 'process' is not defined",
     "output_type": "error",
     "traceback": [
      "\u001b[0;31m----------------------------------------------------------\u001b[0m",
      "\u001b[0;31mNameError\u001b[0m                Traceback (most recent call last)",
      "\u001b[0;32m<ipython-input-3-92e1eb900a9e>\u001b[0m in \u001b[0;36m<module>\u001b[0;34m()\u001b[0m\n\u001b[1;32m      1\u001b[0m \u001b[0;32mfor\u001b[0m \u001b[0mdataset\u001b[0m \u001b[0;32min\u001b[0m \u001b[0mpd\u001b[0m\u001b[0;34m.\u001b[0m\u001b[0mread_csv\u001b[0m\u001b[0;34m(\u001b[0m\u001b[0mfile\u001b[0m\u001b[0;34m,\u001b[0m \u001b[0mengine\u001b[0m\u001b[0;34m=\u001b[0m\u001b[0;34m'c'\u001b[0m\u001b[0;34m,\u001b[0m \u001b[0mchunksize\u001b[0m\u001b[0;34m=\u001b[0m\u001b[0mchunksize\u001b[0m\u001b[0;34m)\u001b[0m\u001b[0;34m:\u001b[0m\u001b[0;34m\u001b[0m\u001b[0m\n\u001b[0;32m----> 2\u001b[0;31m     \u001b[0mprocess\u001b[0m\u001b[0;34m(\u001b[0m\u001b[0mdataset\u001b[0m\u001b[0;34m)\u001b[0m\u001b[0;34m\u001b[0m\u001b[0m\n\u001b[0m",
      "\u001b[0;31mNameError\u001b[0m: name 'process' is not defined"
     ]
    }
   ],
   "source": [
    "for dataset in pd.read_csv(file, engine='c', chunksize=chunksize):\n",
    "    process(dataset)"
   ]
  },
  {
   "cell_type": "code",
   "execution_count": 4,
   "metadata": {
    "scrolled": true
   },
   "outputs": [
    {
     "data": {
      "text/plain": [
       "'\\nSignature:\\n    sep - separa por virgula\\n    nrows - limite de linhas lidas\\n    encoding - tipo de caracter\\n    engine - Mecanismo do analisador\\n    na_values - procura os padrões na|nan como str\\n    keep_default_na - define como nan os padroes econtrados em na_values\\n    \\n'"
      ]
     },
     "execution_count": 4,
     "metadata": {},
     "output_type": "execute_result"
    }
   ],
   "source": [
    "#dataset = pd.read_csv('travistorrent_11_1_2017.csv',sep=',', engine='c', nrows=3000000, na_values=str, keep_default_na = bool, encoding='utf-8')\n",
    "# nrows=1000000\n",
    "'''\n",
    "Signature:\n",
    "    sep - separa por virgula\n",
    "    nrows - limite de linhas lidas\n",
    "    encoding - tipo de caracter\n",
    "    engine - Mecanismo do analisador\n",
    "    na_values - procura os padrões na|nan como str\n",
    "    keep_default_na - define como nan os padroes econtrados em na_values\n",
    "    \n",
    "'''\n",
    "\n"
   ]
  },
  {
   "cell_type": "markdown",
   "metadata": {},
   "source": [
    "<font size=4/>\n",
    "   * Elimia as colunas não utilizadas"
   ]
  },
  {
   "cell_type": "code",
   "execution_count": 4,
   "metadata": {},
   "outputs": [],
   "source": [
    "# Eliminando colunas\n",
    "dataset.drop([  'gh_diff_files_added',\n",
    "                'gh_commits_in_push',\n",
    "                'gh_diff_files_deleted',\n",
    "                'gh_diff_files_modified',\n",
    "                'gh_diff_tests_added',\n",
    "                'gh_diff_tests_deleted',\n",
    "                'gh_diff_src_files',\n",
    "                'gh_diff_doc_files',\n",
    "                'gh_diff_other_files',\n",
    "                'gh_sloc',\n",
    "                'gh_test_lines_per_kloc',\n",
    "                'gh_test_cases_per_kloc',\n",
    "            \n",
    "                'tr_duration',\n",
    "                'tr_log_lan',\n",
    "                'tr_log_num_tests_run',\n",
    "                'tr_log_setup_time',\n",
    "                'tr_log_analyzer',\n",
    "                'tr_log_frameworks',\n",
    "                'tr_log_bool_tests_ran',\n",
    "                'tr_log_bool_tests_failed',\n",
    "                'tr_log_tests_failed',\n",
    "                'tr_log_testduration',\n",
    "                'tr_log_buildduration'], axis=1, inplace=True)"
   ]
  },
  {
   "cell_type": "code",
   "execution_count": 6,
   "metadata": {},
   "outputs": [],
   "source": [
    "def categorizaPush(valor):\n",
    "    if(valor < 20):\n",
    "        return 0"
   ]
  },
  {
   "cell_type": "markdown",
   "metadata": {},
   "source": [
    "<font size=4/> \n",
    "   * Filtra o projeto"
   ]
  },
  {
   "cell_type": "code",
   "execution_count": 5,
   "metadata": {
    "scrolled": false
   },
   "outputs": [],
   "source": [
    "df_ruby = dataset.loc[dataset['gh_project_name']=='rails/rails'] # Filtro penas o projeto rails/rails"
   ]
  },
  {
   "cell_type": "code",
   "execution_count": 18,
   "metadata": {},
   "outputs": [],
   "source": [
    "ruby_master = df_ruby.loc[df_ruby['git_branch']== 'master']"
   ]
  },
  {
   "cell_type": "code",
   "execution_count": 30,
   "metadata": {},
   "outputs": [],
   "source": [
    "teste = ruby_master.loc[ruby_master['gh_first_commit_created_at'] != 'NaN'] # teste"
   ]
  },
  {
   "cell_type": "code",
   "execution_count": 34,
   "metadata": {},
   "outputs": [
    {
     "data": {
      "text/plain": [
       "False"
      ]
     },
     "execution_count": 34,
     "metadata": {},
     "output_type": "execute_result"
    }
   ],
   "source": [
    "#df_statusFail = df_java.loc[df_java['tr_status']=='failed'] # Filtra apenas as bulds quebrada\n"
   ]
  },
  {
   "cell_type": "code",
   "execution_count": null,
   "metadata": {},
   "outputs": [],
   "source": []
  },
  {
   "cell_type": "code",
   "execution_count": null,
   "metadata": {},
   "outputs": [],
   "source": []
  },
  {
   "cell_type": "markdown",
   "metadata": {},
   "source": [
    "Onde: num_commitsTPP significa o número total de commits por projeto, obtido após agrupamento da amostra por gh_project_name e somando git_num_commits; \n",
    "\n",
    "\n",
    "tempoDP significa o tempo total de duração de cada projeto em dias, obtido após agrupamento da amostra por gh_project_name \n",
    "\n",
    "e \n",
    "\n",
    "\n",
    "diminuindo a data máxima da data mínima extraída de gh_first_commit_created_at no grupo;\n",
    "\n",
    "\n",
    "MediaPartPP significa a média de participantes por projeto, obtido após agrupamento da amostra por gh_project_name,\n",
    "\n",
    "\n",
    "\n",
    "somando gh_team_size \n",
    "\n",
    "\n",
    "e dividindo pelo número de builds em cada grupo, \n",
    "\n",
    "tendo em vista que gh_team_size tem pequenas variações entre builds ao longo do projeto.\n",
    "\n",
    "Para cada linguagem obtemos a TxCommitsPP e realizamos o teste de normalidade de Shapiro-Wilk e plotamos o gráfico quantil-quantil (QQ). Como as duas distribuições se desviaram da distribuição normal de forma significante, observamos no gráfico QQ que as duas amostras possuem forma de distribuição semelhante confirmada pelo teste de variância. Assim, para verificar se existe diferença estatística significante entre as duas distribuições, optamos por usar o teste não paramétrico U de Mann-Whitney. Os gráficos QQ podem ser vistos nas Figuras 1 e 2, abaixo."
   ]
  },
  {
   "cell_type": "code",
   "execution_count": null,
   "metadata": {},
   "outputs": [],
   "source": []
  }
 ],
 "metadata": {
  "kernelspec": {
   "display_name": "Python 3",
   "language": "python",
   "name": "python3"
  },
  "language_info": {
   "codemirror_mode": {
    "name": "ipython",
    "version": 3
   },
   "file_extension": ".py",
   "mimetype": "text/x-python",
   "name": "python",
   "nbconvert_exporter": "python",
   "pygments_lexer": "ipython3",
   "version": "3.6.5"
  }
 },
 "nbformat": 4,
 "nbformat_minor": 2
}
