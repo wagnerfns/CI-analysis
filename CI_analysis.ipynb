{
 "cells": [
  {
   "cell_type": "code",
   "execution_count": null,
   "metadata": {},
   "outputs": [],
   "source": [
    "import pandas as np"
   ]
  },
  {
   "cell_type": "code",
   "execution_count": null,
   "metadata": {},
   "outputs": [],
   "source": [
    "dataset = np.read_csv('travistorrent_11_1_2017.csv',sep=',', nrows=1000000, engine='c',na_values=str, keep_default_na = bool, encoding='utf-8')\n",
    "\n",
    "'''\n",
    "Signature:\n",
    "    sep - separa por virgula\n",
    "    nrows - limite de linhas lidas\n",
    "    encoding - tipo de caracter\n",
    "    engine - Mecanismo do analisador\n",
    "    na_values - procura os padrões na|nan como str\n",
    "    keep_default_na - define como nan os padroes econtrados em na_values\n",
    "    \n",
    "'''\n",
    "\n",
    "# Eliminando colunas\n",
    "dataset.drop(['gh_diff_files_added',\n",
    "                'gh_commits_in_push',\n",
    "                'gh_diff_files_deleted',\n",
    "                'gh_diff_files_modified',\n",
    "                'gh_diff_tests_added',\n",
    "                'gh_diff_tests_deleted',\n",
    "                'gh_diff_src_files',\n",
    "                'gh_diff_doc_files',\n",
    "                'gh_diff_other_files',\n",
    "                'gh_sloc',\n",
    "                'gh_test_lines_per_kloc',\n",
    "                'gh_test_cases_per_kloc',\n",
    "            \n",
    "                'tr_duration',\n",
    "                'tr_log_lan',\n",
    "                'tr_log_num_tests_run',\n",
    "                'tr_log_setup_time',\n",
    "                'tr_log_analyzer',\n",
    "                'tr_log_frameworks',\n",
    "                'tr_log_bool_tests_ran',\n",
    "                'tr_log_bool_tests_failed',\n",
    "                'tr_log_tests_failed',\n",
    "                'tr_log_testduration',\n",
    "                'tr_log_buildduration'], axis=1, inplace=True)"
   ]
  }
 ],
 "metadata": {
  "kernelspec": {
   "display_name": "Python 3",
   "language": "python",
   "name": "python3"
  },
  "language_info": {
   "codemirror_mode": {
    "name": "ipython",
    "version": 3
   },
   "file_extension": ".py",
   "mimetype": "text/x-python",
   "name": "python",
   "nbconvert_exporter": "python",
   "pygments_lexer": "ipython3",
   "version": "3.6.5"
  }
 },
 "nbformat": 4,
 "nbformat_minor": 2
}
