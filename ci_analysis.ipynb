{
 "cells": [
  {
   "cell_type": "code",
   "execution_count": 1,
   "metadata": {},
   "outputs": [],
   "source": [
    "import pandas as pd\n",
    "import numpy as np\n",
    "import matplotlib.pyplot as plt"
   ]
  },
  {
   "cell_type": "code",
   "execution_count": 2,
   "metadata": {},
   "outputs": [],
   "source": [
    "FILE = 'travistorrent_11_1_2017.csv'"
   ]
  },
  {
   "cell_type": "code",
   "execution_count": 3,
   "metadata": {},
   "outputs": [],
   "source": [
    "dataset = pd.read_csv(FILE, sep=',', engine='c',usecols=['gh_team_size',\n",
    "                                                         'tr_build_id',\n",
    "                                                         'gh_project_name',\n",
    "                                                         'tr_build_id',\n",
    "                                                         'gh_project_name',\n",
    "                                                         'gh_is_pr',\n",
    "                                                         'gh_pr_created_at',\n",
    "                                                         'gh_lang',\n",
    "                                                         'git_branch',\n",
    "                                                         'gh_num_commits_in_push',\n",
    "                                                         'git_prev_commit_resolution_status',\n",
    "                                                         'tr_prev_build',\n",
    "                                                         'gh_first_commit_created_at',\n",
    "                                                         'gh_team_size',         \n",
    "                                                         'gh_pushed_at',\n",
    "                                                         'gh_build_started_at',\n",
    "                                                         'tr_log_num_tests_ok',        \n",
    "                                                         'tr_log_num_tests_failed' ,   \n",
    "                                                         'tr_log_num_tests_skipped',\n",
    "                                                         'gh_sloc',\n",
    "                                                         'tr_log_bool_tests_failed'],dtype={ 'tr_build_id': np.float32,\n",
    "                                                                                            'gh_project_name': 'category',\n",
    "                                                                                            'gh_is_pr': np.bool,\n",
    "                                                                                            'gh_pr_created_at': 'category',\n",
    "                                                                                            'gh_lang': 'category',\n",
    "                                                                                            'git_branch': 'category',\n",
    "                                                                                            'gh_num_commits_in_push': np.float32,\n",
    "                                                                                            'git_prev_commit_resolution_status': 'category',\n",
    "                                                                                            'tr_prev_build': np.float32,\n",
    "                                                                                            'gh_first_commit_created_at': 'category',\n",
    "                                                                                            'gh_team_size': np.int32,\n",
    "                                                                                            'gh_pushed_at': 'category',\n",
    "                                                                                            'gh_build_started_at': 'category',\n",
    "                                                                                            'tr_log_num_tests_ok': np.float32,\n",
    "                                                                                            'tr_log_num_tests_failed': np.float32,\n",
    "                                                                                            'tr_log_num_tests_skipped': np.float32,\n",
    "                                                                                            'gh_sloc': np.int32,\n",
    "                                                                                            'tr_log_bool_tests_failed':np.bool}, encoding='utf-8')\n"
   ]
  },
  {
   "cell_type": "code",
   "execution_count": 6,
   "metadata": {
    "scrolled": true
   },
   "outputs": [],
   "source": [
    "dataset = dataset.loc[dataset['git_branch'] == 'master']\n",
    "dataset = dataset.dropna(subset=['gh_num_commits_in_push']) #Remove NaN da coluna especificada\n",
    "dataset['gh_pushed_at'] = pd.to_datetime(dataset.gh_pushed_at)\n",
    "dataset = dataset.drop_duplicates(['tr_build_id']) # No projeto todo\n"
   ]
  },
  {
   "cell_type": "code",
   "execution_count": 7,
   "metadata": {},
   "outputs": [
    {
     "data": {
      "text/html": [
       "<div>\n",
       "<style scoped>\n",
       "    .dataframe tbody tr th:only-of-type {\n",
       "        vertical-align: middle;\n",
       "    }\n",
       "\n",
       "    .dataframe tbody tr th {\n",
       "        vertical-align: top;\n",
       "    }\n",
       "\n",
       "    .dataframe thead th {\n",
       "        text-align: right;\n",
       "    }\n",
       "</style>\n",
       "<table border=\"1\" class=\"dataframe\">\n",
       "  <thead>\n",
       "    <tr style=\"text-align: right;\">\n",
       "      <th></th>\n",
       "      <th>tr_build_id</th>\n",
       "      <th>gh_project_name</th>\n",
       "      <th>gh_is_pr</th>\n",
       "      <th>gh_pr_created_at</th>\n",
       "      <th>gh_lang</th>\n",
       "      <th>git_branch</th>\n",
       "      <th>gh_num_commits_in_push</th>\n",
       "      <th>git_prev_commit_resolution_status</th>\n",
       "      <th>tr_prev_build</th>\n",
       "      <th>gh_first_commit_created_at</th>\n",
       "      <th>gh_team_size</th>\n",
       "      <th>gh_sloc</th>\n",
       "      <th>gh_pushed_at</th>\n",
       "      <th>gh_build_started_at</th>\n",
       "      <th>tr_log_bool_tests_failed</th>\n",
       "      <th>tr_log_num_tests_ok</th>\n",
       "      <th>tr_log_num_tests_failed</th>\n",
       "      <th>tr_log_num_tests_skipped</th>\n",
       "    </tr>\n",
       "  </thead>\n",
       "  <tbody>\n",
       "    <tr>\n",
       "      <th>7985</th>\n",
       "      <td>142628.0</td>\n",
       "      <td>afeld/magickly</td>\n",
       "      <td>False</td>\n",
       "      <td>NaN</td>\n",
       "      <td>ruby</td>\n",
       "      <td>master</td>\n",
       "      <td>20.0</td>\n",
       "      <td>build_found</td>\n",
       "      <td>132006.0</td>\n",
       "      <td>2011-09-08 18:49:05</td>\n",
       "      <td>4</td>\n",
       "      <td>218</td>\n",
       "      <td>2013-02-19 17:29:15</td>\n",
       "      <td>2011-09-09 01:49:21</td>\n",
       "      <td>False</td>\n",
       "      <td>30.0</td>\n",
       "      <td>0.0</td>\n",
       "      <td>1.0</td>\n",
       "    </tr>\n",
       "    <tr>\n",
       "      <th>12857</th>\n",
       "      <td>169924.0</td>\n",
       "      <td>yob/pdf-reader</td>\n",
       "      <td>False</td>\n",
       "      <td>NaN</td>\n",
       "      <td>ruby</td>\n",
       "      <td>master</td>\n",
       "      <td>20.0</td>\n",
       "      <td>merge_found</td>\n",
       "      <td>NaN</td>\n",
       "      <td>2011-09-15 17:13:44</td>\n",
       "      <td>4</td>\n",
       "      <td>2816</td>\n",
       "      <td>2012-06-09 16:47:06</td>\n",
       "      <td>2011-09-19 09:01:18</td>\n",
       "      <td>False</td>\n",
       "      <td>NaN</td>\n",
       "      <td>0.0</td>\n",
       "      <td>NaN</td>\n",
       "    </tr>\n",
       "    <tr>\n",
       "      <th>12883</th>\n",
       "      <td>170230.0</td>\n",
       "      <td>yob/pdf-reader</td>\n",
       "      <td>False</td>\n",
       "      <td>NaN</td>\n",
       "      <td>ruby</td>\n",
       "      <td>master</td>\n",
       "      <td>20.0</td>\n",
       "      <td>build_found</td>\n",
       "      <td>169924.0</td>\n",
       "      <td>2011-09-15 17:13:44</td>\n",
       "      <td>4</td>\n",
       "      <td>2816</td>\n",
       "      <td>2012-06-09 16:47:06</td>\n",
       "      <td>2011-09-19 12:45:34</td>\n",
       "      <td>True</td>\n",
       "      <td>1023.0</td>\n",
       "      <td>2.0</td>\n",
       "      <td>4.0</td>\n",
       "    </tr>\n",
       "    <tr>\n",
       "      <th>12895</th>\n",
       "      <td>170288.0</td>\n",
       "      <td>yob/pdf-reader</td>\n",
       "      <td>False</td>\n",
       "      <td>NaN</td>\n",
       "      <td>ruby</td>\n",
       "      <td>master</td>\n",
       "      <td>20.0</td>\n",
       "      <td>build_found</td>\n",
       "      <td>170230.0</td>\n",
       "      <td>2011-09-15 17:13:44</td>\n",
       "      <td>4</td>\n",
       "      <td>2820</td>\n",
       "      <td>2012-06-09 16:47:06</td>\n",
       "      <td>2011-09-19 13:43:11</td>\n",
       "      <td>False</td>\n",
       "      <td>1025.0</td>\n",
       "      <td>0.0</td>\n",
       "      <td>4.0</td>\n",
       "    </tr>\n",
       "    <tr>\n",
       "      <th>12963</th>\n",
       "      <td>170806.0</td>\n",
       "      <td>mbulat/plutus</td>\n",
       "      <td>False</td>\n",
       "      <td>NaN</td>\n",
       "      <td>ruby</td>\n",
       "      <td>master</td>\n",
       "      <td>20.0</td>\n",
       "      <td>merge_found</td>\n",
       "      <td>NaN</td>\n",
       "      <td>2011-03-31 16:54:42</td>\n",
       "      <td>2</td>\n",
       "      <td>395</td>\n",
       "      <td>2014-01-15 16:22:06</td>\n",
       "      <td>2011-09-19 18:38:56</td>\n",
       "      <td>NaN</td>\n",
       "      <td>NaN</td>\n",
       "      <td>NaN</td>\n",
       "      <td>NaN</td>\n",
       "    </tr>\n",
       "    <tr>\n",
       "      <th>12970</th>\n",
       "      <td>170837.0</td>\n",
       "      <td>mbulat/plutus</td>\n",
       "      <td>False</td>\n",
       "      <td>NaN</td>\n",
       "      <td>ruby</td>\n",
       "      <td>master</td>\n",
       "      <td>20.0</td>\n",
       "      <td>merge_found</td>\n",
       "      <td>NaN</td>\n",
       "      <td>2011-03-31 16:54:42</td>\n",
       "      <td>3</td>\n",
       "      <td>395</td>\n",
       "      <td>2014-01-15 16:22:06</td>\n",
       "      <td>2011-09-19 19:09:18</td>\n",
       "      <td>True</td>\n",
       "      <td>1.0</td>\n",
       "      <td>51.0</td>\n",
       "      <td>0.0</td>\n",
       "    </tr>\n",
       "    <tr>\n",
       "      <th>12971</th>\n",
       "      <td>170860.0</td>\n",
       "      <td>mbulat/plutus</td>\n",
       "      <td>False</td>\n",
       "      <td>NaN</td>\n",
       "      <td>ruby</td>\n",
       "      <td>master</td>\n",
       "      <td>20.0</td>\n",
       "      <td>build_found</td>\n",
       "      <td>170837.0</td>\n",
       "      <td>2011-03-31 16:54:42</td>\n",
       "      <td>3</td>\n",
       "      <td>395</td>\n",
       "      <td>2014-01-15 16:22:06</td>\n",
       "      <td>2011-09-19 19:17:27</td>\n",
       "      <td>True</td>\n",
       "      <td>1.0</td>\n",
       "      <td>51.0</td>\n",
       "      <td>0.0</td>\n",
       "    </tr>\n",
       "    <tr>\n",
       "      <th>32394</th>\n",
       "      <td>258156.0</td>\n",
       "      <td>innoq/iqvoc</td>\n",
       "      <td>False</td>\n",
       "      <td>NaN</td>\n",
       "      <td>ruby</td>\n",
       "      <td>master</td>\n",
       "      <td>20.0</td>\n",
       "      <td>build_found</td>\n",
       "      <td>190935.0</td>\n",
       "      <td>2011-10-28 11:18:50</td>\n",
       "      <td>4</td>\n",
       "      <td>3147</td>\n",
       "      <td>2012-01-06 12:08:25</td>\n",
       "      <td>2011-10-28 11:38:25</td>\n",
       "      <td>NaN</td>\n",
       "      <td>NaN</td>\n",
       "      <td>NaN</td>\n",
       "      <td>NaN</td>\n",
       "    </tr>\n",
       "    <tr>\n",
       "      <th>32580</th>\n",
       "      <td>258921.0</td>\n",
       "      <td>innoq/iqvoc</td>\n",
       "      <td>False</td>\n",
       "      <td>NaN</td>\n",
       "      <td>ruby</td>\n",
       "      <td>master</td>\n",
       "      <td>20.0</td>\n",
       "      <td>build_found</td>\n",
       "      <td>258156.0</td>\n",
       "      <td>2011-10-28 11:18:50</td>\n",
       "      <td>4</td>\n",
       "      <td>3147</td>\n",
       "      <td>2012-01-06 12:08:25</td>\n",
       "      <td>2011-10-28 16:20:33</td>\n",
       "      <td>NaN</td>\n",
       "      <td>NaN</td>\n",
       "      <td>NaN</td>\n",
       "      <td>NaN</td>\n",
       "    </tr>\n",
       "    <tr>\n",
       "      <th>35211</th>\n",
       "      <td>270021.0</td>\n",
       "      <td>innoq/iqvoc</td>\n",
       "      <td>False</td>\n",
       "      <td>NaN</td>\n",
       "      <td>ruby</td>\n",
       "      <td>master</td>\n",
       "      <td>20.0</td>\n",
       "      <td>build_found</td>\n",
       "      <td>258921.0</td>\n",
       "      <td>2011-10-28 11:18:50</td>\n",
       "      <td>4</td>\n",
       "      <td>3147</td>\n",
       "      <td>2012-01-06 12:08:25</td>\n",
       "      <td>2011-11-02 13:57:24</td>\n",
       "      <td>NaN</td>\n",
       "      <td>NaN</td>\n",
       "      <td>NaN</td>\n",
       "      <td>NaN</td>\n",
       "    </tr>\n",
       "  </tbody>\n",
       "</table>\n",
       "</div>"
      ],
      "text/plain": [
       "       tr_build_id gh_project_name  gh_is_pr gh_pr_created_at gh_lang  \\\n",
       "7985      142628.0  afeld/magickly     False              NaN    ruby   \n",
       "12857     169924.0  yob/pdf-reader     False              NaN    ruby   \n",
       "12883     170230.0  yob/pdf-reader     False              NaN    ruby   \n",
       "12895     170288.0  yob/pdf-reader     False              NaN    ruby   \n",
       "12963     170806.0   mbulat/plutus     False              NaN    ruby   \n",
       "12970     170837.0   mbulat/plutus     False              NaN    ruby   \n",
       "12971     170860.0   mbulat/plutus     False              NaN    ruby   \n",
       "32394     258156.0     innoq/iqvoc     False              NaN    ruby   \n",
       "32580     258921.0     innoq/iqvoc     False              NaN    ruby   \n",
       "35211     270021.0     innoq/iqvoc     False              NaN    ruby   \n",
       "\n",
       "      git_branch  gh_num_commits_in_push git_prev_commit_resolution_status  \\\n",
       "7985      master                    20.0                       build_found   \n",
       "12857     master                    20.0                       merge_found   \n",
       "12883     master                    20.0                       build_found   \n",
       "12895     master                    20.0                       build_found   \n",
       "12963     master                    20.0                       merge_found   \n",
       "12970     master                    20.0                       merge_found   \n",
       "12971     master                    20.0                       build_found   \n",
       "32394     master                    20.0                       build_found   \n",
       "32580     master                    20.0                       build_found   \n",
       "35211     master                    20.0                       build_found   \n",
       "\n",
       "       tr_prev_build gh_first_commit_created_at  gh_team_size  gh_sloc  \\\n",
       "7985        132006.0        2011-09-08 18:49:05             4      218   \n",
       "12857            NaN        2011-09-15 17:13:44             4     2816   \n",
       "12883       169924.0        2011-09-15 17:13:44             4     2816   \n",
       "12895       170230.0        2011-09-15 17:13:44             4     2820   \n",
       "12963            NaN        2011-03-31 16:54:42             2      395   \n",
       "12970            NaN        2011-03-31 16:54:42             3      395   \n",
       "12971       170837.0        2011-03-31 16:54:42             3      395   \n",
       "32394       190935.0        2011-10-28 11:18:50             4     3147   \n",
       "32580       258156.0        2011-10-28 11:18:50             4     3147   \n",
       "35211       258921.0        2011-10-28 11:18:50             4     3147   \n",
       "\n",
       "             gh_pushed_at  gh_build_started_at tr_log_bool_tests_failed  \\\n",
       "7985  2013-02-19 17:29:15  2011-09-09 01:49:21                    False   \n",
       "12857 2012-06-09 16:47:06  2011-09-19 09:01:18                    False   \n",
       "12883 2012-06-09 16:47:06  2011-09-19 12:45:34                     True   \n",
       "12895 2012-06-09 16:47:06  2011-09-19 13:43:11                    False   \n",
       "12963 2014-01-15 16:22:06  2011-09-19 18:38:56                      NaN   \n",
       "12970 2014-01-15 16:22:06  2011-09-19 19:09:18                     True   \n",
       "12971 2014-01-15 16:22:06  2011-09-19 19:17:27                     True   \n",
       "32394 2012-01-06 12:08:25  2011-10-28 11:38:25                      NaN   \n",
       "32580 2012-01-06 12:08:25  2011-10-28 16:20:33                      NaN   \n",
       "35211 2012-01-06 12:08:25  2011-11-02 13:57:24                      NaN   \n",
       "\n",
       "       tr_log_num_tests_ok  tr_log_num_tests_failed  tr_log_num_tests_skipped  \n",
       "7985                  30.0                      0.0                       1.0  \n",
       "12857                  NaN                      0.0                       NaN  \n",
       "12883               1023.0                      2.0                       4.0  \n",
       "12895               1025.0                      0.0                       4.0  \n",
       "12963                  NaN                      NaN                       NaN  \n",
       "12970                  1.0                     51.0                       0.0  \n",
       "12971                  1.0                     51.0                       0.0  \n",
       "32394                  NaN                      NaN                       NaN  \n",
       "32580                  NaN                      NaN                       NaN  \n",
       "35211                  NaN                      NaN                       NaN  "
      ]
     },
     "execution_count": 7,
     "metadata": {},
     "output_type": "execute_result"
    }
   ],
   "source": [
    "dataset.head(10)"
   ]
  },
  {
   "cell_type": "markdown",
   "metadata": {},
   "source": [
    "<font size = 4/>\n",
    "* ? - Quantidade de Falhas por tamanho de projeto"
   ]
  },
  {
   "cell_type": "code",
   "execution_count": 6,
   "metadata": {},
   "outputs": [
    {
     "name": "stdout",
     "output_type": "stream",
     "text": [
      "Falha no teste na sexta: 19474\n",
      "Falaha no teste seg à sex: 100598\n",
      "Falha no teste final de semana: 24300\n"
     ]
    }
   ],
   "source": [
    "test = dataset.loc[dataset['tr_log_bool_tests_failed'] == True]\n",
    "\n",
    "test_fail = test.loc[test.gh_pushed_at.dt.weekday >= 5] # final de semana\n",
    "test_day  = test.loc[test.gh_pushed_at.dt.weekday < 5] #  dia de semana\n",
    "sext      = test.loc[test.gh_pushed_at.dt.weekday == 4] # sexta\n",
    "\n",
    "\n",
    "\n",
    "print('Falha no teste na sexta: {}'.format(sext.tr_log_bool_tests_failed.sum()))\n",
    "print('Falaha no teste seg à sex: {}'.format(test_day.tr_log_bool_tests_failed.sum()))\n",
    "print('Falha no teste final de semana: {}'.format(test_fail.tr_log_bool_tests_failed.sum()))"
   ]
  },
  {
   "cell_type": "markdown",
   "metadata": {},
   "source": [
    "<font size = 4/>\n",
    "* 3 - Projeto abaixo de 1000 linhas serão descartados,projeto possuindo acima de 1000 e menos que 10.000 serão considerados pequenos, projetos possuindo acima de 10.000 linhas e menos que 100.000 serão considerados médios e projetos acima de 100.000 linhas serão considerados grandes."
   ]
  },
  {
   "cell_type": "code",
   "execution_count": 11,
   "metadata": {},
   "outputs": [],
   "source": [
    "'''\n",
    "3 - \n",
    "'''\n",
    "\n",
    "def size_project(language, sett):\n",
    "    if(sett == 1): #abaixo de 1000 linhas\n",
    "        df1 = dataset.loc[(dataset['gh_sloc'] < 1000) & (dataset['gh_lang'] == language)]\n",
    "        df1 = df1.drop_duplicates(['gh_project_name'])\n",
    "        #print(\"Projetos {} abaixo de 1000 linhas: {}\".format(language, len(df1.gh_project_name)))  \n",
    "\n",
    "    if(sett == 2): #acima de 1000 e menos que 10.000\n",
    "        #dataset.drop(dataset[dataset.gh_sloc < 1000].index, inplace=True) # Remove projetos abaixo de 1000 linhas\n",
    "        \n",
    "        df2 = dataset.loc[(dataset['gh_sloc'] < 10000)]\n",
    "        df2 = df2.loc[(df2['gh_sloc'] > 1000) & (df2['gh_lang'] == language)]\n",
    "        dff2 = df2.drop_duplicates(['gh_project_name']) # Filtro para quantodade de projetos\n",
    "\n",
    "        #print(\"Projetos {} acima de 1000 linhas e abaixo de 10.000 : {}\".format(language,len(dff2.gh_project_name)))\n",
    "        return(df2)\n",
    "    \n",
    "    if(sett == 3): #acima de 10.000 linhas e menos que 100.000\n",
    "        df3 = dataset.loc[(dataset['gh_sloc'] < 100000)]\n",
    "        df3 = df3.loc[(df3['gh_sloc'] > 10000) & (df3['gh_lang'] == language)]\n",
    "        dff3 = df3.drop_duplicates(['gh_project_name']) # Filtro para quantodade de projetos\n",
    "\n",
    "        #print(\"Projetos {} acima de 10.000 linhas e abaixo de 100.000 : {}\".format(language,len(dff3.gh_project_name)))\n",
    "        return(df3)\n",
    "    \n",
    "    if(sett == 4): #acima de 100.000 linhas\n",
    "        df4 = dataset.loc[(dataset['gh_sloc'] > 100000) & (dataset['gh_lang'] == language)]\n",
    "        dff4 = df4.drop_duplicates(['gh_project_name']) # Filtro para quantodade de projetos\n",
    "\n",
    "        #print(\"Projetos {} acima de 100.000 linhas: {}\".format(language,len(dff4.gh_project_name)))\n",
    "        return(df4)        "
   ]
  },
  {
   "cell_type": "markdown",
   "metadata": {},
   "source": [
    "<font size = 4/>\n",
    "* Tamanho dos projetos Ruby e Java"
   ]
  },
  {
   "cell_type": "code",
   "execution_count": 9,
   "metadata": {},
   "outputs": [
    {
     "ename": "TypeError",
     "evalue": "size_project() missing 1 required positional argument: 'sett'",
     "output_type": "error",
     "traceback": [
      "\u001b[0;31m------------------------------------------\u001b[0m",
      "\u001b[0;31mTypeError\u001b[0mTraceback (most recent call last)",
      "\u001b[0;32m<ipython-input-9-39151a569dd5>\u001b[0m in \u001b[0;36m<module>\u001b[0;34m()\u001b[0m\n\u001b[0;32m----> 1\u001b[0;31m \u001b[0msize_project\u001b[0m\u001b[0;34m(\u001b[0m\u001b[0;34m'ruby'\u001b[0m\u001b[0;34m)\u001b[0m\u001b[0;34m\u001b[0m\u001b[0m\n\u001b[0m\u001b[1;32m      2\u001b[0m \u001b[0mprint\u001b[0m\u001b[0;34m(\u001b[0m\u001b[0;34m\"\\n\"\u001b[0m\u001b[0;34m)\u001b[0m\u001b[0;34m\u001b[0m\u001b[0m\n\u001b[1;32m      3\u001b[0m \u001b[0msize_project\u001b[0m\u001b[0;34m(\u001b[0m\u001b[0;34m'java'\u001b[0m\u001b[0;34m)\u001b[0m\u001b[0;34m\u001b[0m\u001b[0m\n",
      "\u001b[0;31mTypeError\u001b[0m: size_project() missing 1 required positional argument: 'sett'"
     ]
    }
   ],
   "source": [
    "size_project('ruby')\n",
    "print(\"\\n\")\n",
    "size_project('java')"
   ]
  },
  {
   "cell_type": "code",
   "execution_count": 9,
   "metadata": {
    "scrolled": true
   },
   "outputs": [],
   "source": [
    "def weekday_frequency(dataframe): #year\n",
    "    #dataframe = dataframe.loc[dataset.gh_pushed_at.dt.year == year]\n",
    "\n",
    "    dataframe = dataframe.gh_pushed_at.dt.weekday\n",
    "\n",
    "    monday  = []\n",
    "    tuesday  = []\n",
    "    wednesday = []\n",
    "    thursday  = []\n",
    "    friday = []\n",
    "    saturday = []\n",
    "    sunday = []\n",
    "\n",
    "    for date in dataframe:\n",
    "        if(date == 0):\n",
    "            monday.append(date)\n",
    "        elif(date == 1):\n",
    "            tuesday.append(date)\n",
    "        elif(date == 2):\n",
    "            wednesday.append(date)\n",
    "        elif(date == 3):\n",
    "            thursday.append(date)\n",
    "        elif(date == 4):\n",
    "            friday.append(date)\n",
    "        elif(date == 5):\n",
    "            saturday.append(date)\n",
    "        elif(date == 6):\n",
    "            sunday.append(date)\n",
    "            \n",
    "    #print(\"\\nMonday: {} commits \\n Tuesday: {} \\n wednesday: {} \\n Thursday: {} \\n Friday: {} \\n Saturday: {}\\n Sunday: {}\".format(len(monday), len(tuesday), len(wednesday), len(thursday), len(friday), len(saturday), len(sunday)))\n",
    "      \n",
    "    return([monday, tuesday, wednesday, thursday, friday, saturday, sunday])"
   ]
  },
  {
   "cell_type": "code",
   "execution_count": 10,
   "metadata": {},
   "outputs": [],
   "source": [
    "def month_frequency(dataframe): #year\n",
    "    #dataframe = dataframe.loc[dataset.gh_pushed_at.dt.year == year]\n",
    "\n",
    "    dataframe = dataframe.gh_pushed_at.dt.month\n",
    "    \n",
    "    january = []\n",
    "    february = []\n",
    "    march = []\n",
    "    april = []\n",
    "    may = []\n",
    "    june = []\n",
    "    july = []\n",
    "    august = []\n",
    "    september = []\n",
    "    october = []\n",
    "    november = []\n",
    "    december = []\n",
    "    \n",
    " \n",
    "    for month in dataframe:\n",
    "        if(month == 1):\n",
    "            january.append(month)\n",
    "        elif(month == 2):\n",
    "            february.append(month)\n",
    "        elif(month == 3):\n",
    "            march.append(month)\n",
    "        elif(month == 4):\n",
    "            april.append(month)\n",
    "        elif(month == 5):\n",
    "            may.append(month)\n",
    "        elif(month == 6):\n",
    "            june.append(month)\n",
    "        elif(month == 7):\n",
    "            july.append(month)\n",
    "        elif(month == 8):\n",
    "            august.append(month)\n",
    "        elif(month == 9):\n",
    "            september.append(month)\n",
    "        elif(month == 10):\n",
    "            october.append(month)\n",
    "        elif(month == 11):\n",
    "            november.append(month)\n",
    "        elif(month == 12):\n",
    "            december.append(month)\n",
    "            \n",
    "    #print(\"january:{} \\n february:{} \\n march:{} \\n april:{} \\n may:{} \\n june:{} \\n july:{} \\n august:{} \\n september:{} \\n october:{} \\n november:{} \\n december:{} \".format(len(january), len(february), len(march), len(april), len(may), len(june), len(july), len(august), len(september), len(october), len(november), len(december)))\n",
    "    return([january, february, march, april, may, june, july, august, september, october, november, december])"
   ]
  },
  {
   "cell_type": "code",
   "execution_count": 11,
   "metadata": {},
   "outputs": [],
   "source": [
    "def plot_bar(sett, language,low, medium, high):\n",
    "    \n",
    "    # Dados do grafico\n",
    "    if(sett == 0):\n",
    "        frequency_low = [len(low[0]),len(low[1]),len(low[2]),len(low[3]),len(low[4]),len(low[5]),len(low[6]),len(low[7]),len(low[8]),len(low[9]),len(low[10]),len(low[11])]\n",
    "        frequency_medium = [len(medium[0]),len(medium[1]),len(medium[2]),len(medium[3]),len(medium[4]),len(medium[5]),len(medium[6]),len(medium[7]),len(medium[8]),len(medium[9]),len(medium[10]),len(medium[11])]\n",
    "        frequency_high = [len(high[0]),len(high[1]),len(high[2]),len(high[3]),len(high[4]),len(high[5]),len(high[6]),len(high[7]),len(high[8]),len(high[9]),len(high[10]),len(high[11])]\n",
    "\n",
    "        labels_list = [\"january\", \"february\", \"march\", \"april\", \"may\", \"june\", \"july\", \"august\", \"september\", \"october\", \"november\", \"december\"]\n",
    "    if(sett == 1):\n",
    "        frequency_low = [len(low[0]),len(low[1]),len(low[2]),len(low[3]),len(low[4]),len(low[5]),len(low[6])]\n",
    "        frequency_medium = [len(medium[0]),len(medium[1]),len(medium[2]),len(medium[3]),len(medium[4]),len(medium[5]),len(medium[6])]\n",
    "        frequency_high = [len(high[0]),len(high[1]),len(high[2]),len(high[3]),len(high[4]),len(high[5]),len(high[6])]\n",
    "\n",
    "        labels_list = ['Monday', 'Tuesday','wednesday','thursday ','friday','saturday','sunday']\n",
    "        \n",
    "    # Largura das barras\n",
    "    barWidth = 0.25\n",
    "    \n",
    "    # Tamanho do Grafico\n",
    "    plt.figure(figsize=(17,7))\n",
    "    \n",
    "    # Posicao da barras\n",
    "    r1 = np.arange(len(frequency_low))\n",
    "    r2 = [x + barWidth for x in r1]\n",
    "    r3 = [x + barWidth for x in r2]\n",
    "    \n",
    "    \n",
    "    # Criando as barras\n",
    "    plt.bar(r1, frequency_low, color='#6A5ACD', width=barWidth, label='low')\n",
    "    plt.bar(r2, frequency_medium, color='#6495ED', width=barWidth, label='Medium')\n",
    "    plt.bar(r3, frequency_high, color='#00BFFF', width=barWidth, label='High')\n",
    "    \n",
    "    # Adicionando legendas as barras\n",
    "    if(sett == 0):\n",
    "        plt.xlabel('Months', fontsize=18)\n",
    "    if(sett == 1):\n",
    "        plt.xlabel('Weekday', fontsize=18)\n",
    "   \n",
    "    plt.xticks([r + barWidth for r in  range(len(frequency_low))], labels_list)\n",
    "    plt.ylabel('Size commit', fontsize=18)\n",
    "    plt.title('Frequency of language {}'.format(language), fontsize=18)\n",
    "    \n",
    "    \n",
    "    plt.legend()\n",
    "    plt.show()"
   ]
  },
  {
   "cell_type": "markdown",
   "metadata": {},
   "source": [
    "<font size = 4/>\n",
    "* Frequências de commit por Mês, por tamanho do projeto, pequeno, médio e grande."
   ]
  },
  {
   "cell_type": "markdown",
   "metadata": {},
   "source": [
    "<font size = 4/>\n",
    "* Projetos RUBY "
   ]
  },
  {
   "cell_type": "code",
   "execution_count": 12,
   "metadata": {},
   "outputs": [
    {
     "data": {
      "image/png": "[encoded data removed]",
      "text/plain": [
       "<Figure size 1224x504 with 1 Axes>"
      ]
     },
     "metadata": {},
     "output_type": "display_data"
    }
   ],
   "source": [
    "dataframe_l = size_project('ruby', 2)\n",
    "\n",
    "dataframe_m = size_project('ruby', 3)\n",
    "\n",
    "dataframe_h = size_project('ruby', 4)\n",
    "\n",
    "\n",
    "weekday_low = weekday_frequency(dataframe_l)\n",
    "weekday_medium = weekday_frequency(dataframe_m)\n",
    "weekday_high = weekday_frequency(dataframe_h)\n",
    "\n",
    "plot_bar(1, 'Ruby', weekday_low, weekday_medium, weekday_high)"
   ]
  },
  {
   "cell_type": "markdown",
   "metadata": {},
   "source": [
    "<font size = 4/>\n",
    "* Projetos Java "
   ]
  },
  {
   "cell_type": "code",
   "execution_count": 13,
   "metadata": {},
   "outputs": [
    {
     "data": {
      "image/png": "[encoded data removed]",
      "text/plain": [
       "<Figure size 1224x504 with 1 Axes>"
      ]
     },
     "metadata": {},
     "output_type": "display_data"
    }
   ],
   "source": [
    "dataframe_l = size_project('java', 2)\n",
    "\n",
    "dataframe_m = size_project('java', 3)\n",
    "\n",
    "dataframe_h = size_project('java', 4)\n",
    "\n",
    "\n",
    "\n",
    "weekday_low = weekday_frequency(dataframe_l)\n",
    "weekday_medium = weekday_frequency(dataframe_m)\n",
    "weekday_high = weekday_frequency(dataframe_h)\n",
    "\n",
    "plot_bar(1, 'Java', weekday_low, weekday_medium, weekday_high)"
   ]
  },
  {
   "cell_type": "markdown",
   "metadata": {},
   "source": [
    "<font size = 4/>\n",
    "* Frequências de commit por Mês, por tamanho do projeto, pequeno, médio e grande.\n"
   ]
  },
  {
   "cell_type": "markdown",
   "metadata": {},
   "source": [
    "<font size = 4/>\n",
    "* Projetos RUBY "
   ]
  },
  {
   "cell_type": "code",
   "execution_count": 14,
   "metadata": {},
   "outputs": [
    {
     "data": {
      "image/png": "[encoded data removed]",
      "text/plain": [
       "<Figure size 1224x504 with 1 Axes>"
      ]
     },
     "metadata": {},
     "output_type": "display_data"
    }
   ],
   "source": [
    "dataframe_l = size_project('ruby', 2)\n",
    "dataframe_m = size_project('ruby', 3)\n",
    "dataframe_h = size_project('ruby', 4)\n",
    "\n",
    "month_low = month_frequency(dataframe_l)\n",
    "month_medium = month_frequency(dataframe_m)\n",
    "month_high = month_frequency(dataframe_h)\n",
    "\n",
    "plot_bar(0, 'Ruby', month_low, month_medium, month_high)"
   ]
  },
  {
   "cell_type": "markdown",
   "metadata": {},
   "source": [
    "<font size = 4/>\n",
    "* Projetos Java "
   ]
  },
  {
   "cell_type": "code",
   "execution_count": 15,
   "metadata": {},
   "outputs": [
    {
     "data": {
      "image/png": "[encoded data removed]",
      "text/plain": [
       "<Figure size 1224x504 with 1 Axes>"
      ]
     },
     "metadata": {},
     "output_type": "display_data"
    }
   ],
   "source": [
    "dataframe_l = size_project('java', 2)\n",
    "dataframe_m = size_project('java', 3)\n",
    "dataframe_h = size_project('java', 4)\n",
    "\n",
    "month_low = month_frequency(dataframe_l)\n",
    "month_medium = month_frequency(dataframe_m)\n",
    "month_high = month_frequency(dataframe_h)\n",
    "\n",
    "plot_bar(0, 'Java', month_low, month_medium, month_high)"
   ]
  },
  {
   "cell_type": "code",
   "execution_count": null,
   "metadata": {},
   "outputs": [],
   "source": []
  },
  {
   "cell_type": "code",
   "execution_count": null,
   "metadata": {},
   "outputs": [],
   "source": []
  },
  {
   "cell_type": "code",
   "execution_count": 16,
   "metadata": {},
   "outputs": [
    {
     "data": {
      "text/plain": [
       "1    0.169729\n",
       "3    0.164050\n",
       "0    0.161277\n",
       "2    0.158103\n",
       "4    0.154762\n",
       "5    0.096248\n",
       "6    0.095831\n",
       "Name: gh_pushed_at, dtype: float64"
      ]
     },
     "execution_count": 16,
     "metadata": {},
     "output_type": "execute_result"
    }
   ],
   "source": [
    "dataframe = size_project('java', 2)\n",
    "dt = dataframe.gh_pushed_at.dt.weekday.value_counts(normalize =True)\n",
    "dt"
   ]
  },
  {
   "cell_type": "code",
   "execution_count": null,
   "metadata": {},
   "outputs": [],
   "source": []
  },
  {
   "cell_type": "code",
   "execution_count": null,
   "metadata": {},
   "outputs": [],
   "source": []
  },
  {
   "cell_type": "code",
   "execution_count": null,
   "metadata": {},
   "outputs": [],
   "source": []
  },
  {
   "cell_type": "code",
   "execution_count": null,
   "metadata": {},
   "outputs": [],
   "source": []
  },
  {
   "cell_type": "markdown",
   "metadata": {},
   "source": [
    "4 - Boxplot por semana e por mês"
   ]
  },
  {
   "cell_type": "code",
   "execution_count": 17,
   "metadata": {},
   "outputs": [],
   "source": [
    "def plot_box(title, plot1, plot2, plot3=None, plot4=None, plot5=None, plot6=None, plot7=None, plot8=None, plot9=None, plot10=None, plot11=None, plot12=None):\n",
    "    \n",
    "    #if(plot3 == None):\n",
    "    #    data=[plot1,plot2]\n",
    "    if(plot8 == None):\n",
    "        data=[plot1, plot2, plot3, plot4, plot5, plot6, plot7]\n",
    "    else:\n",
    "        data=[plot1, plot2, plot3, plot4, plot5, plot6, plot7, plot8, plot9, plot10, plot11, plot12]\n",
    "        \n",
    "    fig, ax = plt.subplots()\n",
    "    fig.subplots_adjust(left=0.08, right=1.48, bottom=0.05, top=1.2,\n",
    "                        hspace=0.4, wspace=0.3)\n",
    "\n",
    "    ax.set_axisbelow(True)\n",
    "    ax.set_title(title, size=20)\n",
    "    ax.boxplot(data)"
   ]
  },
  {
   "cell_type": "code",
   "execution_count": 18,
   "metadata": {},
   "outputs": [],
   "source": [
    "def commits_weekday(dataframe):\n",
    "    weekday = [] \n",
    "    for i in range(0, 7):\n",
    "        day = dataframe.loc[(dataframe.gh_pushed_at.dt.weekday == i)]\n",
    "        weekday.append(day.gh_num_commits_in_push)\n",
    "    return(weekday)"
   ]
  },
  {
   "cell_type": "code",
   "execution_count": 19,
   "metadata": {},
   "outputs": [],
   "source": [
    "def commits_weekend(dataframe):\n",
    "    weekday = []\n",
    "    \n",
    "    day = dataframe.loc[(dataframe.gh_pushed_at.dt.weekday < 5)]\n",
    "    weekday.append(day.gh_num_commits_in_push)\n",
    "    \n",
    "    day_ = dataframe.loc[(dataframe.gh_pushed_at.dt.weekday >= 5)]\n",
    "    weekday.append(day_.gh_num_commits_in_push)\n",
    "    \n",
    "    return(weekday)"
   ]
  },
  {
   "cell_type": "code",
   "execution_count": 34,
   "metadata": {},
   "outputs": [],
   "source": [
    "dataframe_l = size_project('ruby', 2)\n",
    "dataframe_m = size_project('ruby', 3)\n",
    "dataframe_h = size_project('ruby', 4)\n",
    "\n",
    "#dataframe = dataframe.loc[dataframe['gh_num_commits_in_push'] > 1]\n",
    "\n",
    "weekday_l = commits_weekday(dataframe)\n",
    "#weekday_m = commits_weekday(dataframe_m)\n",
    "#weekday_h = commits_weekday(dataframe_h)\n",
    "\n",
    "#weekend_l = commits_weekend(dataframe_l)\n",
    "#weekend_m = commits_weekend(dataframe_m)\n",
    "#weekend_h = commits_weekend(dataframe_h)\n",
    "#print('1: {} - 2: {} - 3: {} - 4: {} - 5: {} - 6:{} - 7: {}'.format(weekday[0], weekday[1], weekday[2], weekday[3], weekday[4], weekday[5], weekday[6]))\n"
   ]
  },
  {
   "cell_type": "code",
   "execution_count": 35,
   "metadata": {},
   "outputs": [
    {
     "data": {
      "image/png": "[encoded data removed]",
      "text/plain": [
       "<Figure size 432x288 with 1 Axes>"
      ]
     },
     "metadata": {},
     "output_type": "display_data"
    }
   ],
   "source": [
    "plot_box('Projetos ruby pequenos - Semana', weekday_l[0], weekday_l[1], weekday_l[2], weekday_l[3], weekday_l[4], weekday_l[5], weekday_l[6])\n",
    "#plot_box('Projetos ruby médios - Semana', weekday_m[0], weekday_m[1], weekday_m[2], weekday_m[3], weekday_m[4], weekday_m[5], weekday_m[6])\n",
    "#plot_box('Projetos ruby grandes - Semana', weekday_h[0], weekday_h[1], weekday_h[2], weekday_h[3], weekday_h[4], weekday_h[5], weekday_h[6])"
   ]
  },
  {
   "cell_type": "code",
   "execution_count": 22,
   "metadata": {},
   "outputs": [
    {
     "ename": "TypeError",
     "evalue": "unsupported operand type(s) for /: 'NoneType' and 'int'",
     "output_type": "error",
     "traceback": [
      "\u001b[0;31m---------------------------------------------------------------------------\u001b[0m",
      "\u001b[0;31mTypeError\u001b[0m                                 Traceback (most recent call last)",
      "\u001b[0;32m<ipython-input-22-9bf97a937571>\u001b[0m in \u001b[0;36m<module>\u001b[0;34m()\u001b[0m\n\u001b[0;32m----> 1\u001b[0;31m \u001b[0mplot_box\u001b[0m\u001b[0;34m(\u001b[0m\u001b[0;34m'Projetos ruby pequenos - dias uteis e final de semana'\u001b[0m\u001b[0;34m,\u001b[0m \u001b[0mweekend_l\u001b[0m\u001b[0;34m[\u001b[0m\u001b[0;36m0\u001b[0m\u001b[0;34m]\u001b[0m\u001b[0;34m,\u001b[0m \u001b[0mweekend_l\u001b[0m\u001b[0;34m[\u001b[0m\u001b[0;36m1\u001b[0m\u001b[0;34m]\u001b[0m\u001b[0;34m)\u001b[0m\u001b[0;34m\u001b[0m\u001b[0m\n\u001b[0m",
      "\u001b[0;32m<ipython-input-17-23deebb5012e>\u001b[0m in \u001b[0;36mplot_box\u001b[0;34m(title, plot1, plot2, plot3, plot4, plot5, plot6, plot7, plot8, plot9, plot10, plot11, plot12)\u001b[0m\n\u001b[1;32m     14\u001b[0m     \u001b[0max\u001b[0m\u001b[0;34m.\u001b[0m\u001b[0mset_axisbelow\u001b[0m\u001b[0;34m(\u001b[0m\u001b[0;32mTrue\u001b[0m\u001b[0;34m)\u001b[0m\u001b[0;34m\u001b[0m\u001b[0m\n\u001b[1;32m     15\u001b[0m     \u001b[0max\u001b[0m\u001b[0;34m.\u001b[0m\u001b[0mset_title\u001b[0m\u001b[0;34m(\u001b[0m\u001b[0mtitle\u001b[0m\u001b[0;34m,\u001b[0m \u001b[0msize\u001b[0m\u001b[0;34m=\u001b[0m\u001b[0;36m20\u001b[0m\u001b[0;34m)\u001b[0m\u001b[0;34m\u001b[0m\u001b[0m\n\u001b[0;32m---> 16\u001b[0;31m     \u001b[0max\u001b[0m\u001b[0;34m.\u001b[0m\u001b[0mboxplot\u001b[0m\u001b[0;34m(\u001b[0m\u001b[0mdata\u001b[0m\u001b[0;34m)\u001b[0m\u001b[0;34m\u001b[0m\u001b[0m\n\u001b[0m",
      "\u001b[0;32m~/anaconda3/lib/python3.6/site-packages/matplotlib/__init__.py\u001b[0m in \u001b[0;36minner\u001b[0;34m(ax, *args, **kwargs)\u001b[0m\n\u001b[1;32m   1853\u001b[0m                         \u001b[0;34m\"the Matplotlib list!)\"\u001b[0m \u001b[0;34m%\u001b[0m \u001b[0;34m(\u001b[0m\u001b[0mlabel_namer\u001b[0m\u001b[0;34m,\u001b[0m \u001b[0mfunc\u001b[0m\u001b[0;34m.\u001b[0m\u001b[0m__name__\u001b[0m\u001b[0;34m)\u001b[0m\u001b[0;34m,\u001b[0m\u001b[0;34m\u001b[0m\u001b[0m\n\u001b[1;32m   1854\u001b[0m                         RuntimeWarning, stacklevel=2)\n\u001b[0;32m-> 1855\u001b[0;31m             \u001b[0;32mreturn\u001b[0m \u001b[0mfunc\u001b[0m\u001b[0;34m(\u001b[0m\u001b[0max\u001b[0m\u001b[0;34m,\u001b[0m \u001b[0;34m*\u001b[0m\u001b[0margs\u001b[0m\u001b[0;34m,\u001b[0m \u001b[0;34m**\u001b[0m\u001b[0mkwargs\u001b[0m\u001b[0;34m)\u001b[0m\u001b[0;34m\u001b[0m\u001b[0m\n\u001b[0m\u001b[1;32m   1856\u001b[0m \u001b[0;34m\u001b[0m\u001b[0m\n\u001b[1;32m   1857\u001b[0m         inner.__doc__ = _add_data_doc(inner.__doc__,\n",
      "\u001b[0;32m~/anaconda3/lib/python3.6/site-packages/matplotlib/axes/_axes.py\u001b[0m in \u001b[0;36mboxplot\u001b[0;34m(self, x, notch, sym, vert, whis, positions, widths, patch_artist, bootstrap, usermedians, conf_intervals, meanline, showmeans, showcaps, showbox, showfliers, boxprops, labels, flierprops, medianprops, meanprops, capprops, whiskerprops, manage_xticks, autorange, zorder)\u001b[0m\n\u001b[1;32m   3555\u001b[0m \u001b[0;34m\u001b[0m\u001b[0m\n\u001b[1;32m   3556\u001b[0m         bxpstats = cbook.boxplot_stats(x, whis=whis, bootstrap=bootstrap,\n\u001b[0;32m-> 3557\u001b[0;31m                                        labels=labels, autorange=autorange)\n\u001b[0m\u001b[1;32m   3558\u001b[0m         \u001b[0;32mif\u001b[0m \u001b[0mnotch\u001b[0m \u001b[0;32mis\u001b[0m \u001b[0;32mNone\u001b[0m\u001b[0;34m:\u001b[0m\u001b[0;34m\u001b[0m\u001b[0m\n\u001b[1;32m   3559\u001b[0m             \u001b[0mnotch\u001b[0m \u001b[0;34m=\u001b[0m \u001b[0mrcParams\u001b[0m\u001b[0;34m[\u001b[0m\u001b[0;34m'boxplot.notch'\u001b[0m\u001b[0;34m]\u001b[0m\u001b[0;34m\u001b[0m\u001b[0m\n",
      "\u001b[0;32m~/anaconda3/lib/python3.6/site-packages/matplotlib/cbook/__init__.py\u001b[0m in \u001b[0;36mboxplot_stats\u001b[0;34m(X, whis, bootstrap, labels, autorange)\u001b[0m\n\u001b[1;32m   1839\u001b[0m \u001b[0;34m\u001b[0m\u001b[0m\n\u001b[1;32m   1840\u001b[0m         \u001b[0;31m# arithmetic mean\u001b[0m\u001b[0;34m\u001b[0m\u001b[0;34m\u001b[0m\u001b[0m\n\u001b[0;32m-> 1841\u001b[0;31m         \u001b[0mstats\u001b[0m\u001b[0;34m[\u001b[0m\u001b[0;34m'mean'\u001b[0m\u001b[0;34m]\u001b[0m \u001b[0;34m=\u001b[0m \u001b[0mnp\u001b[0m\u001b[0;34m.\u001b[0m\u001b[0mmean\u001b[0m\u001b[0;34m(\u001b[0m\u001b[0mx\u001b[0m\u001b[0;34m)\u001b[0m\u001b[0;34m\u001b[0m\u001b[0m\n\u001b[0m\u001b[1;32m   1842\u001b[0m \u001b[0;34m\u001b[0m\u001b[0m\n\u001b[1;32m   1843\u001b[0m         \u001b[0;31m# medians and quartiles\u001b[0m\u001b[0;34m\u001b[0m\u001b[0;34m\u001b[0m\u001b[0m\n",
      "\u001b[0;32m~/anaconda3/lib/python3.6/site-packages/numpy/core/fromnumeric.py\u001b[0m in \u001b[0;36mmean\u001b[0;34m(a, axis, dtype, out, keepdims)\u001b[0m\n\u001b[1;32m   2955\u001b[0m \u001b[0;34m\u001b[0m\u001b[0m\n\u001b[1;32m   2956\u001b[0m     return _methods._mean(a, axis=axis, dtype=dtype,\n\u001b[0;32m-> 2957\u001b[0;31m                           out=out, **kwargs)\n\u001b[0m\u001b[1;32m   2958\u001b[0m \u001b[0;34m\u001b[0m\u001b[0m\n\u001b[1;32m   2959\u001b[0m \u001b[0;34m\u001b[0m\u001b[0m\n",
      "\u001b[0;32m~/anaconda3/lib/python3.6/site-packages/numpy/core/_methods.py\u001b[0m in \u001b[0;36m_mean\u001b[0;34m(a, axis, dtype, out, keepdims)\u001b[0m\n\u001b[1;32m     80\u001b[0m             \u001b[0mret\u001b[0m \u001b[0;34m=\u001b[0m \u001b[0mret\u001b[0m\u001b[0;34m.\u001b[0m\u001b[0mdtype\u001b[0m\u001b[0;34m.\u001b[0m\u001b[0mtype\u001b[0m\u001b[0;34m(\u001b[0m\u001b[0mret\u001b[0m \u001b[0;34m/\u001b[0m \u001b[0mrcount\u001b[0m\u001b[0;34m)\u001b[0m\u001b[0;34m\u001b[0m\u001b[0m\n\u001b[1;32m     81\u001b[0m     \u001b[0;32melse\u001b[0m\u001b[0;34m:\u001b[0m\u001b[0;34m\u001b[0m\u001b[0m\n\u001b[0;32m---> 82\u001b[0;31m         \u001b[0mret\u001b[0m \u001b[0;34m=\u001b[0m \u001b[0mret\u001b[0m \u001b[0;34m/\u001b[0m \u001b[0mrcount\u001b[0m\u001b[0;34m\u001b[0m\u001b[0m\n\u001b[0m\u001b[1;32m     83\u001b[0m \u001b[0;34m\u001b[0m\u001b[0m\n\u001b[1;32m     84\u001b[0m     \u001b[0;32mreturn\u001b[0m \u001b[0mret\u001b[0m\u001b[0;34m\u001b[0m\u001b[0m\n",
      "\u001b[0;31mTypeError\u001b[0m: unsupported operand type(s) for /: 'NoneType' and 'int'"
     ]
    },
    {
     "data": {
      "image/png": "[encoded data removed]",
      "text/plain": [
       "<Figure size 432x288 with 1 Axes>"
      ]
     },
     "metadata": {},
     "output_type": "display_data"
    }
   ],
   "source": [
    "plot_box('Projetos ruby pequenos - dias uteis e final de semana', weekend_l[0], weekend_l[1])"
   ]
  },
  {
   "cell_type": "code",
   "execution_count": null,
   "metadata": {},
   "outputs": [],
   "source": [
    "dataframe_l = size_project('java', 2)\n",
    "dataframe_m = size_project('java', 3)\n",
    "dataframe_h = size_project('java', 4)\n",
    "\n",
    "# dataframe = dataframe.loc[dataframe['gh_num_commits_in_push'] > ?]\n",
    "# dataframe_l = dataframe_l.drop_duplicates(['tr_build_id']) # No projeto todo\n",
    "\n",
    "weekday_l = commits_weekday(dataframe_l)\n",
    "weekday_m = commits_weekday(dataframe_m)\n",
    "weekday_h = commits_weekday(dataframe_h)\n",
    "#print('1: {} - 2: {} - 3: {} - 4: {} - 5: {} - 6:{} - 7: {}'.format(weekday[0], weekday[1], weekday[2], weekday[3], weekday[4], weekday[5], weekday[6]))\n",
    "plot_box('Projetos Java pequenos - Semana', weekday_l[0], weekday_l[1], weekday_l[2], weekday_l[3], weekday_l[4], weekday_l[5], weekday_l[6])\n",
    "plot_box('Projetos Java médios - Semana', weekday_m[0], weekday_m[1], weekday_m[2], weekday_m[3], weekday_m[4], weekday_m[5], weekday_m[6])\n",
    "plot_box('Projetos Java grandes - Semana', weekday_h[0], weekday_h[1], weekday_h[2], weekday_h[3], weekday_h[4], weekday_h[5], weekday_h[6])"
   ]
  },
  {
   "cell_type": "code",
   "execution_count": null,
   "metadata": {},
   "outputs": [],
   "source": []
  },
  {
   "cell_type": "code",
   "execution_count": null,
   "metadata": {},
   "outputs": [],
   "source": []
  },
  {
   "cell_type": "code",
   "execution_count": null,
   "metadata": {},
   "outputs": [],
   "source": []
  },
  {
   "cell_type": "code",
   "execution_count": null,
   "metadata": {},
   "outputs": [],
   "source": []
  }
 ],
 "metadata": {
  "kernelspec": {
   "display_name": "Python 3",
   "language": "python",
   "name": "python3"
  },
  "language_info": {
   "codemirror_mode": {
    "name": "ipython",
    "version": 3
   },
   "file_extension": ".py",
   "mimetype": "text/x-python",
   "name": "python",
   "nbconvert_exporter": "python",
   "pygments_lexer": "ipython3",
   "version": "3.6.5"
  }
 },
 "nbformat": 4,
 "nbformat_minor": 2
}
