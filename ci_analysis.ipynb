{
 "cells": [
  {
   "cell_type": "code",
   "execution_count": 1,
   "metadata": {},
   "outputs": [],
   "source": [
    "import pandas as pd\n",
    "import numpy as np\n",
    "import matplotlib.pyplot as plt"
   ]
  },
  {
   "cell_type": "code",
   "execution_count": 2,
   "metadata": {},
   "outputs": [],
   "source": [
    "FILE = 'travistorrent_11_1_2017.csv'"
   ]
  },
  {
   "cell_type": "code",
   "execution_count": 3,
   "metadata": {},
   "outputs": [],
   "source": [
    "dataset = pd.read_csv(FILE, sep=',', engine='c',usecols=['gh_team_size',\n",
    "                                                         'tr_build_id',\n",
    "                                                         'gh_project_name',\n",
    "                                                         'tr_build_id',\n",
    "                                                         'gh_project_name',\n",
    "                                                         'gh_is_pr',\n",
    "                                                         'gh_pr_created_at',\n",
    "                                                         'gh_lang',\n",
    "                                                         'git_branch',\n",
    "                                                         'gh_num_commits_in_push',\n",
    "                                                         'git_prev_commit_resolution_status',\n",
    "                                                         'tr_prev_build',\n",
    "                                                         'gh_first_commit_created_at',\n",
    "                                                         'gh_team_size',         \n",
    "                                                         'gh_pushed_at',\n",
    "                                                         'gh_build_started_at',\n",
    "                                                         'tr_log_num_tests_ok',        \n",
    "                                                         'tr_log_num_tests_failed' ,   \n",
    "                                                         'tr_log_num_tests_skipped'],dtype={ 'tr_build_id': np.float32,\n",
    "                                                                                            'gh_project_name': 'category',\n",
    "                                                                                            'gh_is_pr': np.bool,\n",
    "                                                                                            'gh_pr_created_at': 'category',\n",
    "                                                                                            'gh_lang': 'category',\n",
    "                                                                                            'git_branch': 'category',\n",
    "                                                                                            'gh_num_commits_in_push': np.float32,\n",
    "                                                                                            'git_prev_commit_resolution_status': 'category',\n",
    "                                                                                            'tr_prev_build': np.float32,\n",
    "                                                                                            'gh_first_commit_created_at': 'category',\n",
    "                                                                                            'gh_team_size': np.int32,\n",
    "                                                                                            'gh_pushed_at': 'category',\n",
    "                                                                                            'gh_build_started_at': 'category',\n",
    "                                                                                            'tr_log_num_tests_ok': np.float32,\n",
    "                                                                                            'tr_log_num_tests_failed': np.float32,\n",
    "                                                                                            'tr_log_num_tests_skipped': np.float32}, encoding='utf-8')\n"
   ]
  },
  {
   "cell_type": "code",
   "execution_count": 4,
   "metadata": {
    "scrolled": true
   },
   "outputs": [],
   "source": [
    "#df_ruby = dataset.dropna() # Remove as linhas NAN\n",
    "#df_ruby['date'], df_ruby['hours'] = df_ruby.gh_pushed_at.str.split(' ').str # Separa a coluna que possui data e hora em duas novas colunas de data hora"
   ]
  },
  {
   "cell_type": "markdown",
   "metadata": {},
   "source": [
    "<font size = 4/>\n",
    "* Filtro de Linguagem"
   ]
  },
  {
   "cell_type": "code",
   "execution_count": 5,
   "metadata": {},
   "outputs": [],
   "source": [
    "def language_filter(language):\n",
    "    projects = dataset.drop_duplicates(['gh_project_name']) #Remove nomes duplicados \n",
    "    projects = projects.loc[projects['gh_lang'] == language] #Filtra apenas linguagem X\n",
    "    projects = projects.gh_project_name #Cria uma Serie com nomes unicos dos projetos\n",
    "    \n",
    "    return(projects)"
   ]
  },
  {
   "cell_type": "markdown",
   "metadata": {},
   "source": [
    "<font size = 4/>\n",
    "* Quantidade de commit por projeto"
   ]
  },
  {
   "cell_type": "code",
   "execution_count": 6,
   "metadata": {},
   "outputs": [],
   "source": [
    "def commit_flow(projects):\n",
    "    list_project = []\n",
    "    list_commit = []\n",
    "    \n",
    "    for project_name in projects:\n",
    "        \n",
    "        df = dataset.loc[dataset['gh_project_name'] == project_name] # Filtro penas o projeto\n",
    "\n",
    "        df = df.drop_duplicates(['tr_build_id'])# Remove linhas duplicadas\n",
    "        \n",
    "        num_commit = df.gh_num_commits_in_push.sum()# Soma de todos push\n",
    "        \n",
    "        list_commit.append(num_commit) # Lista com total de commit de cada projeto\n",
    "        \n",
    "        list_project.append(project_name)# Lista com o Nome de cada projeto\n",
    "        \n",
    "    return(list_commit, list_project)"
   ]
  },
  {
   "cell_type": "markdown",
   "metadata": {},
   "source": [
    "<font size = 4/>\n",
    "* Frequência do projeto"
   ]
  },
  {
   "cell_type": "code",
   "execution_count": 79,
   "metadata": {},
   "outputs": [],
   "source": [
    "def all_frequency(list_commit, list_project):\n",
    "\n",
    "    df = pd.DataFrame(list_commit)\n",
    "    df = df.describe() # Se obtem o primeiro, segundo e terceiro quartil\n",
    "    \n",
    "    # lista de frequencias\n",
    "    low_frequency = []\n",
    "    medium_frequency = []\n",
    "    high_frequency = []\n",
    "    veryHigh_frequency = []\n",
    "    \n",
    "    for i in range(len(list_commit)):\n",
    "        \n",
    "        if(list_commit[i] <= df[0][4]): #Ate o Primeiro quartil\n",
    "            low_frequency.append(list_commit[i])\n",
    "            \n",
    "        elif(list_commit[i] <= df[0][5]): #Ate a Mediana\n",
    "            medium_frequency.append(list_commit[i])\n",
    "            \n",
    "        elif(list_commit[i] <= df[0][6]): #Ate o terceiro quartil\n",
    "            high_frequency.append(list_commit[i])\n",
    "        \n",
    "        else: #Acima do terceiro quartil\n",
    "            veryHigh_frequency.append(list_commit[i])\n",
    "            \n",
    "    return(low_frequency, medium_frequency, high_frequency, veryHigh_frequency)"
   ]
  },
  {
   "cell_type": "markdown",
   "metadata": {},
   "source": [
    "<font size = 4/>\n",
    "* Frequencia do commit\n",
    "\n"
   ]
  },
  {
   "cell_type": "code",
   "execution_count": 80,
   "metadata": {},
   "outputs": [],
   "source": [
    "def commit_frequency(list_commit, list_project):\n",
    "    df = pd.DataFrame(list_commit)\n",
    "    df = df.describe() # Se obtem o primeiro, segundo e terceiro quartil\n",
    "    \n",
    "    frequency = []\n",
    "    \n",
    "    for i in range(len(list_commit)):\n",
    "        if(list_commit[i] < df[0][5]): #Ate a Mediana\n",
    "            frequency.append(list_commit[i])\n",
    "\n",
    "            \n",
    "    return(frequency)"
   ]
  },
  {
   "cell_type": "markdown",
   "metadata": {},
   "source": [
    "<font size = 4/>\n",
    "* Plot com até 4 boxplot"
   ]
  },
  {
   "cell_type": "code",
   "execution_count": 107,
   "metadata": {},
   "outputs": [],
   "source": [
    "def plot(title, plot1, plot2=None, plot3=None, plot4=None):\n",
    "    \n",
    "    if(plot2 == None):\n",
    "        data=[plot1]\n",
    "    elif(plot3 == None):\n",
    "        data=[plot1, plot2]\n",
    "    elif(plot4 == None):\n",
    "        data==[plot1, plot2, plot3]\n",
    "    else:\n",
    "        data=[plot1, plot2, plot3, plot4]\n",
    "    \n",
    "    fig, ax = plt.subplots()\n",
    "    \n",
    "    fig.subplots_adjust(left=0.08, right=1.98, bottom=0.05, top=1.2,\n",
    "                        hspace=0.4, wspace=0.3)\n",
    "    \n",
    "    ax.set_axisbelow(True)\n",
    "    ax.set_title(title, size=20)\n",
    "    ax.boxplot(data)\n",
    "    "
   ]
  },
  {
   "cell_type": "code",
   "execution_count": 82,
   "metadata": {},
   "outputs": [],
   "source": [
    "language_name = ['java', 'ruby', 'javascript'] #Linguagens presentes\n",
    "\n",
    "commit_project = []\n",
    "project_name = []\n",
    "\n",
    "for language in language_name:\n",
    "    \n",
    "    project = language_filter(language) # Filtra os projetos com a linguagem escolhida\n",
    "    \n",
    "    list_commit, list_project = commit_flow(project) # Retorna duas listas, uma com total de commit de cada projeto e outra com o nome de cada projeto\n",
    "    \n",
    "    commit_project.append(list_commit) # Adiciona em uma lista os commits\n",
    "    \n",
    "    project_name.append(list_project) # Adiciona em uma lista os nomes dos projetos\n"
   ]
  },
  {
   "cell_type": "code",
   "execution_count": 91,
   "metadata": {},
   "outputs": [],
   "source": []
  },
  {
   "cell_type": "code",
   "execution_count": null,
   "metadata": {},
   "outputs": [],
   "source": []
  },
  {
   "cell_type": "markdown",
   "metadata": {},
   "source": [
    "<font size = 4/>\n",
    "* Plot de todos os projetos usando java, ruby e javascript"
   ]
  },
  {
   "cell_type": "code",
   "execution_count": 100,
   "metadata": {},
   "outputs": [
    {
     "data": {
      "text/plain": [
       "\"\\ndf = pd.DataFrame([('Java', commit_project[0]),\\n                   ('Ruby', commit_project[1]),\\n                   ('Javascript', commit_project[2])], columns=['Language', 'commit']).set_index('Language')\\n\\ndf['commit'].apply(lambda x: pd.Series(x)).T.boxplot(figsize=(10,10),rot=0)\\n\""
      ]
     },
     "execution_count": 100,
     "metadata": {},
     "output_type": "execute_result"
    }
   ],
   "source": [
    "df = pd.DataFrame([('Java', commit_project[0]),\n",
    "                   ('Ruby', commit_project[1]),\n",
    "                   ('Javascript', commit_project[2])], columns=['Language', 'commit']).set_index('Language')\n",
    "\n",
    "df['commit'].apply(lambda x: pd.Series(x)).T.boxplot(figsize=(10,10),rot=0)"
   ]
  },
  {
   "cell_type": "markdown",
   "metadata": {},
   "source": [
    "<font size = 4/>\n",
    "* Projetos usando Java"
   ]
  },
  {
   "cell_type": "code",
   "execution_count": 96,
   "metadata": {},
   "outputs": [],
   "source": [
    "low, medium, high, veryHigh = all_frequency(commit_project[0], project_name[0])\n",
    "\n",
    "plot('Projetos usando JAVA', low, medium, high, veryHigh)"
   ]
  },
  {
   "cell_type": "markdown",
   "metadata": {},
   "source": [
    "<font size = 4/>\n",
    "* Projetos usando Ruby"
   ]
  },
  {
   "cell_type": "code",
   "execution_count": 98,
   "metadata": {},
   "outputs": [],
   "source": [
    "low, medium, high, veryHigh = all_frequency(commit_project[1], project_name[1])\n",
    "\n",
    "plot('Projetos usando RUBY', low, medium, high, veryHigh)"
   ]
  },
  {
   "cell_type": "markdown",
   "metadata": {},
   "source": [
    "<font size = 4/>\n",
    "* Projetos usando Javascript"
   ]
  },
  {
   "cell_type": "code",
   "execution_count": 99,
   "metadata": {},
   "outputs": [],
   "source": [
    "plot('Projetos usando JAVASCRIPT', commit_project[2])"
   ]
  },
  {
   "cell_type": "markdown",
   "metadata": {},
   "source": [
    "<font size = 4/>\n",
    "* Commits menor que a média, projeto JAVA"
   ]
  },
  {
   "cell_type": "code",
   "execution_count": 108,
   "metadata": {},
   "outputs": [
    {
     "name": "stdout",
     "output_type": "stream",
     "text": [
      "                0\n",
      "count  195.000000\n",
      "mean   300.533333\n",
      "std    136.648404\n",
      "min      0.000000\n",
      "25%    188.500000\n",
      "50%    303.000000\n",
      "75%    400.000000\n",
      "max    557.000000\n"
     ]
    },
    {
     "data": {
      "image/png": "[encoded data removed]",
      "text/plain": [
       "<Figure size 432x288 with 1 Axes>"
      ]
     },
     "metadata": {},
     "output_type": "display_data"
    },
    {
     "data": {
      "image/png": "[encoded data removed]",
      "text/plain": [
       "<Figure size 432x288 with 1 Axes>"
      ]
     },
     "metadata": {},
     "output_type": "display_data"
    }
   ],
   "source": [
    "frequency = commit_frequency(commit_project[0], project_name[0])\n",
    "\n",
    "low, medium, high, veryHigh = all_frequency(frequency, project_name[0])\n",
    "\n",
    "df = pd.DataFrame(frequency)\n",
    "df = df.describe()\n",
    "print(df)\n",
    "\n",
    "plot(\"Commits menor que a media\", frequency)\n",
    "plot('Baixo, medio, alto, muito alto', low, medium, high, veryHigh)"
   ]
  },
  {
   "cell_type": "markdown",
   "metadata": {},
   "source": [
    "<font size = 4/>\n",
    "* Commits menor que a média, projeto RUBY"
   ]
  },
  {
   "cell_type": "code",
   "execution_count": 106,
   "metadata": {},
   "outputs": [
    {
     "name": "stdout",
     "output_type": "stream",
     "text": [
      "                0\n",
      "count  443.000000\n",
      "mean   237.939052\n",
      "std    101.329994\n",
      "min      0.000000\n",
      "25%    169.500000\n",
      "50%    231.000000\n",
      "75%    309.000000\n",
      "max    419.000000\n"
     ]
    },
    {
     "data": {
      "image/png": "[encoded data removed]",
      "text/plain": [
       "<Figure size 432x288 with 1 Axes>"
      ]
     },
     "metadata": {},
     "output_type": "display_data"
    },
    {
     "data": {
      "image/png": "[encoded data removed]",
      "text/plain": [
       "<Figure size 432x288 with 1 Axes>"
      ]
     },
     "metadata": {},
     "output_type": "display_data"
    }
   ],
   "source": [
    "frequency = commit_frequency(commit_project[1], project_name[1])\n",
    "\n",
    "low, medium, high, veryHigh = all_frequency(frequency, project_name[1])\n",
    "\n",
    "df = pd.DataFrame(frequency)\n",
    "df = df.describe() # Se obtem o primeiro, segundo e terceiro quartil\n",
    "print(df)\n",
    "\n",
    "plot(\"Commits menor que a media\", frequency)\n",
    "plot('Baixo, medio, alto, muito alto', low, medium, high, veryHigh)"
   ]
  },
  {
   "cell_type": "code",
   "execution_count": null,
   "metadata": {},
   "outputs": [],
   "source": []
  }
 ],
 "metadata": {
  "kernelspec": {
   "display_name": "Python 3",
   "language": "python",
   "name": "python3"
  },
  "language_info": {
   "codemirror_mode": {
    "name": "ipython",
    "version": 3
   },
   "file_extension": ".py",
   "mimetype": "text/x-python",
   "name": "python",
   "nbconvert_exporter": "python",
   "pygments_lexer": "ipython3",
   "version": "3.6.5"
  }
 },
 "nbformat": 4,
 "nbformat_minor": 2
}
