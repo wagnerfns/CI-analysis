{
 "cells": [
  {
   "cell_type": "code",
   "execution_count": 1,
   "metadata": {},
   "outputs": [],
   "source": [
    "import pandas as pd\n",
    "import numpy as np"
   ]
  },
  {
   "cell_type": "code",
   "execution_count": 2,
   "metadata": {},
   "outputs": [],
   "source": [
    "FILE = 'travistorrent_11_1_2017.csv'\n",
    "size = 500000\n",
    "#size = 2000000"
   ]
  },
  {
   "cell_type": "code",
   "execution_count": 3,
   "metadata": {},
   "outputs": [],
   "source": [
    "#for dataset in pd.read_csv(file, engine='c', chunksize=size):\n",
    "#    process(dataset)"
   ]
  },
  {
   "cell_type": "code",
   "execution_count": null,
   "metadata": {},
   "outputs": [],
   "source": []
  },
  {
   "cell_type": "code",
   "execution_count": null,
   "metadata": {},
   "outputs": [],
   "source": []
  },
  {
   "cell_type": "code",
   "execution_count": null,
   "metadata": {},
   "outputs": [],
   "source": []
  },
  {
   "cell_type": "code",
   "execution_count": null,
   "metadata": {},
   "outputs": [],
   "source": []
  },
  {
   "cell_type": "code",
   "execution_count": null,
   "metadata": {},
   "outputs": [],
   "source": []
  },
  {
   "cell_type": "code",
   "execution_count": 4,
   "metadata": {
    "scrolled": false
   },
   "outputs": [
    {
     "name": "stdout",
     "output_type": "stream",
     "text": [
      "CPU times: user 5.06 s, sys: 140 ms, total: 5.2 s\n",
      "Wall time: 5.2 s\n"
     ]
    }
   ],
   "source": [
    "%%time\n",
    "dataset = pd.read_csv(FILE,sep=',', engine='c', nrows = size,dtype={'gh_team_size': np.int32,\n",
    "                                                                    'git_num_all_built_commits': np.int32,\n",
    "                                                                    'gh_num_commit_comments': np.int32,\n",
    "                                                                    'git_diff_src_churn': np.int32,\n",
    "                                                                    'git_diff_test_churn': np.int32,\n",
    "                                                                    'gh_diff_files_added': np.int32,\n",
    "                                                                    'gh_diff_files_deleted': np.int32,\n",
    "                                                                    'gh_diff_files_modified': np.int32,\n",
    "                                                                    'gh_diff_tests_added': np.int32,\n",
    "                                                                    'gh_diff_tests_deleted': np.int32,\n",
    "                                                                    'gh_diff_src_files': np.int32,\n",
    "                                                                    'gh_diff_doc_files': np.int32,\n",
    "                                                                    'gh_diff_other_files': np.int32,\n",
    "                                                                    'gh_num_commits_on_files_touched': np.int32,\n",
    "                                                                    'gh_sloc': np.int32,\n",
    "                                                                    'tr_build_number': np.int32,\n",
    "                                                                    'tr_job_id': np.int32,\n",
    "                                                                    'tr_build_id': np.float32,\n",
    "                                                                    'gh_pull_req_num': np.float32,\n",
    "                                                                    'gh_num_commits_in_push': np.float32,\n",
    "                                                                    'tr_prev_build': np.float32,\n",
    "                                                                    'gh_num_issue_comments': np.float32,\n",
    "                                                                    'gh_num_pr_comments': np.float32,\n",
    "                                                                    'gh_test_lines_per_kloc': np.float32,\n",
    "                                                                    'gh_test_cases_per_kloc': np.float32,\n",
    "                                                                    'gh_asserts_cases_per_kloc': np.float32,\n",
    "                                                                    'gh_description_complexity': np.float32,\n",
    "                                                                    'tr_duration': np.float32,\n",
    "                                                                    'tr_log_setup_time': np.float32,\n",
    "                                                                    'tr_log_num_tests_ok': np.float32,\n",
    "                                                                    'tr_log_num_tests_failed': np.float32,\n",
    "                                                                    'tr_log_num_tests_run': np.float32,\n",
    "                                                                    'tr_log_num_tests_skipped': np.float32,\n",
    "                                                                    'tr_log_testduration': np.float32,\n",
    "                                                                    'tr_log_buildduration': np.float32,\n",
    "                                                                                                                                        \n",
    "                                                                    'gh_project_name': np.object_, \n",
    "                                                                    'gh_pr_created_at': np.object_,\n",
    "                                                                    'gh_lang': np.object_,\n",
    "                                                                    'git_merged_with': np.object_,\n",
    "                                                                    'git_branch': np.object_,\n",
    "                                                                    'gh_commits_in_push': np.object_,\n",
    "                                                                    'git_prev_commit_resolution_status': np.object_,\n",
    "                                                                    'git_prev_built_commit': np.object_,\n",
    "                                                                    'gh_first_commit_created_at': np.object_,\n",
    "                                                                    'git_all_built_commits': np.object_,\n",
    "                                                                    'git_trigger_commit': np.object_,\n",
    "                                                                    'tr_virtual_merged_into': np.object_,\n",
    "                                                                    'tr_original_commit': np.object_,\n",
    "                                                                    'gh_pushed_at': np.object_,\n",
    "                                                                    'gh_build_started_at': np.object_,\n",
    "                                                                    'tr_status': np.object_,\n",
    "                                                                    'tr_jobs': np.object_,\n",
    "                                                                    'tr_log_lan': np.object_,\n",
    "                                                                    'tr_log_status': np.object_,\n",
    "                                                                    'tr_log_analyzer': np.object_,\n",
    "                                                                    'tr_log_frameworks': np.object_,\n",
    "                                                                    'tr_log_bool_tests_failed': np.object_,\n",
    "                                                                    'tr_log_tests_failed': str,\n",
    "                                                                    \n",
    "                                                                    \n",
    "                                                                    'gh_is_pr': np.bool,\n",
    "                                                                    'gh_by_core_team_member': np.bool,\n",
    "                                                                    'tr_log_bool_tests_ran': np.bool\n",
    "                                                                    \n",
    "                                                            \n",
    "                                                                                                           }, encoding='utf-8')\n",
    "# nrows=1000000\n",
    "# dtype={'tr_build_id': np.int32}\n",
    "# ,dtype={'gh_num_commits_in_push': np.float32}\n",
    "'''\n",
    "Signature:\n",
    "    sep - separa por virgula\n",
    "    nrows - limite de linhas lidas\n",
    "    encoding - tipo de caracter\n",
    "    engine - Mecanismo do analisador\n",
    "    na_values - procura os padrões na|nan como str\n",
    "    keep_default_na - define como nan os padroes econtrados em na_values\n",
    "    \n",
    "'''\n",
    "\n"
   ]
  },
  {
   "cell_type": "code",
   "execution_count": 8,
   "metadata": {},
   "outputs": [
    {
     "data": {
      "text/plain": [
       "4000000"
      ]
     },
     "execution_count": 8,
     "metadata": {},
     "output_type": "execute_result"
    }
   ],
   "source": [
    "dataset['tr_log_tests_failed'].nbytes"
   ]
  },
  {
   "cell_type": "code",
   "execution_count": 6,
   "metadata": {},
   "outputs": [
    {
     "data": {
      "text/plain": [
       "4000000"
      ]
     },
     "execution_count": 6,
     "metadata": {},
     "output_type": "execute_result"
    }
   ],
   "source": [
    "4000000"
   ]
  },
  {
   "cell_type": "code",
   "execution_count": 7,
   "metadata": {},
   "outputs": [
    {
     "data": {
      "text/plain": [
       "0         NaN\n",
       "1         NaN\n",
       "2         NaN\n",
       "3         NaN\n",
       "4         NaN\n",
       "5         NaN\n",
       "6         NaN\n",
       "7         NaN\n",
       "8         NaN\n",
       "9         NaN\n",
       "10        NaN\n",
       "11        NaN\n",
       "12        NaN\n",
       "13        NaN\n",
       "14        NaN\n",
       "15        NaN\n",
       "16        NaN\n",
       "17        NaN\n",
       "18        NaN\n",
       "19        NaN\n",
       "20        NaN\n",
       "21        NaN\n",
       "22        NaN\n",
       "23        NaN\n",
       "24        NaN\n",
       "25        NaN\n",
       "26        NaN\n",
       "27        NaN\n",
       "28        NaN\n",
       "29        NaN\n",
       "         ... \n",
       "499970    NaN\n",
       "499971    NaN\n",
       "499972    NaN\n",
       "499973    NaN\n",
       "499974    NaN\n",
       "499975    NaN\n",
       "499976    NaN\n",
       "499977    NaN\n",
       "499978    NaN\n",
       "499979    NaN\n",
       "499980    NaN\n",
       "499981    NaN\n",
       "499982    NaN\n",
       "499983    NaN\n",
       "499984    NaN\n",
       "499985    NaN\n",
       "499986    NaN\n",
       "499987    NaN\n",
       "499988    NaN\n",
       "499989    NaN\n",
       "499990    NaN\n",
       "499991    NaN\n",
       "499992    NaN\n",
       "499993    NaN\n",
       "499994    NaN\n",
       "499995    NaN\n",
       "499996    NaN\n",
       "499997    NaN\n",
       "499998    NaN\n",
       "499999    NaN\n",
       "Name: tr_log_tests_failed, Length: 500000, dtype: object"
      ]
     },
     "execution_count": 7,
     "metadata": {},
     "output_type": "execute_result"
    }
   ],
   "source": [
    "dataset['tr_log_tests_failed']"
   ]
  },
  {
   "cell_type": "code",
   "execution_count": 7,
   "metadata": {
    "scrolled": true
   },
   "outputs": [
    {
     "name": "stdout",
     "output_type": "stream",
     "text": [
      "<class 'pandas.core.frame.DataFrame'>\n",
      "RangeIndex: 2000000 entries, 0 to 1999999\n",
      "Data columns (total 37 columns):\n",
      "tr_build_id                          float32\n",
      "gh_project_name                      object\n",
      "gh_is_pr                             bool\n",
      "gh_pr_created_at                     object\n",
      "gh_pull_req_num                      float32\n",
      "gh_lang                              object\n",
      "git_merged_with                      object\n",
      "git_branch                           object\n",
      "gh_num_commits_in_push               float32\n",
      "git_prev_commit_resolution_status    object\n",
      "git_prev_built_commit                object\n",
      "tr_prev_build                        float32\n",
      "gh_first_commit_created_at           object\n",
      "gh_team_size                         int32\n",
      "git_all_built_commits                object\n",
      "git_num_all_built_commits            int32\n",
      "git_trigger_commit                   object\n",
      "tr_virtual_merged_into               object\n",
      "tr_original_commit                   object\n",
      "gh_num_issue_comments                float32\n",
      "gh_num_commit_comments               int32\n",
      "gh_num_pr_comments                   float32\n",
      "git_diff_src_churn                   int32\n",
      "git_diff_test_churn                  int32\n",
      "gh_num_commits_on_files_touched      int32\n",
      "gh_asserts_cases_per_kloc            float32\n",
      "gh_by_core_team_member               bool\n",
      "gh_description_complexity            float32\n",
      "gh_pushed_at                         object\n",
      "gh_build_started_at                  object\n",
      "tr_status                            object\n",
      "tr_jobs                              object\n",
      "tr_job_id                            int32\n",
      "tr_log_status                        object\n",
      "tr_log_num_tests_ok                  float32\n",
      "tr_log_num_tests_failed              float32\n",
      "tr_log_num_tests_skipped             float32\n",
      "dtypes: bool(2), float32(11), int32(7), object(17)\n",
      "memory usage: 400.5+ MB\n"
     ]
    }
   ],
   "source": [
    "dataset.info()"
   ]
  },
  {
   "cell_type": "code",
   "execution_count": null,
   "metadata": {},
   "outputs": [],
   "source": []
  },
  {
   "cell_type": "code",
   "execution_count": null,
   "metadata": {},
   "outputs": [],
   "source": []
  },
  {
   "cell_type": "code",
   "execution_count": null,
   "metadata": {},
   "outputs": [],
   "source": []
  },
  {
   "cell_type": "code",
   "execution_count": null,
   "metadata": {},
   "outputs": [],
   "source": []
  },
  {
   "cell_type": "code",
   "execution_count": null,
   "metadata": {},
   "outputs": [],
   "source": []
  },
  {
   "cell_type": "markdown",
   "metadata": {},
   "source": [
    "<font size=4/>\n",
    "   * Elimia as colunas não utilizadas"
   ]
  },
  {
   "cell_type": "code",
   "execution_count": 6,
   "metadata": {},
   "outputs": [],
   "source": [
    "# Eliminando colunas\n",
    "dataset.drop([  'gh_diff_files_added',\n",
    "                'gh_commits_in_push',\n",
    "                'gh_diff_files_deleted',\n",
    "                'gh_diff_files_modified',\n",
    "                'gh_diff_tests_added',\n",
    "                'gh_diff_tests_deleted',\n",
    "                'gh_diff_src_files',\n",
    "                'gh_diff_doc_files',\n",
    "                'gh_diff_other_files',\n",
    "                'gh_sloc',\n",
    "                'gh_test_lines_per_kloc',\n",
    "                'gh_test_cases_per_kloc',\n",
    "                \n",
    "                'tr_build_number',\n",
    "                'tr_duration',\n",
    "                'tr_log_lan',\n",
    "                'tr_log_num_tests_run',\n",
    "                'tr_log_setup_time',\n",
    "                'tr_log_analyzer',\n",
    "                'tr_log_frameworks',\n",
    "                'tr_log_bool_tests_ran',\n",
    "                'tr_log_bool_tests_failed',\n",
    "                'tr_log_tests_failed',\n",
    "                'tr_log_testduration',\n",
    "                'tr_log_buildduration'], axis=1, inplace=True)"
   ]
  },
  {
   "cell_type": "code",
   "execution_count": null,
   "metadata": {},
   "outputs": [],
   "source": []
  },
  {
   "cell_type": "markdown",
   "metadata": {},
   "source": [
    "<font size=4/> \n",
    "   * Filtra o projeto, remove linhas NAN, separa a coluna gh_pushed_at"
   ]
  },
  {
   "cell_type": "code",
   "execution_count": 8,
   "metadata": {
    "scrolled": false
   },
   "outputs": [],
   "source": [
    "df_ruby = dataset.loc[dataset['gh_project_name']=='rails/rails'] # Filtro penas o projeto rails/rails"
   ]
  },
  {
   "cell_type": "code",
   "execution_count": 9,
   "metadata": {},
   "outputs": [],
   "source": [
    "df_ruby = df_ruby.dropna() # Remove as linhas NAN"
   ]
  },
  {
   "cell_type": "code",
   "execution_count": 10,
   "metadata": {},
   "outputs": [],
   "source": [
    "df_ruby['data'], df_ruby['hora'] = df_ruby.gh_pushed_at.str.split(' ').str # Separa a coluna que possui data e hora em duas novas colunas de data hora"
   ]
  },
  {
   "cell_type": "markdown",
   "metadata": {},
   "source": [
    "<font size=4/> \n",
    "   * Remove linhas duplicadas"
   ]
  },
  {
   "cell_type": "code",
   "execution_count": 11,
   "metadata": {},
   "outputs": [],
   "source": [
    "single_push = df_ruby.drop_duplicates(['tr_build_id']) # remove as linhas duplicadas\n",
    "\n",
    "single_push = single_push['tr_build_id'] # cria uma serie com os push unicos do projeto\n"
   ]
  },
  {
   "cell_type": "markdown",
   "metadata": {},
   "source": [
    "<font size=4/> \n",
    "   * Soma de todos push"
   ]
  },
  {
   "cell_type": "code",
   "execution_count": 12,
   "metadata": {},
   "outputs": [],
   "source": [
    "num_commit = df_ruby.gh_num_commits_in_push.sum() "
   ]
  },
  {
   "cell_type": "markdown",
   "metadata": {},
   "source": [
    "<font size=4/> \n",
    "   * Duração do projeto"
   ]
  },
  {
   "cell_type": "code",
   "execution_count": 13,
   "metadata": {},
   "outputs": [],
   "source": [
    "first_data, hora = df_ruby.gh_first_commit_created_at.head(1).str.split(' ').str\n",
    "first_data = int(first_data.str.replace('-', ''))"
   ]
  },
  {
   "cell_type": "code",
   "execution_count": 14,
   "metadata": {},
   "outputs": [],
   "source": [
    "last_data,  hora = df_ruby.gh_first_commit_created_at.tail(1).str.split(' ').str\n",
    "last_data = int(last_data.str.replace('-',''))"
   ]
  },
  {
   "cell_type": "code",
   "execution_count": 15,
   "metadata": {},
   "outputs": [],
   "source": [
    "data_commit = last_data - first_data"
   ]
  },
  {
   "cell_type": "markdown",
   "metadata": {},
   "source": [
    "<font size=4/> \n",
    "   * Media participante"
   ]
  },
  {
   "cell_type": "code",
   "execution_count": 16,
   "metadata": {},
   "outputs": [],
   "source": [
    "media_participante = df_ruby.gh_team_size.sum()/ len(single_push)"
   ]
  },
  {
   "cell_type": "markdown",
   "metadata": {},
   "source": [
    "<font size=4/> \n",
    "   * teste"
   ]
  },
  {
   "cell_type": "code",
   "execution_count": 17,
   "metadata": {},
   "outputs": [],
   "source": [
    "taxa_commit = num_commit/(data_commit * media_participante)"
   ]
  },
  {
   "cell_type": "code",
   "execution_count": 18,
   "metadata": {},
   "outputs": [
    {
     "data": {
      "text/plain": [
       "0.0008368904169903687"
      ]
     },
     "execution_count": 18,
     "metadata": {},
     "output_type": "execute_result"
    }
   ],
   "source": [
    "taxa_commit"
   ]
  },
  {
   "cell_type": "code",
   "execution_count": null,
   "metadata": {},
   "outputs": [],
   "source": []
  }
 ],
 "metadata": {
  "kernelspec": {
   "display_name": "Python 3",
   "language": "python",
   "name": "python3"
  },
  "language_info": {
   "codemirror_mode": {
    "name": "ipython",
    "version": 3
   },
   "file_extension": ".py",
   "mimetype": "text/x-python",
   "name": "python",
   "nbconvert_exporter": "python",
   "pygments_lexer": "ipython3",
   "version": "3.6.5"
  }
 },
 "nbformat": 4,
 "nbformat_minor": 2
}
