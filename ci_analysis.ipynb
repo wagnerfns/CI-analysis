{
 "cells": [
  {
   "cell_type": "code",
   "execution_count": 1,
   "metadata": {},
   "outputs": [],
   "source": [
    "import pandas as pd"
   ]
  },
  {
   "cell_type": "code",
   "execution_count": 2,
   "metadata": {},
   "outputs": [],
   "source": [
    "file = 'travistorrent_11_1_2017.csv'\n",
    "size = 1000000"
   ]
  },
  {
   "cell_type": "code",
   "execution_count": 3,
   "metadata": {},
   "outputs": [],
   "source": [
    "#for dataset in pd.read_csv(file, engine='c', chunksize=chunksize):\n",
    "#    process(dataset)"
   ]
  },
  {
   "cell_type": "code",
   "execution_count": 4,
   "metadata": {
    "scrolled": false
   },
   "outputs": [
    {
     "name": "stderr",
     "output_type": "stream",
     "text": [
      "/home/wagner/anaconda3/lib/python3.6/site-packages/IPython/core/interactiveshell.py:2785: DtypeWarning: Columns (3,6,18) have mixed types. Specify dtype option on import or set low_memory=False.\n",
      "  interactivity=interactivity, compiler=compiler, result=result)\n"
     ]
    },
    {
     "data": {
      "text/plain": [
       "'\\nSignature:\\n    sep - separa por virgula\\n    nrows - limite de linhas lidas\\n    encoding - tipo de caracter\\n    engine - Mecanismo do analisador\\n    na_values - procura os padrões na|nan como str\\n    keep_default_na - define como nan os padroes econtrados em na_values\\n    \\n'"
      ]
     },
     "execution_count": 4,
     "metadata": {},
     "output_type": "execute_result"
    }
   ],
   "source": [
    "dataset = pd.read_csv('travistorrent_11_1_2017.csv',sep=',', engine='c', nrows= size, na_values=str, keep_default_na = bool, encoding='utf-8')\n",
    "# nrows=1000000\n",
    "'''\n",
    "Signature:\n",
    "    sep - separa por virgula\n",
    "    nrows - limite de linhas lidas\n",
    "    encoding - tipo de caracter\n",
    "    engine - Mecanismo do analisador\n",
    "    na_values - procura os padrões na|nan como str\n",
    "    keep_default_na - define como nan os padroes econtrados em na_values\n",
    "    \n",
    "'''\n",
    "\n"
   ]
  },
  {
   "cell_type": "markdown",
   "metadata": {},
   "source": [
    "<font size=4/>\n",
    "   * Elimia as colunas não utilizadas"
   ]
  },
  {
   "cell_type": "code",
   "execution_count": 5,
   "metadata": {},
   "outputs": [],
   "source": [
    "# Eliminando colunas\n",
    "dataset.drop([  'gh_diff_files_added',\n",
    "                'gh_commits_in_push',\n",
    "                'gh_diff_files_deleted',\n",
    "                'gh_diff_files_modified',\n",
    "                'gh_diff_tests_added',\n",
    "                'gh_diff_tests_deleted',\n",
    "                'gh_diff_src_files',\n",
    "                'gh_diff_doc_files',\n",
    "                'gh_diff_other_files',\n",
    "                'gh_sloc',\n",
    "                'gh_test_lines_per_kloc',\n",
    "                'gh_test_cases_per_kloc',\n",
    "                \n",
    "                'tr_build_number',\n",
    "                'tr_duration',\n",
    "                'tr_log_lan',\n",
    "                'tr_log_num_tests_run',\n",
    "                'tr_log_setup_time',\n",
    "                'tr_log_analyzer',\n",
    "                'tr_log_frameworks',\n",
    "                'tr_log_bool_tests_ran',\n",
    "                'tr_log_bool_tests_failed',\n",
    "                'tr_log_tests_failed',\n",
    "                'tr_log_testduration',\n",
    "                'tr_log_buildduration'], axis=1, inplace=True)"
   ]
  },
  {
   "cell_type": "code",
   "execution_count": null,
   "metadata": {},
   "outputs": [],
   "source": []
  },
  {
   "cell_type": "markdown",
   "metadata": {},
   "source": [
    "<font size=4/> \n",
    "   * Filtra o projeto, remove linhas NAN, separa a coluna gh_pushed_at"
   ]
  },
  {
   "cell_type": "code",
   "execution_count": 6,
   "metadata": {
    "scrolled": false
   },
   "outputs": [],
   "source": [
    "df_ruby = dataset.loc[dataset['gh_project_name']=='rails/rails'] # Filtro penas o projeto rails/rails"
   ]
  },
  {
   "cell_type": "code",
   "execution_count": 7,
   "metadata": {},
   "outputs": [],
   "source": [
    "df_ruby = df_ruby.dropna() # Remove as linhas NAN"
   ]
  },
  {
   "cell_type": "code",
   "execution_count": 8,
   "metadata": {},
   "outputs": [],
   "source": [
    "df_ruby['data'], df_ruby['hora'] = df_ruby.gh_pushed_at.str.split(' ').str # Separa a coluna que possui data e hora em duas novas colunas de data hora"
   ]
  },
  {
   "cell_type": "markdown",
   "metadata": {},
   "source": [
    "<font size=4/> \n",
    "   * Remove linhas duplicadas"
   ]
  },
  {
   "cell_type": "code",
   "execution_count": 9,
   "metadata": {},
   "outputs": [],
   "source": [
    "single_push = df_ruby.drop_duplicates(['tr_build_id']) # remove as linhas duplicadas\n",
    "\n",
    "single_push = single_push['tr_build_id'] # cria uma serie com os push unicos do projeto\n"
   ]
  },
  {
   "cell_type": "code",
   "execution_count": 19,
   "metadata": {},
   "outputs": [
    {
     "ename": "SyntaxError",
     "evalue": "unexpected EOF while parsing (<ipython-input-19-4d8541e7ec5f>, line 2)",
     "output_type": "error",
     "traceback": [
      "\u001b[0;36m  File \u001b[0;32m\"<ipython-input-19-4d8541e7ec5f>\"\u001b[0;36m, line \u001b[0;32m2\u001b[0m\n\u001b[0;31m    #print('\\n',single_push.iloc[i])\u001b[0m\n\u001b[0m                                    ^\u001b[0m\n\u001b[0;31mSyntaxError\u001b[0m\u001b[0;31m:\u001b[0m unexpected EOF while parsing\n"
     ]
    }
   ],
   "source": [
    "for i in range(0, len(single_push)):\n",
    "    print('\\n',single_push.iloc[i])"
   ]
  },
  {
   "cell_type": "code",
   "execution_count": 20,
   "metadata": {},
   "outputs": [
    {
     "data": {
      "text/html": [
       "<div>\n",
       "<style scoped>\n",
       "    .dataframe tbody tr th:only-of-type {\n",
       "        vertical-align: middle;\n",
       "    }\n",
       "\n",
       "    .dataframe tbody tr th {\n",
       "        vertical-align: top;\n",
       "    }\n",
       "\n",
       "    .dataframe thead th {\n",
       "        text-align: right;\n",
       "    }\n",
       "</style>\n",
       "<table border=\"1\" class=\"dataframe\">\n",
       "  <thead>\n",
       "    <tr style=\"text-align: right;\">\n",
       "      <th></th>\n",
       "      <th>tr_build_id</th>\n",
       "      <th>gh_project_name</th>\n",
       "      <th>gh_is_pr</th>\n",
       "      <th>gh_pr_created_at</th>\n",
       "      <th>gh_pull_req_num</th>\n",
       "      <th>gh_lang</th>\n",
       "      <th>git_merged_with</th>\n",
       "      <th>git_branch</th>\n",
       "      <th>gh_num_commits_in_push</th>\n",
       "      <th>git_prev_commit_resolution_status</th>\n",
       "      <th>...</th>\n",
       "      <th>gh_build_started_at</th>\n",
       "      <th>tr_status</th>\n",
       "      <th>tr_jobs</th>\n",
       "      <th>tr_job_id</th>\n",
       "      <th>tr_log_status</th>\n",
       "      <th>tr_log_num_tests_ok</th>\n",
       "      <th>tr_log_num_tests_failed</th>\n",
       "      <th>tr_log_num_tests_skipped</th>\n",
       "      <th>DATA</th>\n",
       "      <th>HORA</th>\n",
       "    </tr>\n",
       "  </thead>\n",
       "  <tbody>\n",
       "    <tr>\n",
       "      <th>638680</th>\n",
       "      <td>8113937</td>\n",
       "      <td>rails/rails</td>\n",
       "      <td>True</td>\n",
       "      <td>2013-06-12 10:21:13</td>\n",
       "      <td>10925.0</td>\n",
       "      <td>ruby</td>\n",
       "      <td>merge_button</td>\n",
       "      <td>master</td>\n",
       "      <td>2.0</td>\n",
       "      <td>build_found</td>\n",
       "      <td>...</td>\n",
       "      <td>2013-06-15 12:47:57</td>\n",
       "      <td>passed</td>\n",
       "      <td>[8113949, 8113938, 8113948, 8113947, 8113944, ...</td>\n",
       "      <td>8113939</td>\n",
       "      <td>ok</td>\n",
       "      <td>14749.0</td>\n",
       "      <td>0.0</td>\n",
       "      <td>2.0</td>\n",
       "      <td>2013-02-17</td>\n",
       "      <td>01:06:32</td>\n",
       "    </tr>\n",
       "  </tbody>\n",
       "</table>\n",
       "<p>1 rows × 39 columns</p>\n",
       "</div>"
      ],
      "text/plain": [
       "        tr_build_id gh_project_name  gh_is_pr     gh_pr_created_at  \\\n",
       "638680      8113937     rails/rails      True  2013-06-12 10:21:13   \n",
       "\n",
       "        gh_pull_req_num gh_lang git_merged_with git_branch  \\\n",
       "638680          10925.0    ruby    merge_button     master   \n",
       "\n",
       "        gh_num_commits_in_push git_prev_commit_resolution_status    ...     \\\n",
       "638680                     2.0                       build_found    ...      \n",
       "\n",
       "        gh_build_started_at  tr_status  \\\n",
       "638680  2013-06-15 12:47:57     passed   \n",
       "\n",
       "                                                  tr_jobs  tr_job_id  \\\n",
       "638680  [8113949, 8113938, 8113948, 8113947, 8113944, ...    8113939   \n",
       "\n",
       "       tr_log_status  tr_log_num_tests_ok tr_log_num_tests_failed  \\\n",
       "638680            ok              14749.0                     0.0   \n",
       "\n",
       "       tr_log_num_tests_skipped        DATA      HORA  \n",
       "638680                      2.0  2013-02-17  01:06:32  \n",
       "\n",
       "[1 rows x 39 columns]"
      ]
     },
     "execution_count": 20,
     "metadata": {},
     "output_type": "execute_result"
    }
   ],
   "source": [
    "df_ruby.loc[(df_ruby['tr_build_id'] == 8113937)].head(1)"
   ]
  },
  {
   "cell_type": "markdown",
   "metadata": {},
   "source": [
    "<font size=4/> \n",
    "   * Soma de todos push"
   ]
  },
  {
   "cell_type": "code",
   "execution_count": 22,
   "metadata": {},
   "outputs": [
    {
     "data": {
      "text/plain": [
       "5843.0"
      ]
     },
     "execution_count": 22,
     "metadata": {},
     "output_type": "execute_result"
    }
   ],
   "source": [
    "num_commit = df_ruby.gh_num_commits_in_push.sum() "
   ]
  },
  {
   "cell_type": "markdown",
   "metadata": {},
   "source": [
    "<font size=4/> \n",
    "   * Duração do projeto"
   ]
  },
  {
   "cell_type": "code",
   "execution_count": 72,
   "metadata": {},
   "outputs": [],
   "source": [
    "first_data, hora = df_ruby.gh_first_commit_created_at.head(1).str.split(' ').str\n",
    "first_data = int(first_data.str.replace('-', ''))"
   ]
  },
  {
   "cell_type": "code",
   "execution_count": 73,
   "metadata": {},
   "outputs": [],
   "source": [
    "last_data,  hora = df_ruby.gh_first_commit_created_at.tail(1).str.split(' ').str\n",
    "last_data = int(last_data.str.replace('-',''))"
   ]
  },
  {
   "cell_type": "code",
   "execution_count": 75,
   "metadata": {},
   "outputs": [
    {
     "data": {
      "text/plain": [
       "607"
      ]
     },
     "execution_count": 75,
     "metadata": {},
     "output_type": "execute_result"
    }
   ],
   "source": [
    "data_commit = last_data - first_data\n",
    "\n",
    "data_commit"
   ]
  },
  {
   "cell_type": "code",
   "execution_count": null,
   "metadata": {},
   "outputs": [],
   "source": []
  }
 ],
 "metadata": {
  "kernelspec": {
   "display_name": "Python 3",
   "language": "python",
   "name": "python3"
  },
  "language_info": {
   "codemirror_mode": {
    "name": "ipython",
    "version": 3
   },
   "file_extension": ".py",
   "mimetype": "text/x-python",
   "name": "python",
   "nbconvert_exporter": "python",
   "pygments_lexer": "ipython3",
   "version": "3.6.5"
  }
 },
 "nbformat": 4,
 "nbformat_minor": 2
}
