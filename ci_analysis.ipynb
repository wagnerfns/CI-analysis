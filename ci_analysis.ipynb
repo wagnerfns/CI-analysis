{
 "cells": [
  {
   "cell_type": "code",
   "execution_count": 1,
   "metadata": {},
   "outputs": [],
   "source": [
    "import pandas as pd\n",
    "import numpy as np\n",
    "import matplotlib.pyplot as plt"
   ]
  },
  {
   "cell_type": "code",
   "execution_count": 2,
   "metadata": {},
   "outputs": [],
   "source": [
    "FILE = 'travistorrent_11_1_2017.csv'"
   ]
  },
  {
   "cell_type": "code",
   "execution_count": 3,
   "metadata": {},
   "outputs": [],
   "source": [
    "dataset = pd.read_csv(FILE, sep=',', engine='c',usecols=['gh_team_size',\n",
    "                                                         'tr_build_id',\n",
    "                                                         'gh_project_name',\n",
    "                                                         'tr_build_id',\n",
    "                                                         'gh_project_name',\n",
    "                                                         'gh_is_pr',\n",
    "                                                         'gh_pr_created_at',\n",
    "                                                         'gh_lang',\n",
    "                                                         'git_branch',\n",
    "                                                         'gh_num_commits_in_push',\n",
    "                                                         'git_prev_commit_resolution_status',\n",
    "                                                         'tr_prev_build',\n",
    "                                                         'gh_first_commit_created_at',\n",
    "                                                         'gh_team_size',         \n",
    "                                                         'gh_pushed_at',\n",
    "                                                         'gh_build_started_at',\n",
    "                                                         'tr_log_num_tests_ok',        \n",
    "                                                         'tr_log_num_tests_failed' ,   \n",
    "                                                         'tr_log_num_tests_skipped',\n",
    "                                                         'gh_sloc'],dtype={ 'tr_build_id': np.float32,\n",
    "                                                                                            'gh_project_name': 'category',\n",
    "                                                                                            'gh_is_pr': np.bool,\n",
    "                                                                                            'gh_pr_created_at': 'category',\n",
    "                                                                                            'gh_lang': 'category',\n",
    "                                                                                            'git_branch': 'category',\n",
    "                                                                                            'gh_num_commits_in_push': np.float32,\n",
    "                                                                                            'git_prev_commit_resolution_status': 'category',\n",
    "                                                                                            'tr_prev_build': np.float32,\n",
    "                                                                                            'gh_first_commit_created_at': 'category',\n",
    "                                                                                            'gh_team_size': np.int32,\n",
    "                                                                                            'gh_pushed_at': 'category',\n",
    "                                                                                            'gh_build_started_at': 'category',\n",
    "                                                                                            'tr_log_num_tests_ok': np.float32,\n",
    "                                                                                            'tr_log_num_tests_failed': np.float32,\n",
    "                                                                                            'tr_log_num_tests_skipped': np.float32,\n",
    "                                                                                            'gh_sloc': np.int32}, encoding='utf-8')\n"
   ]
  },
  {
   "cell_type": "code",
   "execution_count": 4,
   "metadata": {
    "scrolled": true
   },
   "outputs": [],
   "source": [
    "dataset = dataset.loc[dataset['git_branch'] == 'master']\n",
    "dataset = dataset.dropna(subset=['gh_num_commits_in_push']) #Remove NaN da coluna especificada\n",
    "\n",
    "dataset['gh_pushed_at'] = pd.to_datetime(dataset.gh_pushed_at)\n",
    "\n",
    "#dataset['date'], dataset['hours'] = dataset.gh_pushed_at.str.split(' ').str # Separa a coluna que possui data e hora em duas novas colunas de data hora\n",
    "#dataset['date'] = pd.to_datetime(dataset.date)\n",
    "\n",
    "#df_ruby = dataset.dropna() # Remove as linhas NAN\n"
   ]
  },
  {
   "cell_type": "markdown",
   "metadata": {},
   "source": [
    "<font size = 4/>\n",
    "* Filtro de Linguagem"
   ]
  },
  {
   "cell_type": "code",
   "execution_count": 5,
   "metadata": {},
   "outputs": [],
   "source": [
    "def language_filter(language):\n",
    "    projects = dataset.drop_duplicates(['gh_project_name']) #Remove nomes duplicados \n",
    "    projects = projects.loc[projects['gh_lang'] == language] #Filtra apenas linguagem X\n",
    "    projects = projects.gh_project_name #Cria uma Serie com nomes unicos dos projetos\n",
    "    \n",
    "    return(projects)"
   ]
  },
  {
   "cell_type": "markdown",
   "metadata": {},
   "source": [
    "<font size = 4/>\n",
    "* Quantidade de commit por projeto"
   ]
  },
  {
   "cell_type": "code",
   "execution_count": 6,
   "metadata": {},
   "outputs": [],
   "source": [
    "def commit_flow(projects):\n",
    "    list_project = []\n",
    "    list_commit = []\n",
    "    \n",
    "    for project_name in projects:\n",
    "        \n",
    "        df = dataset.loc[dataset['gh_project_name'] == project_name] # Filtro penas o projeto\n",
    "\n",
    "        df = df.drop_duplicates(['tr_build_id'])# Remove linhas duplicadas\n",
    "        \n",
    "        num_commit = df.gh_num_commits_in_push.sum()# Soma de todos push\n",
    "        \n",
    "        list_commit.append(num_commit) # Lista com total de commit de cada projeto\n",
    "        \n",
    "        list_project.append(project_name)# Lista com o Nome de cada projeto\n",
    "        \n",
    "    return(list_commit, list_project)"
   ]
  },
  {
   "cell_type": "markdown",
   "metadata": {},
   "source": [
    "<font size = 4/>\n",
    "* Frequência do projeto"
   ]
  },
  {
   "cell_type": "code",
   "execution_count": 7,
   "metadata": {},
   "outputs": [],
   "source": [
    "def all_frequency(list_commit, list_project):\n",
    "\n",
    "    df = pd.DataFrame(list_commit)\n",
    "    df = df.describe() # Se obtem o primeiro, segundo e terceiro quartil\n",
    "    \n",
    "    # lista de frequencias\n",
    "    low_frequency = []\n",
    "    medium_frequency = []\n",
    "    high_frequency = []\n",
    "    veryHigh_frequency = []\n",
    "    \n",
    "    for i in range(len(list_commit)):\n",
    "        \n",
    "        if(list_commit[i] <= df[0][4]): #Ate o Primeiro quartil\n",
    "            low_frequency.append(list_commit[i])\n",
    "            \n",
    "        elif(list_commit[i] <= df[0][5]): #Ate a Mediana\n",
    "            medium_frequency.append(list_commit[i])\n",
    "            \n",
    "        elif(list_commit[i] <= df[0][6]): #Ate o terceiro quartil\n",
    "            high_frequency.append(list_commit[i])\n",
    "        \n",
    "        else: #Acima do terceiro quartil\n",
    "            veryHigh_frequency.append(list_commit[i])\n",
    "            \n",
    "    return(low_frequency, medium_frequency, high_frequency, veryHigh_frequency)"
   ]
  },
  {
   "cell_type": "markdown",
   "metadata": {},
   "source": [
    "<font size = 4/>\n",
    "* Frequencia do commit\n",
    "\n"
   ]
  },
  {
   "cell_type": "code",
   "execution_count": 8,
   "metadata": {},
   "outputs": [],
   "source": [
    "def commit_frequency(list_commit, list_project):\n",
    "    df = pd.DataFrame(list_commit)\n",
    "    df = df.describe() # Se obtem o primeiro, segundo e terceiro quartil\n",
    "    \n",
    "    frequency = []\n",
    "    \n",
    "    for i in range(len(list_commit)):\n",
    "        if(list_commit[i] < df[0][5]): #Ate a Mediana\n",
    "            frequency.append(list_commit[i])\n",
    "\n",
    "            \n",
    "    return(frequency)"
   ]
  },
  {
   "cell_type": "markdown",
   "metadata": {},
   "source": [
    "<font size = 4/>\n",
    "* Plot com até 4 boxplot"
   ]
  },
  {
   "cell_type": "code",
   "execution_count": 9,
   "metadata": {},
   "outputs": [],
   "source": [
    "def plot(title, plot1, plot2=None, plot3=None, plot4=None):\n",
    "\n",
    "    if(plot2 == None):\n",
    "        data=[plot1]\n",
    "    elif(plot3 == None):\n",
    "        data=[plot1, plot2]\n",
    "    elif(plot4 == None):\n",
    "        data=[plot1, plot2, plot3]\n",
    "    else:\n",
    "        data=[plot1, plot2, plot3, plot4]\n",
    "    \n",
    "    fig, ax = plt.subplots()\n",
    "    \n",
    "    fig.subplots_adjust(left=0.08, right=1.48, bottom=0.05, top=1.2,\n",
    "                        hspace=0.4, wspace=0.3)\n",
    "    \n",
    "    ax.set_axisbelow(True)\n",
    "    ax.set_title(title, size=20)\n",
    "    ax.boxplot(data)\n",
    "    "
   ]
  },
  {
   "cell_type": "code",
   "execution_count": 7,
   "metadata": {},
   "outputs": [],
   "source": [
    "'''\n",
    "3 - Projeto abaixo de 1000 linhas serão descartados, \n",
    "projeto possuindo acima de 1000 e menos que 10.000 serão considerados pequenos, \n",
    "projetos possuindo acima de 10.000 linhas e menos que 100.000 serão considerados médios e \n",
    "projetos acima de 100.000 linhas serão considerados grandes.\n",
    "'''\n",
    "\n",
    "def size_project(language, sett):\n",
    "    if(sett == 1): #abaixo de 1000 linhas\n",
    "        df1 = dataset.loc[(dataset['gh_sloc'] < 1000) & (dataset['gh_lang'] == language)]\n",
    "        df1 = df1.drop_duplicates(['gh_project_name'])\n",
    "        print(\"Projetos {} abaixo de 1000 linhas: {}\".format(language, len(df1.gh_project_name)))  \n",
    "\n",
    "    if(sett == 2): #acima de 1000 e menos que 10.000\n",
    "        #dataset.drop(dataset[dataset.gh_sloc < 1000].index, inplace=True) # Remove projetos abaixo de 1000 linhas\n",
    "        \n",
    "        df2 = dataset.loc[(dataset['gh_sloc'] < 10000)]\n",
    "        df2 = df2.loc[(df2['gh_sloc'] > 1000) & (df2['gh_lang'] == language)]\n",
    "        dff2 = df2.drop_duplicates(['gh_project_name'])\n",
    "\n",
    "        print(\"Projetos {} acima de 1000 linhas e abaixo de 10.000 : {}\".format(language,len(dff2.gh_project_name)))\n",
    "        return(df2)\n",
    "    \n",
    "    if(sett == 3): #acima de 10.000 linhas e menos que 100.000\n",
    "        df3 = dataset.loc[(dataset['gh_sloc'] < 100000)]\n",
    "        df3 = df3.loc[(df3['gh_sloc'] > 10000) & (df3['gh_lang'] == language)]\n",
    "        dff3 = df3.drop_duplicates(['gh_project_name'])\n",
    "\n",
    "        print(\"Projetos {} acima de 10.000 linhas e abaixo de 100.000 : {}\".format(language,len(dff3.gh_project_name)))\n",
    "        return(df3)\n",
    "    \n",
    "    if(sett == 4): #acima de 100.000 linhas\n",
    "        df4 = dataset.loc[(dataset['gh_sloc'] > 100000) & (dataset['gh_lang'] == language)]\n",
    "        dff4 = df4.drop_duplicates(['gh_project_name'])\n",
    "\n",
    "        print(\"Projetos {} acima de 100.000 linhas: {}\".format(language,len(dff4.gh_project_name)))\n",
    "        return(df4)        "
   ]
  },
  {
   "cell_type": "code",
   "execution_count": 14,
   "metadata": {
    "scrolled": true
   },
   "outputs": [],
   "source": [
    "def weekday_frequency(dataframe, year):\n",
    "    dataframe = dataframe.loc[dataset.gh_pushed_at.dt.year == year]\n",
    "\n",
    "    dataframe = dataframe.gh_pushed_at.dt.weekday\n",
    "\n",
    "    monday  = []\n",
    "    tuesday  = []\n",
    "    wednesday = []\n",
    "    thursday  = []\n",
    "    friday = []\n",
    "    saturday = []\n",
    "    sunday = []\n",
    "\n",
    "    for date in dataframe:\n",
    "        if(date == 0):\n",
    "            monday.append(date)\n",
    "        elif(date == 1):\n",
    "            tuesday.append(date)\n",
    "        elif(date == 2):\n",
    "            wednesday.append(date)\n",
    "        elif(date == 3):\n",
    "            thursday.append(date)\n",
    "        elif(date == 4):\n",
    "            friday.append(date)\n",
    "        elif(date == 5):\n",
    "            saturday.append(date)\n",
    "        elif(date == 6):\n",
    "            sunday.append(date)\n",
    "    return(monday, tuesday, wednesday, thursday, friday, saturday, sunday)"
   ]
  },
  {
   "cell_type": "code",
   "execution_count": 15,
   "metadata": {},
   "outputs": [],
   "source": []
  },
  {
   "cell_type": "code",
   "execution_count": 17,
   "metadata": {},
   "outputs": [
    {
     "name": "stdout",
     "output_type": "stream",
     "text": [
      "Projetos ruby acima de 1000 linhas e abaixo de 10.000 : 511\n"
     ]
    },
    {
     "data": {
      "image/png": "[encoded data removed]",
      "text/plain": [
       "<Figure size 432x288 with 1 Axes>"
      ]
     },
     "metadata": {},
     "output_type": "display_data"
    }
   ],
   "source": [
    "dataframe = size_project('ruby', 2)\n",
    "monday, tuesday, wednesday, thursday, friday, saturday, sunday = weekday_frequency(dataframe, 2013)\n",
    "plot_graphic(monday, tuesday, wednesday, thursday, friday, saturday, sunday)"
   ]
  },
  {
   "cell_type": "code",
   "execution_count": 15,
   "metadata": {},
   "outputs": [
    {
     "name": "stdout",
     "output_type": "stream",
     "text": [
      "Projetos ruby acima de 1000 linhas e abaixo de 10.000 : 511\n",
      "ANO: 2012 \n",
      " Monday: 36073 commits \n",
      " Tuesday: 34635 \n",
      " wednesday: 35446 \n",
      " Thursday: 34885 \n",
      " Friday: 30494 \n",
      " Saturday: 24403\n",
      " Sunday: 22456\n"
     ]
    },
    {
     "data": {
      "image/png": "[encoded data removed]",
      "text/plain": [
       "<Figure size 432x288 with 1 Axes>"
      ]
     },
     "metadata": {},
     "output_type": "display_data"
    }
   ],
   "source": [
    "test = size_project('ruby', 2)\n",
    "\n",
    "test = test.loc[dataset.gh_pushed_at.dt.year == 2013]\n",
    "\n",
    "test = test.gh_pushed_at.dt.weekday\n",
    "\n",
    "monday  = []\n",
    "tuesday  = []\n",
    "wednesday = []\n",
    "thursday  = []\n",
    "friday = []\n",
    "saturday = []\n",
    "sunday = []\n",
    "\n",
    "for date in test:\n",
    "    if(date == 0):\n",
    "        monday.append(date)\n",
    "    elif(date == 1):\n",
    "        tuesday.append(date)\n",
    "    elif(date == 2):\n",
    "        wednesday.append(date)\n",
    "    elif(date == 3):\n",
    "        thursday.append(date)\n",
    "    elif(date == 4):\n",
    "        friday.append(date)\n",
    "    elif(date == 5):\n",
    "        saturday.append(date)\n",
    "    elif(date == 6):\n",
    "        sunday.append(date)\n",
    "\n",
    "print(\"ANO: {} \\n Monday: {} commits \\n Tuesday: {} \\n wednesday: {} \\n Thursday: {} \\n Friday: {} \\n Saturday: {}\\n Sunday: {}\".format(2012, len(monday), len(tuesday), len(wednesday), len(thursday), len(friday), len(saturday), len(sunday)))\n",
    "\n",
    "x_list= [len(monday), len(tuesday), len(wednesday), len(thursday), len(friday), len(saturday), len(sunday)]\n",
    "labels_list = ['Monday', 'Tuesday','wednesday','thursday ','friday','saturday','sunday']\n",
    "plt.axis('equal')\n",
    "plt.pie(x_list, labels = labels_list, autopct='%1.1f%%')\n",
    "plt.title(\"Frequencia de commit por dia da semana 2012\")\n",
    "plt.show()"
   ]
  },
  {
   "cell_type": "code",
   "execution_count": null,
   "metadata": {},
   "outputs": [],
   "source": []
  },
  {
   "cell_type": "code",
   "execution_count": null,
   "metadata": {},
   "outputs": [],
   "source": []
  },
  {
   "cell_type": "code",
   "execution_count": null,
   "metadata": {},
   "outputs": [],
   "source": []
  },
  {
   "cell_type": "code",
   "execution_count": 82,
   "metadata": {},
   "outputs": [
    {
     "name": "stdout",
     "output_type": "stream",
     "text": [
      "ANO: 2012 \n",
      " Monday: 33773 commits \n",
      " Tuesday: 39342 \n",
      " wednesday: 39762 \n",
      " Thursday: 40073 \n",
      " Friday: 40277 \n",
      " Saturday: 26011\n",
      " Sunday: 24133\n"
     ]
    },
    {
     "data": {
      "image/png": "[encoded data removed]",
      "text/plain": [
       "<Figure size 432x288 with 1 Axes>"
      ]
     },
     "metadata": {},
     "output_type": "display_data"
    }
   ],
   "source": [
    "test = dataset.loc[dataset.date.dt.year == 2012]\n",
    "\n",
    "test = test.date.dt.weekday\n",
    "\n",
    "monday  = []\n",
    "tuesday  = []\n",
    "wednesday = []\n",
    "thursday  = []\n",
    "friday = []\n",
    "saturday = []\n",
    "sunday = []\n",
    "\n",
    "for date in test:\n",
    "    if(date == 0):\n",
    "        monday.append(date)\n",
    "    elif(date == 1):\n",
    "        tuesday.append(date)\n",
    "    elif(date == 2):\n",
    "        wednesday.append(date)\n",
    "    elif(date == 3):\n",
    "        thursday.append(date)\n",
    "    elif(date == 4):\n",
    "        friday.append(date)\n",
    "    elif(date == 5):\n",
    "        saturday.append(date)\n",
    "    elif(date == 6):\n",
    "        sunday.append(date)\n",
    "\n",
    "print(\"ANO: {} \\n Monday: {} commits \\n Tuesday: {} \\n wednesday: {} \\n Thursday: {} \\n Friday: {} \\n Saturday: {}\\n Sunday: {}\".format(2012, len(monday), len(tuesday), len(wednesday), len(thursday), len(friday), len(saturday), len(sunday)))\n",
    "\n",
    "x_list= [len(monday), len(tuesday), len(wednesday), len(thursday), len(friday), len(saturday), len(sunday)]\n",
    "labels_list = ['Monday', 'Tuesday','wednesday','thursday ','friday','saturday','sunday']\n",
    "plt.axis('equal')\n",
    "plt.pie(x_list, labels = labels_list, autopct='%1.1f%%')\n",
    "plt.title(\"Frequencia de commit por dia da semana 2012\")\n",
    "plt.show()"
   ]
  },
  {
   "cell_type": "code",
   "execution_count": null,
   "metadata": {},
   "outputs": [],
   "source": []
  },
  {
   "cell_type": "code",
   "execution_count": null,
   "metadata": {},
   "outputs": [],
   "source": []
  },
  {
   "cell_type": "code",
   "execution_count": 10,
   "metadata": {},
   "outputs": [],
   "source": [
    "language_name = ['java', 'ruby', 'javascript'] #Linguagens presentes\n",
    "\n",
    "commit_project = []\n",
    "project_name = []\n",
    "\n",
    "for language in language_name:\n",
    "    \n",
    "    project = language_filter(language) # Filtra os projetos com a linguagem escolhida\n",
    "    \n",
    "    list_commit, list_project = commit_flow(project) # Retorna duas listas, uma com total de commit de cada projeto e outra com o nome de cada projeto\n",
    "    \n",
    "    commit_project.append(list_commit) # Adiciona em uma lista os commits\n",
    "    \n",
    "    project_name.append(list_project) # Adiciona em uma lista os nomes dos projetos\n"
   ]
  },
  {
   "cell_type": "code",
   "execution_count": 16,
   "metadata": {},
   "outputs": [
    {
     "name": "stdout",
     "output_type": "stream",
     "text": [
      "Projetos ruby abaixo de 1000 linhas: 533\n",
      "Projetos ruby acima de 1000 linhas e abaixo de 10.000 : 511\n",
      "Projetos ruby acima de 10.000 linhas e abaixo de 100.000 : 79\n",
      "Projetos ruby acima de 100.000 linhas: 8\n",
      "\n",
      "\n",
      "Projetos java abaixo de 1000 linhas: 37\n",
      "Projetos java acima de 1000 linhas e abaixo de 10.000 : 201\n",
      "Projetos java acima de 10.000 linhas e abaixo de 100.000 : 191\n",
      "Projetos java acima de 100.000 linhas: 28\n"
     ]
    }
   ],
   "source": [
    "size_project('ruby')\n",
    "print(\"\\n\")\n",
    "size_project('java')"
   ]
  },
  {
   "cell_type": "code",
   "execution_count": null,
   "metadata": {},
   "outputs": [],
   "source": []
  },
  {
   "cell_type": "markdown",
   "metadata": {},
   "source": [
    "<font size = 4/>\n",
    "* Plot de todos os projetos usando java, ruby e javascript"
   ]
  },
  {
   "cell_type": "code",
   "execution_count": 44,
   "metadata": {},
   "outputs": [],
   "source": [
    "plot('Linguagens, JAVA, RUBY e JAVASCRIPT', commit_project[0], commit_project[1], commit_project[2])"
   ]
  },
  {
   "cell_type": "code",
   "execution_count": null,
   "metadata": {},
   "outputs": [],
   "source": []
  },
  {
   "cell_type": "markdown",
   "metadata": {},
   "source": [
    "<font size = 4/>\n",
    "* Projetos usando Java"
   ]
  },
  {
   "cell_type": "code",
   "execution_count": 96,
   "metadata": {},
   "outputs": [],
   "source": [
    "low, medium, high, veryHigh = all_frequency(commit_project[0], project_name[0])\n",
    "\n",
    "plot('Projetos usando JAVA', low, medium, high, veryHigh)"
   ]
  },
  {
   "cell_type": "markdown",
   "metadata": {},
   "source": [
    "<font size = 4/>\n",
    "* Projetos usando Ruby"
   ]
  },
  {
   "cell_type": "code",
   "execution_count": 98,
   "metadata": {},
   "outputs": [],
   "source": [
    "low, medium, high, veryHigh = all_frequency(commit_project[1], project_name[1])\n",
    "\n",
    "plot('Projetos usando RUBY', low, medium, high, veryHigh)"
   ]
  },
  {
   "cell_type": "markdown",
   "metadata": {},
   "source": [
    "<font size = 4/>\n",
    "* Projetos usando Javascript"
   ]
  },
  {
   "cell_type": "code",
   "execution_count": 99,
   "metadata": {},
   "outputs": [],
   "source": [
    "plot('Projetos usando JAVASCRIPT', commit_project[2])"
   ]
  },
  {
   "cell_type": "markdown",
   "metadata": {},
   "source": [
    "<font size = 4/>\n",
    "* Commits menor que a média, projeto JAVA"
   ]
  },
  {
   "cell_type": "code",
   "execution_count": 40,
   "metadata": {},
   "outputs": [
    {
     "name": "stdout",
     "output_type": "stream",
     "text": [
      "                0\n",
      "count  195.000000\n",
      "mean   300.533333\n",
      "std    136.648404\n",
      "min      0.000000\n",
      "25%    188.500000\n",
      "50%    303.000000\n",
      "75%    400.000000\n",
      "max    557.000000\n"
     ]
    },
    {
     "data": {
      "image/png": "[encoded data removed]",
      "text/plain": [
       "<Figure size 432x288 with 1 Axes>"
      ]
     },
     "metadata": {},
     "output_type": "display_data"
    }
   ],
   "source": [
    "frequency = commit_frequency(commit_project[0], project_name[0])\n",
    "\n",
    "low, medium, high, veryHigh = all_frequency(frequency, project_name[0])\n",
    "\n",
    "df = pd.DataFrame(frequency)   \n",
    "df = df.describe()\n",
    "print(df)\n",
    "\n",
    "#plot(\"Commits menor que a media\", frequency)"
   ]
  },
  {
   "cell_type": "markdown",
   "metadata": {},
   "source": [
    "<font size = 4/>\n",
    "* Commits menor que a média, projeto RUBY"
   ]
  },
  {
   "cell_type": "code",
   "execution_count": 41,
   "metadata": {},
   "outputs": [
    {
     "name": "stdout",
     "output_type": "stream",
     "text": [
      "                0\n",
      "count  443.000000\n",
      "mean   237.939052\n",
      "std    101.329994\n",
      "min      0.000000\n",
      "25%    169.500000\n",
      "50%    231.000000\n",
      "75%    309.000000\n",
      "max    419.000000\n"
     ]
    },
    {
     "data": {
      "image/png": "[encoded data removed]",
      "text/plain": [
       "<Figure size 432x288 with 1 Axes>"
      ]
     },
     "metadata": {},
     "output_type": "display_data"
    }
   ],
   "source": [
    "frequency = commit_frequency(commit_project[1], project_name[1])\n",
    "\n",
    "low, medium, high, veryHigh = all_frequency(frequency, project_name[1])\n",
    "\n",
    "df = pd.DataFrame(frequency)\n",
    "df = df.describe()\n",
    "print(df)\n",
    "\n",
    "#plot(\"Commits menor que a media ruby\", frequency)\n"
   ]
  },
  {
   "cell_type": "code",
   "execution_count": null,
   "metadata": {},
   "outputs": [],
   "source": []
  },
  {
   "cell_type": "code",
   "execution_count": null,
   "metadata": {},
   "outputs": [],
   "source": []
  },
  {
   "cell_type": "code",
   "execution_count": null,
   "metadata": {},
   "outputs": [],
   "source": []
  },
  {
   "cell_type": "code",
   "execution_count": null,
   "metadata": {},
   "outputs": [],
   "source": []
  }
 ],
 "metadata": {
  "kernelspec": {
   "display_name": "Python 3",
   "language": "python",
   "name": "python3"
  },
  "language_info": {
   "codemirror_mode": {
    "name": "ipython",
    "version": 3
   },
   "file_extension": ".py",
   "mimetype": "text/x-python",
   "name": "python",
   "nbconvert_exporter": "python",
   "pygments_lexer": "ipython3",
   "version": "3.6.5"
  }
 },
 "nbformat": 4,
 "nbformat_minor": 2
}
