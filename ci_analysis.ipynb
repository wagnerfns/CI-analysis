{
 "cells": [
  {
   "cell_type": "code",
   "execution_count": 1,
   "metadata": {},
   "outputs": [],
   "source": [
    "import pandas as pd"
   ]
  },
  {
   "cell_type": "code",
   "execution_count": 2,
   "metadata": {},
   "outputs": [],
   "source": [
    "file = 'travistorrent_11_1_2017.csv'\n",
    "size = 1000000"
   ]
  },
  {
   "cell_type": "code",
   "execution_count": 3,
   "metadata": {},
   "outputs": [],
   "source": [
    "#for dataset in pd.read_csv(file, engine='c', chunksize=chunksize):\n",
    "#    process(dataset)"
   ]
  },
  {
   "cell_type": "code",
   "execution_count": 4,
   "metadata": {
    "scrolled": false
   },
   "outputs": [
    {
     "name": "stderr",
     "output_type": "stream",
     "text": [
      "/home/wagner/anaconda3/lib/python3.6/site-packages/IPython/core/interactiveshell.py:2785: DtypeWarning: Columns (3,6,18) have mixed types. Specify dtype option on import or set low_memory=False.\n",
      "  interactivity=interactivity, compiler=compiler, result=result)\n"
     ]
    },
    {
     "data": {
      "text/plain": [
       "'\\nSignature:\\n    sep - separa por virgula\\n    nrows - limite de linhas lidas\\n    encoding - tipo de caracter\\n    engine - Mecanismo do analisador\\n    na_values - procura os padrões na|nan como str\\n    keep_default_na - define como nan os padroes econtrados em na_values\\n    \\n'"
      ]
     },
     "execution_count": 4,
     "metadata": {},
     "output_type": "execute_result"
    }
   ],
   "source": [
    "dataset = pd.read_csv('travistorrent_11_1_2017.csv',sep=',', engine='c', nrows= size, na_values=str, keep_default_na = bool, encoding='utf-8')\n",
    "# nrows=1000000\n",
    "'''\n",
    "Signature:\n",
    "    sep - separa por virgula\n",
    "    nrows - limite de linhas lidas\n",
    "    encoding - tipo de caracter\n",
    "    engine - Mecanismo do analisador\n",
    "    na_values - procura os padrões na|nan como str\n",
    "    keep_default_na - define como nan os padroes econtrados em na_values\n",
    "    \n",
    "'''\n",
    "\n"
   ]
  },
  {
   "cell_type": "markdown",
   "metadata": {},
   "source": [
    "<font size=4/>\n",
    "   * Elimia as colunas não utilizadas"
   ]
  },
  {
   "cell_type": "code",
   "execution_count": 5,
   "metadata": {},
   "outputs": [],
   "source": [
    "# Eliminando colunas\n",
    "dataset.drop([  'gh_diff_files_added',\n",
    "                'gh_commits_in_push',\n",
    "                'gh_diff_files_deleted',\n",
    "                'gh_diff_files_modified',\n",
    "                'gh_diff_tests_added',\n",
    "                'gh_diff_tests_deleted',\n",
    "                'gh_diff_src_files',\n",
    "                'gh_diff_doc_files',\n",
    "                'gh_diff_other_files',\n",
    "                'gh_sloc',\n",
    "                'gh_test_lines_per_kloc',\n",
    "                'gh_test_cases_per_kloc',\n",
    "                \n",
    "                'tr_build_number',\n",
    "                'tr_duration',\n",
    "                'tr_log_lan',\n",
    "                'tr_log_num_tests_run',\n",
    "                'tr_log_setup_time',\n",
    "                'tr_log_analyzer',\n",
    "                'tr_log_frameworks',\n",
    "                'tr_log_bool_tests_ran',\n",
    "                'tr_log_bool_tests_failed',\n",
    "                'tr_log_tests_failed',\n",
    "                'tr_log_testduration',\n",
    "                'tr_log_buildduration'], axis=1, inplace=True)"
   ]
  },
  {
   "cell_type": "code",
   "execution_count": null,
   "metadata": {},
   "outputs": [],
   "source": []
  },
  {
   "cell_type": "markdown",
   "metadata": {},
   "source": [
    "<font size=4/> \n",
    "   * Filtra o projeto, remove linhas NAN, separa a coluna gh_pushed_at"
   ]
  },
  {
   "cell_type": "code",
   "execution_count": 6,
   "metadata": {
    "scrolled": false
   },
   "outputs": [],
   "source": [
    "df_ruby = dataset.loc[dataset['gh_project_name']=='rails/rails'] # Filtro penas o projeto rails/rails"
   ]
  },
  {
   "cell_type": "code",
   "execution_count": 7,
   "metadata": {},
   "outputs": [],
   "source": [
    "df_ruby = df_ruby.dropna() # Remove as linhas NAN"
   ]
  },
  {
   "cell_type": "code",
   "execution_count": 8,
   "metadata": {},
   "outputs": [],
   "source": [
    "df_ruby['data'], df_ruby['hora'] = df_ruby.gh_pushed_at.str.split(' ').str # Separa a coluna que possui data e hora em duas novas colunas de data hora"
   ]
  },
  {
   "cell_type": "markdown",
   "metadata": {},
   "source": [
    "<font size=4/> \n",
    "   * Remove linhas duplicadas - teste"
   ]
  },
  {
   "cell_type": "code",
   "execution_count": 89,
   "metadata": {},
   "outputs": [],
   "source": [
    "single_push = df_ruby.drop_duplicates(['tr_build_id']) # remove as linhas duplicadas\n",
    "\n",
    "single_push = single_push['tr_build_id'] # cria uma serie com os push unicos do projeto\n"
   ]
  },
  {
   "cell_type": "markdown",
   "metadata": {},
   "source": [
    "<font size=4/> \n",
    "   * Soma de todos push"
   ]
  },
  {
   "cell_type": "code",
   "execution_count": 90,
   "metadata": {},
   "outputs": [],
   "source": [
    "num_commit = df_ruby.gh_num_commits_in_push.sum() "
   ]
  },
  {
   "cell_type": "markdown",
   "metadata": {},
   "source": [
    "<font size=4/> \n",
    "   * Duração do projeto"
   ]
  },
  {
   "cell_type": "code",
   "execution_count": 91,
   "metadata": {},
   "outputs": [],
   "source": [
    "first_data, hora = df_ruby.gh_first_commit_created_at.head(1).str.split(' ').str\n",
    "first_data = int(first_data.str.replace('-', ''))"
   ]
  },
  {
   "cell_type": "code",
   "execution_count": 92,
   "metadata": {},
   "outputs": [],
   "source": [
    "last_data,  hora = df_ruby.gh_first_commit_created_at.tail(1).str.split(' ').str\n",
    "last_data = int(last_data.str.replace('-',''))"
   ]
  },
  {
   "cell_type": "code",
   "execution_count": 93,
   "metadata": {},
   "outputs": [],
   "source": [
    "data_commit = last_data - first_data"
   ]
  },
  {
   "cell_type": "markdown",
   "metadata": {},
   "source": [
    "<font size=4/> \n",
    "   * Media participante"
   ]
  },
  {
   "cell_type": "code",
   "execution_count": 94,
   "metadata": {},
   "outputs": [],
   "source": [
    "media_participante = df_ruby.gh_team_size.sum()/ len(single_push)"
   ]
  },
  {
   "cell_type": "markdown",
   "metadata": {},
   "source": [
    "<font size=4/> \n",
    "   * teste"
   ]
  },
  {
   "cell_type": "code",
   "execution_count": 95,
   "metadata": {},
   "outputs": [],
   "source": [
    "taxa_commit = num_commit/(data_commit * media_participante)"
   ]
  },
  {
   "cell_type": "code",
   "execution_count": 96,
   "metadata": {},
   "outputs": [
    {
     "data": {
      "text/plain": [
       "0.0031570506777622636"
      ]
     },
     "execution_count": 96,
     "metadata": {},
     "output_type": "execute_result"
    }
   ],
   "source": [
    "taxa_commit"
   ]
  }
 ],
 "metadata": {
  "kernelspec": {
   "display_name": "Python 3",
   "language": "python",
   "name": "python3"
  },
  "language_info": {
   "codemirror_mode": {
    "name": "ipython",
    "version": 3
   },
   "file_extension": ".py",
   "mimetype": "text/x-python",
   "name": "python",
   "nbconvert_exporter": "python",
   "pygments_lexer": "ipython3",
   "version": "3.6.5"
  }
 },
 "nbformat": 4,
 "nbformat_minor": 2
}
