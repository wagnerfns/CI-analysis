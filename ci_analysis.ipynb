{
 "cells": [
  {
   "cell_type": "code",
   "execution_count": 1,
   "metadata": {},
   "outputs": [],
   "source": [
    "import pandas as pd\n",
    "import numpy as np"
   ]
  },
  {
   "cell_type": "code",
   "execution_count": 2,
   "metadata": {},
   "outputs": [],
   "source": [
    "FILE = 'travistorrent_11_1_2017.csv'\n",
    "#size = 500000\n",
    "size = 3000000"
   ]
  },
  {
   "cell_type": "code",
   "execution_count": 6,
   "metadata": {},
   "outputs": [],
   "source": [
    "dataset = pd.read_csv(FILE, sep=',', engine='c',usecols=['gh_team_size','tr_build_id','gh_project_name'],dtype={'gh_team_size': np.int32,\n",
    "                                                                                                                'tr_build_id': np.float32,\n",
    "                                                                                                                'gh_project_name': 'category'}\n",
    "                                                                                                                              , nrows = size, encoding='utf-8')\n"
   ]
  },
  {
   "cell_type": "code",
   "execution_count": 3,
   "metadata": {
    "scrolled": false
   },
   "outputs": [
    {
     "name": "stdout",
     "output_type": "stream",
     "text": [
      "CPU times: user 1min 4s, sys: 2.49 s, total: 1min 6s\n",
      "Wall time: 1min 14s\n"
     ]
    }
   ],
   "source": [
    "%%time\n",
    "dataset = pd.read_csv(FILE, sep=',', engine='c',dtype={'gh_team_size': np.int32,\n",
    "                                                        'git_num_all_built_commits': np.int32,\n",
    "                                                        'gh_num_commit_comments': np.int32,\n",
    "                                                        'git_diff_src_churn': np.int32,\n",
    "                                                        'git_diff_test_churn': np.int32,\n",
    "                                                        'gh_diff_files_added': np.int32,\n",
    "                                                        'gh_diff_files_deleted': np.int32,\n",
    "                                                        'gh_diff_files_modified': np.int32,\n",
    "                                                        'gh_diff_tests_added': np.int32,\n",
    "                                                        'gh_diff_tests_deleted': np.int32,\n",
    "                                                        'gh_diff_src_files': np.int32,\n",
    "                                                        'gh_diff_doc_files': np.int32,\n",
    "                                                        'gh_diff_other_files': np.int32,\n",
    "                                                        'gh_num_commits_on_files_touched': np.int32,\n",
    "                                                        'gh_sloc': np.int32,\n",
    "                                                        'tr_build_number': np.int32,\n",
    "                                                        'tr_job_id': np.int32,\n",
    "                                                        'tr_build_id': np.float32,\n",
    "                                                        'gh_pull_req_num': np.float32,\n",
    "                                                        'gh_num_commits_in_push': np.float32,\n",
    "                                                        'tr_prev_build': np.float32,\n",
    "                                                        'gh_num_issue_comments': np.float32,\n",
    "                                                        'gh_num_pr_comments': np.float32,\n",
    "                                                        'gh_test_lines_per_kloc': np.float32,\n",
    "                                                        'gh_test_cases_per_kloc': np.float32,\n",
    "                                                        'gh_asserts_cases_per_kloc': np.float32,\n",
    "                                                        'gh_description_complexity': np.float32,\n",
    "                                                        'tr_duration': np.float32,\n",
    "                                                        'tr_log_setup_time': np.float32,\n",
    "                                                        'tr_log_num_tests_ok': np.float32,\n",
    "                                                        'tr_log_num_tests_failed': np.float32,\n",
    "                                                        'tr_log_num_tests_run': np.float32,\n",
    "                                                        'tr_log_num_tests_skipped': np.float32,\n",
    "                                                        'tr_log_testduration': np.float32,\n",
    "                                                        'tr_log_buildduration': np.float32,\n",
    "\n",
    "                                                        'gh_project_name': 'category',\n",
    "                                                        'gh_pr_created_at': 'category',\n",
    "                                                        'gh_lang': 'category',\n",
    "                                                        'git_merged_with': 'category',\n",
    "                                                        'git_branch': 'category',\n",
    "                                                        'gh_commits_in_push': 'category',\n",
    "                                                        'git_prev_commit_resolution_status': 'category',\n",
    "                                                        'git_prev_built_commit': 'category',\n",
    "                                                        'gh_first_commit_created_at': 'category',\n",
    "                                                        'git_all_built_commits': 'category',\n",
    "                                                        'git_trigger_commit': 'category',\n",
    "                                                        'tr_virtual_merged_into': 'category',\n",
    "                                                        'tr_original_commit': 'category',\n",
    "                                                        'gh_pushed_at': 'category',\n",
    "                                                        'gh_build_started_at': 'category',\n",
    "                                                        'tr_status': 'category',\n",
    "                                                        'tr_jobs': 'category',\n",
    "                                                        'tr_log_lan': 'category',\n",
    "                                                        'tr_log_status': 'category',\n",
    "                                                        'tr_log_analyzer': 'category',\n",
    "                                                        'tr_log_frameworks': 'category',\n",
    "                                                        'tr_log_bool_tests_failed': 'category',\n",
    "                                                        'tr_log_tests_failed': 'category',\n",
    "\n",
    "\n",
    "                                                        'gh_is_pr': np.bool,\n",
    "                                                        'gh_by_core_team_member': np.bool,\n",
    "                                                        'tr_log_bool_tests_ran': np.bool}\n",
    "\n",
    "                                                                                          , nrows = size, encoding='utf-8')\n",
    "\n",
    "'''\n",
    "Signature:\n",
    "    sep - separa por virgula\n",
    "    nrows - limite de linhas lidas\n",
    "    encoding - tipo de caracter\n",
    "    engine - Mecanismo do analisador\n",
    "    na_values - procura os padrões na|nan como str\n",
    "    keep_default_na - define como nan os padroes econtrados em na_values\n",
    "    \n",
    "'''\n",
    "\n"
   ]
  },
  {
   "cell_type": "markdown",
   "metadata": {},
   "source": [
    "<font size=4/>\n",
    "   * Elimia as colunas não utilizadas"
   ]
  },
  {
   "cell_type": "code",
   "execution_count": 4,
   "metadata": {},
   "outputs": [],
   "source": [
    "# Eliminando colunas - \n",
    "dataset.drop([  'gh_diff_files_added',\n",
    "                'gh_commits_in_push',\n",
    "                'gh_diff_files_deleted',\n",
    "                'gh_diff_files_modified',\n",
    "                'gh_diff_tests_added',\n",
    "                'gh_diff_tests_deleted',\n",
    "                'gh_diff_src_files',\n",
    "                'gh_diff_doc_files',\n",
    "                'gh_diff_other_files',\n",
    "                'gh_sloc',\n",
    "                'gh_test_lines_per_kloc',\n",
    "                'gh_test_cases_per_kloc',\n",
    "                'gh_pull_req_num',\n",
    "                'gh_description_complexity',\n",
    "                'git_merged_with',\n",
    "                'gh_asserts_cases_per_kloc',\n",
    "              \n",
    "                'git_prev_built_commit',\n",
    "              \n",
    "                'tr_log_status',\n",
    "                'tr_status',\n",
    "                'tr_job_id',\n",
    "                'tr_jobs',\n",
    "                'tr_build_number',\n",
    "                'tr_duration',\n",
    "                'tr_log_lan',\n",
    "                'tr_log_num_tests_run',\n",
    "                'tr_log_setup_time',\n",
    "                'tr_log_analyzer',\n",
    "                'tr_log_frameworks',\n",
    "                'tr_log_bool_tests_ran',\n",
    "                'tr_log_bool_tests_failed',\n",
    "                'tr_log_tests_failed',\n",
    "                'tr_log_testduration',\n",
    "                'tr_log_buildduration'], axis=1, inplace=True)"
   ]
  },
  {
   "cell_type": "code",
   "execution_count": 8,
   "metadata": {
    "scrolled": true
   },
   "outputs": [
    {
     "name": "stderr",
     "output_type": "stream",
     "text": [
      "/home/wagner/anaconda3/lib/python3.6/site-packages/ipykernel_launcher.py:4: SettingWithCopyWarning: \n",
      "A value is trying to be set on a copy of a slice from a DataFrame.\n",
      "Try using .loc[row_indexer,col_indexer] = value instead\n",
      "\n",
      "See the caveats in the documentation: http://pandas.pydata.org/pandas-docs/stable/indexing.html#indexing-view-versus-copy\n",
      "  after removing the cwd from sys.path.\n"
     ]
    }
   ],
   "source": [
    "df_ruby = dataset.dropna() # Remove as linhas NAN\n",
    "\n",
    "df_ruby['date'], df_ruby['hours'] = df_ruby.gh_pushed_at.str.split(' ').str # Separa a coluna que possui data e hora em duas novas colunas de data hora"
   ]
  },
  {
   "cell_type": "code",
   "execution_count": 5,
   "metadata": {},
   "outputs": [],
   "source": [
    "projects = dataset.drop_duplicates(['gh_project_name'])\n",
    "projects = projects.loc[projects['gh_lang']=='ruby']\n",
    "projects = projects.gh_project_name\n"
   ]
  },
  {
   "cell_type": "markdown",
   "metadata": {},
   "source": [
    "* Taxa de commit por participante no projeto- Quantidade total de commits / Quantidade total de participantes"
   ]
  },
  {
   "cell_type": "code",
   "execution_count": 65,
   "metadata": {},
   "outputs": [],
   "source": [
    "def rate_commit(projects):\n",
    "    list_project_name = []\n",
    "    list_rate_commit = []\n",
    "    \n",
    "    for project_name in projects:\n",
    "        # Define projeto\n",
    "        df_ruby = dataset.loc[dataset['gh_project_name'] == project_name] # Filtro penas o projeto\n",
    "        #df_ruby = df_ruby.dropna() # Remove as linhas NaN\n",
    "        \n",
    "        # Remove linhas duplicadas\n",
    "        df_ruby = df_ruby.drop_duplicates(['tr_build_id']) # remove as linhas duplicadas\n",
    "        start_build = df_ruby['tr_build_id'] # cria uma serie com os ids das builds unicas do projeto\n",
    "        \n",
    "        \n",
    "        # Soma de todos push\n",
    "        num_commit = df_ruby.gh_num_commits_in_push.sum() \n",
    "        \n",
    "        # Quantidade de contribuidores do projeto\n",
    "        team_size = int(df_ruby.gh_team_size.head(1))\n",
    "         \n",
    "\n",
    "        if((num_commit != 0) and (team_size != 0)):\n",
    "            # Media projeto\n",
    "            mean_project = len(start_build)/team_size\n",
    "            \n",
    "            # Taxa commit\n",
    "            taxa_commit = (num_commit/ mean_project)\n",
    "            \n",
    "            list_rate_commit.append(taxa_commit)\n",
    "            list_project_name.append(project_name)\n",
    "    return(list_rate_commit, list_project_name)"
   ]
  },
  {
   "cell_type": "code",
   "execution_count": 83,
   "metadata": {},
   "outputs": [],
   "source": [
    "def project_frequency(list_rate_commit, list_project_name):\n",
    "    low_frequency = []\n",
    "    medium_frequency = []\n",
    "    high_frequency = []\n",
    "    \n",
    "    for i in range(len(list_rate_commit)):\n",
    "        if(list_rate_commit[i] < 8):\n",
    "            low_frequency.append(list_project_name[i])\n",
    "            \n",
    "        elif((list_rate_commit[i] > 8) and (list_rate_commit[i] < 25)) :\n",
    "            medium_frequency.append(list_project_name[i])\n",
    "            \n",
    "        else:\n",
    "            high_frequency.append(list_project_name[i])\n",
    "            \n",
    "            \n",
    "    return(low_frequency, medium_frequency, high_frequency)"
   ]
  },
  {
   "cell_type": "code",
   "execution_count": 84,
   "metadata": {},
   "outputs": [],
   "source": [
    "list_rate_commit, list_project_name = rate_commit(projects)"
   ]
  },
  {
   "cell_type": "code",
   "execution_count": 85,
   "metadata": {},
   "outputs": [],
   "source": [
    "low, medium, high = project_frequency(list_rate_commit, list_project_name)"
   ]
  },
  {
   "cell_type": "code",
   "execution_count": 35,
   "metadata": {},
   "outputs": [],
   "source": [
    "def rate_commit_test(projects):\n",
    "    list_project_name = []\n",
    "    list_rate_commit = []\n",
    "    \n",
    "    for project_name in projects:\n",
    "        # Define projeto\n",
    "        df_ruby = dataset.loc[dataset['gh_project_name'] == project_name] # Filtro penas o projeto\n",
    "        #df_ruby = df_ruby.dropna() # Remove as linhas NaN\n",
    "        \n",
    "        # Remove linhas duplicadas\n",
    "        df_ruby = df_ruby.drop_duplicates(['tr_build_id']) # remove as linhas duplicadas\n",
    "        start_build = df_ruby['tr_build_id'] # cria uma serie com os ids das builds unicas do projeto\n",
    "        \n",
    "        # Soma de todos push\n",
    "        num_commit = df_ruby.gh_num_commits_in_push.sum() \n",
    "        \n",
    "        list_rate_commit.append(num_commit)\n",
    "        list_project_name.append(project_name)\n",
    "    return(list_rate_commit, list_project_name)"
   ]
  },
  {
   "cell_type": "code",
   "execution_count": 38,
   "metadata": {},
   "outputs": [],
   "source": [
    "def project_frequency_test(list_rate_commit, list_project_name):\n",
    "    low_frequency = []\n",
    "    medium_frequency = []\n",
    "    high_frequency = []\n",
    "    veryHigh_frequency = []\n",
    "    \n",
    "    for i in range(len(list_rate_commit)):\n",
    "        if(list_rate_commit[i] <= 207):\n",
    "            low_frequency.append(list_project_name[i])\n",
    "            \n",
    "        elif(list_rate_commit[i] <= 340):\n",
    "            medium_frequency.append(list_project_name[i])\n",
    "            \n",
    "        elif(list_rate_commit[i] <= 580):\n",
    "            high_frequency.append(list_project_name[i])\n",
    "        \n",
    "        else:\n",
    "            veryHigh_frequency.append(list_project_name[i])\n",
    "            \n",
    "    return(low_frequency, medium_frequency, high_frequency)"
   ]
  },
  {
   "cell_type": "code",
   "execution_count": 29,
   "metadata": {},
   "outputs": [],
   "source": [
    "list_rate_commit, list_project_name = rate_commit_test(projects)"
   ]
  },
  {
   "cell_type": "code",
   "execution_count": 34,
   "metadata": {},
   "outputs": [
    {
     "data": {
      "text/plain": [
       "747"
      ]
     },
     "execution_count": 34,
     "metadata": {},
     "output_type": "execute_result"
    }
   ],
   "source": [
    "len(list_rate_commit)\n",
    "Baixo: até o primeiro quartil\n",
    "Media: do primeiro quartil até a mediana\n",
    "Alta: da mediana até o terceiro quartil\n",
    "Muito alta: acima da mediana. "
   ]
  },
  {
   "cell_type": "code",
   "execution_count": 37,
   "metadata": {},
   "outputs": [
    {
     "data": {
      "text/plain": [
       "count     747.000000\n",
       "mean      432.078983\n",
       "std       300.236440\n",
       "min         0.000000\n",
       "25%       207.000000\n",
       "50%       340.000000\n",
       "75%       580.000000\n",
       "max      1296.000000\n",
       "dtype: float64"
      ]
     },
     "execution_count": 37,
     "metadata": {},
     "output_type": "execute_result"
    }
   ],
   "source": [
    "df = pd.Series(list_rate_commit)\n",
    "df.describe()"
   ]
  },
  {
   "cell_type": "code",
   "execution_count": 36,
   "metadata": {
    "scrolled": false
   },
   "outputs": [
    {
     "data": {
      "text/plain": [
       "<matplotlib.axes._subplots.AxesSubplot at 0x7fb6fdd124a8>"
      ]
     },
     "execution_count": 36,
     "metadata": {},
     "output_type": "execute_result"
    },
    {
     "data": {
      "image/png": "[encoded data removed]",
      "text/plain": [
       "<Figure size 432x288 with 1 Axes>"
      ]
     },
     "metadata": {},
     "output_type": "display_data"
    }
   ],
   "source": [
    "df = pd.DataFrame(list_rate_commit, columns=['Ruby'])\n",
    "\n",
    "df.boxplot(column=['Ruby'])"
   ]
  },
  {
   "cell_type": "code",
   "execution_count": null,
   "metadata": {},
   "outputs": [],
   "source": []
  },
  {
   "cell_type": "code",
   "execution_count": null,
   "metadata": {},
   "outputs": [],
   "source": []
  }
 ],
 "metadata": {
  "kernelspec": {
   "display_name": "Python 3",
   "language": "python",
   "name": "python3"
  },
  "language_info": {
   "codemirror_mode": {
    "name": "ipython",
    "version": 3
   },
   "file_extension": ".py",
   "mimetype": "text/x-python",
   "name": "python",
   "nbconvert_exporter": "python",
   "pygments_lexer": "ipython3",
   "version": "3.6.5"
  }
 },
 "nbformat": 4,
 "nbformat_minor": 2
}
