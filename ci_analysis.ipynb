{
 "cells": [
  {
   "cell_type": "code",
   "execution_count": 1,
   "metadata": {},
   "outputs": [],
   "source": [
    "import pandas as pd\n",
    "import numpy as np\n",
    "import matplotlib.pyplot as plt"
   ]
  },
  {
   "cell_type": "code",
   "execution_count": 2,
   "metadata": {},
   "outputs": [],
   "source": [
    "FILE = 'travistorrent_11_1_2017.csv'"
   ]
  },
  {
   "cell_type": "code",
   "execution_count": 3,
   "metadata": {},
   "outputs": [],
   "source": [
    "dataset = pd.read_csv(FILE, sep=',', engine='c',usecols=['gh_team_size',\n",
    "                                                         'tr_build_id',\n",
    "                                                         'gh_project_name',\n",
    "                                                         'tr_build_id',\n",
    "                                                         'gh_project_name',\n",
    "                                                         'gh_is_pr',\n",
    "                                                         'gh_pr_created_at',\n",
    "                                                         'gh_lang',\n",
    "                                                         'git_branch',\n",
    "                                                         'gh_num_commits_in_push',\n",
    "                                                         'git_prev_commit_resolution_status',\n",
    "                                                         'tr_prev_build',\n",
    "                                                         'gh_first_commit_created_at',\n",
    "                                                         'gh_team_size',         \n",
    "                                                         'gh_pushed_at',\n",
    "                                                         'gh_build_started_at',\n",
    "                                                         'tr_log_num_tests_ok',        \n",
    "                                                         'tr_log_num_tests_failed' ,   \n",
    "                                                         'tr_log_num_tests_skipped',\n",
    "                                                         'gh_sloc'],dtype={ 'tr_build_id': np.float32,\n",
    "                                                                                            'gh_project_name': 'category',\n",
    "                                                                                            'gh_is_pr': np.bool,\n",
    "                                                                                            'gh_pr_created_at': 'category',\n",
    "                                                                                            'gh_lang': 'category',\n",
    "                                                                                            'git_branch': 'category',\n",
    "                                                                                            'gh_num_commits_in_push': np.float32,\n",
    "                                                                                            'git_prev_commit_resolution_status': 'category',\n",
    "                                                                                            'tr_prev_build': np.float32,\n",
    "                                                                                            'gh_first_commit_created_at': 'category',\n",
    "                                                                                            'gh_team_size': np.int32,\n",
    "                                                                                            'gh_pushed_at': 'category',\n",
    "                                                                                            'gh_build_started_at': 'category',\n",
    "                                                                                            'tr_log_num_tests_ok': np.float32,\n",
    "                                                                                            'tr_log_num_tests_failed': np.float32,\n",
    "                                                                                            'tr_log_num_tests_skipped': np.float32,\n",
    "                                                                                            'gh_sloc': np.int32}, encoding='utf-8')\n"
   ]
  },
  {
   "cell_type": "code",
   "execution_count": 4,
   "metadata": {
    "scrolled": true
   },
   "outputs": [],
   "source": [
    "dataset = dataset.loc[dataset['git_branch'] == 'master']\n",
    "dataset = dataset.dropna(subset=['gh_num_commits_in_push']) #Remove NaN da coluna especificada\n",
    "\n",
    "dataset['gh_pushed_at'] = pd.to_datetime(dataset.gh_pushed_at)\n",
    "\n",
    "#dataset['date'], dataset['hours'] = dataset.gh_pushed_at.str.split(' ').str # Separa a coluna que possui data e hora em duas novas colunas de data hora\n",
    "#dataset['date'] = pd.to_datetime(dataset.date)\n",
    "\n",
    "#df_ruby = dataset.dropna() # Remove as linhas NAN\n"
   ]
  },
  {
   "cell_type": "markdown",
   "metadata": {},
   "source": [
    "<font size = 4/>\n",
    "* Filtro de Linguagem"
   ]
  },
  {
   "cell_type": "code",
   "execution_count": 5,
   "metadata": {},
   "outputs": [],
   "source": [
    "def language_filter(language):\n",
    "    projects = dataset.drop_duplicates(['gh_project_name']) #Remove nomes duplicados \n",
    "    projects = projects.loc[projects['gh_lang'] == language] #Filtra apenas linguagem X\n",
    "    projects = projects.gh_project_name #Cria uma Serie com nomes unicos dos projetos\n",
    "    \n",
    "    return(projects)"
   ]
  },
  {
   "cell_type": "markdown",
   "metadata": {},
   "source": [
    "<font size = 4/>\n",
    "* Quantidade de commit por projeto"
   ]
  },
  {
   "cell_type": "code",
   "execution_count": 6,
   "metadata": {},
   "outputs": [],
   "source": [
    "def commit_flow(projects):\n",
    "    list_project = []\n",
    "    list_commit = []\n",
    "    \n",
    "    for project_name in projects:\n",
    "        \n",
    "        df = dataset.loc[dataset['gh_project_name'] == project_name] # Filtro penas o projeto\n",
    "\n",
    "        df = df.drop_duplicates(['tr_build_id'])# Remove linhas duplicadas\n",
    "        \n",
    "        num_commit = df.gh_num_commits_in_push.sum()# Soma de todos push\n",
    "        \n",
    "        list_commit.append(num_commit) # Lista com total de commit de cada projeto\n",
    "        \n",
    "        list_project.append(project_name)# Lista com o Nome de cada projeto\n",
    "        \n",
    "    return(list_commit, list_project)"
   ]
  },
  {
   "cell_type": "markdown",
   "metadata": {},
   "source": [
    "<font size = 4/>\n",
    "* Frequência do projeto"
   ]
  },
  {
   "cell_type": "code",
   "execution_count": 7,
   "metadata": {},
   "outputs": [],
   "source": [
    "def all_frequency(list_commit, list_project):\n",
    "\n",
    "    df = pd.DataFrame(list_commit)\n",
    "    df = df.describe() # Se obtem o primeiro, segundo e terceiro quartil\n",
    "    \n",
    "    # lista de frequencias\n",
    "    low_frequency = []\n",
    "    medium_frequency = []\n",
    "    high_frequency = []\n",
    "    veryHigh_frequency = []\n",
    "    \n",
    "    for i in range(len(list_commit)):\n",
    "        \n",
    "        if(list_commit[i] <= df[0][4]): #Ate o Primeiro quartil\n",
    "            low_frequency.append(list_commit[i])\n",
    "            \n",
    "        elif(list_commit[i] <= df[0][5]): #Ate a Mediana\n",
    "            medium_frequency.append(list_commit[i])\n",
    "            \n",
    "        elif(list_commit[i] <= df[0][6]): #Ate o terceiro quartil\n",
    "            high_frequency.append(list_commit[i])\n",
    "        \n",
    "        else: #Acima do terceiro quartil\n",
    "            veryHigh_frequency.append(list_commit[i])\n",
    "            \n",
    "    return(low_frequency, medium_frequency, high_frequency, veryHigh_frequency)"
   ]
  },
  {
   "cell_type": "markdown",
   "metadata": {},
   "source": [
    "<font size = 4/>\n",
    "* Frequencia do commit\n",
    "\n"
   ]
  },
  {
   "cell_type": "code",
   "execution_count": 8,
   "metadata": {},
   "outputs": [],
   "source": [
    "def commit_frequency(list_commit, list_project):\n",
    "    df = pd.DataFrame(list_commit)\n",
    "    df = df.describe() # Se obtem o primeiro, segundo e terceiro quartil\n",
    "    \n",
    "    frequency = []\n",
    "    \n",
    "    for i in range(len(list_commit)):\n",
    "        if(list_commit[i] < df[0][5]): #Ate a Mediana\n",
    "            frequency.append(list_commit[i])\n",
    "\n",
    "            \n",
    "    return(frequency)"
   ]
  },
  {
   "cell_type": "markdown",
   "metadata": {},
   "source": [
    "<font size = 4/>\n",
    "* Plot com até 4 boxplot"
   ]
  },
  {
   "cell_type": "code",
   "execution_count": 93,
   "metadata": {},
   "outputs": [],
   "source": [
    "def plot(title, plot1, plot2=None, plot3=None, plot4=None):\n",
    "\n",
    "    if(plot2 == None):\n",
    "        data=[plot1]\n",
    "    elif(plot3 == None):\n",
    "        data=[plot1, plot2]\n",
    "    elif(plot4 == None):\n",
    "        data=[plot1, plot2, plot3]\n",
    "    else:\n",
    "        data=[plot1, plot2, plot3, plot4]\n",
    "    \n",
    "    fig, ax = plt.subplots()\n",
    "    \n",
    "    fig.subplots_adjust(left=0.08, right=1.48, bottom=0.05, top=1.2,\n",
    "                        hspace=0.4, wspace=0.3)\n",
    "    \n",
    "    ax.set_axisbelow(True)\n",
    "    ax.set_title(title, size=20)\n",
    "    ax.boxplot(data)\n",
    "    "
   ]
  },
  {
   "cell_type": "code",
   "execution_count": 94,
   "metadata": {},
   "outputs": [],
   "source": [
    "'''\n",
    "3 - Projeto abaixo de 1000 linhas serão descartados, \n",
    "projeto possuindo acima de 1000 e menos que 10.000 serão considerados pequenos, \n",
    "projetos possuindo acima de 10.000 linhas e menos que 100.000 serão considerados médios e \n",
    "projetos acima de 100.000 linhas serão considerados grandes.\n",
    "'''\n",
    "\n",
    "def size_project(language, sett):\n",
    "    if(sett == 1): #abaixo de 1000 linhas\n",
    "        df1 = dataset.loc[(dataset['gh_sloc'] < 1000) & (dataset['gh_lang'] == language)]\n",
    "        df1 = df1.drop_duplicates(['gh_project_name'])\n",
    "        #print(\"Projetos {} abaixo de 1000 linhas: {}\".format(language, len(df1.gh_project_name)))  \n",
    "\n",
    "    if(sett == 2): #acima de 1000 e menos que 10.000\n",
    "        #dataset.drop(dataset[dataset.gh_sloc < 1000].index, inplace=True) # Remove projetos abaixo de 1000 linhas\n",
    "        \n",
    "        df2 = dataset.loc[(dataset['gh_sloc'] < 10000)]\n",
    "        df2 = df2.loc[(df2['gh_sloc'] > 1000) & (df2['gh_lang'] == language)]\n",
    "        dff2 = df2.drop_duplicates(['gh_project_name'])\n",
    "\n",
    "        #print(\"Projetos {} acima de 1000 linhas e abaixo de 10.000 : {}\".format(language,len(dff2.gh_project_name)))\n",
    "        return(df2)\n",
    "    \n",
    "    if(sett == 3): #acima de 10.000 linhas e menos que 100.000\n",
    "        df3 = dataset.loc[(dataset['gh_sloc'] < 100000)]\n",
    "        df3 = df3.loc[(df3['gh_sloc'] > 10000) & (df3['gh_lang'] == language)]\n",
    "        dff3 = df3.drop_duplicates(['gh_project_name'])\n",
    "\n",
    "        #print(\"Projetos {} acima de 10.000 linhas e abaixo de 100.000 : {}\".format(language,len(dff3.gh_project_name)))\n",
    "        return(df3)\n",
    "    \n",
    "    if(sett == 4): #acima de 100.000 linhas\n",
    "        df4 = dataset.loc[(dataset['gh_sloc'] > 100000) & (dataset['gh_lang'] == language)]\n",
    "        dff4 = df4.drop_duplicates(['gh_project_name'])\n",
    "\n",
    "        #print(\"Projetos {} acima de 100.000 linhas: {}\".format(language,len(dff4.gh_project_name)))\n",
    "        return(df4)        "
   ]
  },
  {
   "cell_type": "code",
   "execution_count": 95,
   "metadata": {
    "scrolled": true
   },
   "outputs": [],
   "source": [
    "def weekday_frequency(dataframe): #year\n",
    "    #dataframe = dataframe.loc[dataset.gh_pushed_at.dt.year == year]\n",
    "\n",
    "    dataframe = dataframe.gh_pushed_at.dt.weekday\n",
    "\n",
    "    monday  = []\n",
    "    tuesday  = []\n",
    "    wednesday = []\n",
    "    thursday  = []\n",
    "    friday = []\n",
    "    saturday = []\n",
    "    sunday = []\n",
    "\n",
    "    for date in dataframe:\n",
    "        if(date == 0):\n",
    "            monday.append(date)\n",
    "        elif(date == 1):\n",
    "            tuesday.append(date)\n",
    "        elif(date == 2):\n",
    "            wednesday.append(date)\n",
    "        elif(date == 3):\n",
    "            thursday.append(date)\n",
    "        elif(date == 4):\n",
    "            friday.append(date)\n",
    "        elif(date == 5):\n",
    "            saturday.append(date)\n",
    "        elif(date == 6):\n",
    "            sunday.append(date)\n",
    "            \n",
    "    #print(\"\\nMonday: {} commits \\n Tuesday: {} \\n wednesday: {} \\n Thursday: {} \\n Friday: {} \\n Saturday: {}\\n Sunday: {}\".format(len(monday), len(tuesday), len(wednesday), len(thursday), len(friday), len(saturday), len(sunday)))\n",
    "      \n",
    "    return([monday, tuesday, wednesday, thursday, friday, saturday, sunday])"
   ]
  },
  {
   "cell_type": "code",
   "execution_count": 96,
   "metadata": {},
   "outputs": [],
   "source": [
    "def month_frequency(dataframe): #year\n",
    "    #dataframe = dataframe.loc[dataset.gh_pushed_at.dt.year == year]\n",
    "\n",
    "    dataframe = dataframe.gh_pushed_at.dt.month\n",
    "    \n",
    "    january = []\n",
    "    february = []\n",
    "    march = []\n",
    "    april = []\n",
    "    may = []\n",
    "    june = []\n",
    "    july = []\n",
    "    august = []\n",
    "    september = []\n",
    "    october = []\n",
    "    november = []\n",
    "    december = []\n",
    "    \n",
    " \n",
    "    for month in dataframe:\n",
    "        if(month == 1):\n",
    "            january.append(month)\n",
    "        elif(month == 2):\n",
    "            february.append(month)\n",
    "        elif(month == 3):\n",
    "            march.append(month)\n",
    "        elif(month == 4):\n",
    "            april.append(month)\n",
    "        elif(month == 5):\n",
    "            may.append(month)\n",
    "        elif(month == 6):\n",
    "            june.append(month)\n",
    "        elif(month == 7):\n",
    "            july.append(month)\n",
    "        elif(month == 8):\n",
    "            august.append(month)\n",
    "        elif(month == 9):\n",
    "            september.append(month)\n",
    "        elif(month == 10):\n",
    "            october.append(month)\n",
    "        elif(month == 11):\n",
    "            november.append(month)\n",
    "        elif(month == 12):\n",
    "            december.append(month)\n",
    "            \n",
    "    #print(\"january:{} \\n february:{} \\n march:{} \\n april:{} \\n may:{} \\n june:{} \\n july:{} \\n august:{} \\n september:{} \\n october:{} \\n november:{} \\n december:{} \".format(len(january), len(february), len(march), len(april), len(may), len(june), len(july), len(august), len(september), len(october), len(november), len(december)))\n",
    "    return([january, february, march, april, may, june, july, august, september, october, november, december])"
   ]
  },
  {
   "cell_type": "code",
   "execution_count": 102,
   "metadata": {},
   "outputs": [],
   "source": [
    "def plot_bar(language,low, medium, high, sett):\n",
    "    \n",
    "    if(sett == 0):\n",
    "        frequency_low = [len(low[0]),len(low[1]),len(low[2]),len(low[3]),len(low[4]),len(low[5]),len(low[6]),len(low[7]),len(low[8]),len(low[9]),len(low[10]),len(low[11])]\n",
    "        frequency_medium = [len(medium[0]),len(medium[1]),len(medium[2]),len(medium[3]),len(medium[4]),len(medium[5]),len(medium[6]),len(medium[7]),len(medium[8]),len(medium[9]),len(medium[10]),len(medium[11])]\n",
    "        frequency_high = [len(high[0]),len(high[1]),len(high[2]),len(high[3]),len(high[4]),len(high[5]),len(high[6]),len(high[7]),len(high[8]),len(high[9]),len(high[10]),len(high[11])]\n",
    "\n",
    "        labels_list = [\"january\", \"february\", \"march\", \"april\", \"may\", \"june\", \"july\", \"august\", \"september\", \"october\", \"november\", \"december\"]\n",
    "        \n",
    "        \n",
    "    if(sett == 1):\n",
    "        frequency_low = [len(low[0]),len(low[1]),len(low[2]),len(low[3]),len(low[4]),len(low[5]),len(low[6])]\n",
    "        frequency_medium = [len(medium[0]),len(medium[1]),len(medium[2]),len(medium[3]),len(medium[4]),len(medium[5]),len(medium[6])]\n",
    "        frequency_high = [len(high[0]),len(high[1]),len(high[2]),len(high[3]),len(high[4]),len(high[5]),len(high[6])]\n",
    "\n",
    "        labels_list = ['Monday', 'Tuesday','wednesday','thursday ','friday','saturday','sunday']\n",
    "        \n",
    "      \n",
    "    barWidth = 0.25\n",
    "    \n",
    "    plt.figure(figsize=(17,7))\n",
    "    \n",
    "    r1 = np.arange(len(frequency_low))\n",
    "    r2 = [x + barWidth for x in r1]\n",
    "    r3 = [x + barWidth for x in r2]\n",
    "    \n",
    "    if(sett == 0):\n",
    "        plt.xlabel('Months', fontsize=18)\n",
    "    if(sett == 1):\n",
    "        plt.xlabel('Weekday', fontsize=18)\n",
    "    \n",
    "    plt.bar(r1, frequency_low, color='#6A5ACD', width=barWidth, label='Low')\n",
    "    plt.bar(r2, frequency_medium, color='#6495ED', width=barWidth, label='Medium')\n",
    "    plt.bar(r3, frequency_high, color='#00BFFF', width=barWidth, label='High')\n",
    "    \n",
    "   \n",
    "    plt.xticks([r + barWidth for r in  range(len(frequency_low))], labels_list)\n",
    "    plt.ylabel('Size commit', fontsize=18)\n",
    "    plt.title('Frequência de commits na linguagem {}'.format(language), fontsize=18)\n",
    "    \n",
    "    \n",
    "    plt.legend()\n",
    "    plt.show()"
   ]
  },
  {
   "cell_type": "code",
   "execution_count": 98,
   "metadata": {},
   "outputs": [],
   "source": []
  },
  {
   "cell_type": "code",
   "execution_count": 99,
   "metadata": {},
   "outputs": [],
   "source": []
  },
  {
   "cell_type": "code",
   "execution_count": null,
   "metadata": {},
   "outputs": [],
   "source": []
  },
  {
   "cell_type": "code",
   "execution_count": 100,
   "metadata": {},
   "outputs": [
    {
     "ename": "NameError",
     "evalue": "name 'language_filter' is not defined",
     "output_type": "error",
     "traceback": [
      "\u001b[0;31m-------------------------\u001b[0m",
      "\u001b[0;31mNameError\u001b[0mTraceback (most recent call last)",
      "\u001b[0;32m<ipython-input-100-1e4d626a62d3>\u001b[0m in \u001b[0;36m<module>\u001b[0;34m()\u001b[0m\n\u001b[1;32m      6\u001b[0m \u001b[0;32mfor\u001b[0m \u001b[0mlanguage\u001b[0m \u001b[0;32min\u001b[0m \u001b[0mlanguage_name\u001b[0m\u001b[0;34m:\u001b[0m\u001b[0;34m\u001b[0m\u001b[0m\n\u001b[1;32m      7\u001b[0m \u001b[0;34m\u001b[0m\u001b[0m\n\u001b[0;32m----> 8\u001b[0;31m     \u001b[0mproject\u001b[0m \u001b[0;34m=\u001b[0m \u001b[0mlanguage_filter\u001b[0m\u001b[0;34m(\u001b[0m\u001b[0mlanguage\u001b[0m\u001b[0;34m)\u001b[0m \u001b[0;31m# Filtra os projetos com a linguagem escolhida\u001b[0m\u001b[0;34m\u001b[0m\u001b[0m\n\u001b[0m\u001b[1;32m      9\u001b[0m \u001b[0;34m\u001b[0m\u001b[0m\n\u001b[1;32m     10\u001b[0m     \u001b[0mlist_commit\u001b[0m\u001b[0;34m,\u001b[0m \u001b[0mlist_project\u001b[0m \u001b[0;34m=\u001b[0m \u001b[0mcommit_flow\u001b[0m\u001b[0;34m(\u001b[0m\u001b[0mproject\u001b[0m\u001b[0;34m)\u001b[0m \u001b[0;31m# Retorna duas listas, uma com total de commit de cada projeto e outra com o nome de cada projeto\u001b[0m\u001b[0;34m\u001b[0m\u001b[0m\n",
      "\u001b[0;31mNameError\u001b[0m: name 'language_filter' is not defined"
     ]
    }
   ],
   "source": [
    "language_name = ['java', 'ruby', 'javascript'] #Linguagens presentes\n",
    "\n",
    "commit_project = []\n",
    "project_name = []\n",
    "\n",
    "for language in language_name:\n",
    "    \n",
    "    project = language_filter(language) # Filtra os projetos com a linguagem escolhida\n",
    "    \n",
    "    list_commit, list_project = commit_flow(project) # Retorna duas listas, uma com total de commit de cada projeto e outra com o nome de cada projeto\n",
    "    \n",
    "    commit_project.append(list_commit) # Adiciona em uma lista os commits\n",
    "    \n",
    "    project_name.append(list_project) # Adiciona em uma lista os nomes dos projetos\n"
   ]
  },
  {
   "cell_type": "code",
   "execution_count": 16,
   "metadata": {},
   "outputs": [
    {
     "name": "stdout",
     "output_type": "stream",
     "text": [
      "Projetos ruby abaixo de 1000 linhas: 533\n",
      "Projetos ruby acima de 1000 linhas e abaixo de 10.000 : 511\n",
      "Projetos ruby acima de 10.000 linhas e abaixo de 100.000 : 79\n",
      "Projetos ruby acima de 100.000 linhas: 8\n",
      "\n",
      "\n",
      "Projetos java abaixo de 1000 linhas: 37\n",
      "Projetos java acima de 1000 linhas e abaixo de 10.000 : 201\n",
      "Projetos java acima de 10.000 linhas e abaixo de 100.000 : 191\n",
      "Projetos java acima de 100.000 linhas: 28\n"
     ]
    }
   ],
   "source": [
    "size_project('ruby')\n",
    "print(\"\\n\")\n",
    "size_project('java')"
   ]
  },
  {
   "cell_type": "code",
   "execution_count": null,
   "metadata": {},
   "outputs": [],
   "source": []
  },
  {
   "cell_type": "markdown",
   "metadata": {},
   "source": [
    "<font size = 4/>\n",
    "* Plot de todos os projetos usando java, ruby e javascript"
   ]
  },
  {
   "cell_type": "code",
   "execution_count": 44,
   "metadata": {},
   "outputs": [],
   "source": [
    "plot('Linguagens, JAVA, RUBY e JAVASCRIPT', commit_project[0], commit_project[1], commit_project[2])"
   ]
  },
  {
   "cell_type": "code",
   "execution_count": null,
   "metadata": {},
   "outputs": [],
   "source": []
  },
  {
   "cell_type": "markdown",
   "metadata": {},
   "source": [
    "<font size = 4/>\n",
    "* Projetos usando Java"
   ]
  },
  {
   "cell_type": "code",
   "execution_count": 96,
   "metadata": {},
   "outputs": [],
   "source": [
    "low, medium, high, veryHigh = all_frequency(commit_project[0], project_name[0])\n",
    "\n",
    "plot('Projetos usando JAVA', low, medium, high, veryHigh)"
   ]
  },
  {
   "cell_type": "markdown",
   "metadata": {},
   "source": [
    "<font size = 4/>\n",
    "* Projetos usando Ruby"
   ]
  },
  {
   "cell_type": "code",
   "execution_count": 98,
   "metadata": {},
   "outputs": [],
   "source": [
    "low, medium, high, veryHigh = all_frequency(commit_project[1], project_name[1])\n",
    "\n",
    "plot('Projetos usando RUBY', low, medium, high, veryHigh)"
   ]
  },
  {
   "cell_type": "markdown",
   "metadata": {},
   "source": [
    "<font size = 4/>\n",
    "* Projetos usando Javascript"
   ]
  },
  {
   "cell_type": "code",
   "execution_count": 99,
   "metadata": {},
   "outputs": [],
   "source": [
    "plot('Projetos usando JAVASCRIPT', commit_project[2])"
   ]
  },
  {
   "cell_type": "markdown",
   "metadata": {},
   "source": [
    "<font size = 4/>\n",
    "* Commits menor que a média, projeto JAVA"
   ]
  },
  {
   "cell_type": "code",
   "execution_count": 40,
   "metadata": {},
   "outputs": [
    {
     "name": "stdout",
     "output_type": "stream",
     "text": [
      "                0\n",
      "count  195.000000\n",
      "mean   300.533333\n",
      "std    136.648404\n",
      "min      0.000000\n",
      "25%    188.500000\n",
      "50%    303.000000\n",
      "75%    400.000000\n",
      "max    557.000000\n"
     ]
    },
    {
     "data": {
      "image/png": "[encoded data removed]",
      "text/plain": [
       "<Figure size 432x288 with 1 Axes>"
      ]
     },
     "metadata": {},
     "output_type": "display_data"
    }
   ],
   "source": [
    "frequency = commit_frequency(commit_project[0], project_name[0])\n",
    "\n",
    "low, medium, high, veryHigh = all_frequency(frequency, project_name[0])\n",
    "\n",
    "df = pd.DataFrame(frequency)   \n",
    "df = df.describe()\n",
    "print(df)\n",
    "\n",
    "#plot(\"Commits menor que a media\", frequency)"
   ]
  },
  {
   "cell_type": "markdown",
   "metadata": {},
   "source": [
    "<font size = 4/>\n",
    "* Commits menor que a média, projeto RUBY"
   ]
  },
  {
   "cell_type": "code",
   "execution_count": 41,
   "metadata": {},
   "outputs": [
    {
     "name": "stdout",
     "output_type": "stream",
     "text": [
      "                0\n",
      "count  443.000000\n",
      "mean   237.939052\n",
      "std    101.329994\n",
      "min      0.000000\n",
      "25%    169.500000\n",
      "50%    231.000000\n",
      "75%    309.000000\n",
      "max    419.000000\n"
     ]
    },
    {
     "data": {
      "image/png": "[encoded data removed]",
      "text/plain": [
       "<Figure size 432x288 with 1 Axes>"
      ]
     },
     "metadata": {},
     "output_type": "display_data"
    }
   ],
   "source": [
    "frequency = commit_frequency(commit_project[1], project_name[1])\n",
    "\n",
    "low, medium, high, veryHigh = all_frequency(frequency, project_name[1])\n",
    "\n",
    "df = pd.DataFrame(frequency)\n",
    "df = df.describe()\n",
    "print(df)\n",
    "\n",
    "#plot(\"Commits menor que a media ruby\", frequency)\n"
   ]
  },
  {
   "cell_type": "markdown",
   "metadata": {},
   "source": [
    "<font size = 4/>\n",
    "* Frequências de commit por Mês, por tamanho do projeto, pequeno, médio e grande."
   ]
  },
  {
   "cell_type": "markdown",
   "metadata": {},
   "source": [
    "<font size = 4/>\n",
    "* Projetos RUBY "
   ]
  },
  {
   "cell_type": "code",
   "execution_count": 103,
   "metadata": {},
   "outputs": [
    {
     "data": {
      "image/png": "[encoded data removed]",
      "text/plain": [
       "<Figure size 1224x504 with 1 Axes>"
      ]
     },
     "metadata": {},
     "output_type": "display_data"
    }
   ],
   "source": [
    "dataframe_l = size_project('ruby', 2)\n",
    "dataframe_m = size_project('ruby', 3)\n",
    "dataframe_h = size_project('ruby', 4)\n",
    "\n",
    "weekday_low = weekday_frequency(dataframe_l)\n",
    "weekday_medium = weekday_frequency(dataframe_m)\n",
    "weekday_high = weekday_frequency(dataframe_h)\n",
    "\n",
    "plot_bar('Ruby', weekday_low, weekday_medium, weekday_high, 1)"
   ]
  },
  {
   "cell_type": "markdown",
   "metadata": {},
   "source": [
    "<font size = 4/>\n",
    "* Projetos Java "
   ]
  },
  {
   "cell_type": "code",
   "execution_count": 105,
   "metadata": {},
   "outputs": [
    {
     "data": {
      "image/png": "[encoded data removed]",
      "text/plain": [
       "<Figure size 1224x504 with 1 Axes>"
      ]
     },
     "metadata": {},
     "output_type": "display_data"
    }
   ],
   "source": [
    "dataframe_l = size_project('java', 2)\n",
    "dataframe_m = size_project('java', 3)\n",
    "dataframe_h = size_project('java', 4)\n",
    "\n",
    "weekday_low = weekday_frequency(dataframe_l)\n",
    "weekday_medium = weekday_frequency(dataframe_m)\n",
    "weekday_high = weekday_frequency(dataframe_h)\n",
    "\n",
    "plot_bar('Java', weekday_low, weekday_medium, weekday_high, 1)"
   ]
  },
  {
   "cell_type": "markdown",
   "metadata": {},
   "source": [
    "<font size = 4/>\n",
    "* Frequências de commit por Mês, por tamanho do projeto, pequeno, médio e grande.\n"
   ]
  },
  {
   "cell_type": "markdown",
   "metadata": {},
   "source": [
    "<font size = 4/>\n",
    "* Projetos RUBY "
   ]
  },
  {
   "cell_type": "code",
   "execution_count": 80,
   "metadata": {},
   "outputs": [
    {
     "data": {
      "image/png": "[encoded data removed]",
      "text/plain": [
       "<Figure size 432x288 with 1 Axes>"
      ]
     },
     "metadata": {},
     "output_type": "display_data"
    },
    {
     "data": {
      "image/png": "[encoded data removed]",
      "text/plain": [
       "<Figure size 1224x504 with 1 Axes>"
      ]
     },
     "metadata": {},
     "output_type": "display_data"
    }
   ],
   "source": [
    "dataframe_l = size_project('ruby', 2)\n",
    "dataframe_m = size_project('ruby', 3)\n",
    "dataframe_h = size_project('ruby', 4)\n",
    "\n",
    "month_low = month_frequency(dataframe_l)\n",
    "month_medium = month_frequency(dataframe_m)\n",
    "month_high = month_frequency(dataframe_h)\n",
    "\n",
    "plot_bar('Ruby', month_low, month_medium, month_high)"
   ]
  },
  {
   "cell_type": "markdown",
   "metadata": {},
   "source": [
    "<font size = 4/>\n",
    "* Projetos Java "
   ]
  },
  {
   "cell_type": "code",
   "execution_count": 81,
   "metadata": {},
   "outputs": [
    {
     "data": {
      "image/png": "[encoded data removed]",
      "text/plain": [
       "<Figure size 432x288 with 1 Axes>"
      ]
     },
     "metadata": {},
     "output_type": "display_data"
    },
    {
     "data": {
      "image/png": "[encoded data removed]",
      "text/plain": [
       "<Figure size 1224x504 with 1 Axes>"
      ]
     },
     "metadata": {},
     "output_type": "display_data"
    }
   ],
   "source": [
    "dataframe_l = size_project('java', 2)\n",
    "dataframe_m = size_project('java', 3)\n",
    "dataframe_h = size_project('java', 4)\n",
    "\n",
    "month_low = month_frequency(dataframe_l)\n",
    "month_medium = month_frequency(dataframe_m)\n",
    "month_high = month_frequency(dataframe_h)\n",
    "\n",
    "plot_bar('Java', month_low, month_medium, month_high, 1)"
   ]
  },
  {
   "cell_type": "code",
   "execution_count": null,
   "metadata": {},
   "outputs": [],
   "source": []
  }
 ],
 "metadata": {
  "kernelspec": {
   "display_name": "Python 3",
   "language": "python",
   "name": "python3"
  },
  "language_info": {
   "codemirror_mode": {
    "name": "ipython",
    "version": 3
   },
   "file_extension": ".py",
   "mimetype": "text/x-python",
   "name": "python",
   "nbconvert_exporter": "python",
   "pygments_lexer": "ipython3",
   "version": "3.6.5"
  }
 },
 "nbformat": 4,
 "nbformat_minor": 2
}
