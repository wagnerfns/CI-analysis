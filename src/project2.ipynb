{
 "cells": [
  {
   "cell_type": "code",
   "execution_count": 1,
   "metadata": {},
   "outputs": [],
   "source": [
    "import pandas as pd\n",
    "import numpy as np\n",
    "import matplotlib.pyplot as plt"
   ]
  },
  {
   "cell_type": "code",
   "execution_count": 2,
   "metadata": {},
   "outputs": [],
   "source": [
    "FILE = '~/GitHub/ci-analysis/travistorrent_11_1_2017.csv.gz'"
   ]
  },
  {
   "cell_type": "code",
   "execution_count": 3,
   "metadata": {},
   "outputs": [],
   "source": [
    "dataset = pd.read_csv(FILE, sep=',', engine='c',usecols=['gh_team_size',\n",
    "                                                         'tr_build_id',\n",
    "                                                         'gh_project_name',\n",
    "                                                         'tr_build_id',\n",
    "                                                         'gh_project_name',\n",
    "                                                         'gh_is_pr',\n",
    "                                                         'gh_pr_created_at',\n",
    "                                                         'gh_lang',\n",
    "                                                         'git_branch',\n",
    "                                                         'gh_num_commits_in_push',\n",
    "                                                         'git_prev_commit_resolution_status',\n",
    "                                                         'tr_prev_build',\n",
    "                                                         'gh_first_commit_created_at',\n",
    "                                                         'gh_team_size',         \n",
    "                                                         'gh_pushed_at',\n",
    "                                                         'gh_sloc',\n",
    "                                                         'tr_log_bool_tests_failed',\n",
    "                                                         'tr_log_setup_time',\n",
    "                                                         'tr_log_buildduration',\n",
    "                                                         'tr_status'],dtype={ 'tr_build_id': np.float32,\n",
    "                                                                                            'gh_project_name': 'category',\n",
    "                                                                                            'gh_is_pr': np.bool,\n",
    "                                                                                            'gh_pr_created_at': 'category',\n",
    "                                                                                            'gh_lang': 'category',\n",
    "                                                                                            'git_branch': 'category',\n",
    "                                                                                            'gh_num_commits_in_push': np.float32,\n",
    "                                                                                            'git_prev_commit_resolution_status': 'category',\n",
    "                                                                                            'tr_prev_build': np.float32,\n",
    "                                                                                            'gh_first_commit_created_at': 'category',\n",
    "                                                                                            'gh_team_size': np.int32,\n",
    "                                                                                            'gh_pushed_at': 'category',                                                                                           \n",
    "                                                                                            'gh_sloc': np.int32}, encoding='utf-8')\n"
   ]
  },
  {
   "cell_type": "code",
   "execution_count": 4,
   "metadata": {},
   "outputs": [],
   "source": [
    "dataset = dataset.loc[dataset['git_branch'] == 'master'] #filter only projects in the master\n",
    "dataset = dataset[dataset.gh_lang != 'javascript'] #remove projects java script\n",
    "dataset = dataset.dropna(subset=['gh_num_commits_in_push']) #remove NaN in the column specified\n",
    "dataset['gh_pushed_at'] = pd.to_datetime(dataset.gh_pushed_at) #transforms for datetime\n",
    "dataset = dataset.drop_duplicates(['tr_build_id']) #remove duplicates"
   ]
  },
  {
   "cell_type": "code",
   "execution_count": null,
   "metadata": {},
   "outputs": [],
   "source": []
  },
  {
   "cell_type": "code",
   "execution_count": null,
   "metadata": {},
   "outputs": [],
   "source": []
  },
  {
   "cell_type": "code",
   "execution_count": null,
   "metadata": {},
   "outputs": [],
   "source": []
  },
  {
   "cell_type": "markdown",
   "metadata": {},
   "source": [
    "# RQ1"
   ]
  },
  {
   "cell_type": "markdown",
   "metadata": {},
   "source": [
    "## Verifica se ha ao menos 1 comitt durante o dia util(seg a sex)."
   ]
  },
  {
   "cell_type": "code",
   "execution_count": 6,
   "metadata": {},
   "outputs": [
    {
     "name": "stdout",
     "output_type": "stream",
     "text": [
      "Projetos com 1 commit por dia util: 1242 \n"
     ]
    }
   ],
   "source": [
    "## Verifica se ha ao menos 1 comitt durante o dia util(seg a sex).\n",
    "\n",
    "cont = 0\n",
    "\n",
    "df = dataset.loc[dataset['gh_num_commits_in_push'] == 1]\n",
    "\n",
    "list_name = df.gh_project_name.unique().tolist()\n",
    "\n",
    "for i in range(len(list_name)):\n",
    "\n",
    "    df_project = df.loc[dff['gh_project_name'] == list_name[i]]\n",
    "    \n",
    "    commits_per_day = df_project.gh_num_commits_in_push.tolist() # numero de commits por dia\n",
    "    date = df_project.gh_pushed_at.dt.weekday.tolist() # dias da semana\n",
    "    \n",
    "    \n",
    "    for i in range(len(date)):\n",
    "\n",
    "        \n",
    "        if(date[i] != 5 or date[i]!= 6):\n",
    "            if(commits_per_day[i] == 1):\n",
    "                cont +=1\n",
    "                break\n",
    "        \n",
    "print(\"Projetos com 1 commit por dia util: {} \".format(cont))"
   ]
  },
  {
   "cell_type": "markdown",
   "metadata": {},
   "source": [
    "## Verifica se possui frequencia de commit por semana somente dia util"
   ]
  },
  {
   "cell_type": "code",
   "execution_count": 14,
   "metadata": {},
   "outputs": [],
   "source": [
    "## Verifica se possui frequencia de commit por semana somente dia util\n",
    "\n",
    "list_mean_commit = []\n",
    "\n",
    "list_name = dataset.gh_project_name.unique().tolist()\n",
    "\n",
    "for i in range(len(list_name)):\n",
    "\n",
    "    df = dataset.loc[dataset['gh_project_name'] == list_name[i]]\n",
    "    \n",
    "    commits_per_day = df.gh_num_commits_in_push.tolist() # numero de commits por dia\n",
    "    date = df.gh_pushed_at.dt.weekday.tolist() # dias da semana\n",
    "    \n",
    "\n",
    "    mon   = 0\n",
    "    tues  = 0\n",
    "    wedn  = 0\n",
    "    thurs = 0\n",
    "    frid  = 0\n",
    "    \n",
    "    for i in range(len(date)):\n",
    "        \n",
    "        \n",
    "        if  (date[i] == 0 and commits_per_day[i] == 0):\n",
    "            mon +=1\n",
    "        elif(date[i] == 1 and commits_per_day[i] == 0):\n",
    "            tues += 1\n",
    "        elif(date[i] == 2 and commits_per_day[i] == 0):\n",
    "            wedn += 1\n",
    "        elif(date[i] == 3 and commits_per_day[i] == 0):\n",
    "            thurs += 1\n",
    "        elif(date[i] == 4 and commits_per_day[i] == 0):\n",
    "            frid += 1\n",
    "        \n",
    "        sum_commit = mon + tues + wedn + thurs + frid \n",
    "       \n",
    "        mean_sum_commit = (sum_commit / 5)\n",
    "        \n",
    "        list_mean_commit.append(mean_sum_commit)\n",
    "        \n",
    "#print('Lista de media ', list_mean_commit)"
   ]
  },
  {
   "cell_type": "markdown",
   "metadata": {},
   "source": [
    "## Projetos Ruby - Verifica se ha ao menos 1 comitt durante o dia util(seg a sex)."
   ]
  },
  {
   "cell_type": "code",
   "execution_count": 11,
   "metadata": {},
   "outputs": [
    {
     "name": "stdout",
     "output_type": "stream",
     "text": [
      "Projetos ruby com 1 commit por dia util 870\n"
     ]
    }
   ],
   "source": [
    "## Tamanhos de Projetos ruby - Verifica se ha ao menos 1 comitt durante o dia util(seg a sex).\n",
    "\n",
    "def project_ruby():\n",
    "    cont = 0\n",
    "\n",
    "    project_name = []\n",
    "\n",
    "\n",
    "    data_ruby = dataset.loc[dataset['gh_lang'] == 'ruby']\n",
    "    list_name = data_ruby.gh_project_name.unique().tolist()\n",
    "\n",
    "    for i in range(len(list_name)):\n",
    "\n",
    "        df = data_ruby.loc[data_ruby['gh_project_name'] == list_name[i]]\n",
    "\n",
    "        commits_per_day = df.gh_num_commits_in_push.tolist() # numero de commits por dia\n",
    "        date = df.gh_pushed_at.dt.weekday.tolist() # dias da semana\n",
    "\n",
    "\n",
    "        for j in range(len(date)):\n",
    "\n",
    "\n",
    "            if(date[j] != 5 or date[j]!= 6):\n",
    "                if(commits_per_day[j] == 1):\n",
    "                    cont +=1\n",
    "                    project_name.append(list_name[i])\n",
    "                    break\n",
    "    return(project_name)\n",
    "\n",
    "print(f\"Projetos ruby com 1 commit por dia util {len(project_ruby())}\")"
   ]
  },
  {
   "cell_type": "markdown",
   "metadata": {},
   "source": [
    "## Projetos Java - Verifica se ha ao menos 1 comitt durante o dia util(seg a sex)."
   ]
  },
  {
   "cell_type": "code",
   "execution_count": 12,
   "metadata": {},
   "outputs": [
    {
     "name": "stdout",
     "output_type": "stream",
     "text": [
      "Projetos java com 1 commit por dia util 372\n"
     ]
    }
   ],
   "source": [
    "## Tamanhos de Projetos Java - Verifica se ha ao menos 1 comitt durante o dia util(seg a sex).\n",
    "\n",
    "def project_java():\n",
    "    cont = 0\n",
    "\n",
    "    project_name = []\n",
    "\n",
    "\n",
    "    data_java = dataset.loc[dataset['gh_lang'] == 'java']\n",
    "    list_name = data_java.gh_project_name.unique().tolist()\n",
    "\n",
    "    for i in range(len(list_name)):\n",
    "\n",
    "        df = data_java.loc[data_java['gh_project_name'] == list_name[i]]\n",
    "\n",
    "        commits_per_day = df.gh_num_commits_in_push.tolist() # numero de commits por dia\n",
    "        date = df.gh_pushed_at.dt.weekday.tolist() # dias da semana\n",
    "\n",
    "\n",
    "        for j in range(len(date)):\n",
    "\n",
    "\n",
    "            if(date[j] != 5 or date[j]!= 6):\n",
    "                if(commits_per_day[j] == 1):\n",
    "                    cont +=1\n",
    "                    project_name.append(list_name[i])\n",
    "                    break\n",
    "    return(project_name)\n",
    "\n",
    "print(f\"Projetos java com 1 commit por dia util {len(project_java())}\")"
   ]
  },
  {
   "cell_type": "markdown",
   "metadata": {},
   "source": [
    "## Tamanhos dos Projetos"
   ]
  },
  {
   "cell_type": "code",
   "execution_count": 13,
   "metadata": {},
   "outputs": [],
   "source": [
    "# Recebe a linguagem para filtrar, uma lista com o nomes dos projetos e qual tamanho será filtrado\n",
    "def quantidade_projetos_all(language, list_project , sett):\n",
    "    very_small, small, medium, large, very_large = [],[],[],[],[]\n",
    "    \n",
    "    df = dataset.sort_values(['gh_sloc'], ascending=False)\n",
    "    df = df.loc[df['gh_lang'] == language]\n",
    "    \n",
    "    list_name_project = list_project\n",
    "\n",
    "    if(sett == 1):\n",
    "        for name in list_name_project:\n",
    "            df0 = df.loc[df['gh_project_name'] == name]\n",
    "            if(1000 > df0.gh_sloc[0:1].item()):\n",
    "                very_small.append(name)\n",
    "                \n",
    "        return(very_small) \n",
    "        \n",
    "    if(sett == 2):\n",
    "        for name in list_name_project:\n",
    "            df1 = df.loc[df['gh_project_name'] == name]\n",
    "            if((1000 < df1.gh_sloc[0:1].item()) and (10000 > df1.gh_sloc[0:1].item())):\n",
    "                small.append(name)\n",
    "        return(small)\n",
    "        \n",
    "    if(sett == 3):\n",
    "        for name in list_name_project:\n",
    "            df2 = df.loc[df['gh_project_name'] == name]\n",
    "            if((10000 < df2.gh_sloc[0:1].item()) and (100000 > df2.gh_sloc[0:1].item())):\n",
    "                medium.append(name)\n",
    "        return(medium)\n",
    "        \n",
    "    if(sett == 4):\n",
    "        for name in list_name_project:\n",
    "            df3 = df.loc[df['gh_project_name'] == name]\n",
    "            if((100000 < df3.gh_sloc[0:1].item()) and (1000000 > df3.gh_sloc[0:1].item())):\n",
    "                large.append(name)\n",
    "        return(large)\n",
    "        \n",
    "    if(sett == 5):\n",
    "        for name in list_name_project:\n",
    "            df4 = df.loc[df['gh_project_name'] == name]\n",
    "            if(1000000 <= df4.gh_sloc[0:1].item()):\n",
    "                very_large.append(name)\n",
    "        return(very_large)"
   ]
  },
  {
   "cell_type": "markdown",
   "metadata": {},
   "source": [
    "## Tamanho dos Projetos Java "
   ]
  },
  {
   "cell_type": "code",
   "execution_count": 92,
   "metadata": {},
   "outputs": [
    {
     "name": "stderr",
     "output_type": "stream",
     "text": [
      "/home/work/myvenv/lib/python3.7/site-packages/ipykernel_launcher.py:14: FutureWarning: `item` has been deprecated and will be removed in a future version\n",
      "  \n"
     ]
    },
    {
     "name": "stdout",
     "output_type": "stream",
     "text": [
      "Projetos vary small Java 14 projetos\n"
     ]
    },
    {
     "name": "stderr",
     "output_type": "stream",
     "text": [
      "/home/work/myvenv/lib/python3.7/site-packages/ipykernel_launcher.py:22: FutureWarning: `item` has been deprecated and will be removed in a future version\n"
     ]
    },
    {
     "name": "stdout",
     "output_type": "stream",
     "text": [
      "Projetos small Java      150 projetos\n"
     ]
    },
    {
     "name": "stderr",
     "output_type": "stream",
     "text": [
      "/home/work/myvenv/lib/python3.7/site-packages/ipykernel_launcher.py:29: FutureWarning: `item` has been deprecated and will be removed in a future version\n"
     ]
    },
    {
     "name": "stdout",
     "output_type": "stream",
     "text": [
      "Projetos medium Java     182 projetos\n"
     ]
    },
    {
     "name": "stderr",
     "output_type": "stream",
     "text": [
      "/home/work/myvenv/lib/python3.7/site-packages/ipykernel_launcher.py:36: FutureWarning: `item` has been deprecated and will be removed in a future version\n"
     ]
    },
    {
     "name": "stdout",
     "output_type": "stream",
     "text": [
      "Projetos large Java      26 projetos\n"
     ]
    },
    {
     "name": "stderr",
     "output_type": "stream",
     "text": [
      "/home/work/myvenv/lib/python3.7/site-packages/ipykernel_launcher.py:43: FutureWarning: `item` has been deprecated and will be removed in a future version\n"
     ]
    },
    {
     "name": "stdout",
     "output_type": "stream",
     "text": [
      "Projetos very large Java 0 projetos\n"
     ]
    }
   ],
   "source": [
    "print(f\"Projetos vary small Java {len(quantidade_projetos_all('java', project_java(), 1))} projetos\")\n",
    "print(f\"Projetos small Java      {len(quantidade_projetos_all('java', project_java(), 2))} projetos\")\n",
    "print(f\"Projetos medium Java     {len(quantidade_projetos_all('java', project_java(), 3))} projetos\")\n",
    "print(f\"Projetos large Java      {len(quantidade_projetos_all('java', project_java(), 4))} projetos\")\n",
    "print(f\"Projetos very large Java {len(quantidade_projetos_all('java', project_java(), 5))} projetos\")"
   ]
  },
  {
   "cell_type": "markdown",
   "metadata": {},
   "source": [
    "## Tamanho dos Projetos Ruby"
   ]
  },
  {
   "cell_type": "code",
   "execution_count": 94,
   "metadata": {},
   "outputs": [
    {
     "name": "stderr",
     "output_type": "stream",
     "text": [
      "/home/work/myvenv/lib/python3.7/site-packages/ipykernel_launcher.py:14: FutureWarning: `item` has been deprecated and will be removed in a future version\n",
      "  \n"
     ]
    },
    {
     "name": "stdout",
     "output_type": "stream",
     "text": [
      "Projetos vary small ruby 317 projetos\n"
     ]
    },
    {
     "name": "stderr",
     "output_type": "stream",
     "text": [
      "/home/work/myvenv/lib/python3.7/site-packages/ipykernel_launcher.py:22: FutureWarning: `item` has been deprecated and will be removed in a future version\n"
     ]
    },
    {
     "name": "stdout",
     "output_type": "stream",
     "text": [
      "Projetos small ruby      470 projetos\n"
     ]
    },
    {
     "name": "stderr",
     "output_type": "stream",
     "text": [
      "/home/work/myvenv/lib/python3.7/site-packages/ipykernel_launcher.py:29: FutureWarning: `item` has been deprecated and will be removed in a future version\n"
     ]
    },
    {
     "name": "stdout",
     "output_type": "stream",
     "text": [
      "Projetos medium ruby     75 projetos\n"
     ]
    },
    {
     "name": "stderr",
     "output_type": "stream",
     "text": [
      "/home/work/myvenv/lib/python3.7/site-packages/ipykernel_launcher.py:36: FutureWarning: `item` has been deprecated and will be removed in a future version\n"
     ]
    },
    {
     "name": "stdout",
     "output_type": "stream",
     "text": [
      "Projetos large ruby      8 projetos\n"
     ]
    },
    {
     "name": "stderr",
     "output_type": "stream",
     "text": [
      "/home/work/myvenv/lib/python3.7/site-packages/ipykernel_launcher.py:43: FutureWarning: `item` has been deprecated and will be removed in a future version\n"
     ]
    },
    {
     "name": "stdout",
     "output_type": "stream",
     "text": [
      "Projetos very large ruby 0 projetos\n"
     ]
    }
   ],
   "source": [
    "print(f\"Projetos vary small ruby {len(quantidade_projetos_all('ruby', project_ruby(), 1))} projetos\")\n",
    "print(f\"Projetos small ruby      {len(quantidade_projetos_all('ruby', project_ruby(), 2))} projetos\")\n",
    "print(f\"Projetos medium ruby     {len(quantidade_projetos_all('ruby', project_ruby(), 3))} projetos\")\n",
    "print(f\"Projetos large ruby      {len(quantidade_projetos_all('ruby', project_ruby(), 4))} projetos\")\n",
    "print(f\"Projetos very large ruby {len(quantidade_projetos_all('ruby', project_ruby(), 5))} projetos\")"
   ]
  },
  {
   "cell_type": "markdown",
   "metadata": {},
   "source": [
    "## "
   ]
  },
  {
   "cell_type": "code",
   "execution_count": null,
   "metadata": {},
   "outputs": [],
   "source": []
  },
  {
   "cell_type": "code",
   "execution_count": null,
   "metadata": {},
   "outputs": [],
   "source": []
  },
  {
   "cell_type": "code",
   "execution_count": null,
   "metadata": {},
   "outputs": [],
   "source": []
  },
  {
   "cell_type": "code",
   "execution_count": null,
   "metadata": {},
   "outputs": [],
   "source": []
  },
  {
   "cell_type": "markdown",
   "metadata": {},
   "source": [
    "# Serie Temporal - Quantidade de builds ao longo dos anos"
   ]
  },
  {
   "cell_type": "markdown",
   "metadata": {},
   "source": [
    "## 2012"
   ]
  },
  {
   "cell_type": "code",
   "execution_count": 49,
   "metadata": {},
   "outputs": [
    {
     "data": {
      "text/plain": [
       "51815"
      ]
     },
     "execution_count": 49,
     "metadata": {},
     "output_type": "execute_result"
    }
   ],
   "source": [
    "df_2012 = dataset.loc[dataset.gh_pushed_at.dt.year == 2012]\n",
    "\n",
    "len(df_2012)"
   ]
  },
  {
   "cell_type": "markdown",
   "metadata": {},
   "source": [
    "## 2013"
   ]
  },
  {
   "cell_type": "code",
   "execution_count": 50,
   "metadata": {},
   "outputs": [
    {
     "data": {
      "text/plain": [
       "99006"
      ]
     },
     "execution_count": 50,
     "metadata": {},
     "output_type": "execute_result"
    }
   ],
   "source": [
    "df_2013 = dataset.loc[dataset.gh_pushed_at.dt.year == 2013]\n",
    "\n",
    "len(df_2013)"
   ]
  },
  {
   "cell_type": "markdown",
   "metadata": {},
   "source": [
    "## 2014"
   ]
  },
  {
   "cell_type": "code",
   "execution_count": 51,
   "metadata": {},
   "outputs": [
    {
     "data": {
      "text/plain": [
       "120218"
      ]
     },
     "execution_count": 51,
     "metadata": {},
     "output_type": "execute_result"
    }
   ],
   "source": [
    "df_2014 = dataset.loc[dataset.gh_pushed_at.dt.year == 2014]\n",
    "\n",
    "len(df_2014)"
   ]
  },
  {
   "cell_type": "markdown",
   "metadata": {},
   "source": [
    "## 2015"
   ]
  },
  {
   "cell_type": "code",
   "execution_count": 52,
   "metadata": {},
   "outputs": [
    {
     "data": {
      "text/plain": [
       "98371"
      ]
     },
     "execution_count": 52,
     "metadata": {},
     "output_type": "execute_result"
    }
   ],
   "source": [
    "df_2015 = dataset.loc[dataset.gh_pushed_at.dt.year == 2015]\n",
    "\n",
    "len(df_2015)"
   ]
  },
  {
   "cell_type": "markdown",
   "metadata": {},
   "source": [
    "## 2016"
   ]
  },
  {
   "cell_type": "code",
   "execution_count": 53,
   "metadata": {},
   "outputs": [
    {
     "data": {
      "text/plain": [
       "858"
      ]
     },
     "execution_count": 53,
     "metadata": {},
     "output_type": "execute_result"
    }
   ],
   "source": [
    "df_2016 = dataset.loc[dataset.gh_pushed_at.dt.year == 2016]\n",
    "\n",
    "len(df_2016)"
   ]
  },
  {
   "cell_type": "code",
   "execution_count": 54,
   "metadata": {},
   "outputs": [
    {
     "data": {
      "text/plain": [
       "370268"
      ]
     },
     "execution_count": 54,
     "metadata": {},
     "output_type": "execute_result"
    }
   ],
   "source": []
  },
  {
   "cell_type": "code",
   "execution_count": 56,
   "metadata": {},
   "outputs": [
    {
     "data": {
      "text/plain": [
       "370268"
      ]
     },
     "execution_count": 56,
     "metadata": {},
     "output_type": "execute_result"
    }
   ],
   "source": []
  }
 ],
 "metadata": {
  "kernelspec": {
   "display_name": "Python 3",
   "language": "python",
   "name": "python3"
  },
  "language_info": {
   "codemirror_mode": {
    "name": "ipython",
    "version": 3
   },
   "file_extension": ".py",
   "mimetype": "text/x-python",
   "name": "python",
   "nbconvert_exporter": "python",
   "pygments_lexer": "ipython3",
   "version": "3.7.3"
  }
 },
 "nbformat": 4,
 "nbformat_minor": 2
}
