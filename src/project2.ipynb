{
 "cells": [
  {
   "cell_type": "code",
   "execution_count": 1,
   "metadata": {},
   "outputs": [],
   "source": [
    "import pandas as pd\n",
    "import numpy as np\n",
    "import matplotlib.pyplot as plt"
   ]
  },
  {
   "cell_type": "code",
   "execution_count": 2,
   "metadata": {},
   "outputs": [],
   "source": [
    "FILE = '~/GitHub/ci-analysis/travistorrent_11_1_2017.csv.gz'"
   ]
  },
  {
   "cell_type": "code",
   "execution_count": 3,
   "metadata": {},
   "outputs": [],
   "source": [
    "dataset = pd.read_csv(FILE, sep=',', engine='c',usecols=['gh_team_size',\n",
    "                                                         'tr_build_id',\n",
    "                                                         'gh_project_name',\n",
    "                                                         'tr_build_id',\n",
    "                                                         'gh_project_name',\n",
    "                                                         'gh_is_pr',\n",
    "                                                         'gh_pr_created_at',\n",
    "                                                         'gh_lang',\n",
    "                                                         'git_branch',\n",
    "                                                         'gh_num_commits_in_push',\n",
    "                                                         'git_prev_commit_resolution_status',\n",
    "                                                         'tr_prev_build',\n",
    "                                                         'gh_first_commit_created_at',\n",
    "                                                         'gh_team_size',         \n",
    "                                                         'gh_pushed_at',\n",
    "                                                         'gh_sloc',\n",
    "                                                         'tr_log_bool_tests_failed',\n",
    "                                                         'tr_log_setup_time',\n",
    "                                                         'tr_log_buildduration',\n",
    "                                                         'tr_status'],dtype={ 'tr_build_id': np.float32,\n",
    "                                                                                            'gh_project_name': 'category',\n",
    "                                                                                            'gh_is_pr': np.bool,\n",
    "                                                                                            'gh_pr_created_at': 'category',\n",
    "                                                                                            'gh_lang': 'category',\n",
    "                                                                                            'git_branch': 'category',\n",
    "                                                                                            'gh_num_commits_in_push': np.float32,\n",
    "                                                                                            'git_prev_commit_resolution_status': 'category',\n",
    "                                                                                            'tr_prev_build': np.float32,\n",
    "                                                                                            'gh_first_commit_created_at': 'category',\n",
    "                                                                                            'gh_team_size': np.int32,\n",
    "                                                                                            'gh_pushed_at': 'category',                                                                                           \n",
    "                                                                                            'gh_sloc': np.int32}, encoding='utf-8')\n"
   ]
  },
  {
   "cell_type": "code",
   "execution_count": 4,
   "metadata": {},
   "outputs": [],
   "source": [
    "dataset = dataset.loc[dataset['git_branch'] == 'master'] #filter only projects in the master\n",
    "dataset = dataset[dataset.gh_lang != 'javascript'] #remove projects java script\n",
    "dataset = dataset.dropna(subset=['gh_num_commits_in_push']) #remove NaN in the column specified\n",
    "dataset['gh_pushed_at'] = pd.to_datetime(dataset.gh_pushed_at) #transforms for datetime\n",
    "dataset = dataset.drop_duplicates(['tr_build_id']) #remove duplicates"
   ]
  },
  {
   "cell_type": "code",
   "execution_count": null,
   "metadata": {},
   "outputs": [],
   "source": []
  },
  {
   "cell_type": "code",
   "execution_count": null,
   "metadata": {},
   "outputs": [],
   "source": []
  },
  {
   "cell_type": "code",
   "execution_count": 37,
   "metadata": {},
   "outputs": [
    {
     "data": {
      "text/plain": [
       "1255"
      ]
     },
     "execution_count": 37,
     "metadata": {},
     "output_type": "execute_result"
    }
   ],
   "source": [
    "\n",
    "\n"
   ]
  },
  {
   "cell_type": "markdown",
   "metadata": {},
   "source": [
    "# RQ1"
   ]
  },
  {
   "cell_type": "code",
   "execution_count": 7,
   "metadata": {},
   "outputs": [
    {
     "name": "stdout",
     "output_type": "stream",
     "text": [
      "Projetos com media a baixo de 2.36: 748\n"
     ]
    }
   ],
   "source": [
    "cont=0\n",
    "\n",
    "list_name = dataset.gh_project_name.unique().tolist()\n",
    "\n",
    "for i in range(len(list_name)):\n",
    "\n",
    "    df = dataset.loc[dataset['gh_project_name'] == list_name[i]]\n",
    "\n",
    "    mean = df.gh_num_commits_in_push.mean()\n",
    "\n",
    "    if(mean < 2.36):\n",
    "        cont +=1\n",
    "\n",
    "        \n",
    "print(\"Projetos com media a baixo de 2.36: {}\".format(cont))"
   ]
  },
  {
   "cell_type": "code",
   "execution_count": 49,
   "metadata": {},
   "outputs": [
    {
     "name": "stdout",
     "output_type": "stream",
     "text": [
      "Projetos com media a baixo ou igual de 1: 0 \n",
      "dia util 2779\n"
     ]
    }
   ],
   "source": [
    "cont = 0\n",
    "dia_semana  = 0\n",
    "list_name = dataset.gh_project_name.unique().tolist()\n",
    "\n",
    "for i in range(len(list_name)):\n",
    "\n",
    "    df = dataset.loc[dataset['gh_project_name'] == list_name[i]]\n",
    "    \n",
    "    commits_per_day = df.gh_num_commits_in_push.tolist() # numero de commits por dia\n",
    "    date = df.gh_pushed_at.dt.weekday.tolist() # dias da semana\n",
    "    \n",
    "    conta = 0\n",
    "  \n",
    "    for i in range(len(date)):\n",
    "        \n",
    "        # Verifica se possui frequencia de commit por semana somente dia util\n",
    "        if (date[i] == 1):\n",
    "            conta+=1\n",
    "        else:\n",
    "            conta = 0\n",
    "        if(conta == 5):\n",
    "            #print('Uma semana')\n",
    "            dia_semana+=1\n",
    "            \n",
    "        # Verifica se ha ao menos 1 comitt durante o dia util(seg a sex).\n",
    "        '''   \n",
    "        if(date[i] != 5 or date[i]!= 6):\n",
    "            if(commits_per_day[i] == 1):\n",
    "                cont +=1\n",
    "                break\n",
    "        '''\n",
    "        \n",
    "print(\"Projetos com media a baixo ou igual de 1: {} \".format(cont))\n",
    "print('dia util', dia)"
   ]
  },
  {
   "cell_type": "code",
   "execution_count": null,
   "metadata": {},
   "outputs": [],
   "source": [
    "\n"
   ]
  },
  {
   "cell_type": "markdown",
   "metadata": {},
   "source": [
    "# Quantidade de builds ao longo dos anos"
   ]
  },
  {
   "cell_type": "markdown",
   "metadata": {},
   "source": [
    "## 2012"
   ]
  },
  {
   "cell_type": "code",
   "execution_count": 49,
   "metadata": {},
   "outputs": [
    {
     "data": {
      "text/plain": [
       "51815"
      ]
     },
     "execution_count": 49,
     "metadata": {},
     "output_type": "execute_result"
    }
   ],
   "source": [
    "df_2012 = dataset.loc[dataset.gh_pushed_at.dt.year == 2012]\n",
    "\n",
    "len(df_2012)"
   ]
  },
  {
   "cell_type": "markdown",
   "metadata": {},
   "source": [
    "## 2013"
   ]
  },
  {
   "cell_type": "code",
   "execution_count": 50,
   "metadata": {},
   "outputs": [
    {
     "data": {
      "text/plain": [
       "99006"
      ]
     },
     "execution_count": 50,
     "metadata": {},
     "output_type": "execute_result"
    }
   ],
   "source": [
    "df_2013 = dataset.loc[dataset.gh_pushed_at.dt.year == 2013]\n",
    "\n",
    "len(df_2013)"
   ]
  },
  {
   "cell_type": "markdown",
   "metadata": {},
   "source": [
    "## 2014"
   ]
  },
  {
   "cell_type": "code",
   "execution_count": 51,
   "metadata": {},
   "outputs": [
    {
     "data": {
      "text/plain": [
       "120218"
      ]
     },
     "execution_count": 51,
     "metadata": {},
     "output_type": "execute_result"
    }
   ],
   "source": [
    "df_2014 = dataset.loc[dataset.gh_pushed_at.dt.year == 2014]\n",
    "\n",
    "len(df_2014)"
   ]
  },
  {
   "cell_type": "markdown",
   "metadata": {},
   "source": [
    "## 2015"
   ]
  },
  {
   "cell_type": "code",
   "execution_count": 52,
   "metadata": {},
   "outputs": [
    {
     "data": {
      "text/plain": [
       "98371"
      ]
     },
     "execution_count": 52,
     "metadata": {},
     "output_type": "execute_result"
    }
   ],
   "source": [
    "df_2015 = dataset.loc[dataset.gh_pushed_at.dt.year == 2015]\n",
    "\n",
    "len(df_2015)"
   ]
  },
  {
   "cell_type": "markdown",
   "metadata": {},
   "source": [
    "## 2016"
   ]
  },
  {
   "cell_type": "code",
   "execution_count": 53,
   "metadata": {},
   "outputs": [
    {
     "data": {
      "text/plain": [
       "858"
      ]
     },
     "execution_count": 53,
     "metadata": {},
     "output_type": "execute_result"
    }
   ],
   "source": [
    "df_2016 = dataset.loc[dataset.gh_pushed_at.dt.year == 2016]\n",
    "\n",
    "len(df_2016)"
   ]
  },
  {
   "cell_type": "code",
   "execution_count": 54,
   "metadata": {},
   "outputs": [
    {
     "data": {
      "text/plain": [
       "370268"
      ]
     },
     "execution_count": 54,
     "metadata": {},
     "output_type": "execute_result"
    }
   ],
   "source": []
  },
  {
   "cell_type": "code",
   "execution_count": 56,
   "metadata": {},
   "outputs": [
    {
     "data": {
      "text/plain": [
       "370268"
      ]
     },
     "execution_count": 56,
     "metadata": {},
     "output_type": "execute_result"
    }
   ],
   "source": []
  }
 ],
 "metadata": {
  "kernelspec": {
   "display_name": "Python 3",
   "language": "python",
   "name": "python3"
  },
  "language_info": {
   "codemirror_mode": {
    "name": "ipython",
    "version": 3
   },
   "file_extension": ".py",
   "mimetype": "text/x-python",
   "name": "python",
   "nbconvert_exporter": "python",
   "pygments_lexer": "ipython3",
   "version": "3.7.3"
  }
 },
 "nbformat": 4,
 "nbformat_minor": 2
}
