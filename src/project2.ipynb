{
 "cells": [
  {
   "cell_type": "code",
   "execution_count": 1,
   "metadata": {},
   "outputs": [],
   "source": [
    "import pandas as pd\n",
    "import numpy as np\n",
    "import matplotlib.pyplot as plt"
   ]
  },
  {
   "cell_type": "code",
   "execution_count": 2,
   "metadata": {},
   "outputs": [],
   "source": [
    "FILE = '~/GitHub/ci-analysis/travistorrent_11_1_2017.csv.gz'"
   ]
  },
  {
   "cell_type": "code",
   "execution_count": 3,
   "metadata": {},
   "outputs": [],
   "source": [
    "dataset = pd.read_csv(FILE, sep=',', engine='c',usecols=['gh_team_size',\n",
    "                                                         'tr_build_id',\n",
    "                                                         'gh_project_name',\n",
    "                                                         'tr_build_id',\n",
    "                                                         'gh_project_name',\n",
    "                                                         'gh_is_pr',\n",
    "                                                         'gh_pr_created_at',\n",
    "                                                         'gh_lang',\n",
    "                                                         'git_branch',\n",
    "                                                         'gh_num_commits_in_push',\n",
    "                                                         'git_prev_commit_resolution_status',\n",
    "                                                         'tr_prev_build',\n",
    "                                                         'gh_first_commit_created_at',\n",
    "                                                         'gh_team_size',         \n",
    "                                                         'gh_pushed_at',\n",
    "                                                         'gh_sloc',\n",
    "                                                         'tr_log_bool_tests_failed',\n",
    "                                                         'tr_log_setup_time',\n",
    "                                                         'tr_log_buildduration',\n",
    "                                                         'tr_status'],dtype={ 'tr_build_id': np.float32,\n",
    "                                                                                            'gh_project_name': 'category',\n",
    "                                                                                            'gh_is_pr': np.bool,\n",
    "                                                                                            'gh_pr_created_at': 'category',\n",
    "                                                                                            'gh_lang': 'category',\n",
    "                                                                                            'git_branch': 'category',\n",
    "                                                                                            'gh_num_commits_in_push': np.float32,\n",
    "                                                                                            'git_prev_commit_resolution_status': 'category',\n",
    "                                                                                            'tr_prev_build': np.float32,\n",
    "                                                                                            'gh_first_commit_created_at': 'category',\n",
    "                                                                                            'gh_team_size': np.int32,\n",
    "                                                                                            'gh_pushed_at': 'category',                                                                                           \n",
    "                                                                                            'gh_sloc': np.int32}, encoding='utf-8')\n"
   ]
  },
  {
   "cell_type": "code",
   "execution_count": 4,
   "metadata": {},
   "outputs": [],
   "source": [
    "dataset = dataset.loc[dataset['git_branch'] == 'master'] #filter only projects in the master\n",
    "dataset = dataset[dataset.gh_lang != 'javascript'] #remove projects java script\n",
    "dataset = dataset.dropna(subset=['gh_num_commits_in_push']) #remove NaN in the column specified\n",
    "dataset['gh_pushed_at'] = pd.to_datetime(dataset.gh_pushed_at) #transforms for datetime\n",
    "dataset = dataset.drop_duplicates(['tr_build_id']) #remove duplicates"
   ]
  },
  {
   "cell_type": "code",
   "execution_count": null,
   "metadata": {},
   "outputs": [],
   "source": []
  },
  {
   "cell_type": "code",
   "execution_count": null,
   "metadata": {},
   "outputs": [],
   "source": []
  },
  {
   "cell_type": "code",
   "execution_count": null,
   "metadata": {},
   "outputs": [],
   "source": []
  },
  {
   "cell_type": "markdown",
   "metadata": {},
   "source": [
    "# RQ1"
   ]
  },
  {
   "cell_type": "markdown",
   "metadata": {},
   "source": [
    "## 1 Commit"
   ]
  },
  {
   "cell_type": "code",
   "execution_count": 20,
   "metadata": {},
   "outputs": [],
   "source": [
    "df = dataset.loc[dataset['gh_num_commits_in_push'] == 1]"
   ]
  },
  {
   "cell_type": "markdown",
   "metadata": {},
   "source": [
    "## Verifica se ha ao menos 1 comitt durante o dia util(seg a sex)."
   ]
  },
  {
   "cell_type": "code",
   "execution_count": 13,
   "metadata": {},
   "outputs": [
    {
     "name": "stdout",
     "output_type": "stream",
     "text": [
      "Projetos com 1 commit por dia util: 1242 \n"
     ]
    }
   ],
   "source": [
    "## Verifica se ha ao menos 1 comitt durante o dia util(seg a sex).\n",
    "\n",
    "cont = 0\n",
    "\n",
    "list_name = df.gh_project_name.unique().tolist()\n",
    "\n",
    "for i in range(len(list_name)):\n",
    "\n",
    "    df_project = df.loc[dff['gh_project_name'] == list_name[i]]\n",
    "    \n",
    "    commits_per_day = df_project.gh_num_commits_in_push.tolist() # numero de commits por dia\n",
    "    date = df_project.gh_pushed_at.dt.weekday.tolist() # dias da semana\n",
    "    \n",
    "    \n",
    "    for i in range(len(date)):\n",
    "\n",
    "        \n",
    "        if(date[i] != 5 or date[i]!= 6):\n",
    "            if(commits_per_day[i] == 1):\n",
    "                cont +=1\n",
    "                break\n",
    "        \n",
    "print(\"Projetos com 1 commit por dia util: {} \".format(cont))"
   ]
  },
  {
   "cell_type": "markdown",
   "metadata": {},
   "source": [
    "## Verifica se possui frequencia de commit por semana somente dia util"
   ]
  },
  {
   "cell_type": "code",
   "execution_count": 14,
   "metadata": {},
   "outputs": [],
   "source": [
    "## Verifica se possui frequencia de commit por semana somente dia util\n",
    "\n",
    "list_mean_commit = []\n",
    "\n",
    "list_name = df.gh_project_name.unique().tolist()\n",
    "\n",
    "for i in range(len(list_name)):\n",
    "\n",
    "    df_project = df.loc[dataset['gh_project_name'] == list_name[i]]\n",
    "    \n",
    "    commits_per_day = df_project.gh_num_commits_in_push.tolist() # numero de commits por dia\n",
    "    date = df_project.gh_pushed_at.dt.weekday.tolist() # dias da semana\n",
    "    \n",
    "\n",
    "    mon   = 0\n",
    "    tues  = 0\n",
    "    wedn  = 0\n",
    "    thurs = 0\n",
    "    frid  = 0\n",
    "    \n",
    "    for i in range(len(date)):\n",
    "        \n",
    "        \n",
    "        if  (date[i] == 0 and commits_per_day[i] == 0):\n",
    "            mon +=1\n",
    "        elif(date[i] == 1 and commits_per_day[i] == 0):\n",
    "            tues += 1\n",
    "        elif(date[i] == 2 and commits_per_day[i] == 0):\n",
    "            wedn += 1\n",
    "        elif(date[i] == 3 and commits_per_day[i] == 0):\n",
    "            thurs += 1\n",
    "        elif(date[i] == 4 and commits_per_day[i] == 0):\n",
    "            frid += 1\n",
    "        \n",
    "        sum_commit = mon + tues + wedn + thurs + frid \n",
    "       \n",
    "        mean_sum_commit = (sum_commit / 5)\n",
    "        \n",
    "        list_mean_commit.append(mean_sum_commit)\n",
    "        \n",
    "#print('Lista de media ', list_mean_commit)"
   ]
  },
  {
   "cell_type": "code",
   "execution_count": null,
   "metadata": {},
   "outputs": [],
   "source": []
  },
  {
   "cell_type": "markdown",
   "metadata": {},
   "source": [
    "## Projetos Ruby - Verifica se ha ao menos 1 comitt durante o dia util(seg a sex)."
   ]
  },
  {
   "cell_type": "code",
   "execution_count": 15,
   "metadata": {},
   "outputs": [
    {
     "name": "stdout",
     "output_type": "stream",
     "text": [
      "Projetos ruby com 1 commit por dia util 870\n"
     ]
    }
   ],
   "source": [
    "## Tamanhos de Projetos ruby - Verifica se ha ao menos 1 comitt durante o dia util(seg a sex).\n",
    "\n",
    "def project_ruby():\n",
    "    cont = 0\n",
    "\n",
    "    project_name = []\n",
    "\n",
    "\n",
    "    data_ruby = df.loc[dataset['gh_lang'] == 'ruby']\n",
    "    list_name = data_ruby.gh_project_name.unique().tolist()\n",
    "\n",
    "    for i in range(len(list_name)):\n",
    "\n",
    "        df_project = data_ruby.loc[data_ruby['gh_project_name'] == list_name[i]]\n",
    "\n",
    "        commits_per_day = df_project.gh_num_commits_in_push.tolist() # numero de commits por dia\n",
    "        date = df_project.gh_pushed_at.dt.weekday.tolist() # dias da semana\n",
    "\n",
    "\n",
    "        for j in range(len(date)):\n",
    "\n",
    "\n",
    "            if(date[j] != 5 or date[j]!= 6):\n",
    "                if(commits_per_day[j] == 1):\n",
    "                    cont +=1\n",
    "                    project_name.append(list_name[i])\n",
    "                    break\n",
    "    return(project_name)\n",
    "\n",
    "print(f\"Projetos ruby com 1 commit por dia util {len(project_ruby())}\")"
   ]
  },
  {
   "cell_type": "markdown",
   "metadata": {},
   "source": [
    "## Projetos Java - Verifica se ha ao menos 1 comitt durante o dia util(seg a sex)."
   ]
  },
  {
   "cell_type": "code",
   "execution_count": 16,
   "metadata": {},
   "outputs": [
    {
     "name": "stdout",
     "output_type": "stream",
     "text": [
      "Projetos java com 1 commit por dia util 372\n"
     ]
    }
   ],
   "source": [
    "## Tamanhos de Projetos Java - Verifica se ha ao menos 1 comitt durante o dia util(seg a sex).\n",
    "\n",
    "def project_java():\n",
    "    cont = 0\n",
    "\n",
    "    project_name = []\n",
    "\n",
    "\n",
    "    data_java = df.loc[dataset['gh_lang'] == 'java']\n",
    "    list_name = data_java.gh_project_name.unique().tolist()\n",
    "\n",
    "    for i in range(len(list_name)):\n",
    "\n",
    "        df_project = data_java.loc[data_java['gh_project_name'] == list_name[i]]\n",
    "\n",
    "        commits_per_day = df_project.gh_num_commits_in_push.tolist() # numero de commits por dia\n",
    "        date = df_project.gh_pushed_at.dt.weekday.tolist() # dias da semana\n",
    "\n",
    "\n",
    "        for j in range(len(date)):\n",
    "\n",
    "\n",
    "            if(date[j] != 5 or date[j]!= 6):\n",
    "                if(commits_per_day[j] == 1):\n",
    "                    cont +=1\n",
    "                    project_name.append(list_name[i])\n",
    "                    break\n",
    "    return(project_name)\n",
    "\n",
    "print(f\"Projetos java com 1 commit por dia util {len(project_java())}\")"
   ]
  },
  {
   "cell_type": "markdown",
   "metadata": {},
   "source": [
    "## Tamanhos dos Projetos"
   ]
  },
  {
   "cell_type": "code",
   "execution_count": 23,
   "metadata": {},
   "outputs": [],
   "source": [
    "# Recebe a linguagem para filtrar, uma lista com o nomes dos projetos e qual tamanho será filtrado\n",
    "def quantidade_projetos_all(language, list_project , sett):\n",
    "    very_small, small, medium, large, very_large = [],[],[],[],[]\n",
    "    \n",
    "    df = dataset.loc[dataset['gh_num_commits_in_push'] == 1]\n",
    "    df = df.sort_values(['gh_sloc'], ascending=False)\n",
    "    df = df.loc[df['gh_lang'] == language]\n",
    "    \n",
    "    list_name_project = list_project\n",
    "\n",
    "    if(sett == 1):\n",
    "        for name in list_name_project:\n",
    "            df0 = df.loc[df['gh_project_name'] == name]\n",
    "            if(1000 > df0.gh_sloc[0:1].item()):\n",
    "                very_small.append(name)\n",
    "                \n",
    "        return(very_small) \n",
    "        \n",
    "    if(sett == 2):\n",
    "        for name in list_name_project:\n",
    "            df1 = df.loc[df['gh_project_name'] == name]\n",
    "            if((1000 < df1.gh_sloc[0:1].item()) and (10000 > df1.gh_sloc[0:1].item())):\n",
    "                small.append(name)\n",
    "        return(small)\n",
    "        \n",
    "    if(sett == 3):\n",
    "        for name in list_name_project:\n",
    "            df2 = df.loc[df['gh_project_name'] == name]\n",
    "            if((10000 < df2.gh_sloc[0:1].item()) and (100000 > df2.gh_sloc[0:1].item())):\n",
    "                medium.append(name)\n",
    "        return(medium)\n",
    "        \n",
    "    if(sett == 4):\n",
    "        for name in list_name_project:\n",
    "            df3 = df.loc[df['gh_project_name'] == name]\n",
    "            if((100000 < df3.gh_sloc[0:1].item()) and (1000000 > df3.gh_sloc[0:1].item())):\n",
    "                large.append(name)\n",
    "        return(large)\n",
    "        \n",
    "    if(sett == 5):\n",
    "        for name in list_name_project:\n",
    "            df4 = df.loc[df['gh_project_name'] == name]\n",
    "            if(1000000 <= df4.gh_sloc[0:1].item()):\n",
    "                very_large.append(name)\n",
    "        return(very_large)"
   ]
  },
  {
   "cell_type": "markdown",
   "metadata": {},
   "source": [
    "## Tamanho dos Projetos Java "
   ]
  },
  {
   "cell_type": "code",
   "execution_count": 24,
   "metadata": {},
   "outputs": [
    {
     "name": "stderr",
     "output_type": "stream",
     "text": [
      "/home/work/myvenv/lib/python3.7/site-packages/ipykernel_launcher.py:14: FutureWarning: `item` has been deprecated and will be removed in a future version\n",
      "  \n"
     ]
    },
    {
     "name": "stdout",
     "output_type": "stream",
     "text": [
      "Projetos vary small Java 14 projetos\n"
     ]
    },
    {
     "name": "stderr",
     "output_type": "stream",
     "text": [
      "/home/work/myvenv/lib/python3.7/site-packages/ipykernel_launcher.py:22: FutureWarning: `item` has been deprecated and will be removed in a future version\n"
     ]
    },
    {
     "name": "stdout",
     "output_type": "stream",
     "text": [
      "Projetos small Java      153 projetos\n"
     ]
    },
    {
     "name": "stderr",
     "output_type": "stream",
     "text": [
      "/home/work/myvenv/lib/python3.7/site-packages/ipykernel_launcher.py:29: FutureWarning: `item` has been deprecated and will be removed in a future version\n"
     ]
    },
    {
     "name": "stdout",
     "output_type": "stream",
     "text": [
      "Projetos medium Java     179 projetos\n"
     ]
    },
    {
     "name": "stderr",
     "output_type": "stream",
     "text": [
      "/home/work/myvenv/lib/python3.7/site-packages/ipykernel_launcher.py:36: FutureWarning: `item` has been deprecated and will be removed in a future version\n"
     ]
    },
    {
     "name": "stdout",
     "output_type": "stream",
     "text": [
      "Projetos large Java      26 projetos\n"
     ]
    },
    {
     "name": "stderr",
     "output_type": "stream",
     "text": [
      "/home/work/myvenv/lib/python3.7/site-packages/ipykernel_launcher.py:43: FutureWarning: `item` has been deprecated and will be removed in a future version\n"
     ]
    },
    {
     "name": "stdout",
     "output_type": "stream",
     "text": [
      "Projetos very large Java 0 projetos\n"
     ]
    }
   ],
   "source": [
    "print(f\"Projetos vary small Java {len(quantidade_projetos_all('java', project_java(), 1))} projetos\")\n",
    "print(f\"Projetos small Java      {len(quantidade_projetos_all('java', project_java(), 2))} projetos\")\n",
    "print(f\"Projetos medium Java     {len(quantidade_projetos_all('java', project_java(), 3))} projetos\")\n",
    "print(f\"Projetos large Java      {len(quantidade_projetos_all('java', project_java(), 4))} projetos\")\n",
    "print(f\"Projetos very large Java {len(quantidade_projetos_all('java', project_java(), 5))} projetos\")"
   ]
  },
  {
   "cell_type": "markdown",
   "metadata": {},
   "source": [
    "## Tamanho dos Projetos Ruby"
   ]
  },
  {
   "cell_type": "code",
   "execution_count": 25,
   "metadata": {},
   "outputs": [
    {
     "name": "stderr",
     "output_type": "stream",
     "text": [
      "/home/work/myvenv/lib/python3.7/site-packages/ipykernel_launcher.py:14: FutureWarning: `item` has been deprecated and will be removed in a future version\n",
      "  \n"
     ]
    },
    {
     "name": "stdout",
     "output_type": "stream",
     "text": [
      "Projetos vary small ruby 326 projetos\n"
     ]
    },
    {
     "name": "stderr",
     "output_type": "stream",
     "text": [
      "/home/work/myvenv/lib/python3.7/site-packages/ipykernel_launcher.py:22: FutureWarning: `item` has been deprecated and will be removed in a future version\n"
     ]
    },
    {
     "name": "stdout",
     "output_type": "stream",
     "text": [
      "Projetos small ruby      462 projetos\n"
     ]
    },
    {
     "name": "stderr",
     "output_type": "stream",
     "text": [
      "/home/work/myvenv/lib/python3.7/site-packages/ipykernel_launcher.py:29: FutureWarning: `item` has been deprecated and will be removed in a future version\n"
     ]
    },
    {
     "name": "stdout",
     "output_type": "stream",
     "text": [
      "Projetos medium ruby     75 projetos\n"
     ]
    },
    {
     "name": "stderr",
     "output_type": "stream",
     "text": [
      "/home/work/myvenv/lib/python3.7/site-packages/ipykernel_launcher.py:36: FutureWarning: `item` has been deprecated and will be removed in a future version\n"
     ]
    },
    {
     "name": "stdout",
     "output_type": "stream",
     "text": [
      "Projetos large ruby      7 projetos\n"
     ]
    },
    {
     "name": "stderr",
     "output_type": "stream",
     "text": [
      "/home/work/myvenv/lib/python3.7/site-packages/ipykernel_launcher.py:43: FutureWarning: `item` has been deprecated and will be removed in a future version\n"
     ]
    },
    {
     "name": "stdout",
     "output_type": "stream",
     "text": [
      "Projetos very large ruby 0 projetos\n"
     ]
    }
   ],
   "source": [
    "print(f\"Projetos vary small ruby {len(quantidade_projetos_all('ruby', project_ruby(), 1))} projetos\")\n",
    "print(f\"Projetos small ruby      {len(quantidade_projetos_all('ruby', project_ruby(), 2))} projetos\")\n",
    "print(f\"Projetos medium ruby     {len(quantidade_projetos_all('ruby', project_ruby(), 3))} projetos\")\n",
    "print(f\"Projetos large ruby      {len(quantidade_projetos_all('ruby', project_ruby(), 4))} projetos\")\n",
    "print(f\"Projetos very large ruby {len(quantidade_projetos_all('ruby', project_ruby(), 5))} projetos\")"
   ]
  },
  {
   "cell_type": "markdown",
   "metadata": {},
   "source": [
    "## Plot size of all projects"
   ]
  },
  {
   "cell_type": "code",
   "execution_count": 60,
   "metadata": {},
   "outputs": [],
   "source": [
    "def plot_bar(sett, language, very_small,low, medium, high):\n",
    "    \n",
    "    # Dados do grafico\n",
    "    if(sett == 0):\n",
    "        frequency_low = [len(low[0]),len(low[1]),len(low[2]),len(low[3]),len(low[4]),len(low[5]),len(low[6]),len(low[7]),len(low[8]),len(low[9]),len(low[10]),len(low[11])]\n",
    "        frequency_medium = [len(medium[0]),len(medium[1]),len(medium[2]),len(medium[3]),len(medium[4]),len(medium[5]),len(medium[6]),len(medium[7]),len(medium[8]),len(medium[9]),len(medium[10]),len(medium[11])]\n",
    "        frequency_high = [len(high[0]),len(high[1]),len(high[2]),len(high[3]),len(high[4]),len(high[5]),len(high[6]),len(high[7]),len(high[8]),len(high[9]),len(high[10]),len(high[11])]\n",
    "\n",
    "        labels_list = [\"january\", \"february\", \"march\", \"april\", \"may\", \"june\", \"july\", \"august\", \"september\", \"october\", \"november\", \"december\"]\n",
    "    if(sett == 1):\n",
    "        frequency_very_small = [len(very_small[0]),len(very_small[1]),len(very_small[2]),len(very_small[3]),len(very_small[4]),len(very_small[5]),len(very_small[6])]\n",
    "        frequency_low = [len(low[0]),len(low[1]),len(low[2]),len(low[3]),len(low[4]),len(low[5]),len(low[6])]\n",
    "        frequency_medium = [len(medium[0]),len(medium[1]),len(medium[2]),len(medium[3]),len(medium[4]),len(medium[5]),len(medium[6])]\n",
    "        frequency_high = [len(high[0]),len(high[1]),len(high[2]),len(high[3]),len(high[4]),len(high[5]),len(high[6])]\n",
    "\n",
    "        labels_list = ['Monday', 'Tuesday','wednesday','thursday ','friday','saturday','sunday']\n",
    "        \n",
    "    # Largura das barras\n",
    "    barWidth = 0.20\n",
    "    \n",
    "    # Tamanho do Grafico\n",
    "    plt.figure(figsize=(10,9))\n",
    "    \n",
    "    # Posicao da barras\n",
    "    r1 = np.arange(len(frequency_very_small))\n",
    "    r2 = [x + barWidth for x in r1]\n",
    "    r3 = [x + barWidth for x in r2]\n",
    "    r4 = [x + barWidth for x in r3]\n",
    "    \n",
    "    \n",
    "    # Criando as barras\n",
    "    plt.bar(r1, frequency_very_small, color='#303F9F', width=barWidth, label='Very Small')\n",
    "    plt.bar(r2, frequency_low, color='#03A9F4', width=barWidth, label='Small')\n",
    "    plt.bar(r3, frequency_medium, color='#3F51B5', width=barWidth, label='Medium')\n",
    "    plt.bar(r4, frequency_high, color='#212121', width=barWidth, label='Large')\n",
    "    \n",
    "    # Adicionando legendas as barras\n",
    "    if(sett == 0):\n",
    "        plt.xlabel('Months', fontsize=15)\n",
    "    if(sett == 1):\n",
    "        plt.xlabel('Weekday', fontsize=15)\n",
    "   \n",
    "    plt.xticks([r + barWidth for r in  range(len(frequency_low))], labels_list)\n",
    "    plt.ylabel('Quantity of commits', fontsize=15)\n",
    "    plt.title('{}'.format(language), fontsize=15)\n",
    "    \n",
    "    \n",
    "    plt.legend()\n",
    "    plt.savefig('frequencia_por_dia_semana2', format='png')\n",
    "    plt.show()\n",
    "  "
   ]
  },
  {
   "cell_type": "markdown",
   "metadata": {},
   "source": [
    "## Frequency per day and month"
   ]
  },
  {
   "cell_type": "code",
   "execution_count": 61,
   "metadata": {},
   "outputs": [],
   "source": [
    "def weekday_frequency(dataframe): #weekday\n",
    "    \n",
    "    dataframe = dataframe.gh_pushed_at.dt.weekday\n",
    "\n",
    "    monday  = []\n",
    "    tuesday  = []\n",
    "    wednesday = []\n",
    "    thursday  = []\n",
    "    friday = []\n",
    "    saturday = []\n",
    "    sunday = []\n",
    "\n",
    "    for date in dataframe:\n",
    "        if(date == 0):\n",
    "            monday.append(date)\n",
    "        elif(date == 1):\n",
    "            tuesday.append(date)\n",
    "        elif(date == 2):\n",
    "            wednesday.append(date)\n",
    "        elif(date == 3):\n",
    "            thursday.append(date)\n",
    "        elif(date == 4):\n",
    "            friday.append(date)\n",
    "        elif(date == 5):\n",
    "            saturday.append(date)\n",
    "        elif(date == 6):\n",
    "            sunday.append(date)\n",
    "            \n",
    "    #print(\"\\nMonday: {} commits \\n Tuesday: {} \\n wednesday: {} \\n Thursday: {} \\n Friday: {} \\n Saturday: {}\\n Sunday: {}\".format(len(monday), len(tuesday), len(wednesday), len(thursday), len(friday), len(saturday), len(sunday)))\n",
    "      \n",
    "    return([monday, tuesday, wednesday, thursday, friday, saturday, sunday])"
   ]
  },
  {
   "cell_type": "code",
   "execution_count": null,
   "metadata": {},
   "outputs": [],
   "source": []
  },
  {
   "cell_type": "code",
   "execution_count": 62,
   "metadata": {},
   "outputs": [
    {
     "data": {
      "image/png": "[encoded data removed]",
      "text/plain": [
       "<Figure size 720x648 with 1 Axes>"
      ]
     },
     "metadata": {
      "needs_background": "light"
     },
     "output_type": "display_data"
    }
   ],
   "source": [
    "def project(sett):\n",
    "    #dataset = dataset.sort_values(['gh_sloc'], ascending=False)\n",
    "    if(sett == 1): #abaixo de 1000 linhas\n",
    "        df1 = df.loc[dataset['gh_sloc'] < 1000]\n",
    "        return(df1)\n",
    "    \n",
    "    if(sett == 2): #acima de 1000 e menos que 10.000\n",
    "        df2 = df.loc[dataset['gh_sloc'] < 10000]\n",
    "        df2 = df2.loc[df2['gh_sloc'] > 1000]\n",
    "        return(df2)\n",
    "    \n",
    "    if(sett == 3): #acima de 10.000 linhas e menos que 100.000\n",
    "        df3 = df.loc[dataset['gh_sloc'] < 100000]\n",
    "        df3 = df3.loc[df3['gh_sloc'] > 10000]\n",
    "        return(df3)\n",
    "    \n",
    "    if(sett == 4): #acima de 100.000 linhas\n",
    "        df4 = df.loc[dataset['gh_sloc'] > 100000]\n",
    "        return(df4)        \n",
    "    \n",
    "df_very_small = project(1)\n",
    "\n",
    "df_small = project(2)\n",
    "\n",
    "df_medium = project(3)\n",
    "\n",
    "df_large = project(4)\n",
    "\n",
    "\n",
    "weekday_very_small = weekday_frequency(df_very_small)\n",
    "weekday_small = weekday_frequency(df_small)\n",
    "weekday_medium = weekday_frequency(df_medium)\n",
    "weekday_large = weekday_frequency(df_large)\n",
    "\n",
    "plot_bar(1, 'Frequency per weekday', weekday_very_small, weekday_small, weekday_medium, weekday_large)"
   ]
  },
  {
   "cell_type": "code",
   "execution_count": null,
   "metadata": {},
   "outputs": [],
   "source": []
  },
  {
   "cell_type": "markdown",
   "metadata": {},
   "source": [
    "# Serie Temporal - Quantidade de builds ao longo dos anos"
   ]
  },
  {
   "cell_type": "markdown",
   "metadata": {},
   "source": [
    "## 2012"
   ]
  },
  {
   "cell_type": "code",
   "execution_count": 49,
   "metadata": {},
   "outputs": [
    {
     "data": {
      "text/plain": [
       "51815"
      ]
     },
     "execution_count": 49,
     "metadata": {},
     "output_type": "execute_result"
    }
   ],
   "source": [
    "df_2012 = dataset.loc[dataset.gh_pushed_at.dt.year == 2012]\n",
    "\n",
    "len(df_2012)"
   ]
  },
  {
   "cell_type": "markdown",
   "metadata": {},
   "source": [
    "## 2013"
   ]
  },
  {
   "cell_type": "code",
   "execution_count": 50,
   "metadata": {},
   "outputs": [
    {
     "data": {
      "text/plain": [
       "99006"
      ]
     },
     "execution_count": 50,
     "metadata": {},
     "output_type": "execute_result"
    }
   ],
   "source": [
    "df_2013 = dataset.loc[dataset.gh_pushed_at.dt.year == 2013]\n",
    "\n",
    "len(df_2013)"
   ]
  },
  {
   "cell_type": "markdown",
   "metadata": {},
   "source": [
    "## 2014"
   ]
  },
  {
   "cell_type": "code",
   "execution_count": 51,
   "metadata": {},
   "outputs": [
    {
     "data": {
      "text/plain": [
       "120218"
      ]
     },
     "execution_count": 51,
     "metadata": {},
     "output_type": "execute_result"
    }
   ],
   "source": [
    "df_2014 = dataset.loc[dataset.gh_pushed_at.dt.year == 2014]\n",
    "\n",
    "len(df_2014)"
   ]
  },
  {
   "cell_type": "markdown",
   "metadata": {},
   "source": [
    "## 2015"
   ]
  },
  {
   "cell_type": "code",
   "execution_count": 52,
   "metadata": {},
   "outputs": [
    {
     "data": {
      "text/plain": [
       "98371"
      ]
     },
     "execution_count": 52,
     "metadata": {},
     "output_type": "execute_result"
    }
   ],
   "source": [
    "df_2015 = dataset.loc[dataset.gh_pushed_at.dt.year == 2015]\n",
    "\n",
    "len(df_2015)"
   ]
  },
  {
   "cell_type": "markdown",
   "metadata": {},
   "source": [
    "## 2016"
   ]
  },
  {
   "cell_type": "code",
   "execution_count": 53,
   "metadata": {},
   "outputs": [
    {
     "data": {
      "text/plain": [
       "858"
      ]
     },
     "execution_count": 53,
     "metadata": {},
     "output_type": "execute_result"
    }
   ],
   "source": [
    "df_2016 = dataset.loc[dataset.gh_pushed_at.dt.year == 2016]\n",
    "\n",
    "len(df_2016)"
   ]
  },
  {
   "cell_type": "code",
   "execution_count": 54,
   "metadata": {},
   "outputs": [
    {
     "data": {
      "text/plain": [
       "370268"
      ]
     },
     "execution_count": 54,
     "metadata": {},
     "output_type": "execute_result"
    }
   ],
   "source": []
  },
  {
   "cell_type": "code",
   "execution_count": 56,
   "metadata": {},
   "outputs": [
    {
     "data": {
      "text/plain": [
       "370268"
      ]
     },
     "execution_count": 56,
     "metadata": {},
     "output_type": "execute_result"
    }
   ],
   "source": []
  }
 ],
 "metadata": {
  "kernelspec": {
   "display_name": "Python 3",
   "language": "python",
   "name": "python3"
  },
  "language_info": {
   "codemirror_mode": {
    "name": "ipython",
    "version": 3
   },
   "file_extension": ".py",
   "mimetype": "text/x-python",
   "name": "python",
   "nbconvert_exporter": "python",
   "pygments_lexer": "ipython3",
   "version": "3.7.3"
  }
 },
 "nbformat": 4,
 "nbformat_minor": 2
}
