{
 "cells": [
  {
   "cell_type": "code",
   "execution_count": 2,
   "metadata": {},
   "outputs": [],
   "source": [
    "import pandas as pd\n",
    "import numpy as np\n",
    "import matplotlib.pyplot as plt"
   ]
  },
  {
   "cell_type": "code",
   "execution_count": 3,
   "metadata": {},
   "outputs": [],
   "source": [
    "FILE = '~/GitHub/ci-analysis/travistorrent_11_1_2017.csv.gz'"
   ]
  },
  {
   "cell_type": "code",
   "execution_count": 4,
   "metadata": {},
   "outputs": [],
   "source": [
    "dataset = pd.read_csv(FILE, sep=',', engine='c',usecols=['gh_team_size',\n",
    "                                                         'tr_build_id',\n",
    "                                                         'gh_project_name',\n",
    "                                                         'tr_build_id',\n",
    "                                                         'gh_project_name',\n",
    "                                                         'gh_is_pr',\n",
    "                                                         'gh_pr_created_at',\n",
    "                                                         'gh_lang',\n",
    "                                                         'git_branch',\n",
    "                                                         'gh_num_commits_in_push',\n",
    "                                                         'git_prev_commit_resolution_status',\n",
    "                                                         'tr_prev_build',\n",
    "                                                         'gh_first_commit_created_at',\n",
    "                                                         'gh_team_size',         \n",
    "                                                         'gh_pushed_at',\n",
    "                                                         'gh_sloc',\n",
    "                                                         'tr_log_bool_tests_failed',\n",
    "                                                         'tr_log_setup_time',\n",
    "                                                         'tr_log_buildduration',\n",
    "                                                         'tr_status'],dtype={ 'tr_build_id': np.float32,\n",
    "                                                                                            'gh_project_name': 'category',\n",
    "                                                                                            'gh_is_pr': np.bool,\n",
    "                                                                                            'gh_pr_created_at': 'category',\n",
    "                                                                                            'gh_lang': 'category',\n",
    "                                                                                            'git_branch': 'category',\n",
    "                                                                                            'gh_num_commits_in_push': np.float32,\n",
    "                                                                                            'git_prev_commit_resolution_status': 'category',\n",
    "                                                                                            'tr_prev_build': np.float32,\n",
    "                                                                                            'gh_first_commit_created_at': 'category',\n",
    "                                                                                            'gh_team_size': np.int32,\n",
    "                                                                                            'gh_pushed_at': 'category',                                                                                           \n",
    "                                                                                            'gh_sloc': np.int32}, encoding='utf-8')\n"
   ]
  },
  {
   "cell_type": "code",
   "execution_count": 5,
   "metadata": {},
   "outputs": [],
   "source": [
    "dataset = dataset.loc[dataset['git_branch'] == 'master'] #filter only projects in the master\n",
    "dataset = dataset[dataset.gh_lang != 'javascript'] #remove projects java script\n",
    "dataset = dataset.dropna(subset=['gh_num_commits_in_push']) #remove NaN in the column specified\n",
    "dataset['gh_pushed_at'] = pd.to_datetime(dataset.gh_pushed_at) #transforms for datetime\n",
    "dataset = dataset.drop_duplicates(['tr_build_id']) #remove duplicates"
   ]
  },
  {
   "cell_type": "code",
   "execution_count": null,
   "metadata": {},
   "outputs": [],
   "source": []
  },
  {
   "cell_type": "markdown",
   "metadata": {},
   "source": [
    "### Filters the Java language and returns a list with the name of the projects"
   ]
  },
  {
   "cell_type": "code",
   "execution_count": 6,
   "metadata": {},
   "outputs": [],
   "source": [
    "df= dataset.loc[dataset['gh_lang'] == 'java']\n",
    "list_name = df.gh_project_name.unique().tolist()"
   ]
  },
  {
   "cell_type": "markdown",
   "metadata": {},
   "source": [
    "### Creates 2 filters for passing and non-passing builds"
   ]
  },
  {
   "cell_type": "code",
   "execution_count": null,
   "metadata": {},
   "outputs": [],
   "source": [
    "passed = df.loc[df['tr_status'] == 'passed']\n",
    "failed = df.loc[df['tr_status'] == 'failed']\n",
    "\n",
    "# print('Projetos Java')\n",
    "# print('Total de builds que passaram {}'.format(passed.size))\n",
    "# print('Total de builds que NÃO passaram {}'.format(failed.size))"
   ]
  },
  {
   "cell_type": "markdown",
   "metadata": {},
   "source": [
    "### Creates a list with the amount builds passed and failed"
   ]
  },
  {
   "cell_type": "code",
   "execution_count": null,
   "metadata": {},
   "outputs": [],
   "source": [
    "passed = []\n",
    "failed = []\n",
    "for i in range(len(list_name)):\n",
    "    project = df.loc[df['gh_project_name'] == list_name[i]] \n",
    "    _passed = project.loc[project['tr_status'] == 'passed']\n",
    "    _failed = project.loc[project['tr_status'] == 'failed']\n",
    "    \n",
    "    passed.append(_passed.size)\n",
    "    failed.append(_failed.size)"
   ]
  },
  {
   "cell_type": "markdown",
   "metadata": {},
   "source": [
    "### Status Build"
   ]
  },
  {
   "cell_type": "code",
   "execution_count": null,
   "metadata": {},
   "outputs": [],
   "source": [
    "def status_build(project_name):\n",
    "    #filtra o dataset pelo nome do projeto e ordena as datas do dataset\n",
    "    df = dataset.loc[dataset['gh_project_name'] == project_name]\n",
    "    \n",
    "    df = df.sort_values(by='gh_pushed_at', ascending=False)#ordena da data mais atual para mais antiga\n",
    "    \n",
    "    df['gh_pushed_at'] = pd.to_datetime(df.gh_pushed_at).dt.date#le a coluna com apenas os dias\n",
    "    \n",
    "    date_line = df.gh_pushed_at # cria uma Serie com as datas\n",
    "    status_build = df.tr_status.tolist() # cria uma lista com os status da build\n",
    "\n",
    "    \n",
    "    '''\n",
    "    cont = 0\n",
    "\n",
    "    for i in range(len(status_build)):\n",
    "\n",
    "        if('failed' == status_build[i]):\n",
    "\n",
    "\n",
    "            print(f'failed: {i} | time: {cont} | {time[i]}')\n",
    "            cont += 1\n",
    "\n",
    "        elif('passed' == status_build[i]):\n",
    "\n",
    "            print(f'passed: {i} | time: {cont} | {time[i]}')\n",
    "    '''\n",
    "    \n",
    "    build_red = []\n",
    "    sett = 0\n",
    "    \n",
    "    for i in range(len(status_build)):\n",
    "\n",
    "        if(\"failed\" == status_build[i]):\n",
    "            if(sett == 0):\n",
    "                index_fail = i\n",
    "                sett = 1\n",
    "        if(('passed' == status_build[i]) and (sett == 1)):\n",
    "                \n",
    "                #print(f\"{project_name} | build: fail:{index_fail} passed:{i} | linha: {i}: days: {date_line.iloc[i]} - {date_line.iloc[index_fail]} | day: {date_line.iloc[index_fail] - date_line.iloc[i]}\")\n",
    "                build_red.append(date_line.iloc[index_fail] - date_line.iloc[i]) # subtrai o dia que a build nao passou ate o dia que passa\n",
    "                sett = 0\n",
    "\n",
    "    return(build_red) # retorna uma lista com datas de quando deu fail ate pasar"
   ]
  },
  {
   "cell_type": "markdown",
   "metadata": {},
   "source": [
    "### Status Build for all projects"
   ]
  },
  {
   "cell_type": "code",
   "execution_count": 7,
   "metadata": {},
   "outputs": [
    {
     "ename": "NameError",
     "evalue": "name 'status_build' is not defined",
     "output_type": "error",
     "traceback": [
      "\u001b[0;31m--------------------------------------------------------------------------\u001b[0m",
      "\u001b[0;31mNameError\u001b[0m                                Traceback (most recent call last)",
      "\u001b[0;32m<ipython-input-7-8cb99359f33a>\u001b[0m in \u001b[0;36m<module>\u001b[0;34m\u001b[0m\n\u001b[1;32m      5\u001b[0m \u001b[0mlist_days_broken\u001b[0m \u001b[0;34m=\u001b[0m \u001b[0;34m[\u001b[0m\u001b[0;34m]\u001b[0m\u001b[0;34m\u001b[0m\u001b[0;34m\u001b[0m\u001b[0m\n\u001b[1;32m      6\u001b[0m \u001b[0;32mfor\u001b[0m \u001b[0mi\u001b[0m \u001b[0;32min\u001b[0m \u001b[0mrange\u001b[0m\u001b[0;34m(\u001b[0m\u001b[0mlen\u001b[0m\u001b[0;34m(\u001b[0m\u001b[0mlist_name\u001b[0m\u001b[0;34m)\u001b[0m\u001b[0;34m)\u001b[0m\u001b[0;34m:\u001b[0m\u001b[0;34m\u001b[0m\u001b[0;34m\u001b[0m\u001b[0m\n\u001b[0;32m----> 7\u001b[0;31m     \u001b[0mlist_days_broken\u001b[0m\u001b[0;34m.\u001b[0m\u001b[0mappend\u001b[0m\u001b[0;34m(\u001b[0m\u001b[0mstatus_build\u001b[0m\u001b[0;34m(\u001b[0m\u001b[0mlist_name\u001b[0m\u001b[0;34m[\u001b[0m\u001b[0mi\u001b[0m\u001b[0;34m]\u001b[0m\u001b[0;34m)\u001b[0m\u001b[0;34m)\u001b[0m\u001b[0;34m\u001b[0m\u001b[0;34m\u001b[0m\u001b[0m\n\u001b[0m\u001b[1;32m      8\u001b[0m \u001b[0;34m\u001b[0m\u001b[0m\n\u001b[1;32m      9\u001b[0m \u001b[0mdays_broken\u001b[0m \u001b[0;34m=\u001b[0m \u001b[0;34m[\u001b[0m\u001b[0;34m]\u001b[0m\u001b[0;34m\u001b[0m\u001b[0;34m\u001b[0m\u001b[0m\n",
      "\u001b[0;31mNameError\u001b[0m: name 'status_build' is not defined"
     ]
    }
   ],
   "source": [
    "list_name = dataset.gh_project_name.unique().tolist() \n",
    "\n",
    "#print(f\"quantidade total de projetos {len(list_name)}\")\n",
    "\n",
    "list_days_broken = []\n",
    "for i in range(len(list_name)):\n",
    "    list_days_broken.append(status_build(list_name[i]))\n",
    "\n",
    "days_broken = []\n",
    "for j in range(len(list_days_broken)):\n",
    "    days_broken = days_broken + list_days_broken[j]\n",
    "    \n",
    "\n",
    "\n",
    "days = pd.DataFrame(days_broken, columns=['date']) # cria uma\n",
    "\n",
    "#print(days.date.dt.days.describe())\n",
    "\n",
    "\n",
    "count = 0 \n",
    "metric = days.date.dt.days.describe()[6] # 3 quartil \n",
    "\n",
    "#percorre o vetor quando ele encontra um que é equivalente ao if da break e vai para o proximo vetor que no caso seria outro projeto\n",
    "for k in range(len(list_days_broken)):\n",
    "    validate = 0 \n",
    "    for j in range(len(list_days_broken[k])):\n",
    "        if(metric <= list_days_broken[k][j].days):\n",
    "            count+=1\n",
    "            break\n",
    "            #se uma metrica está sendo contada mais de uma ves quando ele encontar deve passar pra proxima lista e não fica na mesma \n",
    "\n",
    "#print(f\"Quantidade de projetos com builds quebradas é de {count} tendo uma duração de {metric} dias\")\n",
    "   "
   ]
  },
  {
   "cell_type": "markdown",
   "metadata": {},
   "source": [
    "### Status build for JAVA"
   ]
  },
  {
   "cell_type": "code",
   "execution_count": null,
   "metadata": {},
   "outputs": [],
   "source": [
    "'''\n",
    "Filtro a linguagem java, utilizo o def status_build e recebo um lista de dias que a build ficou quebrada, adiciono todos elementos em um lista e \n",
    "torno ela em uma Serie utilizo o describe para descrever a media e os quartils\n",
    "pego o 3 quartil como metrica de builds com mais duração em quebra\n",
    "\n",
    "percorro o vetor com as listas de dias quebrados e verifico quais são iguais ou maior a metrica definida e somo em um contador para cada projeto encontrado\n",
    "'''\n",
    "def days_briken(language, )\n",
    "df = dataset.loc[dataset['gh_lang'] == 'java']\n",
    "\n",
    "list_name = df.gh_project_name.unique().tolist() \n",
    "\n",
    "print(f\"quantidade de projetos java {len(list_name)}\")\n",
    "\n",
    "list_days_broken = []\n",
    "for i in range(len(list_name)):\n",
    "    list_days_broken.append(status_build(list_name[i]))\n",
    "\n",
    "days_broken = []\n",
    "for j in range(len(list_days_broken)):\n",
    "    days_broken = days_broken + list_days_broken[j]\n",
    "    \n",
    "\n",
    "\n",
    "days_java = pd.DataFrame(days_broken, columns=['date']) # cria uma\n",
    "\n",
    "\n",
    "print(days_java.date.dt.days.describe())\n",
    "\n",
    "metric = days_java.date.dt.days.describe()[6] # 3 quartil\n",
    "\n",
    "\n",
    "\n",
    "count = 0 \n",
    "metric = days_java.date.dt.days.describe()[6] # 3 quartil \n",
    "\n",
    "#percorre o vetor quando ele encontra um que é equivalente ao if da break e vai para o proximo vetor que no caso seria outro projeto\n",
    "for k in range(len(list_days_broken)):\n",
    "    for j in range(len(list_days_broken[k])):\n",
    "        if(metric <= list_days_broken[k][j].days):\n",
    "            count+=1\n",
    "            break\n",
    "            #uma metrica está sendo contada mais de uma ves quando ele encontar deve passar pra proxima lista e não fica na mesma \n",
    "\n",
    "#print(f\"Quantidade de projetos java com builds quebradas é de {count} tendo uma duração de {metric} dias\")\n",
    "   "
   ]
  },
  {
   "cell_type": "markdown",
   "metadata": {},
   "source": [
    "### Status build for RUBY"
   ]
  },
  {
   "cell_type": "code",
   "execution_count": null,
   "metadata": {},
   "outputs": [],
   "source": [
    "'''\n",
    "I filter the java language, I use the def status_build and I get a list of days that the build was broken, I add all the elements in a list and\n",
    "I use it to describe the media and the quartiles\n",
    "I get the 3 quartile as the metric of builds with more duration in break\n",
    "\n",
    "I run the vector with the lists of broken days and check which are equal or greater the defined metrica and somo in a counter for each project found\n",
    "'''\n",
    "\n",
    "df = dataset.loc[dataset['gh_lang'] == 'ruby']\n",
    "\n",
    "list_name = df.gh_project_name.unique().tolist() \n",
    "\n",
    "#print(f\"quantidade de projetos java {len(list_name)}\")\n",
    "\n",
    "list_days_broken = []\n",
    "for i in range(len(list_name)):\n",
    "    list_days_broken.append(status_build(list_name[i]))\n",
    "\n",
    "days_broken_ruby = []\n",
    "for j in range(len(list_days_broken)):\n",
    "    days_broken_ruby = days_broken_ruby + list_days_broken[j]\n",
    "    \n",
    "\n",
    "\n",
    "days_ruby = pd.DataFrame(days_broken_ruby, columns=['date']) # cria uma\n",
    "\n",
    "\n",
    "#print(days_ruby.date.dt.days.describe())\n",
    "\n",
    "metric = days_ruby.date.dt.days.describe()[6] # 3 quartil\n",
    "\n",
    "\n",
    "\n",
    "count = 0 \n",
    "metric = days_ruby.date.dt.days.describe()[6] # 3 quartil \n",
    "\n",
    "#percorre o vetor quando ele encontra um que é equivalente ao if da break e vai para o proximo vetor que no caso seria outro projeto\n",
    "for k in range(len(list_days_broken)):\n",
    "    for j in range(len(list_days_broken[k])):\n",
    "        if(metric <= list_days_broken[k][j].days):\n",
    "            count+=1\n",
    "            break\n",
    "            #uma metrica está sendo contada mais de uma ves quando ele encontar deve passar pra proxima lista e não fica na mesma \n",
    "\n",
    "#print(f\"Quantidade de projetos ruby com builds quebradas é de {count} tendo uma duração de {metric} dias\")\n",
    "   "
   ]
  },
  {
   "cell_type": "markdown",
   "metadata": {},
   "source": [
    "### Number of projects"
   ]
  },
  {
   "cell_type": "code",
   "execution_count": null,
   "metadata": {},
   "outputs": [],
   "source": [
    "def quantidade_projetos(language, sett):\n",
    "    small, medium, large, very_small= [], [], [], []\n",
    "    \n",
    "    df = dataset.sort_values(['gh_sloc'], ascending=False)\n",
    "    df = df.loc[df['gh_lang'] == language]\n",
    "    \n",
    "    list_name_project = df.gh_project_name.unique().tolist()\n",
    "\n",
    "    if(sett == 1):\n",
    "        for name in list_name_project:\n",
    "            df0 = df.loc[df['gh_project_name'] == name]\n",
    "            if(1000 > df0.gh_sloc[0:1].item()):\n",
    "                very_small.append(name)\n",
    "        return(very_small)\n",
    "       \n",
    "    if(sett == 2):\n",
    "        for name in list_name_project:\n",
    "            df1 = df.loc[df['gh_project_name'] == name]\n",
    "            if((1000 < df1.gh_sloc[0:1].item()) and (10000 > df1.gh_sloc[0:1].item())):\n",
    "                small.append(name)\n",
    "        return(small)\n",
    "    \n",
    "    if(sett == 3):\n",
    "        for name in list_name_project:\n",
    "            df2 = df.loc[df['gh_project_name'] == name]\n",
    "            if((10000 < df2.gh_sloc[0:1].item()) and (100000 > df2.gh_sloc[0:1].item())):\n",
    "                medium.append(name)\n",
    "        return(medium)\n",
    "    \n",
    "    if(sett == 4):\n",
    "        for name in list_name_project:\n",
    "            df3 = df.loc[df['gh_project_name'] == name]\n",
    "            if(100000 < df3.gh_sloc[0:1].item()):\n",
    "                large.append(name)\n",
    "        return(large)\n",
    "    "
   ]
  },
  {
   "cell_type": "markdown",
   "metadata": {},
   "source": [
    "### Number of projects with broken build"
   ]
  },
  {
   "cell_type": "code",
   "execution_count": null,
   "metadata": {},
   "outputs": [],
   "source": [
    "def days_broken(list_name):\n",
    "    \n",
    "    print(f\"quantidade de projetos {len(list_name)}\")\n",
    "\n",
    "\n",
    "    list_days_broken = []\n",
    "    for i in range(len(list_name)): #cria uma matriz de dias quebrados\n",
    "        list_days_broken.append(status_build(list_name[i]))\n",
    "\n",
    "    days_broken = []\n",
    "    for j in range(len(list_days_broken)): #transforma a matriz numa lista\n",
    "        days_broken = days_broken + list_days_broken[j]\n",
    "\n",
    "\n",
    "\n",
    "    df_broken = pd.DataFrame(days_broken, columns=['date']) # cria uma\n",
    "\n",
    "\n",
    "    print(df_broken.date.dt.days.describe())\n",
    "\n",
    "    metric = df_broken.date.dt.days.describe()[6] # 3 quartil\n",
    "\n",
    "\n",
    "\n",
    "    count = 0 \n",
    "    metric = df_broken.date.dt.days.describe()[6] # 3 quartil \n",
    "\n",
    "    #percorre o vetor quando ele encontra um que é equivalente ao if da break e vai para o proximo vetor que no caso seria outro projeto\n",
    "    for k in range(len(list_days_broken)):\n",
    "        for j in range(len(list_days_broken[k])):\n",
    "            if(metric <= list_days_broken[k][j].days):\n",
    "                count+=1\n",
    "                break\n",
    "                #uma metrica está sendo contada mais de uma ves quando ele encontar deve passar pra proxima lista e não fica na mesma \n",
    "\n",
    "    #print(f\"Quantidade de projetos com builds quebradas é de {count} tendo uma duração de {metric} dias\")\n",
    "   \n",
    "    return(df_broken.date.dt.days)\n",
    "\n",
    "\n"
   ]
  },
  {
   "cell_type": "markdown",
   "metadata": {},
   "source": [
    "### Displays build broken by language"
   ]
  },
  {
   "cell_type": "code",
   "execution_count": null,
   "metadata": {},
   "outputs": [],
   "source": [
    "list_very_small = quantidade_projetos('java', 1) \n",
    "very_small = days_broken(list_very_small)\n",
    "\n",
    "list_small = quantidade_projetos('java', 2) \n",
    "small = days_broken(list_small)\n",
    "\n",
    "list_medium = quantidade_projetos('java', 3) \n",
    "medium = days_broken(list_medium)\n",
    "\n",
    "list_large = quantidade_projetos('java', 4) \n",
    "large = days_broken(list_large)\n",
    "\n"
   ]
  },
  {
   "cell_type": "code",
   "execution_count": null,
   "metadata": {},
   "outputs": [],
   "source": []
  },
  {
   "cell_type": "code",
   "execution_count": null,
   "metadata": {},
   "outputs": [],
   "source": []
  }
 ],
 "metadata": {
  "kernelspec": {
   "display_name": "Python 3",
   "language": "python",
   "name": "python3"
  },
  "language_info": {
   "codemirror_mode": {
    "name": "ipython",
    "version": 3
   },
   "file_extension": ".py",
   "mimetype": "text/x-python",
   "name": "python",
   "nbconvert_exporter": "python",
   "pygments_lexer": "ipython3",
   "version": "3.7.3"
  }
 },
 "nbformat": 4,
 "nbformat_minor": 2
}
