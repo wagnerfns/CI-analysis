{
 "cells": [
  {
   "cell_type": "code",
   "execution_count": null,
   "metadata": {},
   "outputs": [],
   "source": [
    "import pandas as pd\n",
    "import numpy as np\n",
    "import matplotlib.pyplot as plt"
   ]
  },
  {
   "cell_type": "code",
   "execution_count": null,
   "metadata": {},
   "outputs": [],
   "source": [
    "FILE = '~/GitHub/ci-analysis/travistorrent_11_1_2017.csv.gz'"
   ]
  },
  {
   "cell_type": "code",
   "execution_count": null,
   "metadata": {},
   "outputs": [],
   "source": [
    "dataset = pd.read_csv(FILE, sep=',', engine='c',usecols=['gh_team_size',\n",
    "                                                         'tr_build_id',\n",
    "                                                         'gh_project_name',\n",
    "                                                         'tr_build_id',\n",
    "                                                         'gh_project_name',\n",
    "                                                         'gh_is_pr',\n",
    "                                                         'gh_pr_created_at',\n",
    "                                                         'gh_lang',\n",
    "                                                         'git_branch',\n",
    "                                                         'gh_num_commits_in_push',\n",
    "                                                         'git_prev_commit_resolution_status',\n",
    "                                                         'tr_prev_build',\n",
    "                                                         'gh_first_commit_created_at',\n",
    "                                                         'gh_team_size',         \n",
    "                                                         'gh_pushed_at',\n",
    "                                                         'gh_sloc',\n",
    "                                                         'tr_log_bool_tests_failed',\n",
    "                                                         'tr_log_setup_time',\n",
    "                                                         'tr_log_buildduration',\n",
    "                                                         'tr_status'],dtype={ 'tr_build_id': np.float32,\n",
    "                                                                                            'gh_project_name': 'category',\n",
    "                                                                                            'gh_is_pr': np.bool,\n",
    "                                                                                            'gh_pr_created_at': 'category',\n",
    "                                                                                            'gh_lang': 'category',\n",
    "                                                                                            'git_branch': 'category',\n",
    "                                                                                            'gh_num_commits_in_push': np.float32,\n",
    "                                                                                            'git_prev_commit_resolution_status': 'category',\n",
    "                                                                                            'tr_prev_build': np.float32,\n",
    "                                                                                            'gh_first_commit_created_at': 'category',\n",
    "                                                                                            'gh_team_size': np.int32,\n",
    "                                                                                            'gh_pushed_at': 'category',                                                                                           \n",
    "                                                                                            'gh_sloc': np.int32}, encoding='utf-8')\n"
   ]
  },
  {
   "cell_type": "code",
   "execution_count": null,
   "metadata": {},
   "outputs": [],
   "source": [
    "dataset = dataset.loc[dataset['git_branch'] == 'master'] #filter only projects in the master\n",
    "dataset = dataset[dataset.gh_lang != 'javascript'] #remove projects java script\n",
    "dataset = dataset.dropna(subset=['gh_num_commits_in_push']) #remove NaN in the column specified\n",
    "dataset['gh_pushed_at'] = pd.to_datetime(dataset.gh_pushed_at) #transforms for datetime\n",
    "dataset = dataset.drop_duplicates(['tr_build_id']) #remove duplicates"
   ]
  },
  {
   "cell_type": "code",
   "execution_count": null,
   "metadata": {},
   "outputs": [],
   "source": []
  },
  {
   "cell_type": "code",
   "execution_count": 1,
   "metadata": {},
   "outputs": [],
   "source": [
    "### Filters the Java language and returns a list with the name of the projects"
   ]
  },
  {
   "cell_type": "code",
   "execution_count": null,
   "metadata": {},
   "outputs": [],
   "source": [
    "df= dataset.loc[dataset['gh_lang'] == 'java']\n",
    "list_name = df.gh_project_name.unique().tolist()"
   ]
  },
  {
   "cell_type": "code",
   "execution_count": null,
   "metadata": {},
   "outputs": [],
   "source": [
    "### Creates 2 filters for passing and non-passing builds"
   ]
  },
  {
   "cell_type": "code",
   "execution_count": null,
   "metadata": {},
   "outputs": [],
   "source": [
    "passed = df.loc[df['tr_status'] == 'passed']\n",
    "failed = df.loc[df['tr_status'] == 'failed']\n",
    "\n",
    "# print('Projetos Java')\n",
    "# print('Total de builds que passaram {}'.format(passed.size))\n",
    "# print('Total de builds que NÃO passaram {}'.format(failed.size))"
   ]
  },
  {
   "cell_type": "code",
   "execution_count": null,
   "metadata": {},
   "outputs": [],
   "source": [
    "### Creates a list with the amount builds passed and failed"
   ]
  },
  {
   "cell_type": "code",
   "execution_count": null,
   "metadata": {},
   "outputs": [],
   "source": [
    "passed = []\n",
    "failed = []\n",
    "for i in range(len(list_name)):\n",
    "    project = df.loc[df['gh_project_name'] == list_name[i]] \n",
    "    _passed = project.loc[project['tr_status'] == 'passed']\n",
    "    _failed = project.loc[project['tr_status'] == 'failed']\n",
    "    \n",
    "    passed.append(_passed.size)\n",
    "    failed.append(_failed.size)"
   ]
  },
  {
   "cell_type": "code",
   "execution_count": null,
   "metadata": {},
   "outputs": [],
   "source": [
    "### Status Build"
   ]
  },
  {
   "cell_type": "code",
   "execution_count": null,
   "metadata": {},
   "outputs": [],
   "source": [
    "def status_build(project_name):\n",
    "    #filtra o dataset pelo nome do projeto e ordena as datas do dataset\n",
    "    df = dataset.loc[dataset['gh_project_name'] == project_name]\n",
    "    \n",
    "    df = df.sort_values(by='gh_pushed_at', ascending=False)#ordena da data mais atual para mais antiga\n",
    "    \n",
    "    df['gh_pushed_at'] = pd.to_datetime(df.gh_pushed_at).dt.date#le a coluna com apenas os dias\n",
    "    \n",
    "    date_line = df.gh_pushed_at # cria uma Serie com as datas\n",
    "    status_build = df.tr_status.tolist() # cria uma lista com os status da build\n",
    "\n",
    "    \n",
    "    '''\n",
    "    cont = 0\n",
    "\n",
    "    for i in range(len(status_build)):\n",
    "\n",
    "        if('failed' == status_build[i]):\n",
    "\n",
    "\n",
    "            print(f'failed: {i} | time: {cont} | {time[i]}')\n",
    "            cont += 1\n",
    "\n",
    "        elif('passed' == status_build[i]):\n",
    "\n",
    "            print(f'passed: {i} | time: {cont} | {time[i]}')\n",
    "    '''\n",
    "    \n",
    "    build_red = []\n",
    "    sett = 0\n",
    "    \n",
    "    for i in range(len(status_build)):\n",
    "\n",
    "        if(\"failed\" == status_build[i]):\n",
    "            if(sett == 0):\n",
    "                index_fail = i\n",
    "                sett = 1\n",
    "        if(('passed' == status_build[i]) and (sett == 1)):\n",
    "                \n",
    "                #print(f\"{project_name} | build: fail:{index_fail} passed:{i} | linha: {i}: days: {date_line.iloc[i]} - {date_line.iloc[index_fail]} | day: {date_line.iloc[index_fail] - date_line.iloc[i]}\")\n",
    "                build_red.append(date_line.iloc[index_fail] - date_line.iloc[i]) # subtrai o dia que a build nao passou ate o dia que passa\n",
    "                sett = 0\n",
    "\n",
    "    return(build_red) # retorna uma lista com datas de quando deu fail ate pasar"
   ]
  },
  {
   "cell_type": "code",
   "execution_count": null,
   "metadata": {},
   "outputs": [],
   "source": [
    "### Status Build for all projects"
   ]
  },
  {
   "cell_type": "code",
   "execution_count": null,
   "metadata": {},
   "outputs": [],
   "source": [
    "list_name = dataset.gh_project_name.unique().tolist() \n",
    "\n",
    "#print(f\"quantidade total de projetos {len(list_name)}\")\n",
    "\n",
    "list_days_broken = []\n",
    "for i in range(len(list_name)):\n",
    "    list_days_broken.append(status_build(list_name[i]))\n",
    "\n",
    "days_broken = []\n",
    "for j in range(len(list_days_broken)):\n",
    "    days_broken = days_broken + list_days_broken[j]\n",
    "    \n",
    "\n",
    "\n",
    "days = pd.DataFrame(days_broken, columns=['date']) # cria uma\n",
    "\n",
    "#print(days.date.dt.days.describe())\n",
    "\n",
    "\n",
    "count = 0 \n",
    "metric = days.date.dt.days.describe()[6] # 3 quartil \n",
    "\n",
    "#percorre o vetor quando ele encontra um que é equivalente ao if da break e vai para o proximo vetor que no caso seria outro projeto\n",
    "for k in range(len(list_days_broken)):\n",
    "    validate = 0 \n",
    "    for j in range(len(list_days_broken[k])):\n",
    "        if(metric <= list_days_broken[k][j].days):\n",
    "            count+=1\n",
    "            break\n",
    "            #se uma metrica está sendo contada mais de uma ves quando ele encontar deve passar pra proxima lista e não fica na mesma \n",
    "\n",
    "#print(f\"Quantidade de projetos com builds quebradas é de {count} tendo uma duração de {metric} dias\")\n",
    "   "
   ]
  },
  {
   "cell_type": "code",
   "execution_count": null,
   "metadata": {},
   "outputs": [],
   "source": []
  },
  {
   "cell_type": "code",
   "execution_count": null,
   "metadata": {},
   "outputs": [],
   "source": []
  }
 ],
 "metadata": {
  "kernelspec": {
   "display_name": "Python 3",
   "language": "python",
   "name": "python3"
  },
  "language_info": {
   "codemirror_mode": {
    "name": "ipython",
    "version": 3
   },
   "file_extension": ".py",
   "mimetype": "text/x-python",
   "name": "python",
   "nbconvert_exporter": "python",
   "pygments_lexer": "ipython3",
   "version": "3.7.3"
  }
 },
 "nbformat": 4,
 "nbformat_minor": 2
}
