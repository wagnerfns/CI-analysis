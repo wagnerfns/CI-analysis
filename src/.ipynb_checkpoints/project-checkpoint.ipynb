{
 "cells": [
  {
   "cell_type": "markdown",
   "metadata": {},
   "source": [
    "### Summary\n",
    "- [Import library](#Import-library)\n",
    "- [Load csv](#Load-csv)\n",
    "- [Read dataset](#Read-dataset)\n",
    "- [Filter of dataset](#Filter-of-dataset)\n",
    "\n",
    "- [RQ1](#RQ1)\n",
    "    - [Project size filter](#Project-size-filter)\n",
    "    - [Number of projects per size](#Number-of-projects-per-size)\n",
    "        - [Size of Ruby and Java projects](#Size-of-Ruby-and-Java-projects)\n",
    "    - [Frequency per day and month](#Frequency-per-day-and-month)\n",
    "    - [Plot in bar](#Plot-in-bar)\n",
    "    - [Plot size of all projects](#Plot-size-of-all-projects)\n",
    "    - [Data from very small projects, small, medium, large and very large.](#Data-from-very-small-projects,-small,-medium,-large-and-very-large)\n",
    "    - [General media of commits](#General-media-of-commits)\n",
    "    - [Number of projects below average](#Number-of-projects-below-average)\n",
    "    - [Description of java projects](#Description-of-java-projects)\n",
    "    - [Description of ruby projects](#Description-of-ruby-projects)\n",
    "    - [Plot of java project commits frequency](#Plot-of-java-project-commits-frequency)\n",
    "    - [Plot of ruby project commits frequency](#Plot-of-ruby-project-commits-frequency)\n",
    "\n",
    "- [RQ2](#RQ2)\n",
    "    - [Number of builds per java project](#Number-of-builds-per-java-project)\n",
    "    - [Receive java projects that use coveralls](#Receive-java-projects-that-use-coveralls)\n",
    "    - [Number of builds per ruby project](#Number-of-builds-per-ruby-project)\n",
    "    - [Receive java projects that use coveralls](#Receive-ruby-projects-that-use-coveralls)\n",
    "    - [Coverralls dataset with filters - Java](#Coverralls-dataset-with-filters---Java)\n",
    "    - [Travis dataset with filters - Java](#Travis-dataset-with-filters---Java)\n",
    "    - [Coverralls dataset with filters - Ruby](#Coverralls-dataset-with-filters---Ruby)\n",
    "    - [Travis dataset with filters - Ruby](#Travis-dataset-with-filters---Ruby)\n",
    "    - [Boxplot](#Boxplot)\n",
    "    - [Comparing](#Comparing)\n",
    "    - [Get coveralls data](#Get-coveralls-data)\n",
    "    - [Calculate some statistic util informations](#Calculate-some-statistic-util-informations)\n",
    "\n",
    "- [RQ3](#RQ3)\n",
    "    - [Filters the Java language and returns a list with the name of the projects](#Filters-the-Java-language-and-returns-a-list-with-the-name-of-the-projects)\n",
    "    - [Creates 2 filters for passing and non-passing builds](#Creates-2-filters-for-passing-and-non-passing-builds)\n",
    "    - [Creates a list with the amount builds passed and failed](#Creates-a-list-with-the-amount-builds-passed-and-failed)\n",
    "    - [Status Build](#Status-Build)\n",
    "    - [Status Build for all projects](#Status-Build-for-all-projects)\n",
    "    - [Status build for JAVA](#Status-build-for-JAVA)\n",
    "    - [Status build for RUBY](#Status-build-for-RUBY)\n",
    "    - [Number of projects](#Number-of-projects)\n",
    "    - [Number of projects with broken build](#Number-of-projects-with-broken-build)\n",
    "    - [Displays build broken by language](#Displays-build-broken-by-language)\n",
    "\n",
    "- [RQ4](#RQ4)\n",
    "    - [Filter dataset](#Filter-dataset)\n",
    "    - [Amount of build less than 10 minutes and more than 10 minutes](#Amount-of-build-less-than-10-minutes-and-more-than-10-minutes)\n",
    "    - [Duration build for projetc Very small, small, medium, large and very large](#Duration-build-for-projetc-Very-small,-small,-medium,-large-and-very-large)\n",
    "    - [Project size by language type](#Project-size-by-language-type)\n",
    "    - [Filter language Java](#Filter-language-Java)\n",
    "        - [Java build quantity less than 10 minutes and more than 10 minutes](#Java-build-quantity-less-than-10-minutes-and-more-than-10-minutes)\n",
    "        - [Projects java, Very small, small, medium, large and very large](#Projects-java,-Very-small,-small,-medium,-large-and-very-large)\n",
    "    - [Filter language Ruby](#Filter-language-Ruby)\n",
    "        - [Ruby build quantity less than 10 minutes and more than 10 minutes](#Ruby-build-quantity-less-than-10-minutes-and-more-than-10-minutes)\n",
    "    - [Projects ruby Very small, small, medium, large e very large](#Projects-ruby-Very-small,-small,-medium,-large-e-very-large)"
   ]
  },
  {
   "cell_type": "markdown",
   "metadata": {},
   "source": [
    "# Import library"
   ]
  },
  {
   "cell_type": "code",
   "execution_count": 2,
   "metadata": {},
   "outputs": [],
   "source": [
    "import pandas as pd\n",
    "import numpy as np\n",
    "import matplotlib.pyplot as plt\n",
    "\n",
    "import csv\n",
    "import datetime\n",
    "\n",
    "import requests\n",
    "import math\n",
    "import csv\n",
    "import re"
   ]
  },
  {
   "cell_type": "markdown",
   "metadata": {},
   "source": [
    "# Load csv"
   ]
  },
  {
   "cell_type": "code",
   "execution_count": 4,
   "metadata": {},
   "outputs": [],
   "source": [
    "FILE = '~ci-analysis/travistorrent_11_1_2017.csv.gz'"
   ]
  },
  {
   "cell_type": "markdown",
   "metadata": {},
   "source": [
    "# Read dataset"
   ]
  },
  {
   "cell_type": "code",
   "execution_count": 5,
   "metadata": {},
   "outputs": [],
   "source": [
    "dataset = pd.read_csv(FILE, sep=',', engine='c',usecols=['gh_team_size',\n",
    "                                                         'tr_build_id',\n",
    "                                                         'gh_project_name',\n",
    "                                                         'tr_build_id',\n",
    "                                                         'gh_project_name',\n",
    "                                                         'gh_is_pr',\n",
    "                                                         'gh_pr_created_at',\n",
    "                                                         'gh_lang',\n",
    "                                                         'git_branch',\n",
    "                                                         'gh_num_commits_in_push',\n",
    "                                                         'git_prev_commit_resolution_status',\n",
    "                                                         'tr_prev_build',\n",
    "                                                         'gh_first_commit_created_at',\n",
    "                                                         'gh_team_size',         \n",
    "                                                         'gh_pushed_at',\n",
    "                                                         'gh_sloc',\n",
    "                                                         'tr_log_bool_tests_failed',\n",
    "                                                         'tr_log_setup_time',\n",
    "                                                         'tr_log_buildduration',\n",
    "                                                         'tr_status'],dtype={ 'tr_build_id': np.float32,\n",
    "                                                                                            'gh_project_name': 'category',\n",
    "                                                                                            'gh_is_pr': np.bool,\n",
    "                                                                                            'gh_pr_created_at': 'category',\n",
    "                                                                                            'gh_lang': 'category',\n",
    "                                                                                            'git_branch': 'category',\n",
    "                                                                                            'gh_num_commits_in_push': np.float32,\n",
    "                                                                                            'git_prev_commit_resolution_status': 'category',\n",
    "                                                                                            'tr_prev_build': np.float32,\n",
    "                                                                                            'gh_first_commit_created_at': 'category',\n",
    "                                                                                            'gh_team_size': np.int32,\n",
    "                                                                                            'gh_pushed_at': 'category',                                                                                           \n",
    "                                                                                            'gh_sloc': np.int32}, encoding='utf-8')\n"
   ]
  },
  {
   "cell_type": "markdown",
   "metadata": {},
   "source": [
    "# Filter of dataset "
   ]
  },
  {
   "cell_type": "code",
   "execution_count": 6,
   "metadata": {
    "scrolled": true
   },
   "outputs": [],
   "source": [
    "dataset = dataset.loc[dataset['git_branch'] == 'master'] #filter only projects in the master\n",
    "dataset = dataset[dataset.gh_lang != 'javascript'] #remove projects java script\n",
    "dataset = dataset.dropna(subset=['gh_num_commits_in_push']) #remove NaN in the column specified\n",
    "dataset['gh_pushed_at'] = pd.to_datetime(dataset.gh_pushed_at) #transforms for datetime\n",
    "dataset = dataset.drop_duplicates(['tr_build_id']) #remove duplicates"
   ]
  },
  {
   "cell_type": "markdown",
   "metadata": {},
   "source": [
    "# RQ1"
   ]
  },
  {
   "cell_type": "markdown",
   "metadata": {},
   "source": [
    "### Project size filter"
   ]
  },
  {
   "cell_type": "code",
   "execution_count": 7,
   "metadata": {},
   "outputs": [],
   "source": [
    "\"\"\"\n",
    "Design below 1,000 lines will be discarded, project owning above 1000 and less than 10,000 will be considered small,\n",
    "projects owning over 10,000 lines and less than 100,000 will be considered medium and projects above 100,000 \n",
    "lines will be considered large\n",
    "\"\"\"\n",
    "def size_project(dataset, language, sett):\n",
    "    dataset = dataset.sort_values(['gh_sloc'], ascending=False)\n",
    "    if(sett == 1): #abaixo de 1000 linhas\n",
    "        df1 = dataset.loc[(dataset['gh_sloc'] < 1000) & (dataset['gh_lang'] == language)]\n",
    "        ##list_project_df1 = df1.gh_project_name.unique().tolist()\n",
    "        #print(\"Projetos {} abaixo de 1000 linhas: {}\".format(language, len(list_project_df1)))  \n",
    "        return(df1)\n",
    "    if(sett == 2): #acima de 1000 e menos que 10.000\n",
    "        df2 = dataset.loc[(dataset['gh_sloc'] < 10000)]\n",
    "        df2 = df2.loc[(df2['gh_sloc'] > 1000) & (df2['gh_lang'] == language)]\n",
    "        #list_project_df2 = df2.gh_project_name.unique().tolist() #filtra o nome de cada projeto e coloca em uma lista\n",
    "        \n",
    "        #print(\"Projetos {} acima de 1000 linhas e abaixo de 10.000 : {}\".format(language,len(list_project_df2)))\n",
    "        return(df2)\n",
    "    \n",
    "    if(sett == 3): #acima de 10.000 linhas e menos que 100.000\n",
    "        df3 = dataset.loc[(dataset['gh_sloc'] < 100000)]\n",
    "        df3 = df3.loc[(df3['gh_sloc'] > 10000) & (df3['gh_lang'] == language)]\n",
    "        #list_project_df3 = df3.gh_project_name.unique().tolist() #filtra o nome de cada projeto e coloca em uma lista\n",
    "    \n",
    "        #print(\"Projetos {} acima de 10.000 linhas e abaixo de 100.000 : {}\".format(language,len(list_project_df3)))\n",
    "        return(df3)\n",
    "    \n",
    "    if(sett == 4): #acima de 100.000 linhas\n",
    "        df4 = dataset.loc[(dataset['gh_sloc'] > 100000) & (dataset['gh_lang'] == language)]\n",
    "        #list_project_df4 = df4.gh_project_name.unique().tolist() #filtra o nome de cada projeto e coloca em uma lista\n",
    "    \n",
    "        #print(\"Projetos {} acima de 100.000 linhas: {}\".format(language,len(list_project_df4)))\n",
    "        return(df4)        "
   ]
  },
  {
   "cell_type": "markdown",
   "metadata": {},
   "source": [
    "### Number of projects per size"
   ]
  },
  {
   "cell_type": "code",
   "execution_count": 8,
   "metadata": {},
   "outputs": [],
   "source": [
    "# modelo parcial, ainda falta retornar um dataset \n",
    "# project sizes per line\n",
    "def quantidade_projetos_all(language, sett):\n",
    "    small, medium, large, project_null, very_large = 0,0,0,0,0\n",
    "    \n",
    "    df = dataset.sort_values(['gh_sloc'], ascending=False)\n",
    "    df = df.loc[df['gh_lang'] == language]\n",
    "    \n",
    "    list_name_project = df.gh_project_name.unique().tolist()\n",
    "\n",
    "    if(sett == 1):\n",
    "        for name in list_name_project:\n",
    "            df0 = df.loc[df['gh_project_name'] == name]\n",
    "            if(1000 > df0.gh_sloc[0:1].item()):\n",
    "                project_null +=1\n",
    "        print(\"Projetos {} abaixo de 1000 linhas: {}\".format(language, project_null)) \n",
    "        \n",
    "    if(sett == 2):\n",
    "        for name in list_name_project:\n",
    "            df1 = df.loc[df['gh_project_name'] == name]\n",
    "            if((1000 < df1.gh_sloc[0:1].item()) and (10000 > df1.gh_sloc[0:1].item())):\n",
    "                small +=1\n",
    "        print(\"Projetos {} acima de 1000 linhas e abaixo de 10.000 : {}\".format(language, small))\n",
    "        \n",
    "    if(sett == 3):\n",
    "        for name in list_name_project:\n",
    "            df2 = df.loc[df['gh_project_name'] == name]\n",
    "            if((10000 < df2.gh_sloc[0:1].item()) and (100000 > df2.gh_sloc[0:1].item())):\n",
    "                medium +=1\n",
    "        print(\"Projetos {} acima de 10.000 linhas e abaixo de 100.000 : {}\".format(language,medium))\n",
    "        \n",
    "    if(sett == 4):\n",
    "        for name in list_name_project:\n",
    "            df3 = df.loc[df['gh_project_name'] == name]\n",
    "            if((100000 < df3.gh_sloc[0:1].item()) and (1000000 > df3.gh_sloc[0:1].item())):\n",
    "                large +=1\n",
    "        print(\"Projetos {} acima de 100.000 linhas e abaixo de 1.000.000: {}\".format(language,large))\n",
    "        \n",
    "    if(sett == 5):\n",
    "        for name in list_name_project:\n",
    "            df4 = df.loc[df['gh_project_name'] == name]\n",
    "            if(1000000 <= df4.gh_sloc[0:1].item()):\n",
    "                very_large +=1\n",
    "        print(\"Projetos {} acima de 1.000.000 linhas: {}\".format(language, very_large))"
   ]
  },
  {
   "cell_type": "markdown",
   "metadata": {},
   "source": [
    "### Size of Ruby and Java projects"
   ]
  },
  {
   "cell_type": "code",
   "execution_count": 9,
   "metadata": {},
   "outputs": [
    {
     "name": "stdout",
     "output_type": "stream",
     "text": [
      "Projetos ruby abaixo de 1000 linhas: 322\n",
      "Projetos ruby acima de 1000 linhas e abaixo de 10.000 : 471\n",
      "Projetos ruby acima de 10.000 linhas e abaixo de 100.000 : 76\n",
      "Projetos ruby acima de 100.000 linhas e abaixo de 1.000.000: 8\n",
      "Projetos ruby acima de 1.000.000 linhas: 0\n",
      "\n",
      "\n",
      "Projetos java abaixo de 1000 linhas: 14\n",
      "Projetos java acima de 1000 linhas e abaixo de 10.000 : 151\n",
      "Projetos java acima de 10.000 linhas e abaixo de 100.000 : 185\n",
      "Projetos java acima de 100.000 linhas e abaixo de 1.000.000: 27\n",
      "Projetos java acima de 1.000.000 linhas: 1\n"
     ]
    }
   ],
   "source": [
    "# tirar o comentado do metodo para não haver erro\n",
    "quantidade_projetos_all('ruby', 1)\n",
    "quantidade_projetos_all('ruby', 2)\n",
    "quantidade_projetos_all('ruby', 3)\n",
    "quantidade_projetos_all('ruby', 4)\n",
    "quantidade_projetos_all('ruby', 5)\n",
    "\n",
    "print(\"\\n\")\n",
    "\n",
    "quantidade_projetos_all('java', 1)\n",
    "quantidade_projetos_all('java', 2)\n",
    "quantidade_projetos_all('java', 3)\n",
    "quantidade_projetos_all('java', 4)\n",
    "quantidade_projetos_all('java', 5)"
   ]
  },
  {
   "cell_type": "markdown",
   "metadata": {},
   "source": [
    "### Frequency per day and month"
   ]
  },
  {
   "cell_type": "code",
   "execution_count": 10,
   "metadata": {
    "scrolled": true
   },
   "outputs": [],
   "source": [
    "def weekday_frequency(dataframe): #weekday\n",
    "    \n",
    "    dataframe = dataframe.gh_pushed_at.dt.weekday\n",
    "\n",
    "    monday  = []\n",
    "    tuesday  = []\n",
    "    wednesday = []\n",
    "    thursday  = []\n",
    "    friday = []\n",
    "    saturday = []\n",
    "    sunday = []\n",
    "\n",
    "    for date in dataframe:\n",
    "        if(date == 0):\n",
    "            monday.append(date)\n",
    "        elif(date == 1):\n",
    "            tuesday.append(date)\n",
    "        elif(date == 2):\n",
    "            wednesday.append(date)\n",
    "        elif(date == 3):\n",
    "            thursday.append(date)\n",
    "        elif(date == 4):\n",
    "            friday.append(date)\n",
    "        elif(date == 5):\n",
    "            saturday.append(date)\n",
    "        elif(date == 6):\n",
    "            sunday.append(date)\n",
    "            \n",
    "    #print(\"\\nMonday: {} commits \\n Tuesday: {} \\n wednesday: {} \\n Thursday: {} \\n Friday: {} \\n Saturday: {}\\n Sunday: {}\".format(len(monday), len(tuesday), len(wednesday), len(thursday), len(friday), len(saturday), len(sunday)))\n",
    "      \n",
    "    return([monday, tuesday, wednesday, thursday, friday, saturday, sunday])"
   ]
  },
  {
   "cell_type": "markdown",
   "metadata": {},
   "source": [
    "### Plot in bar"
   ]
  },
  {
   "cell_type": "code",
   "execution_count": 11,
   "metadata": {},
   "outputs": [],
   "source": [
    "def plot_bar(sett, language, very_small,low, medium, high):\n",
    "    \n",
    "    # Dados do grafico\n",
    "    if(sett == 0):\n",
    "        frequency_low = [len(low[0]),len(low[1]),len(low[2]),len(low[3]),len(low[4]),len(low[5]),len(low[6]),len(low[7]),len(low[8]),len(low[9]),len(low[10]),len(low[11])]\n",
    "        frequency_medium = [len(medium[0]),len(medium[1]),len(medium[2]),len(medium[3]),len(medium[4]),len(medium[5]),len(medium[6]),len(medium[7]),len(medium[8]),len(medium[9]),len(medium[10]),len(medium[11])]\n",
    "        frequency_high = [len(high[0]),len(high[1]),len(high[2]),len(high[3]),len(high[4]),len(high[5]),len(high[6]),len(high[7]),len(high[8]),len(high[9]),len(high[10]),len(high[11])]\n",
    "\n",
    "        labels_list = [\"january\", \"february\", \"march\", \"april\", \"may\", \"june\", \"july\", \"august\", \"september\", \"october\", \"november\", \"december\"]\n",
    "    if(sett == 1):\n",
    "        frequency_very_small = [len(very_small[0]),len(very_small[1]),len(very_small[2]),len(very_small[3]),len(very_small[4]),len(very_small[5]),len(very_small[6])]\n",
    "        frequency_low = [len(low[0]),len(low[1]),len(low[2]),len(low[3]),len(low[4]),len(low[5]),len(low[6])]\n",
    "        frequency_medium = [len(medium[0]),len(medium[1]),len(medium[2]),len(medium[3]),len(medium[4]),len(medium[5]),len(medium[6])]\n",
    "        frequency_high = [len(high[0]),len(high[1]),len(high[2]),len(high[3]),len(high[4]),len(high[5]),len(high[6])]\n",
    "\n",
    "        labels_list = ['Monday', 'Tuesday','wednesday','thursday ','friday','saturday','sunday']\n",
    "        \n",
    "    # Largura das barras\n",
    "    barWidth = 0.20\n",
    "    \n",
    "    # Tamanho do Grafico\n",
    "    plt.figure(figsize=(10,9))\n",
    "    \n",
    "    # Posicao da barras\n",
    "    r1 = np.arange(len(frequency_very_small))\n",
    "    r2 = [x + barWidth for x in r1]\n",
    "    r3 = [x + barWidth for x in r2]\n",
    "    r4 = [x + barWidth for x in r3]\n",
    "    \n",
    "    \n",
    "    # Criando as barras\n",
    "    plt.bar(r1, frequency_very_small, color='#303F9F', width=barWidth, label='Very Small')\n",
    "    plt.bar(r2, frequency_low, color='#03A9F4', width=barWidth, label='Small')\n",
    "    plt.bar(r3, frequency_medium, color='#3F51B5', width=barWidth, label='Medium')\n",
    "    plt.bar(r4, frequency_high, color='#212121', width=barWidth, label='Large')\n",
    "    \n",
    "    # Adicionando legendas as barras\n",
    "    if(sett == 0):\n",
    "        plt.xlabel('Months', fontsize=15)\n",
    "    if(sett == 1):\n",
    "        plt.xlabel('Weekday', fontsize=15)\n",
    "   \n",
    "    plt.xticks([r + barWidth for r in  range(len(frequency_low))], labels_list)\n",
    "    plt.ylabel('Quantity of commits', fontsize=15)\n",
    "    plt.title('{}'.format(language), fontsize=15)\n",
    "    \n",
    "    \n",
    "    plt.legend()\n",
    "    plt.savefig('frequencia_por_dia_semana.eps', format='eps')\n",
    "    plt.show()\n",
    "  "
   ]
  },
  {
   "cell_type": "markdown",
   "metadata": {},
   "source": [
    "### Plot size of all projects"
   ]
  },
  {
   "cell_type": "code",
   "execution_count": 12,
   "metadata": {},
   "outputs": [
    {
     "data": {
      "image/png": "[encoded data removed]",
      "text/plain": [
       "<Figure size 720x648 with 1 Axes>"
      ]
     },
     "metadata": {},
     "output_type": "display_data"
    }
   ],
   "source": [
    "def project(sett):\n",
    "    #dataset = dataset.sort_values(['gh_sloc'], ascending=False)\n",
    "    if(sett == 1): #abaixo de 1000 linhas\n",
    "        df1 = dataset.loc[dataset['gh_sloc'] < 1000]\n",
    "        return(df1)\n",
    "    \n",
    "    if(sett == 2): #acima de 1000 e menos que 10.000\n",
    "        df2 = dataset.loc[dataset['gh_sloc'] < 10000]\n",
    "        df2 = df2.loc[df2['gh_sloc'] > 1000]\n",
    "        return(df2)\n",
    "    \n",
    "    if(sett == 3): #acima de 10.000 linhas e menos que 100.000\n",
    "        df3 = dataset.loc[dataset['gh_sloc'] < 100000]\n",
    "        df3 = df3.loc[df3['gh_sloc'] > 10000]\n",
    "        return(df3)\n",
    "    \n",
    "    if(sett == 4): #acima de 100.000 linhas\n",
    "        df4 = dataset.loc[dataset['gh_sloc'] > 100000]\n",
    "        return(df4)        \n",
    "    \n",
    "df_very_small = project(1)\n",
    "\n",
    "df_small = project(2)\n",
    "\n",
    "df_medium = project(3)\n",
    "\n",
    "df_large = project(4)\n",
    "\n",
    "\n",
    "weekday_very_small = weekday_frequency(df_very_small)\n",
    "weekday_small = weekday_frequency(df_small)\n",
    "weekday_medium = weekday_frequency(df_medium)\n",
    "weekday_large = weekday_frequency(df_large)\n",
    "\n",
    "plot_bar(1, 'Frequency per weekday', weekday_very_small, weekday_small, weekday_medium, weekday_large)"
   ]
  },
  {
   "cell_type": "markdown",
   "metadata": {},
   "source": [
    "### Data from very small projects, small, medium, large and very large."
   ]
  },
  {
   "cell_type": "code",
   "execution_count": 21,
   "metadata": {},
   "outputs": [],
   "source": [
    "#abaixo de 1000\n",
    "df_very_small = dataset.loc[(dataset['gh_sloc'] < 1000)]\n",
    "\n",
    "#acima de 1000 e menos que 10.000\n",
    "df_small = dataset.loc[(dataset['gh_sloc'] < 10000)]\n",
    "df_small = df_small.loc[(df_small['gh_sloc'] > 1000)]\n",
    "\n",
    "#acima de 10.000 linhas e menos que 100.000\n",
    "df_medium = dataset.loc[(dataset['gh_sloc'] < 100000)]\n",
    "df_medium = df_medium.loc[(df_medium['gh_sloc'] > 10000)]\n",
    "\n",
    "#acima de 100.000 linhas e menos que 1.000.000\n",
    "df_large = dataset.loc[(dataset['gh_sloc'] > 100000)]\n",
    "df_large = df_large.loc[df_large['gh_sloc'] < 1000000]\n",
    "\n",
    "df_very_large = dataset.loc[dataset['gh_sloc'] > 1000000]\n",
    "\n",
    "# print(\"\\n\\nMédia e desvio padrão dos projetos muito pequenos\\n\", df_very_small.gh_num_commits_in_push.describe(),\"\\nmedian:\", df_very_small.gh_num_commits_in_push.median())\n",
    "# print(\"\\n\\nMédia e desvio padrão dos projetos pequenos\\n\", df_small.gh_num_commits_in_push.describe(), \"\\nmedian:\", df_small.gh_num_commits_in_push.median())\n",
    "# print(\"\\n\\nMédia e desvio padrão dos projetos medios\\n\", df_medium.gh_num_commits_in_push.describe(), \"\\nmedian:\",df_medium.gh_num_commits_in_push.median())\n",
    "# print(\"\\n\\nMédia e desvio padrão dos projetos grandes\\n\", df_large.gh_num_commits_in_push.describe(), \"\\nmedian:\",df_large.gh_num_commits_in_push.median())\n",
    "# print(\"\\n\\nMédia e desvio padrão dos projetos muito grandes\\n\", df_very_large.gh_num_commits_in_push.describe(), \"\\nmedian:\",df_very_large.gh_num_commits_in_push.median())"
   ]
  },
  {
   "cell_type": "markdown",
   "metadata": {},
   "source": [
    "### General media of commits"
   ]
  },
  {
   "cell_type": "code",
   "execution_count": 33,
   "metadata": {},
   "outputs": [
    {
     "data": {
      "text/plain": [
       "2.356738805770874"
      ]
     },
     "execution_count": 33,
     "metadata": {},
     "output_type": "execute_result"
    }
   ],
   "source": [
    "dataset.gh_num_commits_in_push.mean()"
   ]
  },
  {
   "cell_type": "markdown",
   "metadata": {},
   "source": [
    "### Number of projects below average"
   ]
  },
  {
   "cell_type": "code",
   "execution_count": 22,
   "metadata": {},
   "outputs": [],
   "source": [
    "cont=0\n",
    "\n",
    "list_name = dataset.gh_project_name.unique().tolist()\n",
    "\n",
    "for i in range(len(list_name)):\n",
    "\n",
    "    df = dataset.loc[dataset['gh_project_name'] == list_name[i]]\n",
    "\n",
    "    mean = df.gh_num_commits_in_push.mean()\n",
    "\n",
    "    if(mean < 2.36):\n",
    "        cont +=1\n",
    "\n",
    "        \n",
    "# print(\"Projetos com media a baixo de 2: {} \".format(len(list_name), cont))"
   ]
  },
  {
   "cell_type": "markdown",
   "metadata": {},
   "source": [
    "### Description of java projects"
   ]
  },
  {
   "cell_type": "code",
   "execution_count": 23,
   "metadata": {},
   "outputs": [],
   "source": [
    "df = dataset.loc[dataset['gh_lang'] == 'java']\n",
    "\n",
    "#abaixo de 1000\n",
    "df_very_small = df.loc[(df['gh_sloc'] < 1000)]\n",
    "\n",
    "#acima de 1000 e menos que 10.000\n",
    "df_small = df.loc[(df['gh_sloc'] < 10000)]\n",
    "df_small = df_small.loc[(df_small['gh_sloc'] > 1000)]\n",
    "\n",
    "#acima de 10.000 linhas e menos que 100.000\n",
    "df_medium = df.loc[(df['gh_sloc'] < 100000)]\n",
    "df_medium = df_medium.loc[(df_medium['gh_sloc'] > 10000)]\n",
    "\n",
    "#acima de 100.000 linhas e menor que 1.000.000\n",
    "df_large = df.loc[(df['gh_sloc'] > 100000)]\n",
    "df_large = df_large.loc[df_large['gh_sloc'] < 1000000]\n",
    "\n",
    "#acima de 1.000.000\n",
    "df_very_large = df.loc[df['gh_sloc'] > 1000000]\n",
    "\n",
    "# print(\"\\n\\nMédia e desvio padrão dos projetos muito pequenos\\n\", df_very_small.gh_num_commits_in_push.describe(),\"\\nmedian:\", df_very_small.gh_num_commits_in_push.median())\n",
    "# print(\"\\n\\nMédia e desvio padrão dos projetos pequenos\\n\", df_small.gh_num_commits_in_push.describe(), \"\\nmedian:\", df_small.gh_num_commits_in_push.median())\n",
    "# print(\"\\n\\nMédia e desvio padrão dos projetos medios\\n\", df_medium.gh_num_commits_in_push.describe(), \"\\nmedian:\",df_medium.gh_num_commits_in_push.median())\n",
    "# print(\"\\n\\nMédia e desvio padrão dos projetos grandes\\n\", df_large.gh_num_commits_in_push.describe(), \"\\nmedia:\",df_large.gh_num_commits_in_push.median())\n",
    "# print(\"\\n\\nMédia e desvio padrão dos projetos muito grandes\\n\", df_very_large.gh_num_commits_in_push.describe(), \"\\nmedian:\",df_very_large.gh_num_commits_in_push.median())"
   ]
  },
  {
   "cell_type": "markdown",
   "metadata": {},
   "source": [
    "### Description of ruby projects"
   ]
  },
  {
   "cell_type": "code",
   "execution_count": 24,
   "metadata": {},
   "outputs": [],
   "source": [
    "df = dataset.loc[dataset['gh_lang'] == 'ruby']\n",
    "\n",
    "#abaixo de 1000\n",
    "df_very_small = df.loc[(df['gh_sloc'] < 1000)]\n",
    "\n",
    "#acima de 1000 e menos que 10.000\n",
    "df_small = df.loc[(df['gh_sloc'] < 10000)]\n",
    "df_small = df_small.loc[(df_small['gh_sloc'] > 1000)]\n",
    "\n",
    "#acima de 10.000 linhas e menos que 100.000\n",
    "df_medium = df.loc[(df['gh_sloc'] < 100000)]\n",
    "df_medium = df_medium.loc[(df_medium['gh_sloc'] > 10000)]\n",
    "\n",
    "#acima de 100.000 linhas e menor que 1.000.000\n",
    "df_large = df.loc[(df['gh_sloc'] > 100000)]\n",
    "df_large = df_large.loc[df_large['gh_sloc'] < 1000000]\n",
    "\n",
    "#acima de 1.000.000\n",
    "df_very_large = df.loc[df['gh_sloc'] > 1000000]\n",
    "\n",
    "# print(\"\\n\\nMédia e desvio padrão dos projetos muito pequenos\\n\", df_very_small.gh_num_commits_in_push.describe(),\"\\nmedian:\", df_very_small.gh_num_commits_in_push.median())\n",
    "# print(\"\\n\\nMédia e desvio padrão dos projetos pequenos\\n\", df_small.gh_num_commits_in_push.describe(), \"\\nmedian:\", df_small.gh_num_commits_in_push.median())\n",
    "# print(\"\\n\\nMédia e desvio padrão dos projetos medios\\n\", df_medium.gh_num_commits_in_push.describe(), \"\\nmedian:\",df_medium.gh_num_commits_in_push.median())\n",
    "# print(\"\\n\\nMédia e desvio padrão dos projetos grandes\\n\", df_large.gh_num_commits_in_push.describe(), \"\\nmedia:\",df_large.gh_num_commits_in_push.median())\n",
    "# print(\"\\n\\nMédia e desvio padrão dos projetos muito grandes\\n\", df_very_large.gh_num_commits_in_push.describe(), \"\\nmedian:\",df_very_large.gh_num_commits_in_push.median())"
   ]
  },
  {
   "cell_type": "markdown",
   "metadata": {},
   "source": [
    "### Plot of java project commits frequency"
   ]
  },
  {
   "cell_type": "code",
   "execution_count": 18,
   "metadata": {},
   "outputs": [
    {
     "data": {
      "image/png": "[encoded data removed]",
      "text/plain": [
       "<Figure size 432x288 with 1 Axes>"
      ]
     },
     "metadata": {},
     "output_type": "display_data"
    }
   ],
   "source": [
    "#abaixo de 1000\n",
    "df = dataset.loc[dataset['gh_lang'] == 'java']\n",
    "df = df.sort_values(['gh_sloc'], ascending=False)\n",
    "\n",
    "df_very_small = df.loc[(df['gh_sloc'] < 1000)]\n",
    "\n",
    "very_small = df_very_small.gh_num_commits_in_push.tolist()\n",
    "\n",
    "#acima de 1000 e menos que 10.000\n",
    "df_small = df.loc[(df['gh_sloc'] < 10000)]\n",
    "df_small = df_small.loc[(df_small['gh_sloc'] > 1000)]\n",
    "\n",
    "small = df_small.gh_num_commits_in_push.tolist()\n",
    "\n",
    "#acima de 10.000 linhas e menos que 100.000\n",
    "df_medium = df.loc[(df['gh_sloc'] < 100000)]\n",
    "df_medium = df_medium.loc[(df_medium['gh_sloc'] > 10000)]\n",
    "\n",
    "medium = df_medium.gh_num_commits_in_push.tolist()\n",
    "\n",
    "#acima de 100.000 linhas\n",
    "df_large = df.loc[(df['gh_sloc'] > 100000)]\n",
    "\n",
    "large = df_large.gh_num_commits_in_push.tolist()\n",
    "\n",
    "\n",
    "\n",
    "###### plot bar #######\n",
    "data=[very_small, small, medium, large]\n",
    "\n",
    "fig, ax = plt.subplots()\n",
    "\n",
    "fig.subplots_adjust(left=0.08, right=1.38, bottom=0.05, top=1.2, hspace=0.4, wspace=0.3)\n",
    "#fig.subplots_adjust(left=0.15, right=.98, bottom=0.22, top=.9, hspace=0.6, wspace=0.6)\n",
    "\n",
    "ax.set_title('Java  Projects', fontsize=15)\n",
    "ax.set_xlabel('Size of the projects', fontsize=15)\n",
    "ax.set_ylabel('Distribution', fontsize=15)\n",
    "\n",
    "ax.set_axisbelow(True)\n",
    "\n",
    "\n",
    "ax.boxplot(data, 0, '', showmeans=True, meanline=True, labels=['Very small', 'Small', 'Medium', 'Large']) # boxplot sem outlier points\n",
    "\n",
    "\n",
    "plt.savefig('size_project_java.eps', format='eps', dpi = 300,  bbox_inches='tight')\n",
    "plt.show()"
   ]
  },
  {
   "cell_type": "markdown",
   "metadata": {},
   "source": [
    "###  Plot of ruby project commits frequency"
   ]
  },
  {
   "cell_type": "code",
   "execution_count": 20,
   "metadata": {
    "scrolled": true
   },
   "outputs": [
    {
     "data": {
      "image/png": "[encoded data removed]",
      "text/plain": [
       "<Figure size 432x288 with 1 Axes>"
      ]
     },
     "metadata": {},
     "output_type": "display_data"
    }
   ],
   "source": [
    "#abaixo de 1000\n",
    "df = dataset.loc[dataset['gh_lang'] == 'ruby']\n",
    "df = df.sort_values(['gh_sloc'], ascending=False)\n",
    "\n",
    "df_very_small = df.loc[(df['gh_sloc'] < 1000)]\n",
    "\n",
    "very_small = df_very_small.gh_num_commits_in_push.tolist()\n",
    "\n",
    "#acima de 1000 e menos que 10.000\n",
    "df_small = df.loc[(df['gh_sloc'] < 10000)]\n",
    "df_small = df_small.loc[(df_small['gh_sloc'] > 1000)]\n",
    "\n",
    "small = df_small.gh_num_commits_in_push.tolist()\n",
    "\n",
    "#acima de 10.000 linhas e menos que 100.000\n",
    "df_medium = df.loc[(df['gh_sloc'] < 100000)]\n",
    "df_medium = df_medium.loc[(df_medium['gh_sloc'] > 10000)]\n",
    "\n",
    "medium = df_medium.gh_num_commits_in_push.tolist()\n",
    "\n",
    "#acima de 100.000 linhas\n",
    "df_large = df.loc[(df['gh_sloc'] > 100000)]\n",
    "\n",
    "large = df_large.gh_num_commits_in_push.tolist()\n",
    "\n",
    "\n",
    "\n",
    "###### plot bar #######\n",
    "data=[very_small, small, medium, large]\n",
    "\n",
    "fig, ax = plt.subplots()\n",
    "\n",
    "fig.subplots_adjust(left=0.08, right=1.38, bottom=0.05, top=1.2, hspace=0.4, wspace=0.3)\n",
    "#fig.subplots_adjust(left=0.15, right=.98, bottom=0.22, top=.9, hspace=0.6, wspace=0.6)\n",
    "\n",
    "ax.set_title('Ruby Projects', fontsize=15)\n",
    "ax.set_xlabel('Size of the projects', fontsize=15)\n",
    "ax.set_ylabel('Distribution', fontsize=15)\n",
    "\n",
    "ax.set_axisbelow(True)\n",
    "\n",
    "\n",
    "ax.boxplot(data,0,'', showmeans=True, meanline=True, labels=['Very small', 'Small', 'Medium', 'Large']) # boxplot sem outlier points\n",
    "\n",
    "\n",
    "#plt.savefig('size_project_ruby.eps', format='eps', dpi = 300,  bbox_inches='tight')\n",
    "plt.show()"
   ]
  },
  {
   "cell_type": "markdown",
   "metadata": {},
   "source": [
    "# RQ2"
   ]
  },
  {
   "cell_type": "markdown",
   "metadata": {},
   "source": [
    "### Number of builds per java project"
   ]
  },
  {
   "cell_type": "code",
   "execution_count": 64,
   "metadata": {},
   "outputs": [],
   "source": [
    "df = dataset.loc[dataset['gh_lang'] == 'java']\n",
    "\n",
    "list_name = df.gh_project_name.unique().tolist()\n",
    "list_size = []\n",
    "\n",
    "for i in range(len(list_name)):\n",
    "\n",
    "    data = df.loc[df['gh_project_name'] == list_name[i]]\n",
    "\n",
    "    list_size.append(data.tr_build_id.size)\n",
    "\n",
    "    \n",
    "\n",
    "df = pd.Series(list_size, index=list_name)"
   ]
  },
  {
   "cell_type": "markdown",
   "metadata": {},
   "source": [
    "### Receive java projects that use coveralls"
   ]
  },
  {
   "cell_type": "code",
   "execution_count": null,
   "metadata": {},
   "outputs": [],
   "source": [
    "#Receive java projects that use coveralls and then filter projects that have build in 2016\n",
    "FILE = 'data/projetos_java_coverall.csv'\n",
    "projetos_coverral = pd.read_csv(FILE, sep=',', engine='c')\n",
    "\n",
    "java_coverral = projetos_coverral.gh_project_name.tolist()\n",
    "\n",
    "projeto_java = []\n",
    "\n",
    "for i in range(len(java_coverral)):\n",
    "    project = dataset.loc[dataset['gh_project_name'] == java_coverral[i]]\n",
    "    \n",
    "    if(2016 == int(project.gh_pushed_at.dt.year.sort_values(ascending=False)[0:1])):\n",
    "        projeto_java.append(java_coverral[i])\n",
    "\n",
    "#cria um arquivo csv com os dados \n",
    "#output = pd.DataFrame(data=projeto_java, columns=['projetos'])\n",
    "#output.to_csv('output.csv')"
   ]
  },
  {
   "cell_type": "markdown",
   "metadata": {},
   "source": [
    "### Number of builds per ruby project"
   ]
  },
  {
   "cell_type": "code",
   "execution_count": 68,
   "metadata": {},
   "outputs": [],
   "source": [
    "df = dataset.loc[dataset['gh_lang'] == 'ruby']\n",
    "\n",
    "list_name = df.gh_project_name.unique().tolist()\n",
    "list_size = []\n",
    "\n",
    "for i in range(len(list_name)):\n",
    "\n",
    "    data = df.loc[df['gh_project_name'] == list_name[i]]\n",
    "\n",
    "    list_size.append(data.tr_build_id.size)\n",
    "\n",
    "    \n",
    "\n",
    "df = pd.Series(list_size, index=list_name)\n",
    "#df.sort_values(ascending=False)\n",
    "\n",
    "#cria um arquivo csv com os dados \n",
    "#output = pd.DataFrame(data=list_size, index=list_name, columns=['projetos'])\n",
    "#df.to_csv('output_ruby.csv')"
   ]
  },
  {
   "cell_type": "markdown",
   "metadata": {},
   "source": [
    "### Receive ruby projects that use coveralls"
   ]
  },
  {
   "cell_type": "code",
   "execution_count": null,
   "metadata": {},
   "outputs": [],
   "source": [
    "# Recebe projetos java que usam coverrals e dps filtra os projetos que possuem build em 2016\n",
    "FILE = 'data/projetos_ruby_coverall.csv'\n",
    "projetos_coverral = pd.read_csv(FILE, sep=',', engine='c')\n",
    "\n",
    "\n",
    "ruby_coverral = projetos_coverral.gh_project_name.tolist()\n",
    "\n",
    "projeto_ruby = []\n",
    "\n",
    "for i in range(len(ruby_coverral)):\n",
    "    project = dataset.loc[dataset['gh_project_name'] == ruby_coverral[i]]\n",
    "    \n",
    "    if(2016 == int(project.gh_pushed_at.dt.year.sort_values(ascending=False)[0:1])):\n",
    "        projeto_ruby.append(ruby_coverral[i])\n",
    "\n",
    "\n",
    "#cria um arquivo csv com os dados \n",
    "#output = pd.DataFrame(data=projeto_ruby, columns=['projetos'])\n",
    "#output.to_csv('output_ruby_filtrado.csv')"
   ]
  },
  {
   "cell_type": "markdown",
   "metadata": {},
   "source": [
    "### Coverralls dataset with filters - Java"
   ]
  },
  {
   "cell_type": "code",
   "execution_count": 6,
   "metadata": {},
   "outputs": [],
   "source": [
    "File = 'data/projetos_java_coverall_filtrados_2016.csv'\n",
    "df = pd.read_csv(File, sep=',', engine='c')\n",
    "df['gh_pushed_at'] = pd.to_datetime(df.gh_pushed_at).dt.date #le a coluna com apenas os dias\n",
    "df['gh_pushed_at'] = df['gh_pushed_at'].sort_values(ascending=False) #ordena da data mais atual para mais antiga\n",
    "\n",
    "#df = df.drop_duplicates(['gh_project_name']) #remove duplicados\n",
    "\n",
    "\n",
    "list_name_cover = df.gh_project_name.unique().tolist() # lista de projetos do dataset"
   ]
  },
  {
   "cell_type": "markdown",
   "metadata": {},
   "source": [
    "### Travis dataset with filters - Java"
   ]
  },
  {
   "cell_type": "code",
   "execution_count": 8,
   "metadata": {},
   "outputs": [],
   "source": [
    "data = dataset.loc[dataset['gh_lang'] == 'java'] #filtra a linguagem do projeto\n",
    "data = data.loc[data.gh_pushed_at.dt.year == 2016] #filtra o ano do projeto\n",
    "\n",
    "data['gh_pushed_at'] = pd.to_datetime(data.gh_pushed_at).dt.date #deixa a coluna apenas com as datas\n",
    "\n",
    "data['gh_pushed_at'] = data['gh_pushed_at'].sort_values(ascending=False)# ordena da data mais atual para mais antiga\n",
    "\n",
    "\"uso um dataset auxiliar para ciar uma lista de projetos que não serão usados\"\n",
    "dataset_aux = data\n",
    "\n",
    "for i in range(len(list_name_cover)):\n",
    "    \n",
    "    dataset_aux = dataset_aux.loc[dataset_aux['gh_project_name'] != list_name_cover[i]]\n",
    "\n",
    "    \n",
    "#cria uma lista de projetos para remover\n",
    "list_remove = dataset_aux.gh_project_name.unique().tolist()\n",
    "\n",
    "# remove os projetos da lista criada\n",
    "for i in range(len(list_remove)):\n",
    "    data = data.loc[data['gh_project_name'] != list_remove[i]]"
   ]
  },
  {
   "cell_type": "markdown",
   "metadata": {},
   "source": [
    "### Coverralls dataset with filters - Ruby"
   ]
  },
  {
   "cell_type": "code",
   "execution_count": null,
   "metadata": {},
   "outputs": [],
   "source": [
    "File = 'data/projetos_ruby_coverall_filtrados_2016.csv'\n",
    "\n",
    "df = pd.read_csv(File, sep=',', engine='c')\n",
    "df['gh_pushed_at'] = pd.to_datetime(df.gh_pushed_at).dt.date #le a coluna com apenas os dias\n",
    "df['gh_pushed_at'] = df['gh_pushed_at'].sort_values(ascending=False) #ordena da data mais atual para mais antiga\n",
    "\n",
    "#df = df.drop_duplicates(['gh_project_name']) #remove duplicados\n",
    "\n",
    "list_name_cover = df.gh_project_name.unique().tolist() # lista de projetos do dataset"
   ]
  },
  {
   "cell_type": "markdown",
   "metadata": {},
   "source": [
    "### Travis dataset with filters - Ruby"
   ]
  },
  {
   "cell_type": "code",
   "execution_count": 42,
   "metadata": {},
   "outputs": [],
   "source": [
    "data = dataset.loc[dataset['gh_lang'] == 'ruby'] #filtra a linguagem do projeto\n",
    "data = data.loc[data.gh_pushed_at.dt.year == 2016] #filtra o ano do projeto\n",
    "\n",
    "data['gh_pushed_at'] = pd.to_datetime(data.gh_pushed_at).dt.date #deixa a coluna apenas com as datas\n",
    "\n",
    "data['gh_pushed_at'] = data['gh_pushed_at'].sort_values(ascending=False)# ordena da data mais atual para mais antiga\n",
    "\n",
    "\"uso um dataset auxiliar para ciar uma lista de projetos que não serão usados\"\n",
    "dataset_aux = data\n",
    "\n",
    "for i in range(len(list_name_cover)):\n",
    "    \n",
    "    dataset_aux = dataset_aux.loc[dataset_aux['gh_project_name'] != list_name_cover[i]]\n",
    "\n",
    "    \n",
    "#cria uma lista de projetos para remover\n",
    "list_remove = dataset_aux.gh_project_name.unique().tolist()\n",
    "\n",
    "# remove os projetos da lista criada\n",
    "for i in range(len(list_remove)):\n",
    "    data = data.loc[data['gh_project_name'] != list_remove[i]]\n"
   ]
  },
  {
   "cell_type": "markdown",
   "metadata": {},
   "source": [
    "### Boxplot"
   ]
  },
  {
   "cell_type": "code",
   "execution_count": 10,
   "metadata": {},
   "outputs": [],
   "source": [
    "\"\"\"\n",
    "Boxplot.\n",
    "\n",
    "The code below has the purpose of visualizing code coverage between Java proje-\n",
    "cts and Ruby projects using a boxplot.\n",
    "\"\"\"\n",
    "\n",
    "# Information about code coverage ([90.12, 80.00])\n",
    "java = []\n",
    "ruby = []\n",
    "\n",
    "data = [java, ruby]\n",
    "\n",
    "fig, ax = plt.subplots()\n",
    "\n",
    "ax.set_axisbelow(True)\n",
    "ax.boxplot(data, 0, showmeans=True, meanline=True, labels=['Java', 'Ruby'])\n",
    "ax.set_title('Code Coverage', fontsize=10)\n",
    "ax.set_xlabel('Languages', fontsize=10)\n",
    "ax.set_ylabel('Distribution', fontsize=10)\n",
    "\n",
    "plt.savefig('code_coverage.eps', format='eps', dpi = 300,  bbox_inches='tight')\n",
    "plt.show()\n"
   ]
  },
  {
   "cell_type": "markdown",
   "metadata": {},
   "source": [
    "### Comparing"
   ]
  },
  {
   "cell_type": "code",
   "execution_count": 11,
   "metadata": {
    "scrolled": false
   },
   "outputs": [],
   "source": [
    "\"\"\"\n",
    "Comparing.\n",
    "\n",
    "The code below has the purpose of filter data between Travis CI and Coveralls\n",
    "\n",
    "\"\"\"\n",
    "\n",
    "# Loading csvfiles with data\n",
    "with open('java_coveralls.csv') as csvfile:\n",
    "    spamreader = csv.reader(csvfile, delimiter=',', quotechar='|')\n",
    "    cover = list(spamreader)\n",
    "\n",
    "with open('java_travis.csv') as csvfile:\n",
    "    spamreader = csv.reader(csvfile, delimiter=',', quotechar='|')\n",
    "    travis = list(spamreader)\n",
    "\n",
    "dicio = {}\n",
    "\n",
    "for i in travis:\n",
    "    for j in cover:\n",
    "        if i[0] == j[0]:  # Comparing project names\n",
    "            # String to datetime\n",
    "            data1 = datetime.datetime.strptime(i[1], '%Y-%m-%d')\n",
    "            data2 = datetime.datetime.strptime(j[3][0:10], '%Y-%m-%d')\n",
    "            # Taking the difference of days\n",
    "            quantidade_dias = (data1 - data2).days\n",
    "            # Putting into a dict\n",
    "            if 0 <= quantidade_dias <= 7:\n",
    "                if j[0] not in dicio:\n",
    "                    dicio[j[0]] = [j[2], j[3][0:10]]\n",
    "\n",
    "# Export data into a csv file\n",
    "for i in dicio:\n",
    "    project_name = i\n",
    "    coverage = dicio[i][0]\n",
    "    push_date = dicio[i][1]\n",
    "    with open('output.csv', 'a') as csvfile:\n",
    "        writer = csv.writer(csvfile)\n",
    "        writer.writerow([project_name, push_date, coverage])\n"
   ]
  },
  {
   "cell_type": "markdown",
   "metadata": {},
   "source": [
    "### Get coveralls data"
   ]
  },
  {
   "cell_type": "code",
   "execution_count": null,
   "metadata": {},
   "outputs": [],
   "source": [
    "\"\"\"\n",
    "Get coveralls data.\n",
    "\n",
    "This code has the purpose of obtaining, through Coveralls, coverage data of the\n",
    "projects that were obtained in Travis Torrent.\n",
    "\"\"\"\n",
    "\n",
    "projects = []\n",
    "with open(\"output_ruby_filtrado.csv\", \"r\") as csvfile:\n",
    "    \"\"\"\n",
    "    loading csv fle with project names and put into a list, removing useless\n",
    "    characters.\n",
    "    \"\"\"\n",
    "    for line in csvfile:\n",
    "        projects.append(re.sub('\"|,|\\n', '', line))\n",
    "\n",
    "for project in projects:\n",
    "    \"\"\"\n",
    "    Getting total pages\n",
    "    \"\"\"\n",
    "    r = requests.get('https://coveralls.io/github/'+project+'.json?page=1')\n",
    "    data = r.json()\n",
    "    pages = math.ceil(data['total']/5) + 1\n",
    "\n",
    "    for i in range(1, pages):\n",
    "        \"\"\"\n",
    "        Making a get request in Coveralls and comparing branch and year informa\n",
    "        tion and put the coverage information in a csv file.\n",
    "        \"\"\"\n",
    "        r = requests.get('https://coveralls.io/github/'+project+'.json?page='+str(i))\n",
    "        data = r.json()\n",
    "        with open('output.csv', 'a') as outputfile:\n",
    "            writer = csv.writer(outputfile)\n",
    "            for j in range(0, len(data['builds'])):\n",
    "                if (data['builds'][j]['branch'] == 'master' and\n",
    "                    data['builds'][j]['created_at'][0:4] == '2016'):\n",
    "                    writer.writerow([project, data['builds'][j]['branch'],\n",
    "                                    data['builds'][j]['covered_percent'],\n",
    "                                    data['builds'][j]['created_at']])\n"
   ]
  },
  {
   "cell_type": "markdown",
   "metadata": {},
   "source": [
    "### Calculate some statistic util informations"
   ]
  },
  {
   "cell_type": "code",
   "execution_count": null,
   "metadata": {},
   "outputs": [],
   "source": [
    "\"\"\"\n",
    "Code used by calculate some statistic util informations\n",
    "\"\"\"\n",
    "from numpy import percentile\n",
    "from numpy.random import rand\n",
    "\n",
    "data = []\n",
    "\n",
    "read_fl = pd.read_csv('file.csv')\n",
    "\n",
    "data_min, data_max = read_fl.min(), read_fl.max()\n",
    "\n",
    "# calculating quartiles\n",
    "quartiles = percentile(read_fl, [25, 50, 75])\n",
    "\n",
    "# calculating min and max\n",
    "data_min, data_max = read_fl.min(), read_fl.max()\n",
    "\n",
    "# printing\n",
    "print('Min:    %.3f' % data_min)\n",
    "print('Q1:     %.3f' % quartiles[0])\n",
    "print('Median: %.3f' % quartiles[1])\n",
    "print('Q3:     %.3f' % quartiles[2])\n",
    "print('Max:    %.3f' % data_max)\n"
   ]
  },
  {
   "cell_type": "markdown",
   "metadata": {},
   "source": [
    "# RQ3"
   ]
  },
  {
   "cell_type": "markdown",
   "metadata": {},
   "source": [
    "### Filters the Java language and returns a list with the name of the projects"
   ]
  },
  {
   "cell_type": "code",
   "execution_count": 25,
   "metadata": {},
   "outputs": [],
   "source": [
    "df= dataset.loc[dataset['gh_lang'] == 'java']\n",
    "list_name = df.gh_project_name.unique().tolist()"
   ]
  },
  {
   "cell_type": "markdown",
   "metadata": {},
   "source": [
    "### Creates 2 filters for passing and non-passing builds"
   ]
  },
  {
   "cell_type": "code",
   "execution_count": 28,
   "metadata": {},
   "outputs": [],
   "source": [
    "passed = df.loc[df['tr_status'] == 'passed']\n",
    "failed = df.loc[df['tr_status'] == 'failed']\n",
    "\n",
    "# print('Projetos Java')\n",
    "# print('Total de builds que passaram {}'.format(passed.size))\n",
    "# print('Total de builds que NÃO passaram {}'.format(failed.size))"
   ]
  },
  {
   "cell_type": "markdown",
   "metadata": {},
   "source": [
    "### Creates a list with the amount builds passed and failed"
   ]
  },
  {
   "cell_type": "code",
   "execution_count": 27,
   "metadata": {},
   "outputs": [],
   "source": [
    "passed = []\n",
    "failed = []\n",
    "for i in range(len(list_name)):\n",
    "    project = df.loc[df['gh_project_name'] == list_name[i]] \n",
    "    _passed = project.loc[project['tr_status'] == 'passed']\n",
    "    _failed = project.loc[project['tr_status'] == 'failed']\n",
    "    \n",
    "    passed.append(_passed.size)\n",
    "    failed.append(_failed.size)"
   ]
  },
  {
   "cell_type": "markdown",
   "metadata": {},
   "source": [
    "### Status Build"
   ]
  },
  {
   "cell_type": "code",
   "execution_count": 9,
   "metadata": {},
   "outputs": [],
   "source": [
    "def status_build(project_name):\n",
    "    #filtra o dataset pelo nome do projeto e ordena as datas do dataset\n",
    "    df = dataset.loc[dataset['gh_project_name'] == project_name]\n",
    "    \n",
    "    df = df.sort_values(by='gh_pushed_at', ascending=False)#ordena da data mais atual para mais antiga\n",
    "    \n",
    "    df['gh_pushed_at'] = pd.to_datetime(df.gh_pushed_at).dt.date#le a coluna com apenas os dias\n",
    "    \n",
    "    date_line = df.gh_pushed_at # cria uma Serie com as datas\n",
    "    status_build = df.tr_status.tolist() # cria uma lista com os status da build\n",
    "\n",
    "    \n",
    "    '''\n",
    "    cont = 0\n",
    "\n",
    "    for i in range(len(status_build)):\n",
    "\n",
    "        if('failed' == status_build[i]):\n",
    "\n",
    "\n",
    "            print(f'failed: {i} | time: {cont} | {time[i]}')\n",
    "            cont += 1\n",
    "\n",
    "        elif('passed' == status_build[i]):\n",
    "\n",
    "            print(f'passed: {i} | time: {cont} | {time[i]}')\n",
    "    '''\n",
    "    \n",
    "    build_red = []\n",
    "    sett = 0\n",
    "    \n",
    "    for i in range(len(status_build)):\n",
    "\n",
    "        if(\"failed\" == status_build[i]):\n",
    "            if(sett == 0):\n",
    "                index_fail = i\n",
    "                sett = 1\n",
    "        if(('passed' == status_build[i]) and (sett == 1)):\n",
    "                \n",
    "                #print(f\"{project_name} | build: fail:{index_fail} passed:{i} | linha: {i}: days: {date_line.iloc[i]} - {date_line.iloc[index_fail]} | day: {date_line.iloc[index_fail] - date_line.iloc[i]}\")\n",
    "                build_red.append(date_line.iloc[index_fail] - date_line.iloc[i]) # subtrai o dia que a build nao passou ate o dia que passa\n",
    "                sett = 0\n",
    "\n",
    "    return(build_red) # retorna uma lista com datas de quando deu fail ate pasar"
   ]
  },
  {
   "cell_type": "markdown",
   "metadata": {},
   "source": [
    "### Status Build for all projects"
   ]
  },
  {
   "cell_type": "code",
   "execution_count": 6,
   "metadata": {},
   "outputs": [
    {
     "name": "stdout",
     "output_type": "stream",
     "text": [
      "quantidade total de projetos 1255\n",
      "count    24333.000000\n",
      "mean         7.857888\n",
      "std         29.865811\n",
      "min          0.000000\n",
      "25%          0.000000\n",
      "50%          1.000000\n",
      "75%          4.000000\n",
      "max        924.000000\n",
      "Name: date, dtype: float64\n",
      "Quantidade de projetos com builds quebradas é de 1062 tendo uma duração de 4.0 dias\n"
     ]
    }
   ],
   "source": [
    "list_name = dataset.gh_project_name.unique().tolist() \n",
    "\n",
    "#print(f\"quantidade total de projetos {len(list_name)}\")\n",
    "\n",
    "list_days_broken = []\n",
    "for i in range(len(list_name)):\n",
    "    list_days_broken.append(status_build(list_name[i]))\n",
    "\n",
    "days_broken = []\n",
    "for j in range(len(list_days_broken)):\n",
    "    days_broken = days_broken + list_days_broken[j]\n",
    "    \n",
    "\n",
    "\n",
    "days = pd.DataFrame(days_broken, columns=['date']) # cria uma\n",
    "\n",
    "#print(days.date.dt.days.describe())\n",
    "\n",
    "\n",
    "count = 0 \n",
    "metric = days.date.dt.days.describe()[6] # 3 quartil \n",
    "\n",
    "#percorre o vetor quando ele encontra um que é equivalente ao if da break e vai para o proximo vetor que no caso seria outro projeto\n",
    "for k in range(len(list_days_broken)):\n",
    "    validate = 0 \n",
    "    for j in range(len(list_days_broken[k])):\n",
    "        if(metric <= list_days_broken[k][j].days):\n",
    "            count+=1\n",
    "            break\n",
    "            #se uma metrica está sendo contada mais de uma ves quando ele encontar deve passar pra proxima lista e não fica na mesma \n",
    "\n",
    "#print(f\"Quantidade de projetos com builds quebradas é de {count} tendo uma duração de {metric} dias\")\n",
    "   "
   ]
  },
  {
   "cell_type": "code",
   "execution_count": null,
   "metadata": {},
   "outputs": [],
   "source": []
  },
  {
   "cell_type": "markdown",
   "metadata": {},
   "source": [
    "### Status build for JAVA"
   ]
  },
  {
   "cell_type": "code",
   "execution_count": 7,
   "metadata": {},
   "outputs": [
    {
     "name": "stdout",
     "output_type": "stream",
     "text": [
      "quantidade de projetos java 378\n",
      "count    6365.000000\n",
      "mean        5.824038\n",
      "std        24.141328\n",
      "min         0.000000\n",
      "25%         0.000000\n",
      "50%         1.000000\n",
      "75%         3.000000\n",
      "max       522.000000\n",
      "Name: date, dtype: float64\n",
      "Quantidade de projetos java com builds quebradas é de 296 tendo uma duração de 3.0 dias\n"
     ]
    }
   ],
   "source": [
    "'''\n",
    "Filtro a linguagem java, utilizo o def status_build e recebo um lista de dias que a build ficou quebrada, adiciono todos elementos em um lista e \n",
    "torno ela em uma Serie utilizo o describe para descrever a media e os quartils\n",
    "pego o 3 quartil como metrica de builds com mais duração em quebra\n",
    "\n",
    "percorro o vetor com as listas de dias quebrados e verifico quais são iguais ou maior a metrica definida e somo em um contador para cada projeto encontrado\n",
    "'''\n",
    "def days_briken(language, )\n",
    "df = dataset.loc[dataset['gh_lang'] == 'java']\n",
    "\n",
    "list_name = df.gh_project_name.unique().tolist() \n",
    "\n",
    "print(f\"quantidade de projetos java {len(list_name)}\")\n",
    "\n",
    "list_days_broken = []\n",
    "for i in range(len(list_name)):\n",
    "    list_days_broken.append(status_build(list_name[i]))\n",
    "\n",
    "days_broken = []\n",
    "for j in range(len(list_days_broken)):\n",
    "    days_broken = days_broken + list_days_broken[j]\n",
    "    \n",
    "\n",
    "\n",
    "days_java = pd.DataFrame(days_broken, columns=['date']) # cria uma\n",
    "\n",
    "\n",
    "print(days_java.date.dt.days.describe())\n",
    "\n",
    "metric = days_java.date.dt.days.describe()[6] # 3 quartil\n",
    "\n",
    "\n",
    "\n",
    "count = 0 \n",
    "metric = days_java.date.dt.days.describe()[6] # 3 quartil \n",
    "\n",
    "#percorre o vetor quando ele encontra um que é equivalente ao if da break e vai para o proximo vetor que no caso seria outro projeto\n",
    "for k in range(len(list_days_broken)):\n",
    "    for j in range(len(list_days_broken[k])):\n",
    "        if(metric <= list_days_broken[k][j].days):\n",
    "            count+=1\n",
    "            break\n",
    "            #uma metrica está sendo contada mais de uma ves quando ele encontar deve passar pra proxima lista e não fica na mesma \n",
    "\n",
    "#print(f\"Quantidade de projetos java com builds quebradas é de {count} tendo uma duração de {metric} dias\")\n",
    "   "
   ]
  },
  {
   "cell_type": "markdown",
   "metadata": {},
   "source": [
    "### Status build for RUBY"
   ]
  },
  {
   "cell_type": "code",
   "execution_count": 8,
   "metadata": {},
   "outputs": [
    {
     "name": "stdout",
     "output_type": "stream",
     "text": [
      "quantidade de projetos java 877\n",
      "count    17968.000000\n",
      "mean         8.578362\n",
      "std         31.615484\n",
      "min          0.000000\n",
      "25%          0.000000\n",
      "50%          1.000000\n",
      "75%          4.000000\n",
      "max        924.000000\n",
      "Name: date, dtype: float64\n",
      "Quantidade de projetos ruby com builds quebradas é de 776 tendo uma duração de 4.0 dias\n"
     ]
    }
   ],
   "source": [
    "'''\n",
    "I filter the java language, I use the def status_build and I get a list of days that the build was broken, I add all the elements in a list and\n",
    "I use it to describe the media and the quartiles\n",
    "I get the 3 quartile as the metric of builds with more duration in break\n",
    "\n",
    "I run the vector with the lists of broken days and check which are equal or greater the defined metrica and somo in a counter for each project found\n",
    "'''\n",
    "\n",
    "df = dataset.loc[dataset['gh_lang'] == 'ruby']\n",
    "\n",
    "list_name = df.gh_project_name.unique().tolist() \n",
    "\n",
    "#print(f\"quantidade de projetos java {len(list_name)}\")\n",
    "\n",
    "list_days_broken = []\n",
    "for i in range(len(list_name)):\n",
    "    list_days_broken.append(status_build(list_name[i]))\n",
    "\n",
    "days_broken_ruby = []\n",
    "for j in range(len(list_days_broken)):\n",
    "    days_broken_ruby = days_broken_ruby + list_days_broken[j]\n",
    "    \n",
    "\n",
    "\n",
    "days_ruby = pd.DataFrame(days_broken_ruby, columns=['date']) # cria uma\n",
    "\n",
    "\n",
    "#print(days_ruby.date.dt.days.describe())\n",
    "\n",
    "metric = days_ruby.date.dt.days.describe()[6] # 3 quartil\n",
    "\n",
    "\n",
    "\n",
    "count = 0 \n",
    "metric = days_ruby.date.dt.days.describe()[6] # 3 quartil \n",
    "\n",
    "#percorre o vetor quando ele encontra um que é equivalente ao if da break e vai para o proximo vetor que no caso seria outro projeto\n",
    "for k in range(len(list_days_broken)):\n",
    "    for j in range(len(list_days_broken[k])):\n",
    "        if(metric <= list_days_broken[k][j].days):\n",
    "            count+=1\n",
    "            break\n",
    "            #uma metrica está sendo contada mais de uma ves quando ele encontar deve passar pra proxima lista e não fica na mesma \n",
    "\n",
    "#print(f\"Quantidade de projetos ruby com builds quebradas é de {count} tendo uma duração de {metric} dias\")\n",
    "   "
   ]
  },
  {
   "cell_type": "markdown",
   "metadata": {},
   "source": [
    "### Number of projects"
   ]
  },
  {
   "cell_type": "code",
   "execution_count": 6,
   "metadata": {},
   "outputs": [],
   "source": [
    "def quantidade_projetos(language, sett):\n",
    "    small, medium, large, very_small= [], [], [], []\n",
    "    \n",
    "    df = dataset.sort_values(['gh_sloc'], ascending=False)\n",
    "    df = df.loc[df['gh_lang'] == language]\n",
    "    \n",
    "    list_name_project = df.gh_project_name.unique().tolist()\n",
    "\n",
    "    if(sett == 1):\n",
    "        for name in list_name_project:\n",
    "            df0 = df.loc[df['gh_project_name'] == name]\n",
    "            if(1000 > df0.gh_sloc[0:1].item()):\n",
    "                very_small.append(name)\n",
    "        return(very_small)\n",
    "       \n",
    "    if(sett == 2):\n",
    "        for name in list_name_project:\n",
    "            df1 = df.loc[df['gh_project_name'] == name]\n",
    "            if((1000 < df1.gh_sloc[0:1].item()) and (10000 > df1.gh_sloc[0:1].item())):\n",
    "                small.append(name)\n",
    "        return(small)\n",
    "    \n",
    "    if(sett == 3):\n",
    "        for name in list_name_project:\n",
    "            df2 = df.loc[df['gh_project_name'] == name]\n",
    "            if((10000 < df2.gh_sloc[0:1].item()) and (100000 > df2.gh_sloc[0:1].item())):\n",
    "                medium.append(name)\n",
    "        return(medium)\n",
    "    \n",
    "    if(sett == 4):\n",
    "        for name in list_name_project:\n",
    "            df3 = df.loc[df['gh_project_name'] == name]\n",
    "            if(100000 < df3.gh_sloc[0:1].item()):\n",
    "                large.append(name)\n",
    "        return(large)\n",
    "    "
   ]
  },
  {
   "cell_type": "markdown",
   "metadata": {},
   "source": [
    "### Number of projects with broken build"
   ]
  },
  {
   "cell_type": "code",
   "execution_count": 7,
   "metadata": {},
   "outputs": [],
   "source": [
    "def days_broken(list_name):\n",
    "    \n",
    "    print(f\"quantidade de projetos {len(list_name)}\")\n",
    "\n",
    "\n",
    "    list_days_broken = []\n",
    "    for i in range(len(list_name)): #cria uma matriz de dias quebrados\n",
    "        list_days_broken.append(status_build(list_name[i]))\n",
    "\n",
    "    days_broken = []\n",
    "    for j in range(len(list_days_broken)): #transforma a matriz numa lista\n",
    "        days_broken = days_broken + list_days_broken[j]\n",
    "\n",
    "\n",
    "\n",
    "    df_broken = pd.DataFrame(days_broken, columns=['date']) # cria uma\n",
    "\n",
    "\n",
    "    print(df_broken.date.dt.days.describe())\n",
    "\n",
    "    metric = df_broken.date.dt.days.describe()[6] # 3 quartil\n",
    "\n",
    "\n",
    "\n",
    "    count = 0 \n",
    "    metric = df_broken.date.dt.days.describe()[6] # 3 quartil \n",
    "\n",
    "    #percorre o vetor quando ele encontra um que é equivalente ao if da break e vai para o proximo vetor que no caso seria outro projeto\n",
    "    for k in range(len(list_days_broken)):\n",
    "        for j in range(len(list_days_broken[k])):\n",
    "            if(metric <= list_days_broken[k][j].days):\n",
    "                count+=1\n",
    "                break\n",
    "                #uma metrica está sendo contada mais de uma ves quando ele encontar deve passar pra proxima lista e não fica na mesma \n",
    "\n",
    "    #print(f\"Quantidade de projetos com builds quebradas é de {count} tendo uma duração de {metric} dias\")\n",
    "   \n",
    "    return(df_broken.date.dt.days)\n",
    "\n",
    "\n"
   ]
  },
  {
   "cell_type": "markdown",
   "metadata": {},
   "source": [
    "### Displays build broken by language"
   ]
  },
  {
   "cell_type": "code",
   "execution_count": 10,
   "metadata": {},
   "outputs": [
    {
     "name": "stdout",
     "output_type": "stream",
     "text": [
      "quantidade de projetos 14\n",
      "count     81.000000\n",
      "mean      20.913580\n",
      "std       34.755646\n",
      "min        0.000000\n",
      "25%        1.000000\n",
      "50%        8.000000\n",
      "75%       26.000000\n",
      "max      199.000000\n",
      "Name: date, dtype: float64\n",
      "Quantidade de projetos com builds quebradas é de 9 tendo uma duração de 26.0 dias\n",
      "quantidade de projetos 151\n",
      "count    1346.000000\n",
      "mean        9.754086\n",
      "std        31.961845\n",
      "min         0.000000\n",
      "25%         0.000000\n",
      "50%         1.000000\n",
      "75%         6.000000\n",
      "max       522.000000\n",
      "Name: date, dtype: float64\n",
      "Quantidade de projetos com builds quebradas é de 109 tendo uma duração de 6.0 dias\n",
      "quantidade de projetos 185\n",
      "count    3647.000000\n",
      "mean        5.107486\n",
      "std        22.501392\n",
      "min         0.000000\n",
      "25%         0.000000\n",
      "50%         1.000000\n",
      "75%         3.000000\n",
      "max       511.000000\n",
      "Name: date, dtype: float64\n",
      "Quantidade de projetos com builds quebradas é de 143 tendo uma duração de 3.0 dias\n",
      "quantidade de projetos 28\n",
      "count    1291.000000\n",
      "mean        2.804028\n",
      "std        16.221180\n",
      "min         0.000000\n",
      "25%         0.000000\n",
      "50%         0.000000\n",
      "75%         1.000000\n",
      "max       408.000000\n",
      "Name: date, dtype: float64\n",
      "Quantidade de projetos com builds quebradas é de 25 tendo uma duração de 1.0 dias\n"
     ]
    }
   ],
   "source": [
    "list_very_small = quantidade_projetos('java', 1) \n",
    "very_small = days_broken(list_very_small)\n",
    "\n",
    "list_small = quantidade_projetos('java', 2) \n",
    "small = days_broken(list_small)\n",
    "\n",
    "list_medium = quantidade_projetos('java', 3) \n",
    "medium = days_broken(list_medium)\n",
    "\n",
    "list_large = quantidade_projetos('java', 4) \n",
    "large = days_broken(list_large)\n",
    "\n"
   ]
  },
  {
   "cell_type": "markdown",
   "metadata": {},
   "source": [
    "# RQ4"
   ]
  },
  {
   "cell_type": "markdown",
   "metadata": {},
   "source": [
    "### Filter dataset"
   ]
  },
  {
   "cell_type": "code",
   "execution_count": 5,
   "metadata": {},
   "outputs": [],
   "source": [
    "df = dataset\n",
    "df = df.dropna(subset=['tr_log_buildduration'])\n",
    "df = df.sort_values(by='tr_log_buildduration', ascending=False)"
   ]
  },
  {
   "cell_type": "markdown",
   "metadata": {},
   "source": [
    "### Amount of build less than 10 minutes and more than 10 minutes"
   ]
  },
  {
   "cell_type": "code",
   "execution_count": 10,
   "metadata": {},
   "outputs": [
    {
     "name": "stdout",
     "output_type": "stream",
     "text": [
      "Build com 10 min ou menos: 47998\n",
      "Build com mais de 10 min: 7046\n"
     ]
    }
   ],
   "source": [
    "list_time_build = df.tr_log_buildduration.tolist()\n",
    "build_10 = 0\n",
    "build_long = 0\n",
    "\n",
    "\n",
    "for i in list_time_build:\n",
    "    if(i <= 600):\n",
    "        build_10+=1\n",
    "    else:\n",
    "        build_long+=1\n",
    "        \n",
    "\n",
    "# print(f'Build com 10 min ou menos: {build_10}')\n",
    "# print(f'Build com mais de 10 min: {build_long}')"
   ]
  },
  {
   "cell_type": "markdown",
   "metadata": {},
   "source": [
    "### Duration build for projetc Very small, small, medium, large and very large"
   ]
  },
  {
   "cell_type": "code",
   "execution_count": 11,
   "metadata": {},
   "outputs": [],
   "source": [
    "def size_pro(sett):\n",
    "    if(sett == 1): #abaixo de 1000 linhas\n",
    "        df1 = dataset.loc[(dataset['gh_sloc'] < 1000)]  \n",
    "        return(df1)\n",
    "    if(sett == 2): #acima de 1000 e menos que 10.000\n",
    "        df2 = dataset.loc[(dataset['gh_sloc'] < 10000)]\n",
    "        df2 = df2.loc[(df2['gh_sloc'] > 1000) ]\n",
    "        return(df2)\n",
    "    \n",
    "    if(sett == 3): #acima de 10.000 linhas e menos que 100.000\n",
    "        df3 = dataset.loc[(dataset['gh_sloc'] < 100000)]\n",
    "        df3 = df3.loc[(df3['gh_sloc'] > 10000) ]\n",
    "        return(df3)\n",
    "    \n",
    "    if(sett == 4): #acima de 100.000 linhas\n",
    "        df4 = dataset.loc[dataset['gh_sloc'] > 100000]\n",
    "        df4 = df4.loc[(df4['gh_sloc'] < 1000000)]\n",
    "        return(df4)\n",
    "    \n",
    "    if(sett == 5):\n",
    "        df5 = dataset.loc[dataset['gh_sloc'] > 1000000]\n",
    "        return(df5)\n",
    "\n",
    "very_small = size_pro(1)\n",
    "small = size_pro(2)\n",
    "medium = size_pro(3)\n",
    "large = size_pro(4)\n",
    "very_large = size_pro(5)\n",
    "\n",
    "\n",
    "# print(f'\\nProjetos very small: \\n{very_small.tr_log_buildduration.describe()} \\nmediana: {very_small.tr_log_buildduration.median()}')\n",
    "\n",
    "# print(f'\\nProjetos small: \\n{small.tr_log_buildduration.describe()}  \\nmediana: {small.tr_log_buildduration.median()}')\n",
    "\n",
    "# print(f'\\nProjetos medium: \\n{medium.tr_log_buildduration.describe()}  \\nmediana: {medium.tr_log_buildduration.median()}')\n",
    "\n",
    "# print(f'\\nProjetos large: \\n{large.tr_log_buildduration.describe()}  \\nmediana: {large.tr_log_buildduration.median()}' )\n",
    "\n",
    "# print(f'\\nProjetos very large: \\n{very_large.tr_log_buildduration.describe()}  \\nmediana: {very_large.tr_log_buildduration.median()}')"
   ]
  },
  {
   "cell_type": "markdown",
   "metadata": {},
   "source": [
    "### Project size by language type"
   ]
  },
  {
   "cell_type": "code",
   "execution_count": 55,
   "metadata": {},
   "outputs": [],
   "source": [
    "def size_pro_lang(language,sett):\n",
    "    if(sett == 1): #abaixo de 1000 linhas\n",
    "        df1 = dataset.loc[(dataset['gh_sloc'] < 1000) & (dataset['gh_lang'] == language)]  \n",
    "        return(df1)\n",
    "    if(sett == 2): #acima de 1000 e menos que 10.000\n",
    "        df2 = dataset.loc[(dataset['gh_sloc'] < 10000)]\n",
    "        df2 = df2.loc[(df2['gh_sloc'] > 1000) & (df2['gh_lang'] == language)]\n",
    "        return(df2)\n",
    "    \n",
    "    if(sett == 3): #acima de 10.000 linhas e menos que 100.000\n",
    "        df3 = dataset.loc[(dataset['gh_sloc'] < 100000)]\n",
    "        df3 = df3.loc[(df3['gh_sloc'] > 10000) & (df3['gh_lang'] == language)]\n",
    "        return(df3)\n",
    "    \n",
    "    if(sett == 4): #acima de 100.000 linhas\n",
    "        df4 = dataset.loc[dataset['gh_sloc'] > 100000]\n",
    "        df4 = df4.loc[(df4['gh_sloc'] < 1000000) & (df4['gh_lang'] == language)]\n",
    "        return(df4)\n",
    "    if(sett == 5):\n",
    "        df5 = df.loc[df['gh_sloc'] > 1000000]\n",
    "        return()"
   ]
  },
  {
   "cell_type": "markdown",
   "metadata": {},
   "source": [
    "### Filter language Java"
   ]
  },
  {
   "cell_type": "code",
   "execution_count": 58,
   "metadata": {},
   "outputs": [
    {
     "data": {
      "text/plain": [
       "count    47300.000000\n",
       "mean       265.856727\n",
       "std        469.534484\n",
       "min          0.000000\n",
       "25%         20.097500\n",
       "50%         84.000000\n",
       "75%        271.000000\n",
       "max       3589.000000\n",
       "Name: tr_log_buildduration, dtype: float64"
      ]
     },
     "execution_count": 58,
     "metadata": {},
     "output_type": "execute_result"
    }
   ],
   "source": [
    "df_java = df.loc[df['gh_lang'] == 'java']\n",
    "# df_java.tr_log_buildduration.describe()"
   ]
  },
  {
   "cell_type": "markdown",
   "metadata": {},
   "source": [
    "### Java build quantity less than 10 minutes and more than 10 minutes"
   ]
  },
  {
   "cell_type": "code",
   "execution_count": 59,
   "metadata": {},
   "outputs": [
    {
     "name": "stdout",
     "output_type": "stream",
     "text": [
      "Build com 10 min ou menos: 41076\n",
      "Build com mais de 10 min: 6224\n"
     ]
    }
   ],
   "source": [
    "list_time_build = df_java.tr_log_buildduration.tolist()\n",
    "build_10 = 0\n",
    "build_long = 0\n",
    "\n",
    "\n",
    "for i in list_time_build:\n",
    "    if(i <= 600):\n",
    "        build_10+=1\n",
    "    else:\n",
    "        build_long+=1\n",
    "        \n",
    "\n",
    "# print(f'Build com 10 min ou menos: {build_10}')\n",
    "# print(f'Build com mais de 10 min: {build_long}')"
   ]
  },
  {
   "cell_type": "markdown",
   "metadata": {},
   "source": [
    "### Projects java, Very small, small, medium, large and very large"
   ]
  },
  {
   "cell_type": "code",
   "execution_count": 56,
   "metadata": {},
   "outputs": [],
   "source": [
    "very_small = size_pro_lang('java', 1)\n",
    "small = size_pro_lang('java', 2)\n",
    "medium = size_pro_lang('java', 3)\n",
    "large = size_pro_lang('java', 4)\n",
    "very_large = size_pro_lang('java', 5)\n",
    "\n",
    "# print(f'\\nProjetos very small: \\n{very_small.tr_log_buildduration.describe()} \\nmediana: {very_small.tr_log_buildduration.median()}')\n",
    "\n",
    "# print(f'\\nProjetos small: \\n{small.tr_log_buildduration.describe()}  \\nmediana: {small.tr_log_buildduration.median()}')\n",
    "\n",
    "# print(f'\\nProjetos medium: \\n{medium.tr_log_buildduration.describe()}  \\nmediana: {medium.tr_log_buildduration.median()}')\n",
    "\n",
    "# print(f'\\nProjetos large: \\n{large.tr_log_buildduration.describe()}  \\nmediana: {large.tr_log_buildduration.median()}' )\n",
    "\n",
    "# print(f'\\nProjetos very large: \\n{very_large.tr_log_buildduration.describe()}  \\nmediana: {very_large.tr_log_buildduration.median()}')"
   ]
  },
  {
   "cell_type": "markdown",
   "metadata": {},
   "source": [
    "### Filter language Ruby"
   ]
  },
  {
   "cell_type": "code",
   "execution_count": 29,
   "metadata": {},
   "outputs": [],
   "source": [
    "df_ruby = df.loc[df['gh_lang'] == 'ruby']\n",
    "#df_ruby.tr_log_buildduration.describe()"
   ]
  },
  {
   "cell_type": "markdown",
   "metadata": {},
   "source": [
    "### Ruby build quantity less than 10 minutes and more than 10 minutes"
   ]
  },
  {
   "cell_type": "code",
   "execution_count": 30,
   "metadata": {},
   "outputs": [],
   "source": [
    "list_time_build = df_ruby.tr_log_buildduration.tolist()\n",
    "build_10 = 0\n",
    "build_long = 0\n",
    "\n",
    "\n",
    "for i in list_time_build:\n",
    "    if(i <= 600):\n",
    "        build_10+=1\n",
    "    else:\n",
    "        build_long+=1\n",
    "        \n",
    "\n",
    "# print(f'Build com 10 min ou menos: {build_10}')\n",
    "# print(f'Build com mais de 10 min: {build_long}')"
   ]
  },
  {
   "cell_type": "markdown",
   "metadata": {},
   "source": [
    "### Projects ruby Very small, small, medium, large e very large"
   ]
  },
  {
   "cell_type": "code",
   "execution_count": 63,
   "metadata": {},
   "outputs": [],
   "source": [
    "very_small = size_pro_lang('ruby', 1)\n",
    "small = size_pro_lang('ruby', 2)\n",
    "medium = size_pro_lang('ruby', 3)\n",
    "large = size_pro_lang('ruby', 4)\n",
    "very_large = size_pro_lang('ruby', 5)\n",
    "\n",
    "print(f'\\nProjetos very small: \\n{very_small.tr_log_buildduration.describe()} \\nmediana: {very_small.tr_log_buildduration.median()}')\n",
    "\n",
    "print(f'\\nProjetos small: \\n{small.tr_log_buildduration.describe()}  \\nmediana: {small.tr_log_buildduration.median()}')\n",
    "\n",
    "print(f'\\nProjetos medium: \\n{medium.tr_log_buildduration.describe()}  \\nmediana: {medium.tr_log_buildduration.median()}')\n",
    "\n",
    "print(f'\\nProjetos large: \\n{large.tr_log_buildduration.describe()}  \\nmediana: {large.tr_log_buildduration.median()}' )\n",
    "\n",
    "print(f'\\nProjetos very large: \\n{very_large.tr_log_buildduration.describe()}  \\nmediana: {very_large.tr_log_buildduration.median()}')"
   ]
  }
 ],
 "metadata": {
  "kernelspec": {
   "display_name": "Python 3",
   "language": "python",
   "name": "python3"
  },
  "language_info": {
   "codemirror_mode": {
    "name": "ipython",
    "version": 3
   },
   "file_extension": ".py",
   "mimetype": "text/x-python",
   "name": "python",
   "nbconvert_exporter": "python",
   "pygments_lexer": "ipython3",
   "version": "3.6.5"
  }
 },
 "nbformat": 4,
 "nbformat_minor": 2
}
