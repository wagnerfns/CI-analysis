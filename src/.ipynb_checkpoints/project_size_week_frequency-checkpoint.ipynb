{
 "cells": [
  {
   "cell_type": "code",
   "execution_count": 1,
   "metadata": {},
   "outputs": [],
   "source": [
    "import pandas as pd\n",
    "import numpy as np\n",
    "import matplotlib.pyplot as plt"
   ]
  },
  {
   "cell_type": "code",
   "execution_count": 2,
   "metadata": {},
   "outputs": [],
   "source": [
    "FILE = '~/GitHub/ci-analysis/travistorrent_11_1_2017.csv'"
   ]
  },
  {
   "cell_type": "code",
   "execution_count": 3,
   "metadata": {},
   "outputs": [],
   "source": [
    "dataset = pd.read_csv(FILE, sep=',', engine='c',usecols=['gh_team_size',\n",
    "                                                         'tr_build_id',\n",
    "                                                         'gh_project_name',\n",
    "                                                         'tr_build_id',\n",
    "                                                         'gh_project_name',\n",
    "                                                         'gh_is_pr',\n",
    "                                                         'gh_pr_created_at',\n",
    "                                                         'gh_lang',\n",
    "                                                         'git_branch',\n",
    "                                                         'gh_num_commits_in_push',\n",
    "                                                         'git_prev_commit_resolution_status',\n",
    "                                                         'tr_prev_build',\n",
    "                                                         'gh_first_commit_created_at',\n",
    "                                                         'gh_team_size',         \n",
    "                                                         'gh_pushed_at',\n",
    "                                                         'gh_build_started_at',\n",
    "                                                         'tr_log_num_tests_ok',        \n",
    "                                                         'tr_log_num_tests_failed' ,   \n",
    "                                                         'tr_log_num_tests_skipped',\n",
    "                                                         'gh_sloc',\n",
    "                                                         'tr_log_bool_tests_failed',\n",
    "                                                         'tr_status'],dtype={ 'tr_build_id': np.float32,\n",
    "                                                                                            'gh_project_name': 'category',\n",
    "                                                                                            'gh_is_pr': np.bool,\n",
    "                                                                                            'gh_pr_created_at': 'category',\n",
    "                                                                                            'gh_lang': 'category',\n",
    "                                                                                            'git_branch': 'category',\n",
    "                                                                                            'gh_num_commits_in_push': np.float32,\n",
    "                                                                                            'git_prev_commit_resolution_status': 'category',\n",
    "                                                                                            'tr_prev_build': np.float32,\n",
    "                                                                                            'gh_first_commit_created_at': 'category',\n",
    "                                                                                            'gh_team_size': np.int32,\n",
    "                                                                                            'gh_pushed_at': 'category',\n",
    "                                                                                            'gh_build_started_at': 'category',\n",
    "                                                                                            'tr_log_num_tests_ok': np.float32,\n",
    "                                                                                            'tr_log_num_tests_failed': np.float32,\n",
    "                                                                                            'tr_log_num_tests_skipped': np.float32,\n",
    "                                                                                            'gh_sloc': np.int32}, encoding='utf-8')\n"
   ]
  },
  {
   "cell_type": "code",
   "execution_count": 4,
   "metadata": {
    "scrolled": true
   },
   "outputs": [],
   "source": [
    "dataset = dataset.loc[dataset['git_branch'] == 'master']\n",
    "dataset = dataset[dataset.gh_lang != 'javascript']\n",
    "dataset = dataset.dropna(subset=['gh_num_commits_in_push']) #Remove NaN da coluna especificada\n",
    "\n",
    "dataset['gh_pushed_at'] = pd.to_datetime(dataset.gh_pushed_at)\n",
    "\n",
    "dataset = dataset.drop_duplicates(['tr_build_id']) # No projeto todo\n"
   ]
  },
  {
   "cell_type": "code",
   "execution_count": null,
   "metadata": {},
   "outputs": [],
   "source": []
  },
  {
   "cell_type": "markdown",
   "metadata": {},
   "source": [
    "<font size = 4/>\n",
    "3 - Projeto abaixo de 1000 linhas serão descartados,projeto possuindo acima de 1000 e menos que 10.000 serão considerados pequenos, projetos possuindo acima de 10.000 linhas e menos que 100.000 serão considerados médios e projetos acima de 100.000 linhas serão considerados grandes."
   ]
  },
  {
   "cell_type": "code",
   "execution_count": 11,
   "metadata": {},
   "outputs": [],
   "source": [
    "def size_project(language, sett):\n",
    "    dataset = dataset.sort_values(['gh_sloc'], ascending=False)\n",
    "    if(sett == 1): #abaixo de 1000 linhas\n",
    "        df1 = dataset.loc[(dataset['gh_sloc'] < 1000) & (dataset['gh_lang'] == language)]\n",
    "        ##list_project_df1 = df1.gh_project_name.unique().tolist()\n",
    "        #print(\"Projetos {} abaixo de 1000 linhas: {}\".format(language, len(list_project_df1)))  \n",
    "        return(df1)\n",
    "    if(sett == 2): #acima de 1000 e menos que 10.000\n",
    "        df2 = dataset.loc[(dataset['gh_sloc'] < 10000)]\n",
    "        df2 = df2.loc[(df2['gh_sloc'] > 1000) & (df2['gh_lang'] == language)]\n",
    "        #list_project_df2 = df2.gh_project_name.unique().tolist() #filtra o nome de cada projeto e coloca em uma lista\n",
    "        \n",
    "        #print(\"Projetos {} acima de 1000 linhas e abaixo de 10.000 : {}\".format(language,len(list_project_df2)))\n",
    "        return(df2)\n",
    "    \n",
    "    if(sett == 3): #acima de 10.000 linhas e menos que 100.000\n",
    "        df3 = dataset.loc[(dataset['gh_sloc'] < 100000)]\n",
    "        df3 = df3.loc[(df3['gh_sloc'] > 10000) & (df3['gh_lang'] == language)]\n",
    "        #list_project_df3 = df3.gh_project_name.unique().tolist() #filtra o nome de cada projeto e coloca em uma lista\n",
    "    \n",
    "        #print(\"Projetos {} acima de 10.000 linhas e abaixo de 100.000 : {}\".format(language,len(list_project_df3)))\n",
    "        return(df3)\n",
    "    \n",
    "    if(sett == 4): #acima de 100.000 linhas\n",
    "        df4 = dataset.loc[(dataset['gh_sloc'] > 100000) & (dataset['gh_lang'] == language)]\n",
    "        #list_project_df4 = df4.gh_project_name.unique().tolist() #filtra o nome de cada projeto e coloca em uma lista\n",
    "    \n",
    "        #print(\"Projetos {} acima de 100.000 linhas: {}\".format(language,len(list_project_df4)))\n",
    "        return(df4)        "
   ]
  },
  {
   "cell_type": "code",
   "execution_count": 8,
   "metadata": {},
   "outputs": [],
   "source": [
    "\n",
    "# modelo parcial, ainda falta retornar um dataset \n",
    "def quantidade_projetos(language, sett):\n",
    "    small, medium, large, project_null = 0,0,0,0\n",
    "    \n",
    "    df = dataset.sort_values(['gh_sloc'], ascending=False)\n",
    "    df = df.loc[df['gh_lang'] == language]\n",
    "    \n",
    "    list_name_project = df.gh_project_name.unique().tolist()\n",
    "\n",
    "    if(sett == 1):\n",
    "        for name in list_name_project:\n",
    "            df0 = df.loc[df['gh_project_name'] == name]\n",
    "            if(1000 > df0.gh_sloc[0:1].item()):\n",
    "                project_null +=1\n",
    "        print(\"Projetos {} abaixo de 1000 linhas: {}\".format(language, project_null)) \n",
    "        \n",
    "    if(sett == 2):\n",
    "        for name in list_name_project:\n",
    "            df1 = df.loc[df['gh_project_name'] == name]\n",
    "            if((1000 < df1.gh_sloc[0:1].item()) and (10000 > df1.gh_sloc[0:1].item())):\n",
    "                small +=1\n",
    "        print(\"Projetos {} acima de 1000 linhas e abaixo de 10.000 : {}\".format(language, small))\n",
    "        \n",
    "    if(sett == 3):\n",
    "        for name in list_name_project:\n",
    "            df2 = df.loc[df['gh_project_name'] == name]\n",
    "            if((10000 < df2.gh_sloc[0:1].item()) and (100000 > df2.gh_sloc[0:1].item())):\n",
    "                medium +=1\n",
    "        print(\"Projetos {} acima de 10.000 linhas e abaixo de 100.000 : {}\".format(language,medium))\n",
    "        \n",
    "    if(sett == 4):\n",
    "        for name in list_name_project:\n",
    "            df3 = df.loc[df['gh_project_name'] == name]\n",
    "            if(100000 < df3.gh_sloc[0:1].item()):\n",
    "                large +=1\n",
    "        print(\"Projetos {} acima de 100.000 linhas: {}\".format(language,large))       \n"
   ]
  },
  {
   "cell_type": "code",
   "execution_count": null,
   "metadata": {},
   "outputs": [],
   "source": []
  },
  {
   "cell_type": "markdown",
   "metadata": {},
   "source": [
    "<font size = 4/>\n",
    "3.1 Tamanho dos projetos Ruby e Java"
   ]
  },
  {
   "cell_type": "code",
   "execution_count": 9,
   "metadata": {},
   "outputs": [
    {
     "name": "stdout",
     "output_type": "stream",
     "text": [
      "Projetos ruby abaixo de 1000 linhas: 322\n",
      "Projetos ruby acima de 1000 linhas e abaixo de 10.000 : 471\n",
      "Projetos ruby acima de 10.000 linhas e abaixo de 100.000 : 76\n",
      "Projetos ruby acima de 100.000 linhas: 8\n",
      "\n",
      "\n",
      "Projetos java abaixo de 1000 linhas: 14\n",
      "Projetos java acima de 1000 linhas e abaixo de 10.000 : 151\n",
      "Projetos java acima de 10.000 linhas e abaixo de 100.000 : 185\n",
      "Projetos java acima de 100.000 linhas: 28\n"
     ]
    }
   ],
   "source": [
    "# tirar o comentado do metodo para não haver erro\n",
    "quantidade_projetos('ruby', 1)\n",
    "quantidade_projetos('ruby', 2)\n",
    "quantidade_projetos('ruby', 3)\n",
    "quantidade_projetos('ruby', 4)\n",
    "\n",
    "print(\"\\n\")\n",
    "\n",
    "quantidade_projetos('java', 1)\n",
    "quantidade_projetos('java', 2)\n",
    "quantidade_projetos('java', 3)\n",
    "quantidade_projetos('java', 4)"
   ]
  },
  {
   "cell_type": "code",
   "execution_count": null,
   "metadata": {},
   "outputs": [],
   "source": []
  },
  {
   "cell_type": "markdown",
   "metadata": {},
   "source": [
    "<font size = 4/>\n",
    "Def para frequencia por dia e mes"
   ]
  },
  {
   "cell_type": "code",
   "execution_count": 13,
   "metadata": {
    "scrolled": true
   },
   "outputs": [],
   "source": [
    "def weekday_frequency(dataframe): #year\n",
    "    \n",
    "    dataframe = dataframe.gh_pushed_at.dt.weekday\n",
    "\n",
    "    monday  = []\n",
    "    tuesday  = []\n",
    "    wednesday = []\n",
    "    thursday  = []\n",
    "    friday = []\n",
    "    saturday = []\n",
    "    sunday = []\n",
    "\n",
    "    for date in dataframe:\n",
    "        if(date == 0):\n",
    "            monday.append(date)\n",
    "        elif(date == 1):\n",
    "            tuesday.append(date)\n",
    "        elif(date == 2):\n",
    "            wednesday.append(date)\n",
    "        elif(date == 3):\n",
    "            thursday.append(date)\n",
    "        elif(date == 4):\n",
    "            friday.append(date)\n",
    "        elif(date == 5):\n",
    "            saturday.append(date)\n",
    "        elif(date == 6):\n",
    "            sunday.append(date)\n",
    "            \n",
    "    #print(\"\\nMonday: {} commits \\n Tuesday: {} \\n wednesday: {} \\n Thursday: {} \\n Friday: {} \\n Saturday: {}\\n Sunday: {}\".format(len(monday), len(tuesday), len(wednesday), len(thursday), len(friday), len(saturday), len(sunday)))\n",
    "      \n",
    "    return([monday, tuesday, wednesday, thursday, friday, saturday, sunday])"
   ]
  },
  {
   "cell_type": "code",
   "execution_count": 14,
   "metadata": {},
   "outputs": [],
   "source": [
    "def month_frequency(dataframe): #year\n",
    "    #dataframe = dataframe.loc[dataset.gh_pushed_at.dt.year == year]\n",
    "\n",
    "    dataframe = dataframe.gh_pushed_at.dt.month\n",
    "    \n",
    "    january = []\n",
    "    february = []\n",
    "    march = []\n",
    "    april = []\n",
    "    may = []\n",
    "    june = []\n",
    "    july = []\n",
    "    august = []\n",
    "    september = []\n",
    "    october = []\n",
    "    november = []\n",
    "    december = []\n",
    "    \n",
    " \n",
    "    for month in dataframe:\n",
    "        if(month == 1):\n",
    "            january.append(month)\n",
    "        elif(month == 2):\n",
    "            february.append(month)\n",
    "        elif(month == 3):\n",
    "            march.append(month)\n",
    "        elif(month == 4):\n",
    "            april.append(month)\n",
    "        elif(month == 5):\n",
    "            may.append(month)\n",
    "        elif(month == 6):\n",
    "            june.append(month)\n",
    "        elif(month == 7):\n",
    "            july.append(month)\n",
    "        elif(month == 8):\n",
    "            august.append(month)\n",
    "        elif(month == 9):\n",
    "            september.append(month)\n",
    "        elif(month == 10):\n",
    "            october.append(month)\n",
    "        elif(month == 11):\n",
    "            november.append(month)\n",
    "        elif(month == 12):\n",
    "            december.append(month)\n",
    "            \n",
    "    #print(\"january:{} \\n february:{} \\n march:{} \\n april:{} \\n may:{} \\n june:{} \\n july:{} \\n august:{} \\n september:{} \\n october:{} \\n november:{} \\n december:{} \".format(len(january), len(february), len(march), len(april), len(may), len(june), len(july), len(august), len(september), len(october), len(november), len(december)))\n",
    "    return([january, february, march, april, may, june, july, august, september, october, november, december])"
   ]
  },
  {
   "cell_type": "code",
   "execution_count": 29,
   "metadata": {},
   "outputs": [],
   "source": [
    "def plot_bar(sett, language, very_small,low, medium, high):\n",
    "    \n",
    "    # Dados do grafico\n",
    "    if(sett == 0):\n",
    "        frequency_low = [len(low[0]),len(low[1]),len(low[2]),len(low[3]),len(low[4]),len(low[5]),len(low[6]),len(low[7]),len(low[8]),len(low[9]),len(low[10]),len(low[11])]\n",
    "        frequency_medium = [len(medium[0]),len(medium[1]),len(medium[2]),len(medium[3]),len(medium[4]),len(medium[5]),len(medium[6]),len(medium[7]),len(medium[8]),len(medium[9]),len(medium[10]),len(medium[11])]\n",
    "        frequency_high = [len(high[0]),len(high[1]),len(high[2]),len(high[3]),len(high[4]),len(high[5]),len(high[6]),len(high[7]),len(high[8]),len(high[9]),len(high[10]),len(high[11])]\n",
    "\n",
    "        labels_list = [\"january\", \"february\", \"march\", \"april\", \"may\", \"june\", \"july\", \"august\", \"september\", \"october\", \"november\", \"december\"]\n",
    "    if(sett == 1):\n",
    "        frequency_very_small = [len(very_small[0]),len(very_small[1]),len(very_small[2]),len(very_small[3]),len(very_small[4]),len(very_small[5]),len(very_small[6])]\n",
    "        frequency_low = [len(low[0]),len(low[1]),len(low[2]),len(low[3]),len(low[4]),len(low[5]),len(low[6])]\n",
    "        frequency_medium = [len(medium[0]),len(medium[1]),len(medium[2]),len(medium[3]),len(medium[4]),len(medium[5]),len(medium[6])]\n",
    "        frequency_high = [len(high[0]),len(high[1]),len(high[2]),len(high[3]),len(high[4]),len(high[5]),len(high[6])]\n",
    "\n",
    "        labels_list = ['Monday', 'Tuesday','wednesday','thursday ','friday','saturday','sunday']\n",
    "        \n",
    "    # Largura das barras\n",
    "    barWidth = 0.25\n",
    "    \n",
    "    # Tamanho do Grafico\n",
    "    plt.figure(figsize=(10,7))\n",
    "    \n",
    "    # Posicao da barras\n",
    "    r1 = np.arange(len(frequency_very_small))\n",
    "    r2 = [x + barWidth for x in r1]\n",
    "    r3 = [x + barWidth for x in r2]\n",
    "    r4 = [x + barWidth for x in r3]\n",
    "    \n",
    "    \n",
    "    # Criando as barras\n",
    "    plt.bar(r1, frequency_very_small, color='#59C3CD', width=barWidth, label='Very Small')\n",
    "    plt.bar(r2, frequency_low, color='#6A5ACD', width=barWidth, label='Small')\n",
    "    plt.bar(r3, frequency_medium, color='#6495ED', width=barWidth, label='Medium')\n",
    "    plt.bar(r4, frequency_high, color='#00BFFF', width=barWidth, label='Large')\n",
    "    \n",
    "    # Adicionando legendas as barras\n",
    "    if(sett == 0):\n",
    "        plt.xlabel('Months', fontsize=15)\n",
    "    if(sett == 1):\n",
    "        plt.xlabel('Weekday', fontsize=15)\n",
    "   \n",
    "    plt.xticks([r + barWidth for r in  range(len(frequency_low))], labels_list)\n",
    "    plt.ylabel('Quantity of commits', fontsize=15)\n",
    "    plt.title('{}'.format(language), fontsize=15)\n",
    "    \n",
    "    \n",
    "    plt.legend()\n",
    "    plt.savefig('frequencia_por_dia_semana.eps', format='eps')\n",
    "    plt.show()\n",
    "  "
   ]
  },
  {
   "cell_type": "markdown",
   "metadata": {},
   "source": [
    "<font size = 4/>\n",
    "3.2 - Frequências de commit por Mês, sendo projetos de tamanho pequeno, médio e grande."
   ]
  },
  {
   "cell_type": "markdown",
   "metadata": {},
   "source": [
    "### All project"
   ]
  },
  {
   "cell_type": "code",
   "execution_count": 30,
   "metadata": {},
   "outputs": [
    {
     "data": {
      "image/png": "[encoded data removed]",
      "text/plain": [
       "<Figure size 720x504 with 1 Axes>"
      ]
     },
     "metadata": {},
     "output_type": "display_data"
    }
   ],
   "source": [
    "def project(sett):\n",
    "    #dataset = dataset.sort_values(['gh_sloc'], ascending=False)\n",
    "    if(sett == 1): #abaixo de 1000 linhas\n",
    "        df1 = dataset.loc[dataset['gh_sloc'] < 1000]\n",
    "        return(df1)\n",
    "    \n",
    "    if(sett == 2): #acima de 1000 e menos que 10.000\n",
    "        df2 = dataset.loc[dataset['gh_sloc'] < 10000]\n",
    "        df2 = df2.loc[df2['gh_sloc'] > 1000]\n",
    "        return(df2)\n",
    "    \n",
    "    if(sett == 3): #acima de 10.000 linhas e menos que 100.000\n",
    "        df3 = dataset.loc[dataset['gh_sloc'] < 100000]\n",
    "        df3 = df3.loc[df3['gh_sloc'] > 10000]\n",
    "        return(df3)\n",
    "    \n",
    "    if(sett == 4): #acima de 100.000 linhas\n",
    "        df4 = dataset.loc[dataset['gh_sloc'] > 100000]\n",
    "        return(df4)        \n",
    "    \n",
    "df_very_small = project(1)\n",
    "\n",
    "df_small = project(2)\n",
    "\n",
    "df_medium = project(3)\n",
    "\n",
    "df_large = project(4)\n",
    "\n",
    "\n",
    "weekday_very_small = weekday_frequency(df_very_small)\n",
    "weekday_small = weekday_frequency(df_small)\n",
    "weekday_medium = weekday_frequency(df_medium)\n",
    "weekday_large = weekday_frequency(df_large)\n",
    "\n",
    "plot_bar(1, 'Frequency per weekday', weekday_very_small, weekday_small, weekday_medium, weekday_large)"
   ]
  },
  {
   "cell_type": "markdown",
   "metadata": {},
   "source": [
    "<font size = 4/>\n",
    "3.2.1 - Projetos RUBY "
   ]
  },
  {
   "cell_type": "code",
   "execution_count": 31,
   "metadata": {},
   "outputs": [
    {
     "ename": "NameError",
     "evalue": "name 'size_project' is not defined",
     "output_type": "error",
     "traceback": [
      "\u001b[0;31m---------------------------------------------------------------------------\u001b[0m",
      "\u001b[0;31mNameError\u001b[0m                                 Traceback (most recent call last)",
      "\u001b[0;32m<ipython-input-31-d8c0f1516bc7>\u001b[0m in \u001b[0;36m<module>\u001b[0;34m()\u001b[0m\n\u001b[0;32m----> 1\u001b[0;31m \u001b[0mdataframe_l\u001b[0m \u001b[0;34m=\u001b[0m \u001b[0msize_project\u001b[0m\u001b[0;34m(\u001b[0m\u001b[0;34m'ruby'\u001b[0m\u001b[0;34m,\u001b[0m \u001b[0;36m2\u001b[0m\u001b[0;34m)\u001b[0m\u001b[0;34m\u001b[0m\u001b[0m\n\u001b[0m\u001b[1;32m      2\u001b[0m \u001b[0;34m\u001b[0m\u001b[0m\n\u001b[1;32m      3\u001b[0m \u001b[0mdataframe_m\u001b[0m \u001b[0;34m=\u001b[0m \u001b[0msize_project\u001b[0m\u001b[0;34m(\u001b[0m\u001b[0;34m'ruby'\u001b[0m\u001b[0;34m,\u001b[0m \u001b[0;36m3\u001b[0m\u001b[0;34m)\u001b[0m\u001b[0;34m\u001b[0m\u001b[0m\n\u001b[1;32m      4\u001b[0m \u001b[0;34m\u001b[0m\u001b[0m\n\u001b[1;32m      5\u001b[0m \u001b[0mdataframe_h\u001b[0m \u001b[0;34m=\u001b[0m \u001b[0msize_project\u001b[0m\u001b[0;34m(\u001b[0m\u001b[0;34m'ruby'\u001b[0m\u001b[0;34m,\u001b[0m \u001b[0;36m4\u001b[0m\u001b[0;34m)\u001b[0m\u001b[0;34m\u001b[0m\u001b[0m\n",
      "\u001b[0;31mNameError\u001b[0m: name 'size_project' is not defined"
     ]
    }
   ],
   "source": [
    "dataframe_l = size_project('ruby', 2)\n",
    "\n",
    "dataframe_m = size_project('ruby', 3)\n",
    "\n",
    "dataframe_h = size_project('ruby', 4)\n",
    "\n",
    "\n",
    "weekday_low = weekday_frequency(dataframe_l)\n",
    "weekday_medium = weekday_frequency(dataframe_m)\n",
    "weekday_high = weekday_frequency(dataframe_h)\n",
    "\n",
    "plot_bar(1, 'Ruby', weekday_low, weekday_medium, weekday_high)"
   ]
  },
  {
   "cell_type": "markdown",
   "metadata": {},
   "source": [
    "<font size = 4/>\n",
    "3.2.1 - Projetos Java "
   ]
  },
  {
   "cell_type": "code",
   "execution_count": 10,
   "metadata": {},
   "outputs": [
    {
     "data": {
      "image/png": "[encoded data removed]",
      "text/plain": [
       "<Figure size 1224x504 with 1 Axes>"
      ]
     },
     "metadata": {},
     "output_type": "display_data"
    }
   ],
   "source": [
    "dataframe_l = size_project('java', 2)\n",
    "\n",
    "dataframe_m = size_project('java', 3)\n",
    "\n",
    "dataframe_h = size_project('java', 4)\n",
    "\n",
    "\n",
    "\n",
    "weekday_low = weekday_frequency(dataframe_l)\n",
    "weekday_medium = weekday_frequency(dataframe_m)\n",
    "weekday_high = weekday_frequency(dataframe_h)\n",
    "\n",
    "plot_bar(1, 'Java', weekday_low, weekday_medium, weekday_high)"
   ]
  },
  {
   "cell_type": "markdown",
   "metadata": {},
   "source": [
    "<font size = 4/>\n",
    "3.3 - Frequências de commit por Mês, por tamanho do projeto, pequeno, médio e grande.\n"
   ]
  },
  {
   "cell_type": "markdown",
   "metadata": {},
   "source": [
    "<font size = 4/>\n",
    "3.3.1 - Projetos RUBY "
   ]
  },
  {
   "cell_type": "code",
   "execution_count": 11,
   "metadata": {},
   "outputs": [
    {
     "data": {
      "image/png": "[encoded data removed]",
      "text/plain": [
       "<Figure size 1224x504 with 1 Axes>"
      ]
     },
     "metadata": {},
     "output_type": "display_data"
    }
   ],
   "source": [
    "dataframe_l = size_project('ruby', 2)\n",
    "dataframe_m = size_project('ruby', 3)\n",
    "dataframe_h = size_project('ruby', 4)\n",
    "\n",
    "month_low = month_frequency(dataframe_l)\n",
    "month_medium = month_frequency(dataframe_m)\n",
    "month_high = month_frequency(dataframe_h)\n",
    "\n",
    "#plot_bar(0, 'Ruby', month_low, month_medium, month_high)"
   ]
  },
  {
   "cell_type": "markdown",
   "metadata": {},
   "source": [
    "<font size = 4/>\n",
    "3.3.2 - Projetos Java "
   ]
  },
  {
   "cell_type": "code",
   "execution_count": 12,
   "metadata": {},
   "outputs": [
    {
     "data": {
      "image/png": "[encoded data removed]",
      "text/plain": [
       "<Figure size 1224x504 with 1 Axes>"
      ]
     },
     "metadata": {},
     "output_type": "display_data"
    }
   ],
   "source": [
    "dataframe_l = size_project('java', 2)\n",
    "dataframe_m = size_project('java', 3)\n",
    "dataframe_h = size_project('java', 4)\n",
    "\n",
    "month_low = month_frequency(dataframe_l)\n",
    "month_medium = month_frequency(dataframe_m)\n",
    "month_high = month_frequency(dataframe_h)\n",
    "\n",
    "#plot_bar(0, 'Java', month_low, month_medium, month_high)"
   ]
  },
  {
   "cell_type": "markdown",
   "metadata": {},
   "source": [
    "<font size = 4/>\n",
    "4 - Boxplot por semana e por mês"
   ]
  },
  {
   "cell_type": "code",
   "execution_count": 13,
   "metadata": {},
   "outputs": [],
   "source": [
    "def plot_box(title, plot1, plot2, plot3=None, plot4=None, plot5=None, plot6=None, plot7=None, plot8=None, plot9=None, plot10=None, plot11=None, plot12=None):\n",
    "    \n",
    "    if(plot8 == None):\n",
    "        data=[plot1, plot2, plot3, plot4, plot5, plot6, plot7]\n",
    "    else:\n",
    "        data=[plot1, plot2, plot3, plot4, plot5, plot6, plot7, plot8, plot9, plot10, plot11, plot12]\n",
    "        \n",
    "    fig, ax = plt.subplots()\n",
    "    fig.subplots_adjust(left=0.08, right=1.48, bottom=0.05, top=1.2,\n",
    "                        hspace=0.4, wspace=0.3)\n",
    "\n",
    "    ax.set_axisbelow(True)\n",
    "    ax.set_title(title, size=20)\n",
    "    ax.boxplot(data)"
   ]
  },
  {
   "cell_type": "code",
   "execution_count": 14,
   "metadata": {},
   "outputs": [],
   "source": [
    "def commits_weekday(dataframe):\n",
    "    weekday = [] \n",
    "    for i in range(0, 7):\n",
    "        day = dataframe.loc[(dataframe.gh_pushed_at.dt.weekday == i)]\n",
    "        weekday.append(day.gh_num_commits_in_push)\n",
    "    return(weekday)"
   ]
  },
  {
   "cell_type": "code",
   "execution_count": null,
   "metadata": {},
   "outputs": [],
   "source": []
  },
  {
   "cell_type": "code",
   "execution_count": 63,
   "metadata": {},
   "outputs": [
    {
     "name": "stdout",
     "output_type": "stream",
     "text": [
      "Projetos ruby acima de 1000 linhas e abaixo de 10.000 : 471\n",
      "Projetos ruby acima de 10.000 linhas e abaixo de 100.000 : 76\n",
      "Projetos ruby acima de 100.000 linhas: 8\n"
     ]
    },
    {
     "ename": "NameError",
     "evalue": "name 'commits_weekday' is not defined",
     "output_type": "error",
     "traceback": [
      "\u001b[0;31m---------------------------------------------------------------------------\u001b[0m",
      "\u001b[0;31mNameError\u001b[0m                                 Traceback (most recent call last)",
      "\u001b[0;32m<ipython-input-63-4d9e17e21fad>\u001b[0m in \u001b[0;36m<module>\u001b[0;34m()\u001b[0m\n\u001b[1;32m      5\u001b[0m \u001b[0;34m\u001b[0m\u001b[0m\n\u001b[1;32m      6\u001b[0m \u001b[0;34m\u001b[0m\u001b[0m\n\u001b[0;32m----> 7\u001b[0;31m \u001b[0mweekday_l\u001b[0m \u001b[0;34m=\u001b[0m \u001b[0mcommits_weekday\u001b[0m\u001b[0;34m(\u001b[0m\u001b[0mdataframe_l\u001b[0m\u001b[0;34m)\u001b[0m\u001b[0;34m\u001b[0m\u001b[0m\n\u001b[0m\u001b[1;32m      8\u001b[0m \u001b[0mweekday_m\u001b[0m \u001b[0;34m=\u001b[0m \u001b[0mcommits_weekday\u001b[0m\u001b[0;34m(\u001b[0m\u001b[0mdataframe_m\u001b[0m\u001b[0;34m)\u001b[0m\u001b[0;34m\u001b[0m\u001b[0m\n\u001b[1;32m      9\u001b[0m \u001b[0mweekday_h\u001b[0m \u001b[0;34m=\u001b[0m \u001b[0mcommits_weekday\u001b[0m\u001b[0;34m(\u001b[0m\u001b[0mdataframe_h\u001b[0m\u001b[0;34m)\u001b[0m\u001b[0;34m\u001b[0m\u001b[0m\n",
      "\u001b[0;31mNameError\u001b[0m: name 'commits_weekday' is not defined"
     ]
    }
   ],
   "source": [
    "\n",
    "dataframe_l = size_project('ruby', 2)\n",
    "dataframe_m = size_project('ruby', 3)\n",
    "dataframe_h = size_project('ruby', 4)\n",
    "\n",
    "\n",
    "weekday_l = commits_weekday(dataframe_l)\n",
    "weekday_m = commits_weekday(dataframe_m)\n",
    "weekday_h = commits_weekday(dataframe_h)\n"
   ]
  },
  {
   "cell_type": "code",
   "execution_count": 16,
   "metadata": {},
   "outputs": [
    {
     "name": "stdout",
     "output_type": "stream",
     "text": [
      "Media para projetos pequenos\n",
      " count    96682.000000\n",
      "mean         2.381281\n",
      "std          2.658886\n",
      "Name: gh_num_commits_in_push, dtype: float64\n",
      "\n",
      "Media para projetos medios\n",
      " count    42129.000000\n",
      "mean         2.417195\n",
      "std          2.727777\n",
      "Name: gh_num_commits_in_push, dtype: float64\n",
      "\n",
      "Media para projetos grandes\n",
      " count    16707.000000\n",
      "mean         3.406476\n",
      "std          3.751727\n",
      "Name: gh_num_commits_in_push, dtype: float64\n",
      "\n",
      "\n",
      "Media para projetos pequenos fim de semana\n",
      " count    23794.000000\n",
      "mean         2.337144\n",
      "std          2.611799\n",
      "Name: gh_num_commits_in_push, dtype: float64\n",
      "\n",
      "Media para projetos medios fim de semana\n",
      " count    10045.000000\n",
      "mean         2.431458\n",
      "std          2.865199\n",
      "Name: gh_num_commits_in_push, dtype: float64\n",
      "\n",
      "Media para projetos grandes fim de semana\n",
      " count    3895.000000\n",
      "mean        3.424390\n",
      "std         3.711321\n",
      "Name: gh_num_commits_in_push, dtype: float64\n"
     ]
    }
   ],
   "source": [
    "# Media de commits para projetos\n",
    "\n",
    "dia_semana_p = dataframe_l.loc[(dataframe_l.gh_pushed_at.dt.weekday < 5)]\n",
    "dia_semana_m = dataframe_m.loc[(dataframe_m.gh_pushed_at.dt.weekday < 5)]\n",
    "dia_semana_h = dataframe_h.loc[(dataframe_h.gh_pushed_at.dt.weekday < 5)]\n",
    "\n",
    "\n",
    "print('Media para projetos pequenos\\n',dia_semana_p.gh_num_commits_in_push.describe()[0:3])\n",
    "print('\\nMedia para projetos medios\\n',dia_semana_m.gh_num_commits_in_push.describe()[0:3])\n",
    "print('\\nMedia para projetos grandes\\n',dia_semana_h.gh_num_commits_in_push.describe()[0:3])\n",
    "\n",
    "\n",
    "fim_semana_p = dataframe_l.loc[(dataframe_l.gh_pushed_at.dt.weekday >= 5)]\n",
    "fim_semana_m = dataframe_m.loc[(dataframe_m.gh_pushed_at.dt.weekday >= 5)]\n",
    "fim_semana_h = dataframe_h.loc[(dataframe_h.gh_pushed_at.dt.weekday >= 5)]\n",
    "\n",
    "print('\\n\\nMedia para projetos pequenos fim de semana\\n',fim_semana_p.gh_num_commits_in_push.describe()[0:3])\n",
    "print('\\nMedia para projetos medios fim de semana\\n',fim_semana_m.gh_num_commits_in_push.describe()[0:3])\n",
    "print('\\nMedia para projetos grandes fim de semana\\n',fim_semana_h.gh_num_commits_in_push.describe()[0:3])\n",
    "\n",
    "#weekend1, weekend2 = commits_weekend(dataframe_m)\n",
    "#weekend1, weekend2 = commits_weekend(dataframe_h)"
   ]
  },
  {
   "cell_type": "code",
   "execution_count": 17,
   "metadata": {},
   "outputs": [],
   "source": [
    "#plot_box('Projetos ruby pequenos - Semana', weekday_l[0], weekday_l[1], weekday_l[2], weekday_l[3], weekday_l[4], weekday_l[5], weekday_l[6])\n",
    "#plot_box('Projetos ruby médios - Semana', weekday_m[0], weekday_m[1], weekday_m[2], weekday_m[3], weekday_m[4], weekday_m[5], weekday_m[6])\n",
    "#plot_box('Projetos ruby grandes - Semana', weekday_h[0], weekday_h[1], weekday_h[2], weekday_h[3], weekday_h[4], weekday_h[5], weekday_h[6])"
   ]
  },
  {
   "cell_type": "code",
   "execution_count": 18,
   "metadata": {},
   "outputs": [],
   "source": [
    "# size project filtra os projetos por tamanho e depois filtra-se por cada dia da semana \n",
    "dataframe_l = size_project('java', 2)\n",
    "dataframe_m = size_project('java', 3)\n",
    "dataframe_h = size_project('java', 4)\n",
    "\n",
    "\n",
    "weekday_l = commits_weekday(dataframe_l)\n",
    "weekday_m = commits_weekday(dataframe_m)\n",
    "weekday_h = commits_weekday(dataframe_h)\n",
    "\n",
    "\n",
    "#plot_box('Projetos Java pequenos - Semana', weekday_l[0], weekday_l[1], weekday_l[2], weekday_l[3], weekday_l[4], weekday_l[5], weekday_l[6])\n",
    "#plot_box('Projetos Java médios - Semana', weekday_m[0], weekday_m[1], weekday_m[2], weekday_m[3], weekday_m[4], weekday_m[5], weekday_m[6])\n",
    "#plot_box('Projetos Java grandes - Semana', weekday_h[0], weekday_h[1], weekday_h[2], weekday_h[3], weekday_h[4], weekday_h[5], weekday_h[6])"
   ]
  },
  {
   "cell_type": "markdown",
   "metadata": {},
   "source": [
    "#### (size project) filtra os projetos por tamanho e depois filtra-se por dia de semana e final de semana"
   ]
  },
  {
   "cell_type": "code",
   "execution_count": 19,
   "metadata": {},
   "outputs": [
    {
     "name": "stdout",
     "output_type": "stream",
     "text": [
      "Media para projetos pequenos\n",
      " count    28219.000000\n",
      "mean         2.143485\n",
      "std          2.481595\n",
      "Name: gh_num_commits_in_push, dtype: float64\n",
      "\n",
      "Media para projetos medios\n",
      " count    51132.000000\n",
      "mean         2.261754\n",
      "std          2.761387\n",
      "Name: gh_num_commits_in_push, dtype: float64\n",
      "\n",
      "Media para projetos grandes\n",
      " count    14992.000000\n",
      "mean         2.367929\n",
      "std          2.840215\n",
      "Name: gh_num_commits_in_push, dtype: float64\n",
      "\n",
      "\n",
      "Media para projetos pequenos fim de semana\n",
      " count    6549.000000\n",
      "mean        2.182318\n",
      "std         2.611190\n",
      "Name: gh_num_commits_in_push, dtype: float64\n",
      "\n",
      "Media para projetos medios fim de semana\n",
      " count    12088.000000\n",
      "mean         2.217075\n",
      "std          2.660982\n",
      "Name: gh_num_commits_in_push, dtype: float64\n",
      "\n",
      "Media para projetos grandes fim de semana\n",
      " count    3483.000000\n",
      "mean        2.295435\n",
      "std         2.771428\n",
      "Name: gh_num_commits_in_push, dtype: float64\n"
     ]
    }
   ],
   "source": [
    "\n",
    "\n",
    "dia_semana_p = dataframe_l.loc[(dataframe_l.gh_pushed_at.dt.weekday < 5)]\n",
    "dia_semana_m = dataframe_m.loc[(dataframe_m.gh_pushed_at.dt.weekday < 5)]\n",
    "dia_semana_h = dataframe_h.loc[(dataframe_h.gh_pushed_at.dt.weekday < 5)]\n",
    "\n",
    "\n",
    "print('Media para projetos pequenos\\n',dia_semana_p.gh_num_commits_in_push.describe()[0:3])\n",
    "print('\\nMedia para projetos medios\\n',dia_semana_m.gh_num_commits_in_push.describe()[0:3])\n",
    "print('\\nMedia para projetos grandes\\n',dia_semana_h.gh_num_commits_in_push.describe()[0:3])\n",
    "\n",
    "\n",
    "fim_semana_p = dataframe_l.loc[(dataframe_l.gh_pushed_at.dt.weekday >= 5)]\n",
    "fim_semana_m = dataframe_m.loc[(dataframe_m.gh_pushed_at.dt.weekday >= 5)]\n",
    "fim_semana_h = dataframe_h.loc[(dataframe_h.gh_pushed_at.dt.weekday >= 5)]\n",
    "\n",
    "print('\\n\\nMedia para projetos pequenos fim de semana\\n',fim_semana_p.gh_num_commits_in_push.describe()[0:3])\n",
    "print('\\nMedia para projetos medios fim de semana\\n',fim_semana_m.gh_num_commits_in_push.describe()[0:3])\n",
    "print('\\nMedia para projetos grandes fim de semana\\n',fim_semana_h.gh_num_commits_in_push.describe()[0:3])\n"
   ]
  },
  {
   "cell_type": "markdown",
   "metadata": {},
   "source": [
    "### Dados dos projetos Pequenos, Medios e Grandes"
   ]
  },
  {
   "cell_type": "code",
   "execution_count": null,
   "metadata": {},
   "outputs": [],
   "source": []
  },
  {
   "cell_type": "code",
   "execution_count": 7,
   "metadata": {},
   "outputs": [
    {
     "name": "stdout",
     "output_type": "stream",
     "text": [
      "\n",
      "\n",
      "Média e desvio padrão dos projetos muito pequenos\n",
      " count    60471.000000\n",
      "mean         2.139621\n",
      "std          2.152579\n",
      "min          1.000000\n",
      "25%          1.000000\n",
      "50%          2.000000\n",
      "75%          2.000000\n",
      "max         20.000000\n",
      "Name: gh_num_commits_in_push, dtype: float64 \n",
      "\n",
      " 2.0\n",
      "\n",
      "\n",
      "Média e desvio padrão dos projetos pequenos\n",
      " count    155246.000000\n",
      "mean          2.322991\n",
      "std           2.620459\n",
      "min           1.000000\n",
      "25%           1.000000\n",
      "50%           2.000000\n",
      "75%           2.000000\n",
      "max          20.000000\n",
      "Name: gh_num_commits_in_push, dtype: float64 \n",
      "median: 2.0\n",
      "\n",
      "\n",
      "Média e desvio padrão dos projetos medios\n",
      " count    115398.000000\n",
      "mean          2.328576\n",
      "std           2.748486\n",
      "min           1.000000\n",
      "25%           1.000000\n",
      "50%           2.000000\n",
      "75%           2.000000\n",
      "max          20.000000\n",
      "Name: gh_num_commits_in_push, dtype: float64 \n",
      "median: 2.0\n",
      "\n",
      "\n",
      "Média e desvio padrão dos projetos grandes\n",
      " count    39079.000000\n",
      "mean         2.910745\n",
      "std          3.383643\n",
      "min          1.000000\n",
      "25%          1.000000\n",
      "50%          2.000000\n",
      "75%          3.000000\n",
      "max         20.000000\n",
      "Name: gh_num_commits_in_push, dtype: float64 \n",
      "media: 2.0\n"
     ]
    }
   ],
   "source": [
    "#abaixo de 1000\n",
    "df_very_small = dataset.loc[(dataset['gh_sloc'] < 1000)]\n",
    "\n",
    "#acima de 1000 e menos que 10.000\n",
    "df_small = dataset.loc[(dataset['gh_sloc'] < 10000)]\n",
    "df_small = df_small.loc[(df_small['gh_sloc'] > 1000)]\n",
    "\n",
    "#acima de 10.000 linhas e menos que 100.000\n",
    "df_medium = dataset.loc[(dataset['gh_sloc'] < 100000)]\n",
    "df_medium = df_medium.loc[(df_medium['gh_sloc'] > 10000)]\n",
    "\n",
    "#acima de 100.000 linhas\n",
    "df_large = dataset.loc[(dataset['gh_sloc'] > 100000)]\n",
    "\n",
    "print(\"\\n\\nMédia e desvio padrão dos projetos muito pequenos\\n\", df_very_small.gh_num_commits_in_push.describe(),\"\\n\\n\", df_very_small.gh_num_commits_in_push.median())\n",
    "print(\"\\n\\nMédia e desvio padrão dos projetos pequenos\\n\", df_small.gh_num_commits_in_push.describe(), \"\\nmedian:\", df_small.gh_num_commits_in_push.median())\n",
    "print(\"\\n\\nMédia e desvio padrão dos projetos medios\\n\", df_medium.gh_num_commits_in_push.describe(), \"\\nmedian:\",df_medium.gh_num_commits_in_push.median())\n",
    "print(\"\\n\\nMédia e desvio padrão dos projetos grandes\\n\", df_large.gh_num_commits_in_push.describe(), \"\\nmedia:\",df_large.gh_num_commits_in_push.median())"
   ]
  },
  {
   "cell_type": "code",
   "execution_count": null,
   "metadata": {},
   "outputs": [],
   "source": []
  },
  {
   "cell_type": "markdown",
   "metadata": {},
   "source": [
    "#### Media geral de commits"
   ]
  },
  {
   "cell_type": "code",
   "execution_count": 59,
   "metadata": {},
   "outputs": [
    {
     "data": {
      "text/plain": [
       "2.356738805770874"
      ]
     },
     "execution_count": 59,
     "metadata": {},
     "output_type": "execute_result"
    }
   ],
   "source": [
    "dataset.gh_num_commits_in_push.mean()"
   ]
  },
  {
   "cell_type": "code",
   "execution_count": null,
   "metadata": {},
   "outputs": [],
   "source": []
  },
  {
   "cell_type": "markdown",
   "metadata": {},
   "source": [
    "#### Quantidade de projetos abaixo da media(commits infrequentes)"
   ]
  },
  {
   "cell_type": "code",
   "execution_count": 62,
   "metadata": {},
   "outputs": [
    {
     "name": "stdout",
     "output_type": "stream",
     "text": [
      "Total de projetos 1255 | Projetos com media a baixo de 2: 748 \n"
     ]
    }
   ],
   "source": [
    "cont=0\n",
    "\n",
    "list_name = dataset.gh_project_name.unique().tolist()\n",
    "\n",
    "for i in range(len(list_name)):\n",
    "\n",
    "    df = dataset.loc[dataset['gh_project_name'] == list_name[i]]\n",
    "\n",
    "    mean = df.gh_num_commits_in_push.mean()\n",
    "\n",
    "    if(mean < 2.36):\n",
    "        cont +=1\n",
    "\n",
    "        \n",
    "print(\"Total de projetos {} | Projetos com media a baixo de 2: {} \".format(len(list_name), cont))\n",
    "\n"
   ]
  },
  {
   "cell_type": "code",
   "execution_count": null,
   "metadata": {},
   "outputs": [],
   "source": []
  },
  {
   "cell_type": "markdown",
   "metadata": {},
   "source": [
    "#### describe de projetos java"
   ]
  },
  {
   "cell_type": "code",
   "execution_count": 32,
   "metadata": {},
   "outputs": [
    {
     "name": "stdout",
     "output_type": "stream",
     "text": [
      "\n",
      "\n",
      "Média e desvio padrão dos projetos muito pequenos\n",
      " count    2573.000000\n",
      "mean        1.684415\n",
      "std         1.832164\n",
      "min         1.000000\n",
      "25%         1.000000\n",
      "50%         1.000000\n",
      "75%         2.000000\n",
      "max        20.000000\n",
      "Name: gh_num_commits_in_push, dtype: float64 \n",
      "\n",
      " 1.0\n",
      "\n",
      "\n",
      "Média e desvio padrão dos projetos pequenos\n",
      " count    34768.000000\n",
      "mean         2.150800\n",
      "std          2.506641\n",
      "min          1.000000\n",
      "25%          1.000000\n",
      "50%          1.000000\n",
      "75%          2.000000\n",
      "max         20.000000\n",
      "Name: gh_num_commits_in_push, dtype: float64 \n",
      "median: 1.0\n",
      "\n",
      "\n",
      "Média e desvio padrão dos projetos medios\n",
      " count    63221.000000\n",
      "mean         2.253207\n",
      "std          2.742345\n",
      "min          1.000000\n",
      "25%          1.000000\n",
      "50%          1.000000\n",
      "75%          2.000000\n",
      "max         20.000000\n",
      "Name: gh_num_commits_in_push, dtype: float64 \n",
      "median: 1.0\n",
      "\n",
      "\n",
      "Média e desvio padrão dos projetos grandes\n",
      " count    18476.000000\n",
      "mean         2.354243\n",
      "std          2.827224\n",
      "min          1.000000\n",
      "25%          1.000000\n",
      "50%          1.000000\n",
      "75%          2.000000\n",
      "max         20.000000\n",
      "Name: gh_num_commits_in_push, dtype: float64 \n",
      "media: 1.0\n"
     ]
    }
   ],
   "source": [
    "df = dataset.loc[dataset['gh_lang'] == 'java']\n",
    "\n",
    "#abaixo de 1000\n",
    "df_very_small = df.loc[(dataset['gh_sloc'] < 1000)]\n",
    "\n",
    "#acima de 1000 e menos que 10.000\n",
    "df_small = df.loc[(df['gh_sloc'] < 10000)]\n",
    "df_small = df_small.loc[(df_small['gh_sloc'] > 1000)]\n",
    "\n",
    "#acima de 10.000 linhas e menos que 100.000\n",
    "df_medium = df.loc[(df['gh_sloc'] < 100000)]\n",
    "df_medium = df_medium.loc[(df_medium['gh_sloc'] > 10000)]\n",
    "\n",
    "#acima de 100.000 linhas\n",
    "df_large = df.loc[(df['gh_sloc'] > 100000)]\n",
    "\n",
    "print(\"\\n\\nMédia e desvio padrão dos projetos muito pequenos\\n\", df_very_small.gh_num_commits_in_push.describe(),\"\\n\\n\", df_very_small.gh_num_commits_in_push.median())\n",
    "print(\"\\n\\nMédia e desvio padrão dos projetos pequenos\\n\", df_small.gh_num_commits_in_push.describe(), \"\\nmedian:\", df_small.gh_num_commits_in_push.median())\n",
    "print(\"\\n\\nMédia e desvio padrão dos projetos medios\\n\", df_medium.gh_num_commits_in_push.describe(), \"\\nmedian:\",df_medium.gh_num_commits_in_push.median())\n",
    "print(\"\\n\\nMédia e desvio padrão dos projetos grandes\\n\", df_large.gh_num_commits_in_push.describe(), \"\\nmedia:\",df_large.gh_num_commits_in_push.median())"
   ]
  },
  {
   "cell_type": "markdown",
   "metadata": {},
   "source": [
    "#### Plot de projetos java frequencia de commits"
   ]
  },
  {
   "cell_type": "code",
   "execution_count": 19,
   "metadata": {},
   "outputs": [],
   "source": []
  },
  {
   "cell_type": "code",
   "execution_count": 101,
   "metadata": {},
   "outputs": [
    {
     "data": {
      "image/png": "[encoded data removed]",
      "text/plain": [
       "<Figure size 432x288 with 1 Axes>"
      ]
     },
     "metadata": {},
     "output_type": "display_data"
    }
   ],
   "source": [
    "#abaixo de 1000\n",
    "df = dataset.loc[dataset['gh_lang'] == 'java']\n",
    "df = df.sort_values(['gh_sloc'], ascending=False)\n",
    "\n",
    "df_very_small = df.loc[(df['gh_sloc'] < 1000)]\n",
    "\n",
    "very_small = df_very_small.gh_num_commits_in_push.tolist()\n",
    "\n",
    "#acima de 1000 e menos que 10.000\n",
    "df_small = df.loc[(df['gh_sloc'] < 10000)]\n",
    "df_small = df_small.loc[(df_small['gh_sloc'] > 1000)]\n",
    "\n",
    "small = df_small.gh_num_commits_in_push.tolist()\n",
    "\n",
    "#acima de 10.000 linhas e menos que 100.000\n",
    "df_medium = df.loc[(df['gh_sloc'] < 100000)]\n",
    "df_medium = df_medium.loc[(df_medium['gh_sloc'] > 10000)]\n",
    "\n",
    "medium = df_medium.gh_num_commits_in_push.tolist()\n",
    "\n",
    "#acima de 100.000 linhas\n",
    "df_large = df.loc[(df['gh_sloc'] > 100000)]\n",
    "\n",
    "large = df_large.gh_num_commits_in_push.tolist()\n",
    "\n",
    "\n",
    "\n",
    "###### plot bar #######\n",
    "data=[very_small, small, medium, large]\n",
    "\n",
    "fig, ax = plt.subplots()\n",
    "\n",
    "fig.subplots_adjust(left=0.08, right=1.38, bottom=0.05, top=1.2, hspace=0.4, wspace=0.3)\n",
    "#fig.subplots_adjust(left=0.15, right=.98, bottom=0.22, top=.9, hspace=0.6, wspace=0.6)\n",
    "\n",
    "ax.set_title('Project Java', fontsize=15)\n",
    "ax.set_xlabel('Type project', fontsize=15)\n",
    "ax.set_ylabel('C', fontsize=15)\n",
    "\n",
    "ax.set_axisbelow(True)\n",
    "\n",
    "\n",
    "ax.boxplot(data, 0, '', showmeans=True, meanline=True, labels=['Very small', 'Small', 'Medium', 'Large']) # boxplot sem outlier points\n",
    "\n",
    "\n",
    "plt.savefig('type_project_java.eps', format='eps', dpi = 300,  bbox_inches='tight')\n",
    "plt.show()"
   ]
  },
  {
   "cell_type": "code",
   "execution_count": null,
   "metadata": {},
   "outputs": [],
   "source": []
  },
  {
   "cell_type": "markdown",
   "metadata": {},
   "source": [
    "#### describe de projetos ruby"
   ]
  },
  {
   "cell_type": "code",
   "execution_count": 33,
   "metadata": {},
   "outputs": [
    {
     "name": "stdout",
     "output_type": "stream",
     "text": [
      "\n",
      "\n",
      "Média e desvio padrão dos projetos muito pequenos\n",
      " count    57898.00000\n",
      "mean         2.15985\n",
      "std          2.16377\n",
      "min          1.00000\n",
      "25%          1.00000\n",
      "50%          2.00000\n",
      "75%          2.00000\n",
      "max         20.00000\n",
      "Name: gh_num_commits_in_push, dtype: float64 \n",
      "\n",
      " 2.0\n",
      "\n",
      "\n",
      "Média e desvio padrão dos projetos pequenos\n",
      " count    120478.000000\n",
      "mean          2.372682\n",
      "std           2.648688\n",
      "min           1.000000\n",
      "25%           1.000000\n",
      "50%           2.000000\n",
      "75%           2.000000\n",
      "max          20.000000\n",
      "Name: gh_num_commits_in_push, dtype: float64 \n",
      "median: 2.0\n",
      "\n",
      "\n",
      "Média e desvio padrão dos projetos medios\n",
      " count    52177.000000\n",
      "mean         2.419898\n",
      "std          2.755023\n",
      "min          1.000000\n",
      "25%          1.000000\n",
      "50%          2.000000\n",
      "75%          2.000000\n",
      "max         20.000000\n",
      "Name: gh_num_commits_in_push, dtype: float64 \n",
      "median: 2.0\n",
      "\n",
      "\n",
      "Média e desvio padrão dos projetos grandes\n",
      " count    20603.000000\n",
      "mean         3.409795\n",
      "std          3.743885\n",
      "min          1.000000\n",
      "25%          1.000000\n",
      "50%          2.000000\n",
      "75%          4.000000\n",
      "max         20.000000\n",
      "Name: gh_num_commits_in_push, dtype: float64 \n",
      "media: 2.0\n"
     ]
    }
   ],
   "source": [
    "#### describe de projetos ruby\n",
    "\n",
    "df = dataset.loc[dataset['gh_lang'] == 'ruby']\n",
    "\n",
    "#abaixo de 1000\n",
    "df_very_small = df.loc[(dataset['gh_sloc'] < 1000)]\n",
    "\n",
    "#acima de 1000 e menos que 10.000\n",
    "df_small = df.loc[(df['gh_sloc'] < 10000)]\n",
    "df_small = df_small.loc[(df_small['gh_sloc'] > 1000)]\n",
    "\n",
    "#acima de 10.000 linhas e menos que 100.000\n",
    "df_medium = df.loc[(df['gh_sloc'] < 100000)]\n",
    "df_medium = df_medium.loc[(df_medium['gh_sloc'] > 10000)]\n",
    "\n",
    "#acima de 100.000 linhas\n",
    "df_large = df.loc[(df['gh_sloc'] > 100000)]\n",
    "\n",
    "print(\"\\n\\nMédia e desvio padrão dos projetos muito pequenos\\n\", df_very_small.gh_num_commits_in_push.describe(),\"\\n\\n\", df_very_small.gh_num_commits_in_push.median())\n",
    "print(\"\\n\\nMédia e desvio padrão dos projetos pequenos\\n\", df_small.gh_num_commits_in_push.describe(), \"\\nmedian:\", df_small.gh_num_commits_in_push.median())\n",
    "print(\"\\n\\nMédia e desvio padrão dos projetos medios\\n\", df_medium.gh_num_commits_in_push.describe(), \"\\nmedian:\",df_medium.gh_num_commits_in_push.median())\n",
    "print(\"\\n\\nMédia e desvio padrão dos projetos grandes\\n\", df_large.gh_num_commits_in_push.describe(), \"\\nmedia:\",df_large.gh_num_commits_in_push.median())"
   ]
  },
  {
   "cell_type": "code",
   "execution_count": null,
   "metadata": {},
   "outputs": [],
   "source": []
  },
  {
   "cell_type": "code",
   "execution_count": null,
   "metadata": {},
   "outputs": [],
   "source": []
  },
  {
   "cell_type": "markdown",
   "metadata": {},
   "source": [
    "#### Plot de projetos java frequencia de commits"
   ]
  },
  {
   "cell_type": "code",
   "execution_count": 102,
   "metadata": {
    "scrolled": true
   },
   "outputs": [
    {
     "data": {
      "image/png": "[encoded data removed]",
      "text/plain": [
       "<Figure size 432x288 with 1 Axes>"
      ]
     },
     "metadata": {},
     "output_type": "display_data"
    }
   ],
   "source": [
    "#abaixo de 1000\n",
    "df = dataset.loc[dataset['gh_lang'] == 'ruby']\n",
    "df = df.sort_values(['gh_sloc'], ascending=False)\n",
    "\n",
    "df_very_small = df.loc[(df['gh_sloc'] < 1000)]\n",
    "\n",
    "very_small = df_very_small.gh_num_commits_in_push.tolist()\n",
    "\n",
    "#acima de 1000 e menos que 10.000\n",
    "df_small = df.loc[(df['gh_sloc'] < 10000)]\n",
    "df_small = df_small.loc[(df_small['gh_sloc'] > 1000)]\n",
    "\n",
    "small = df_small.gh_num_commits_in_push.tolist()\n",
    "\n",
    "#acima de 10.000 linhas e menos que 100.000\n",
    "df_medium = df.loc[(df['gh_sloc'] < 100000)]\n",
    "df_medium = df_medium.loc[(df_medium['gh_sloc'] > 10000)]\n",
    "\n",
    "medium = df_medium.gh_num_commits_in_push.tolist()\n",
    "\n",
    "#acima de 100.000 linhas\n",
    "df_large = df.loc[(df['gh_sloc'] > 100000)]\n",
    "\n",
    "large = df_large.gh_num_commits_in_push.tolist()\n",
    "\n",
    "\n",
    "\n",
    "###### plot bar #######\n",
    "data=[very_small, small, medium, large]\n",
    "\n",
    "fig, ax = plt.subplots()\n",
    "\n",
    "fig.subplots_adjust(left=0.08, right=1.38, bottom=0.05, top=1.2, hspace=0.4, wspace=0.3)\n",
    "#fig.subplots_adjust(left=0.15, right=.98, bottom=0.22, top=.9, hspace=0.6, wspace=0.6)\n",
    "\n",
    "ax.set_title('Project Ruby', fontsize=15)\n",
    "ax.set_xlabel('Type project', fontsize=15)\n",
    "ax.set_ylabel('Distribution', fontsize=15)\n",
    "\n",
    "ax.set_axisbelow(True)\n",
    "\n",
    "\n",
    "ax.boxplot(data, 0, '', showmeans=True, meanline=True, labels=['Very small', 'Small', 'Medium', 'Large']) # boxplot sem outlier points\n",
    "\n",
    "\n",
    "plt.savefig('type_project_ruby.eps', format='eps', dpi = 300,  bbox_inches='tight')\n",
    "plt.show()"
   ]
  },
  {
   "cell_type": "code",
   "execution_count": null,
   "metadata": {},
   "outputs": [],
   "source": []
  },
  {
   "cell_type": "code",
   "execution_count": null,
   "metadata": {},
   "outputs": [],
   "source": []
  },
  {
   "cell_type": "markdown",
   "metadata": {},
   "source": [
    "# RQ2"
   ]
  },
  {
   "cell_type": "markdown",
   "metadata": {},
   "source": [
    "### Quantidade de builds por projeto java"
   ]
  },
  {
   "cell_type": "code",
   "execution_count": 61,
   "metadata": {},
   "outputs": [],
   "source": [
    "df = dataset.loc[dataset['gh_lang'] == 'java']\n",
    "\n",
    "list_name = df.gh_project_name.unique().tolist()\n",
    "list_size = []\n",
    "\n",
    "for i in range(len(list_name)):\n",
    "\n",
    "    data = df.loc[df['gh_project_name'] == list_name[i]]\n",
    "\n",
    "    list_size.append(data.tr_build_id.size)\n",
    "\n",
    "    \n",
    "\n",
    "df = pd.Series(list_size, index=list_name)\n",
    "#print(df.sort_values(ascending=False))"
   ]
  },
  {
   "cell_type": "markdown",
   "metadata": {},
   "source": [
    "### Recebe projetos java que usam coverrals e dps filtra os projetos que possuem build em 2016"
   ]
  },
  {
   "cell_type": "code",
   "execution_count": 36,
   "metadata": {},
   "outputs": [
    {
     "name": "stdout",
     "output_type": "stream",
     "text": [
      "total de projetos java que usam coveralls: 100\n",
      "projetos:\n",
      " ['graphhopper/graphhopper', 'sevntu-checkstyle/sevntu.checkstyle', 'searls/jasmine-maven-plugin', 'mybatis/spring', 'undera/jmeter-plugins', 'restlet/restlet-framework-java', 'dropwizard/dropwizard', 'DSpace/DSpace', 'doanduyhai/Achilles', 'rackerlabs/blueflood', 'p6spy/p6spy', 'Unidata/thredds', 'torakiki/pdfsam', 'mockito/mockito', 'FasterXML/jackson-core', 'FasterXML/jackson-annotations', 'FasterXML/jackson-databind', 'jcabi/jcabi-aspects', 'jcabi/jcabi-http', 'jphp-compiler/jphp', 'querydsl/querydsl', 'thatJavaNerd/JRAW', 'igniterealtime/Smack', 'azkaban/azkaban', 'yegor256/rultor', 'lenskit/lenskit', 'TestFX/TestFX', 'iluwatar/java-design-patterns', 'connectbot/connectbot', 'myui/hivemall', 'drewnoakes/metadata-extractor', 'qos-ch/slf4j', 'qos-ch/logback', 'GoogleCloudPlatform/DataflowJavaSDK', 'javaparser/javaparser', 'SonarSource/sonarqube', 'grpc/grpc-java', 'square/keywhiz', 'psi-probe/psi-probe', 'javaslang/javaslang', 'caelum/mamute', 'jamesagnew/hapi-fhir', 'biojava/biojava', 'bitcoinj/bitcoinj']\n",
      "\n",
      "\n",
      "quatidade de projetos:  44\n"
     ]
    }
   ],
   "source": [
    "# Recebe projetos java que usam coverrals e dps filtra os projetos que possuem build em 2016\n",
    "FILE = 'data/projetos_java_coverall.csv'\n",
    "projetos_coverral = pd.read_csv(FILE, sep=',', engine='c')\n",
    "\n",
    "java_coverral = projetos_coverral.gh_project_name.tolist()\n",
    "\n",
    "projeto_java = []\n",
    "\n",
    "print(f\"total de projetos java que usam coveralls: {len(java_coverral)}\")\n",
    "for i in range(len(java_coverral)):\n",
    "    project = dataset.loc[dataset['gh_project_name'] == java_coverral[i]]\n",
    "    \n",
    "    if(2016 == int(project.gh_pushed_at.dt.year.sort_values(ascending=False)[0:1])):\n",
    "        projeto_java.append(java_coverral[i])\n",
    "\n",
    "print('projetos:\\n',projeto_java)\n",
    "print('\\n\\nquatidade de projetos 2016: ', len(projeto_java))\n",
    "\n",
    "\n",
    "#cria um arquivo csv com os dados \n",
    "#output = pd.DataFrame(data=projeto_java, columns=['projetos'])\n",
    "#output.to_csv('output.csv')"
   ]
  },
  {
   "cell_type": "markdown",
   "metadata": {},
   "source": [
    "### Quantidade de builds por projeto ruby"
   ]
  },
  {
   "cell_type": "code",
   "execution_count": 13,
   "metadata": {},
   "outputs": [
    {
     "ename": "AttributeError",
     "evalue": "'Categorical' object has no attribute 'to_list'",
     "output_type": "error",
     "traceback": [
      "\u001b[0;31m---------------------------------------------------------------------------\u001b[0m",
      "\u001b[0;31mAttributeError\u001b[0m                            Traceback (most recent call last)",
      "\u001b[0;32m<ipython-input-13-74f554b0e0f1>\u001b[0m in \u001b[0;36m<module>\u001b[0;34m()\u001b[0m\n\u001b[1;32m      1\u001b[0m \u001b[0mdf\u001b[0m \u001b[0;34m=\u001b[0m \u001b[0mdataset\u001b[0m\u001b[0;34m.\u001b[0m\u001b[0mloc\u001b[0m\u001b[0;34m[\u001b[0m\u001b[0mdataset\u001b[0m\u001b[0;34m[\u001b[0m\u001b[0;34m'gh_lang'\u001b[0m\u001b[0;34m]\u001b[0m \u001b[0;34m==\u001b[0m \u001b[0;34m'ruby'\u001b[0m\u001b[0;34m]\u001b[0m\u001b[0;34m\u001b[0m\u001b[0m\n\u001b[1;32m      2\u001b[0m \u001b[0;34m\u001b[0m\u001b[0m\n\u001b[0;32m----> 3\u001b[0;31m \u001b[0mlist_name\u001b[0m \u001b[0;34m=\u001b[0m \u001b[0mdf\u001b[0m\u001b[0;34m.\u001b[0m\u001b[0mgh_project_name\u001b[0m\u001b[0;34m.\u001b[0m\u001b[0munique\u001b[0m\u001b[0;34m(\u001b[0m\u001b[0;34m)\u001b[0m\u001b[0;34m.\u001b[0m\u001b[0mto_list\u001b[0m\u001b[0;34m(\u001b[0m\u001b[0;34m)\u001b[0m\u001b[0;34m\u001b[0m\u001b[0m\n\u001b[0m\u001b[1;32m      4\u001b[0m \u001b[0mlist_size\u001b[0m \u001b[0;34m=\u001b[0m \u001b[0;34m[\u001b[0m\u001b[0;34m]\u001b[0m\u001b[0;34m\u001b[0m\u001b[0m\n\u001b[1;32m      5\u001b[0m \u001b[0;34m\u001b[0m\u001b[0m\n",
      "\u001b[0;31mAttributeError\u001b[0m: 'Categorical' object has no attribute 'to_list'"
     ]
    }
   ],
   "source": [
    "df = dataset.loc[dataset['gh_lang'] == 'ruby']\n",
    "\n",
    "list_name = df.gh_project_name.unique().tolist()\n",
    "list_size = []\n",
    "\n",
    "for i in range(len(list_name)):\n",
    "\n",
    "    data = df.loc[df['gh_project_name'] == list_name[i]]\n",
    "\n",
    "    list_size.append(data.tr_build_id.size)\n",
    "\n",
    "    \n",
    "\n",
    "df = pd.Series(list_size, index=list_name)\n",
    "df.sort_values(ascending=False)\n",
    "\n",
    "#cria um arquivo csv com os dados \n",
    "#output = pd.DataFrame(data=list_size, index=list_name, columns=['projetos'])\n",
    "#df.to_csv('output_ruby.csv')"
   ]
  },
  {
   "cell_type": "markdown",
   "metadata": {},
   "source": [
    "### Recebe projetos ruby que usam coverrals e dps filtra os projetos que possuem build em 2016"
   ]
  },
  {
   "cell_type": "code",
   "execution_count": 40,
   "metadata": {},
   "outputs": [
    {
     "name": "stdout",
     "output_type": "stream",
     "text": [
      "total de projetos ruby que usam coveralls: 302\n",
      "projetos:\n",
      " ['presidentbeef/brakeman', 'sferik/rails_admin', 'sferik/sign-in-with-twitter', 'pry/pry', 'intridea/oauth2', 'locomotivecms/engine', 'cheezy/page-object', 'rspec/rspec-core', 'weppos/whois', 'heroku/heroku', 'guard/listen', 'matschaffer/knife-solo', 'ari/jobsworth', 'adhearsion/adhearsion', 'rspec/rspec-mocks', 'mperham/sidekiq', 'twitter/twitter-cldr-rb', 'rodjek/rspec-puppet', 'mroth/lolcommits', 'google/google-api-ruby-client', 'floere/phony', 'shoes/shoes4', 'openSUSE/open-build-service', 'Casecommons/pg_search', 'fog/fog', 'refinery/refinerycms', 'opal/opal', 'savonrb/savon', 'lemurheavy/coveralls-ruby', 'thibaudgg/video_info', 'roidrage/lograge', 'rapid7/metasploit-framework', 'projectblacklight/blacklight', 'rails-api/active_model_serializers', 'savonrb/gyoku', 'diowa/icare', 'phoet/on_ruby', 'puppetlabs/facter', 'twitter/secureheaders', 'expertiza/expertiza', 'dejan/rails_panel', 'saturnflyer/casting', 'nathanl/searchlight', 'pearkes/tugboat', 'projecthydra/sufia', 'hexorx/countries', 'fluent/fluentd', 'feedbin/feedbin', 'openfoodfoundation/openfoodnetwork', 'lian/bitcoin-ruby', 'manshar/manshar', 'danmayer/coverband', 'voltrb/volt', 'openaustralia/morph', 'rpush/rpush', 'tmuxinator/tmuxinator', 'psu-stewardship/scholarsphere', 'discourse/onebox', 'activeadmin/activeadmin', 'ruby-concurrency/concurrent-ruby', 'gavinlaking/vedeu', 'winebarrel/ridgepole', 'asciinema/asciinema.org', 'rightscale/praxis', 'cerebris/jsonapi-resources', 'openstreetmap/openstreetmap-website', 'mattbrictson/airbrussh', 'aws/aws-sdk-ruby', 'celluloid/reel']\n",
      "\n",
      "\n",
      "quatidade de projetos:  69\n"
     ]
    }
   ],
   "source": [
    "# Recebe projetos java que usam coverrals e dps filtra os projetos que possuem build em 2016\n",
    "FILE = 'data/projetos_ruby_coverall.csv'\n",
    "projetos_coverral = pd.read_csv(FILE, sep=',', engine='c')\n",
    "\n",
    "\n",
    "ruby_coverral = projetos_coverral.gh_project_name.tolist()\n",
    "\n",
    "projeto_ruby = []\n",
    "\n",
    "print(f\"total de projetos ruby que usam coveralls: {len(ruby_coverral)}\")\n",
    "\n",
    "for i in range(len(ruby_coverral)):\n",
    "    project = dataset.loc[dataset['gh_project_name'] == ruby_coverral[i]]\n",
    "    \n",
    "    if(2016 == int(project.gh_pushed_at.dt.year.sort_values(ascending=False)[0:1])):\n",
    "        projeto_ruby.append(ruby_coverral[i])\n",
    "\n",
    "print('projetos:\\n',projeto_ruby)\n",
    "print('\\n\\nquatidade de projetos 2016: ', len(projeto_ruby))\n",
    "\n",
    "\n",
    "#cria um arquivo csv com os dados \n",
    "#output = pd.DataFrame(data=projeto_ruby, columns=['projetos'])\n",
    "#output.to_csv('output_ruby_filtrado.csv')"
   ]
  },
  {
   "cell_type": "markdown",
   "metadata": {},
   "source": [
    "### dataset com report do coverrolls - java"
   ]
  },
  {
   "cell_type": "code",
   "execution_count": 53,
   "metadata": {},
   "outputs": [],
   "source": [
    "File = 'data/projetos_java_coverall_filtrados_2016.csv'"
   ]
  },
  {
   "cell_type": "code",
   "execution_count": 54,
   "metadata": {},
   "outputs": [],
   "source": [
    "df = pd.read_csv(File, sep=',', engine='c')\n",
    "df['gh_pushed_at'] = pd.to_datetime(df.gh_pushed_at).dt.date #le a coluna com apenas os dias\n",
    "df['gh_pushed_at'] = df['gh_pushed_at'].sort_values(ascending=False) #ordena da data mais atual para mais antiga\n",
    "\n",
    "#df = df.drop_duplicates(['gh_project_name']) #remove duplicados"
   ]
  },
  {
   "cell_type": "code",
   "execution_count": 55,
   "metadata": {
    "scrolled": true
   },
   "outputs": [
    {
     "name": "stdout",
     "output_type": "stream",
     "text": [
      "25\n"
     ]
    }
   ],
   "source": [
    "\n",
    "list_name_cover = df.gh_project_name.unique().tolist() # lista de projetos do dataset\n",
    "\n",
    "print(len(list_name_cover))"
   ]
  },
  {
   "cell_type": "markdown",
   "metadata": {},
   "source": [
    "### dataset do travis com filtros"
   ]
  },
  {
   "cell_type": "code",
   "execution_count": 56,
   "metadata": {},
   "outputs": [],
   "source": [
    "data = dataset.loc[dataset['gh_lang'] == 'java'] #filtra a linguagem do projeto\n",
    "data = data.loc[data.gh_pushed_at.dt.year == 2016] #filtra o ano do projeto\n",
    "\n",
    "data['gh_pushed_at'] = pd.to_datetime(data.gh_pushed_at).dt.date #deixa a coluna apenas com as datas\n",
    "\n",
    "data['gh_pushed_at'] = data['gh_pushed_at'].sort_values(ascending=False)# ordena da data mais atual para mais antiga"
   ]
  },
  {
   "cell_type": "code",
   "execution_count": 57,
   "metadata": {},
   "outputs": [],
   "source": [
    "\"uso um dataset auxiliar para ciar uma lista de projetos que não serão usados\"\n",
    "dataset_aux = data\n",
    "\n",
    "for i in range(len(list_name_cover)):\n",
    "    \n",
    "    dataset_aux = dataset_aux.loc[dataset_aux['gh_project_name'] != list_name_cover[i]]\n",
    "\n",
    "    \n",
    "#cria uma lista de projetos para remover\n",
    "list_remove = dataset_aux.gh_project_name.unique().tolist()\n",
    "\n",
    "# remove os projetos da lista criada\n",
    "for i in range(len(list_remove)):\n",
    "    data = data.loc[data['gh_project_name'] != list_remove[i]]\n"
   ]
  },
  {
   "cell_type": "code",
   "execution_count": 58,
   "metadata": {},
   "outputs": [],
   "source": [
    "#dataset foi filtrado para os projetos que estão no dataset do leonardo"
   ]
  },
  {
   "cell_type": "code",
   "execution_count": null,
   "metadata": {},
   "outputs": [],
   "source": []
  },
  {
   "cell_type": "markdown",
   "metadata": {},
   "source": [
    "##### Dataset com merge de df e data"
   ]
  },
  {
   "cell_type": "code",
   "execution_count": 59,
   "metadata": {
    "scrolled": false
   },
   "outputs": [],
   "source": [
    "test = pd.merge(data,df, how='left', on = ['gh_project_name', 'gh_pushed_at'],indicator=True)\n",
    "\n",
    "#test['gh_pushed_at'] = test['gh_pushed_at'].sort_values(ascending=False)"
   ]
  },
  {
   "cell_type": "code",
   "execution_count": null,
   "metadata": {},
   "outputs": [],
   "source": [
    "teste"
   ]
  },
  {
   "cell_type": "code",
   "execution_count": 18,
   "metadata": {},
   "outputs": [
    {
     "data": {
      "text/plain": [
       "['grpc/grpc-java',\n",
       " 'iluwatar/java-design-patterns',\n",
       " 'javaparser/javaparser',\n",
       " 'jamesagnew/hapi-fhir',\n",
       " 'sevntu-checkstyle/sevntu.checkstyle',\n",
       " 'dropwizard/dropwizard',\n",
       " 'rackerlabs/blueflood',\n",
       " 'igniterealtime/Smack',\n",
       " 'psi-probe/psi-probe',\n",
       " 'querydsl/querydsl',\n",
       " 'bitcoinj/bitcoinj',\n",
       " 'connectbot/connectbot',\n",
       " 'mybatis/spring',\n",
       " 'myui/hivemall']"
      ]
     },
     "execution_count": 18,
     "metadata": {},
     "output_type": "execute_result"
    }
   ],
   "source": [
    "k = test.loc[test['_merge'] == 'both']\n",
    "\n",
    "\n",
    "k.gh_project_name.unique().tolist()"
   ]
  },
  {
   "cell_type": "code",
   "execution_count": 27,
   "metadata": {},
   "outputs": [
    {
     "data": {
      "text/html": [
       "<div>\n",
       "<style scoped>\n",
       "    .dataframe tbody tr th:only-of-type {\n",
       "        vertical-align: middle;\n",
       "    }\n",
       "\n",
       "    .dataframe tbody tr th {\n",
       "        vertical-align: top;\n",
       "    }\n",
       "\n",
       "    .dataframe thead th {\n",
       "        text-align: right;\n",
       "    }\n",
       "</style>\n",
       "<table border=\"1\" class=\"dataframe\">\n",
       "  <thead>\n",
       "    <tr style=\"text-align: right;\">\n",
       "      <th></th>\n",
       "      <th>tr_build_id</th>\n",
       "      <th>gh_project_name</th>\n",
       "      <th>gh_is_pr</th>\n",
       "      <th>gh_pr_created_at</th>\n",
       "      <th>gh_lang</th>\n",
       "      <th>git_branch</th>\n",
       "      <th>gh_num_commits_in_push</th>\n",
       "      <th>git_prev_commit_resolution_status</th>\n",
       "      <th>tr_prev_build</th>\n",
       "      <th>gh_first_commit_created_at</th>\n",
       "      <th>gh_team_size</th>\n",
       "      <th>gh_sloc</th>\n",
       "      <th>gh_pushed_at</th>\n",
       "      <th>gh_build_started_at</th>\n",
       "      <th>tr_status</th>\n",
       "      <th>tr_log_bool_tests_failed</th>\n",
       "      <th>tr_log_num_tests_ok</th>\n",
       "      <th>tr_log_num_tests_failed</th>\n",
       "      <th>tr_log_num_tests_skipped</th>\n",
       "    </tr>\n",
       "  </thead>\n",
       "  <tbody>\n",
       "    <tr>\n",
       "      <th>2634173</th>\n",
       "      <td>69218192.0</td>\n",
       "      <td>grpc/grpc-java</td>\n",
       "      <td>False</td>\n",
       "      <td>NaN</td>\n",
       "      <td>java</td>\n",
       "      <td>master</td>\n",
       "      <td>1.0</td>\n",
       "      <td>build_found</td>\n",
       "      <td>69196864.0</td>\n",
       "      <td>2015-03-17 02:28:12</td>\n",
       "      <td>17</td>\n",
       "      <td>28820</td>\n",
       "      <td>2016-02-03</td>\n",
       "      <td>2015-07-02 02:51:30</td>\n",
       "      <td>passed</td>\n",
       "      <td>NaN</td>\n",
       "      <td>NaN</td>\n",
       "      <td>NaN</td>\n",
       "      <td>NaN</td>\n",
       "    </tr>\n",
       "    <tr>\n",
       "      <th>2693664</th>\n",
       "      <td>72209432.0</td>\n",
       "      <td>grpc/grpc-java</td>\n",
       "      <td>False</td>\n",
       "      <td>NaN</td>\n",
       "      <td>java</td>\n",
       "      <td>master</td>\n",
       "      <td>3.0</td>\n",
       "      <td>build_found</td>\n",
       "      <td>72209080.0</td>\n",
       "      <td>2015-04-04 17:23:54</td>\n",
       "      <td>18</td>\n",
       "      <td>29843</td>\n",
       "      <td>2016-01-03</td>\n",
       "      <td>2015-07-22 22:56:48</td>\n",
       "      <td>passed</td>\n",
       "      <td>NaN</td>\n",
       "      <td>NaN</td>\n",
       "      <td>NaN</td>\n",
       "      <td>NaN</td>\n",
       "    </tr>\n",
       "    <tr>\n",
       "      <th>2693666</th>\n",
       "      <td>72209696.0</td>\n",
       "      <td>grpc/grpc-java</td>\n",
       "      <td>False</td>\n",
       "      <td>NaN</td>\n",
       "      <td>java</td>\n",
       "      <td>master</td>\n",
       "      <td>1.0</td>\n",
       "      <td>build_found</td>\n",
       "      <td>72209432.0</td>\n",
       "      <td>2015-04-04 17:23:54</td>\n",
       "      <td>18</td>\n",
       "      <td>29845</td>\n",
       "      <td>2016-01-03</td>\n",
       "      <td>2015-07-22 22:58:39</td>\n",
       "      <td>passed</td>\n",
       "      <td>NaN</td>\n",
       "      <td>NaN</td>\n",
       "      <td>NaN</td>\n",
       "      <td>NaN</td>\n",
       "    </tr>\n",
       "    <tr>\n",
       "      <th>2803448</th>\n",
       "      <td>78666720.0</td>\n",
       "      <td>grpc/grpc-java</td>\n",
       "      <td>False</td>\n",
       "      <td>NaN</td>\n",
       "      <td>java</td>\n",
       "      <td>master</td>\n",
       "      <td>1.0</td>\n",
       "      <td>build_found</td>\n",
       "      <td>78665080.0</td>\n",
       "      <td>2015-05-08 11:32:38</td>\n",
       "      <td>15</td>\n",
       "      <td>32029</td>\n",
       "      <td>2016-02-03</td>\n",
       "      <td>2015-09-22 20:38:39</td>\n",
       "      <td>errored</td>\n",
       "      <td>NaN</td>\n",
       "      <td>NaN</td>\n",
       "      <td>NaN</td>\n",
       "      <td>NaN</td>\n",
       "    </tr>\n",
       "    <tr>\n",
       "      <th>3145527</th>\n",
       "      <td>104683608.0</td>\n",
       "      <td>grpc/grpc-java</td>\n",
       "      <td>False</td>\n",
       "      <td>NaN</td>\n",
       "      <td>java</td>\n",
       "      <td>master</td>\n",
       "      <td>1.0</td>\n",
       "      <td>build_found</td>\n",
       "      <td>104222992.0</td>\n",
       "      <td>2015-08-30 21:18:36</td>\n",
       "      <td>13</td>\n",
       "      <td>41762</td>\n",
       "      <td>2016-01-25</td>\n",
       "      <td>2016-01-25 16:57:13</td>\n",
       "      <td>passed</td>\n",
       "      <td>NaN</td>\n",
       "      <td>NaN</td>\n",
       "      <td>NaN</td>\n",
       "      <td>NaN</td>\n",
       "    </tr>\n",
       "    <tr>\n",
       "      <th>3145650</th>\n",
       "      <td>104693664.0</td>\n",
       "      <td>grpc/grpc-java</td>\n",
       "      <td>False</td>\n",
       "      <td>NaN</td>\n",
       "      <td>java</td>\n",
       "      <td>master</td>\n",
       "      <td>1.0</td>\n",
       "      <td>build_found</td>\n",
       "      <td>104683608.0</td>\n",
       "      <td>2015-08-05 00:17:31</td>\n",
       "      <td>13</td>\n",
       "      <td>41762</td>\n",
       "      <td>2016-01-25</td>\n",
       "      <td>2016-01-25 17:41:48</td>\n",
       "      <td>passed</td>\n",
       "      <td>NaN</td>\n",
       "      <td>NaN</td>\n",
       "      <td>NaN</td>\n",
       "      <td>NaN</td>\n",
       "    </tr>\n",
       "    <tr>\n",
       "      <th>3145652</th>\n",
       "      <td>104694296.0</td>\n",
       "      <td>grpc/grpc-java</td>\n",
       "      <td>False</td>\n",
       "      <td>NaN</td>\n",
       "      <td>java</td>\n",
       "      <td>master</td>\n",
       "      <td>1.0</td>\n",
       "      <td>build_found</td>\n",
       "      <td>104693664.0</td>\n",
       "      <td>2015-08-05 00:17:31</td>\n",
       "      <td>13</td>\n",
       "      <td>41762</td>\n",
       "      <td>2016-01-25</td>\n",
       "      <td>2016-01-25 17:49:11</td>\n",
       "      <td>failed</td>\n",
       "      <td>NaN</td>\n",
       "      <td>NaN</td>\n",
       "      <td>NaN</td>\n",
       "      <td>NaN</td>\n",
       "    </tr>\n",
       "    <tr>\n",
       "      <th>3146783</th>\n",
       "      <td>104745136.0</td>\n",
       "      <td>grpc/grpc-java</td>\n",
       "      <td>False</td>\n",
       "      <td>NaN</td>\n",
       "      <td>java</td>\n",
       "      <td>master</td>\n",
       "      <td>2.0</td>\n",
       "      <td>build_found</td>\n",
       "      <td>104694296.0</td>\n",
       "      <td>2016-01-22 01:09:02</td>\n",
       "      <td>13</td>\n",
       "      <td>41762</td>\n",
       "      <td>2016-01-25</td>\n",
       "      <td>2016-01-25 23:11:52</td>\n",
       "      <td>passed</td>\n",
       "      <td>NaN</td>\n",
       "      <td>NaN</td>\n",
       "      <td>NaN</td>\n",
       "      <td>NaN</td>\n",
       "    </tr>\n",
       "    <tr>\n",
       "      <th>3146789</th>\n",
       "      <td>104746784.0</td>\n",
       "      <td>grpc/grpc-java</td>\n",
       "      <td>False</td>\n",
       "      <td>NaN</td>\n",
       "      <td>java</td>\n",
       "      <td>master</td>\n",
       "      <td>1.0</td>\n",
       "      <td>build_found</td>\n",
       "      <td>104745136.0</td>\n",
       "      <td>2016-01-25 19:08:14</td>\n",
       "      <td>13</td>\n",
       "      <td>41767</td>\n",
       "      <td>2016-01-25</td>\n",
       "      <td>2016-01-25 23:14:54</td>\n",
       "      <td>passed</td>\n",
       "      <td>NaN</td>\n",
       "      <td>NaN</td>\n",
       "      <td>NaN</td>\n",
       "      <td>NaN</td>\n",
       "    </tr>\n",
       "    <tr>\n",
       "      <th>3146959</th>\n",
       "      <td>104763160.0</td>\n",
       "      <td>grpc/grpc-java</td>\n",
       "      <td>False</td>\n",
       "      <td>NaN</td>\n",
       "      <td>java</td>\n",
       "      <td>master</td>\n",
       "      <td>1.0</td>\n",
       "      <td>build_found</td>\n",
       "      <td>104746784.0</td>\n",
       "      <td>2016-01-25 22:22:27</td>\n",
       "      <td>13</td>\n",
       "      <td>41767</td>\n",
       "      <td>2016-01-25</td>\n",
       "      <td>2016-01-26 00:05:52</td>\n",
       "      <td>passed</td>\n",
       "      <td>NaN</td>\n",
       "      <td>NaN</td>\n",
       "      <td>NaN</td>\n",
       "      <td>NaN</td>\n",
       "    </tr>\n",
       "    <tr>\n",
       "      <th>3197725</th>\n",
       "      <td>108334560.0</td>\n",
       "      <td>grpc/grpc-java</td>\n",
       "      <td>False</td>\n",
       "      <td>NaN</td>\n",
       "      <td>java</td>\n",
       "      <td>master</td>\n",
       "      <td>1.0</td>\n",
       "      <td>build_found</td>\n",
       "      <td>107119344.0</td>\n",
       "      <td>2015-09-18 05:54:27</td>\n",
       "      <td>15</td>\n",
       "      <td>41785</td>\n",
       "      <td>2016-02-10</td>\n",
       "      <td>2016-02-10 17:42:19</td>\n",
       "      <td>passed</td>\n",
       "      <td>NaN</td>\n",
       "      <td>NaN</td>\n",
       "      <td>NaN</td>\n",
       "      <td>NaN</td>\n",
       "    </tr>\n",
       "    <tr>\n",
       "      <th>3203459</th>\n",
       "      <td>108843920.0</td>\n",
       "      <td>grpc/grpc-java</td>\n",
       "      <td>True</td>\n",
       "      <td>2016-02-05 21:33:24</td>\n",
       "      <td>java</td>\n",
       "      <td>master</td>\n",
       "      <td>1.0</td>\n",
       "      <td>build_found</td>\n",
       "      <td>108675024.0</td>\n",
       "      <td>2015-09-23 06:44:08</td>\n",
       "      <td>16</td>\n",
       "      <td>42012</td>\n",
       "      <td>2016-02-12</td>\n",
       "      <td>2016-02-12 17:52:09</td>\n",
       "      <td>passed</td>\n",
       "      <td>NaN</td>\n",
       "      <td>NaN</td>\n",
       "      <td>NaN</td>\n",
       "      <td>NaN</td>\n",
       "    </tr>\n",
       "    <tr>\n",
       "      <th>3219363</th>\n",
       "      <td>110307432.0</td>\n",
       "      <td>grpc/grpc-java</td>\n",
       "      <td>False</td>\n",
       "      <td>NaN</td>\n",
       "      <td>java</td>\n",
       "      <td>master</td>\n",
       "      <td>1.0</td>\n",
       "      <td>build_found</td>\n",
       "      <td>110301904.0</td>\n",
       "      <td>2015-09-29 13:58:25</td>\n",
       "      <td>16</td>\n",
       "      <td>41992</td>\n",
       "      <td>2016-02-19</td>\n",
       "      <td>2016-02-19 05:45:21</td>\n",
       "      <td>failed</td>\n",
       "      <td>NaN</td>\n",
       "      <td>NaN</td>\n",
       "      <td>NaN</td>\n",
       "      <td>NaN</td>\n",
       "    </tr>\n",
       "    <tr>\n",
       "      <th>3249847</th>\n",
       "      <td>112913968.0</td>\n",
       "      <td>grpc/grpc-java</td>\n",
       "      <td>False</td>\n",
       "      <td>NaN</td>\n",
       "      <td>java</td>\n",
       "      <td>master</td>\n",
       "      <td>1.0</td>\n",
       "      <td>build_found</td>\n",
       "      <td>112762272.0</td>\n",
       "      <td>2015-10-05 22:24:41</td>\n",
       "      <td>17</td>\n",
       "      <td>41956</td>\n",
       "      <td>2016-03-01</td>\n",
       "      <td>2016-03-01 17:40:01</td>\n",
       "      <td>passed</td>\n",
       "      <td>NaN</td>\n",
       "      <td>NaN</td>\n",
       "      <td>NaN</td>\n",
       "      <td>NaN</td>\n",
       "    </tr>\n",
       "    <tr>\n",
       "      <th>3279018</th>\n",
       "      <td>115210328.0</td>\n",
       "      <td>grpc/grpc-java</td>\n",
       "      <td>False</td>\n",
       "      <td>NaN</td>\n",
       "      <td>java</td>\n",
       "      <td>master</td>\n",
       "      <td>1.0</td>\n",
       "      <td>build_found</td>\n",
       "      <td>115206968.0</td>\n",
       "      <td>2015-10-24 05:05:16</td>\n",
       "      <td>17</td>\n",
       "      <td>42826</td>\n",
       "      <td>2016-02-09</td>\n",
       "      <td>2016-03-11 03:25:27</td>\n",
       "      <td>passed</td>\n",
       "      <td>NaN</td>\n",
       "      <td>NaN</td>\n",
       "      <td>NaN</td>\n",
       "      <td>NaN</td>\n",
       "    </tr>\n",
       "  </tbody>\n",
       "</table>\n",
       "</div>"
      ],
      "text/plain": [
       "         tr_build_id gh_project_name  gh_is_pr     gh_pr_created_at gh_lang  \\\n",
       "2634173   69218192.0  grpc/grpc-java     False                  NaN    java   \n",
       "2693664   72209432.0  grpc/grpc-java     False                  NaN    java   \n",
       "2693666   72209696.0  grpc/grpc-java     False                  NaN    java   \n",
       "2803448   78666720.0  grpc/grpc-java     False                  NaN    java   \n",
       "3145527  104683608.0  grpc/grpc-java     False                  NaN    java   \n",
       "3145650  104693664.0  grpc/grpc-java     False                  NaN    java   \n",
       "3145652  104694296.0  grpc/grpc-java     False                  NaN    java   \n",
       "3146783  104745136.0  grpc/grpc-java     False                  NaN    java   \n",
       "3146789  104746784.0  grpc/grpc-java     False                  NaN    java   \n",
       "3146959  104763160.0  grpc/grpc-java     False                  NaN    java   \n",
       "3197725  108334560.0  grpc/grpc-java     False                  NaN    java   \n",
       "3203459  108843920.0  grpc/grpc-java      True  2016-02-05 21:33:24    java   \n",
       "3219363  110307432.0  grpc/grpc-java     False                  NaN    java   \n",
       "3249847  112913968.0  grpc/grpc-java     False                  NaN    java   \n",
       "3279018  115210328.0  grpc/grpc-java     False                  NaN    java   \n",
       "\n",
       "        git_branch  gh_num_commits_in_push git_prev_commit_resolution_status  \\\n",
       "2634173     master                     1.0                       build_found   \n",
       "2693664     master                     3.0                       build_found   \n",
       "2693666     master                     1.0                       build_found   \n",
       "2803448     master                     1.0                       build_found   \n",
       "3145527     master                     1.0                       build_found   \n",
       "3145650     master                     1.0                       build_found   \n",
       "3145652     master                     1.0                       build_found   \n",
       "3146783     master                     2.0                       build_found   \n",
       "3146789     master                     1.0                       build_found   \n",
       "3146959     master                     1.0                       build_found   \n",
       "3197725     master                     1.0                       build_found   \n",
       "3203459     master                     1.0                       build_found   \n",
       "3219363     master                     1.0                       build_found   \n",
       "3249847     master                     1.0                       build_found   \n",
       "3279018     master                     1.0                       build_found   \n",
       "\n",
       "         tr_prev_build gh_first_commit_created_at  gh_team_size  gh_sloc  \\\n",
       "2634173     69196864.0        2015-03-17 02:28:12            17    28820   \n",
       "2693664     72209080.0        2015-04-04 17:23:54            18    29843   \n",
       "2693666     72209432.0        2015-04-04 17:23:54            18    29845   \n",
       "2803448     78665080.0        2015-05-08 11:32:38            15    32029   \n",
       "3145527    104222992.0        2015-08-30 21:18:36            13    41762   \n",
       "3145650    104683608.0        2015-08-05 00:17:31            13    41762   \n",
       "3145652    104693664.0        2015-08-05 00:17:31            13    41762   \n",
       "3146783    104694296.0        2016-01-22 01:09:02            13    41762   \n",
       "3146789    104745136.0        2016-01-25 19:08:14            13    41767   \n",
       "3146959    104746784.0        2016-01-25 22:22:27            13    41767   \n",
       "3197725    107119344.0        2015-09-18 05:54:27            15    41785   \n",
       "3203459    108675024.0        2015-09-23 06:44:08            16    42012   \n",
       "3219363    110301904.0        2015-09-29 13:58:25            16    41992   \n",
       "3249847    112762272.0        2015-10-05 22:24:41            17    41956   \n",
       "3279018    115206968.0        2015-10-24 05:05:16            17    42826   \n",
       "\n",
       "        gh_pushed_at  gh_build_started_at tr_status tr_log_bool_tests_failed  \\\n",
       "2634173   2016-02-03  2015-07-02 02:51:30    passed                      NaN   \n",
       "2693664   2016-01-03  2015-07-22 22:56:48    passed                      NaN   \n",
       "2693666   2016-01-03  2015-07-22 22:58:39    passed                      NaN   \n",
       "2803448   2016-02-03  2015-09-22 20:38:39   errored                      NaN   \n",
       "3145527   2016-01-25  2016-01-25 16:57:13    passed                      NaN   \n",
       "3145650   2016-01-25  2016-01-25 17:41:48    passed                      NaN   \n",
       "3145652   2016-01-25  2016-01-25 17:49:11    failed                      NaN   \n",
       "3146783   2016-01-25  2016-01-25 23:11:52    passed                      NaN   \n",
       "3146789   2016-01-25  2016-01-25 23:14:54    passed                      NaN   \n",
       "3146959   2016-01-25  2016-01-26 00:05:52    passed                      NaN   \n",
       "3197725   2016-02-10  2016-02-10 17:42:19    passed                      NaN   \n",
       "3203459   2016-02-12  2016-02-12 17:52:09    passed                      NaN   \n",
       "3219363   2016-02-19  2016-02-19 05:45:21    failed                      NaN   \n",
       "3249847   2016-03-01  2016-03-01 17:40:01    passed                      NaN   \n",
       "3279018   2016-02-09  2016-03-11 03:25:27    passed                      NaN   \n",
       "\n",
       "         tr_log_num_tests_ok  tr_log_num_tests_failed  \\\n",
       "2634173                  NaN                      NaN   \n",
       "2693664                  NaN                      NaN   \n",
       "2693666                  NaN                      NaN   \n",
       "2803448                  NaN                      NaN   \n",
       "3145527                  NaN                      NaN   \n",
       "3145650                  NaN                      NaN   \n",
       "3145652                  NaN                      NaN   \n",
       "3146783                  NaN                      NaN   \n",
       "3146789                  NaN                      NaN   \n",
       "3146959                  NaN                      NaN   \n",
       "3197725                  NaN                      NaN   \n",
       "3203459                  NaN                      NaN   \n",
       "3219363                  NaN                      NaN   \n",
       "3249847                  NaN                      NaN   \n",
       "3279018                  NaN                      NaN   \n",
       "\n",
       "         tr_log_num_tests_skipped  \n",
       "2634173                       NaN  \n",
       "2693664                       NaN  \n",
       "2693666                       NaN  \n",
       "2803448                       NaN  \n",
       "3145527                       NaN  \n",
       "3145650                       NaN  \n",
       "3145652                       NaN  \n",
       "3146783                       NaN  \n",
       "3146789                       NaN  \n",
       "3146959                       NaN  \n",
       "3197725                       NaN  \n",
       "3203459                       NaN  \n",
       "3219363                       NaN  \n",
       "3249847                       NaN  \n",
       "3279018                       NaN  "
      ]
     },
     "execution_count": 27,
     "metadata": {},
     "output_type": "execute_result"
    }
   ],
   "source": [
    "\n",
    "data.loc[data['gh_project_name'] == 'grpc/grpc-java']"
   ]
  },
  {
   "cell_type": "code",
   "execution_count": null,
   "metadata": {},
   "outputs": [],
   "source": []
  },
  {
   "cell_type": "code",
   "execution_count": null,
   "metadata": {},
   "outputs": [],
   "source": []
  },
  {
   "cell_type": "code",
   "execution_count": null,
   "metadata": {},
   "outputs": [],
   "source": []
  },
  {
   "cell_type": "markdown",
   "metadata": {},
   "source": [
    "# RQ3"
   ]
  },
  {
   "cell_type": "markdown",
   "metadata": {},
   "source": [
    "### How common is allowing the build to stay red for long periods?"
   ]
  },
  {
   "cell_type": "markdown",
   "metadata": {},
   "source": [
    "#### JAVA"
   ]
  },
  {
   "cell_type": "code",
   "execution_count": 64,
   "metadata": {},
   "outputs": [],
   "source": [
    "# filtra a linguagem e retorna uma lista com o nome dos projetos\n",
    "\n",
    "df= dataset.loc[dataset['gh_lang'] == 'java']\n",
    "list_name = df.gh_project_name.unique().tolist()"
   ]
  },
  {
   "cell_type": "code",
   "execution_count": 65,
   "metadata": {},
   "outputs": [
    {
     "name": "stdout",
     "output_type": "stream",
     "text": [
      "Projetos Java\n",
      "Total de builds que passaram 1754498\n",
      "Total de builds que NÃO passaram 308807\n"
     ]
    }
   ],
   "source": [
    "# cria 2 filtros para builds que passa e não passa\n",
    "\n",
    "passed = df.loc[df['tr_status'] == 'passed']\n",
    "failed = df.loc[df['tr_status'] == 'failed']\n",
    "print('Projetos Java')\n",
    "print('Total de builds que passaram {}'.format(passed.size))\n",
    "print('Total de builds que NÃO passaram {}'.format(failed.size))"
   ]
  },
  {
   "cell_type": "code",
   "execution_count": 66,
   "metadata": {},
   "outputs": [],
   "source": [
    "# cria uma lista com a quantidade builds passed e failed \n",
    "passed = []\n",
    "failed = []\n",
    "for i in range(len(list_name)):\n",
    "    project = df.loc[df['gh_project_name'] == list_name[i]] \n",
    "    _passed = project.loc[project['tr_status'] == 'passed']\n",
    "    _failed = project.loc[project['tr_status'] == 'failed']\n",
    "    \n",
    "    passed.append(_passed.size)\n",
    "    failed.append(_failed.size)"
   ]
  },
  {
   "cell_type": "code",
   "execution_count": 67,
   "metadata": {},
   "outputs": [
    {
     "data": {
      "text/plain": [
       "count      378.000000\n",
       "mean       816.949735\n",
       "std       1905.576154\n",
       "min          0.000000\n",
       "25%         76.000000\n",
       "50%        247.000000\n",
       "75%        684.000000\n",
       "max      18202.000000\n",
       "dtype: float64"
      ]
     },
     "execution_count": 67,
     "metadata": {},
     "output_type": "execute_result"
    }
   ],
   "source": [
    "# apresenta o percentual de failed\n",
    "\n",
    "teste = pd.Series(failed)\n",
    "\n",
    "teste.describe()"
   ]
  },
  {
   "cell_type": "code",
   "execution_count": 70,
   "metadata": {},
   "outputs": [
    {
     "data": {
      "text/plain": [
       "{'whiskers': [<matplotlib.lines.Line2D at 0x7f5d2bd200f0>,\n",
       "  <matplotlib.lines.Line2D at 0x7f5d2bd20550>],\n",
       " 'caps': [<matplotlib.lines.Line2D at 0x7f5d2bcac278>,\n",
       "  <matplotlib.lines.Line2D at 0x7f5d2bcac128>],\n",
       " 'boxes': [<matplotlib.lines.Line2D at 0x7f5d2bd20438>],\n",
       " 'medians': [<matplotlib.lines.Line2D at 0x7f5d2bcacd68>],\n",
       " 'fliers': [],\n",
       " 'means': []}"
      ]
     },
     "execution_count": 70,
     "metadata": {},
     "output_type": "execute_result"
    },
    {
     "data": {
      "image/png": "[encoded data removed]",
      "text/plain": [
       "<Figure size 432x288 with 1 Axes>"
      ]
     },
     "metadata": {},
     "output_type": "display_data"
    }
   ],
   "source": [
    "data=failed\n",
    "\n",
    "fig, ax = plt.subplots()\n",
    "\n",
    "fig.subplots_adjust(left=0.08, right=1.48, bottom=0.05, top=1.2, hspace=0.4, wspace=0.3)\n",
    "\n",
    "ax.set_axisbelow(True)\n",
    "ax.set_title('', size=20)\n",
    "ax.boxplot(data, 0, '') # boxplot sem outlier points \n",
    "plt.show()"
   ]
  },
  {
   "cell_type": "code",
   "execution_count": null,
   "metadata": {},
   "outputs": [],
   "source": []
  },
  {
   "cell_type": "code",
   "execution_count": 39,
   "metadata": {},
   "outputs": [
    {
     "name": "stderr",
     "output_type": "stream",
     "text": [
      "/home/wagner/anaconda3/lib/python3.6/site-packages/matplotlib/axes/_axes.py:6521: MatplotlibDeprecationWarning: \n",
      "The 'normed' kwarg was deprecated in Matplotlib 2.1 and will be removed in 3.1. Use 'density' instead.\n",
      "  alternative=\"'density'\", removal=\"3.1\")\n"
     ]
    },
    {
     "data": {
      "image/png": "[encoded data removed]",
      "text/plain": [
       "<Figure size 432x288 with 1 Axes>"
      ]
     },
     "metadata": {},
     "output_type": "display_data"
    }
   ],
   "source": [
    "'''\n",
    "plt.hist(failed, normed=False, bins=10)\n",
    "plt.ylabel('');\n",
    "'''"
   ]
  },
  {
   "cell_type": "code",
   "execution_count": 28,
   "metadata": {},
   "outputs": [],
   "source": [
    "# Não esquecer de ordenar pela data o dataset, visto que está de forma aleatória"
   ]
  },
  {
   "cell_type": "code",
   "execution_count": null,
   "metadata": {},
   "outputs": [],
   "source": []
  },
  {
   "cell_type": "code",
   "execution_count": 5,
   "metadata": {},
   "outputs": [],
   "source": [
    "def status_build(project_name):\n",
    "    #filtra o dataset pelo nome do projeto e ordena as datas do dataset\n",
    "    df = dataset.loc[dataset['gh_project_name'] == project_name]\n",
    "    \n",
    "    df = df.sort_values(by='gh_pushed_at', ascending=False)#ordena da data mais atual para mais antiga\n",
    "    \n",
    "    df['gh_pushed_at'] = pd.to_datetime(df.gh_pushed_at).dt.date#le a coluna com apenas os dias\n",
    "    \n",
    "    date_line = df.gh_pushed_at # cria uma Serie com as datas\n",
    "    status_build = df.tr_status.tolist() # cria uma lista com os status da build\n",
    "\n",
    "    \n",
    "    '''\n",
    "    cont = 0\n",
    "\n",
    "    for i in range(len(status_build)):\n",
    "\n",
    "        if('failed' == status_build[i]):\n",
    "\n",
    "\n",
    "            print(f'failed: {i} | time: {cont} | {time[i]}')\n",
    "            cont += 1\n",
    "\n",
    "        elif('passed' == status_build[i]):\n",
    "\n",
    "            print(f'passed: {i} | time: {cont} | {time[i]}')\n",
    "    '''\n",
    "    \n",
    "    build_red = []\n",
    "    sett = 0\n",
    "    \n",
    "    for i in range(len(status_build)):\n",
    "\n",
    "        if(\"failed\" == status_build[i]):\n",
    "            if(sett == 0):\n",
    "                index_fail = i\n",
    "                sett = 1\n",
    "        if(('passed' == status_build[i]) and (sett == 1)):\n",
    "                \n",
    "                #print(f\"{project_name} | build: fail:{index_fail} passed:{i} | linha: {i}: days: {date_line.iloc[i]} - {date_line.iloc[index_fail]} | day: {date_line.iloc[index_fail] - date_line.iloc[i]}\")\n",
    "                build_red.append(date_line.iloc[index_fail] - date_line.iloc[i]) # subtrai o dia que a build nao passou ate o dia que passa\n",
    "                sett = 0\n",
    "\n",
    "    return(build_red) # retorna uma lista com datas de quando deu fail ate pasar"
   ]
  },
  {
   "cell_type": "code",
   "execution_count": null,
   "metadata": {},
   "outputs": [],
   "source": []
  },
  {
   "cell_type": "markdown",
   "metadata": {},
   "source": [
    "### ALL PROJECT"
   ]
  },
  {
   "cell_type": "code",
   "execution_count": 6,
   "metadata": {},
   "outputs": [
    {
     "name": "stdout",
     "output_type": "stream",
     "text": [
      "quantidade total de projetos 1255\n",
      "count    24333.000000\n",
      "mean         7.857888\n",
      "std         29.865811\n",
      "min          0.000000\n",
      "25%          0.000000\n",
      "50%          1.000000\n",
      "75%          4.000000\n",
      "max        924.000000\n",
      "Name: date, dtype: float64\n",
      "Quantidade de projetos com builds quebradas é de 1062 tendo uma duração de 4.0 dias\n"
     ]
    }
   ],
   "source": [
    "list_name = dataset.gh_project_name.unique().tolist() \n",
    "\n",
    "print(f\"quantidade total de projetos {len(list_name)}\")\n",
    "\n",
    "list_days_broken = []\n",
    "for i in range(len(list_name)):\n",
    "    list_days_broken.append(status_build(list_name[i]))\n",
    "\n",
    "days_broken = []\n",
    "for j in range(len(list_days_broken)):\n",
    "    days_broken = days_broken + list_days_broken[j]\n",
    "    \n",
    "\n",
    "\n",
    "days = pd.DataFrame(days_broken, columns=['date']) # cria uma\n",
    "\n",
    "print(days.date.dt.days.describe())\n",
    "\n",
    "\n",
    "\n",
    "count = 0 \n",
    "metric = days.date.dt.days.describe()[6] # 3 quartil \n",
    "\n",
    "#percorre o vetor quando ele encontra um que é equivalente ao if da break e vai para o proximo vetor que no caso seria outro projeto\n",
    "for k in range(len(list_days_broken)):\n",
    "    validate = 0 \n",
    "    for j in range(len(list_days_broken[k])):\n",
    "        if(metric <= list_days_broken[k][j].days):\n",
    "            count+=1\n",
    "            break\n",
    "            #uma metrica está sendo contada mais de uma ves quando ele encontar deve passar pra proxima lista e não fica na mesma \n",
    "\n",
    "print(f\"Quantidade de projetos com builds quebradas é de {count} tendo uma duração de {metric} dias\")\n",
    "   "
   ]
  },
  {
   "cell_type": "code",
   "execution_count": null,
   "metadata": {},
   "outputs": [],
   "source": []
  },
  {
   "cell_type": "markdown",
   "metadata": {},
   "source": [
    "### JAVA"
   ]
  },
  {
   "cell_type": "code",
   "execution_count": 7,
   "metadata": {},
   "outputs": [
    {
     "name": "stdout",
     "output_type": "stream",
     "text": [
      "quantidade de projetos java 378\n",
      "count    6365.000000\n",
      "mean        5.824038\n",
      "std        24.141328\n",
      "min         0.000000\n",
      "25%         0.000000\n",
      "50%         1.000000\n",
      "75%         3.000000\n",
      "max       522.000000\n",
      "Name: date, dtype: float64\n",
      "Quantidade de projetos java com builds quebradas é de 296 tendo uma duração de 3.0 dias\n"
     ]
    }
   ],
   "source": [
    "'''\n",
    "Filtro a linguagem java, utilizo o def status_build e recebo um lista de dias que a build ficou quebrada, adiciono todos elementos em um lista e \n",
    "torno ela em uma Serie utilizo o describe para descrever a media e os quartils\n",
    "pego o 3 quartil como metrica de builds com mais duração em quebra\n",
    "\n",
    "percorro o vetor com as listas de dias quebrados e verifico quais são iguais ou maior a metrica definida e somo em um contador para cada projeto encontrado\n",
    "'''\n",
    "\n",
    "df = dataset.loc[dataset['gh_lang'] == 'java']\n",
    "\n",
    "list_name = df.gh_project_name.unique().tolist() \n",
    "\n",
    "print(f\"quantidade de projetos java {len(list_name)}\")\n",
    "\n",
    "list_days_broken = []\n",
    "for i in range(len(list_name)):\n",
    "    list_days_broken.append(status_build(list_name[i]))\n",
    "\n",
    "days_broken = []\n",
    "for j in range(len(list_days_broken)):\n",
    "    days_broken = days_broken + list_days_broken[j]\n",
    "    \n",
    "\n",
    "\n",
    "days_java = pd.DataFrame(days_broken, columns=['date']) # cria uma\n",
    "\n",
    "\n",
    "print(days_java.date.dt.days.describe())\n",
    "\n",
    "metric = days_java.date.dt.days.describe()[6] # 3 quartil\n",
    "\n",
    "\n",
    "\n",
    "count = 0 \n",
    "metric = days_java.date.dt.days.describe()[6] # 3 quartil \n",
    "\n",
    "#percorre o vetor quando ele encontra um que é equivalente ao if da break e vai para o proximo vetor que no caso seria outro projeto\n",
    "for k in range(len(list_days_broken)):\n",
    "    for j in range(len(list_days_broken[k])):\n",
    "        if(metric <= list_days_broken[k][j].days):\n",
    "            count+=1\n",
    "            break\n",
    "            #uma metrica está sendo contada mais de uma ves quando ele encontar deve passar pra proxima lista e não fica na mesma \n",
    "\n",
    "print(f\"Quantidade de projetos java com builds quebradas é de {count} tendo uma duração de {metric} dias\")\n",
    "   "
   ]
  },
  {
   "cell_type": "markdown",
   "metadata": {},
   "source": []
  },
  {
   "cell_type": "markdown",
   "metadata": {},
   "source": [
    "### RUBY"
   ]
  },
  {
   "cell_type": "code",
   "execution_count": 8,
   "metadata": {},
   "outputs": [
    {
     "name": "stdout",
     "output_type": "stream",
     "text": [
      "quantidade de projetos java 877\n",
      "count    17968.000000\n",
      "mean         8.578362\n",
      "std         31.615484\n",
      "min          0.000000\n",
      "25%          0.000000\n",
      "50%          1.000000\n",
      "75%          4.000000\n",
      "max        924.000000\n",
      "Name: date, dtype: float64\n",
      "Quantidade de projetos ruby com builds quebradas é de 776 tendo uma duração de 4.0 dias\n"
     ]
    }
   ],
   "source": [
    "'''\n",
    "Filtro a linguagem java, utilizo o def status_build e recebo um lista de dias que a build ficou quebrada, adiciono todos elementos em um lista e \n",
    "torno ela em uma Serie utilizo o describe para descrever a media e os quartils\n",
    "pego o 3 quartil como metrica de builds com mais duração em quebra\n",
    "\n",
    "percorro o vetor com as listas de dias quebrados e verifico quais são iguais ou maior a metrica definida e somo em um contador para cada projeto encontrado\n",
    "'''\n",
    "\n",
    "df = dataset.loc[dataset['gh_lang'] == 'ruby']\n",
    "\n",
    "list_name = df.gh_project_name.unique().tolist() \n",
    "\n",
    "print(f\"quantidade de projetos java {len(list_name)}\")\n",
    "\n",
    "list_days_broken = []\n",
    "for i in range(len(list_name)):\n",
    "    list_days_broken.append(status_build(list_name[i]))\n",
    "\n",
    "days_broken_ruby = []\n",
    "for j in range(len(list_days_broken)):\n",
    "    days_broken_ruby = days_broken_ruby + list_days_broken[j]\n",
    "    \n",
    "\n",
    "\n",
    "days_ruby = pd.DataFrame(days_broken_ruby, columns=['date']) # cria uma\n",
    "\n",
    "\n",
    "print(days_ruby.date.dt.days.describe())\n",
    "\n",
    "metric = days_ruby.date.dt.days.describe()[6] # 3 quartil\n",
    "\n",
    "\n",
    "\n",
    "count = 0 \n",
    "metric = days_ruby.date.dt.days.describe()[6] # 3 quartil \n",
    "\n",
    "#percorre o vetor quando ele encontra um que é equivalente ao if da break e vai para o proximo vetor que no caso seria outro projeto\n",
    "for k in range(len(list_days_broken)):\n",
    "    for j in range(len(list_days_broken[k])):\n",
    "        if(metric <= list_days_broken[k][j].days):\n",
    "            count+=1\n",
    "            break\n",
    "            #uma metrica está sendo contada mais de uma ves quando ele encontar deve passar pra proxima lista e não fica na mesma \n",
    "\n",
    "print(f\"Quantidade de projetos ruby com builds quebradas é de {count} tendo uma duração de {metric} dias\")\n",
    "   "
   ]
  },
  {
   "cell_type": "code",
   "execution_count": null,
   "metadata": {},
   "outputs": [],
   "source": []
  },
  {
   "cell_type": "code",
   "execution_count": null,
   "metadata": {},
   "outputs": [],
   "source": []
  },
  {
   "cell_type": "code",
   "execution_count": 9,
   "metadata": {},
   "outputs": [],
   "source": [
    "\n",
    "def quantidade_projetos(language, sett):\n",
    "    small, medium, large, very_small = [], [], [], []\n",
    "    \n",
    "    df = dataset.sort_values(['gh_sloc'], ascending=False)\n",
    "    df = df.loc[df['gh_lang'] == language]\n",
    "    \n",
    "    list_name_project = df.gh_project_name.unique().tolist()\n",
    "\n",
    "    if(sett == 1):\n",
    "        for name in list_name_project:\n",
    "            df0 = df.loc[df['gh_project_name'] == name]\n",
    "            if(1000 > df0.gh_sloc[0:1].item()):\n",
    "                very_small.append(name)\n",
    "        return(very_small)\n",
    "       \n",
    "    if(sett == 2):\n",
    "        for name in list_name_project:\n",
    "            df1 = df.loc[df['gh_project_name'] == name]\n",
    "            if((1000 < df1.gh_sloc[0:1].item()) and (10000 > df1.gh_sloc[0:1].item())):\n",
    "                small.append(name)\n",
    "        return(small)\n",
    "    \n",
    "    if(sett == 3):\n",
    "        for name in list_name_project:\n",
    "            df2 = df.loc[df['gh_project_name'] == name]\n",
    "            if((10000 < df2.gh_sloc[0:1].item()) and (100000 > df2.gh_sloc[0:1].item())):\n",
    "                medium.append(name)\n",
    "        return(medium)\n",
    "    \n",
    "    if(sett == 4):\n",
    "        for name in list_name_project:\n",
    "            df3 = df.loc[df['gh_project_name'] == name]\n",
    "            if(100000 < df3.gh_sloc[0:1].item()):\n",
    "                large.append(name)\n",
    "        return(large)"
   ]
  },
  {
   "cell_type": "code",
   "execution_count": 10,
   "metadata": {},
   "outputs": [
    {
     "name": "stdout",
     "output_type": "stream",
     "text": [
      "['pedrovgs/Renderers', 'JakeWharton/timber', 'JakeWharton/DiskLruCache', 'mikaelhg/urlbuilder', 'TimotheeJeannin/ProviGen', 'joelittlejohn/embedmongo-maven-plugin', 'passy/Android-DirectoryChooser', 'hotchemi/Android-Rate', 'nurkiewicz/spring-data-jdbc-repository', 'tjerkw/Android-SlideExpandableListView', 'ReactiveX/RxAndroid', 'foursquare/twofishes', 'stephanenicolas/Quality-Tools-for-Android', 'laurilehmijoki/s3_website']\n"
     ]
    }
   ],
   "source": []
  },
  {
   "cell_type": "markdown",
   "metadata": {},
   "source": [
    "### Tipos de Projeto  Java e Ruby"
   ]
  },
  {
   "cell_type": "code",
   "execution_count": 19,
   "metadata": {},
   "outputs": [
    {
     "name": "stdout",
     "output_type": "stream",
     "text": [
      "quantidade de projetos large ruby 8\n",
      "count    1890.000000\n",
      "mean        1.350265\n",
      "std         6.144464\n",
      "min         0.000000\n",
      "25%         0.000000\n",
      "50%         0.000000\n",
      "75%         1.000000\n",
      "max       140.000000\n",
      "Name: date, dtype: float64\n",
      "Quantidade de projetos large ruby com builds quebradas é de 8 tendo uma duração de 1.0 dias\n"
     ]
    }
   ],
   "source": [
    "\n",
    "list_name = quantidade_projetos('ruby', 4) \n",
    "\n",
    "print(f\"quantidade de projetos large ruby {len(list_name)}\")\n",
    "\n",
    "list_days_broken = []\n",
    "for i in range(len(list_name)):\n",
    "    list_days_broken.append(status_build(list_name[i]))\n",
    "\n",
    "days_broken = []\n",
    "for j in range(len(list_days_broken)):\n",
    "    days_broken = days_broken + list_days_broken[j]\n",
    "    \n",
    "\n",
    "\n",
    "days_java = pd.DataFrame(days_broken, columns=['date']) # cria uma\n",
    "\n",
    "\n",
    "print(days_java.date.dt.days.describe())\n",
    "\n",
    "metric = days_java.date.dt.days.describe()[6] # 3 quartil\n",
    "\n",
    "\n",
    "\n",
    "count = 0 \n",
    "metric = days_java.date.dt.days.describe()[6] # 3 quartil \n",
    "\n",
    "#percorre o vetor quando ele encontra um que é equivalente ao if da break e vai para o proximo vetor que no caso seria outro projeto\n",
    "for k in range(len(list_days_broken)):\n",
    "    for j in range(len(list_days_broken[k])):\n",
    "        if(metric <= list_days_broken[k][j].days):\n",
    "            count+=1\n",
    "            break\n",
    "            #uma metrica está sendo contada mais de uma ves quando ele encontar deve passar pra proxima lista e não fica na mesma \n",
    "\n",
    "print(f\"Quantidade de projetos large ruby com builds quebradas é de {count} tendo uma duração de {metric} dias\")\n",
    "   \n",
    "\n",
    "\n",
    "\n"
   ]
  },
  {
   "cell_type": "code",
   "execution_count": 38,
   "metadata": {},
   "outputs": [],
   "source": [
    "lista_ruby = days_ruby.date.dt.days.tolist()\n",
    "lista_java = days_java.date.dt.days.tolist()"
   ]
  },
  {
   "cell_type": "code",
   "execution_count": 43,
   "metadata": {},
   "outputs": [
    {
     "data": {
      "image/png": "[encoded data removed]",
      "text/plain": [
       "<Figure size 432x288 with 1 Axes>"
      ]
     },
     "metadata": {},
     "output_type": "display_data"
    }
   ],
   "source": [
    "###### plot bar #######\n",
    "data = [lista_ruby, lista_java]\n",
    "\n",
    "\n",
    "\n",
    "\n",
    "fig, ax = plt.subplots()\n",
    "\n",
    "fig.subplots_adjust(left=0.08, right=1.38, bottom=0.05, top=1.2, hspace=0.4, wspace=0.3)\n",
    "#fig.subplots_adjust(left=0.15, right=.98, bottom=0.22, top=.9, hspace=0.6, wspace=0.6)\n",
    "\n",
    "ax.set_title('Project Ruby and Java', fontsize=15)\n",
    "ax.set_xlabel('Type project', fontsize=15)\n",
    "ax.set_ylabel('Distribution', fontsize=15)\n",
    "\n",
    "ax.set_axisbelow(True)\n",
    "\n",
    "\n",
    "ax.boxplot(data, 0, '', showmeans=True, meanline=True, labels=['Ruby','Java']) # boxplot sem outlier points\n",
    "\n",
    "\n",
    "plt.savefig('rq3.eps', format='eps', dpi = 300,  bbox_inches='tight')\n",
    "plt.show()"
   ]
  },
  {
   "cell_type": "code",
   "execution_count": null,
   "metadata": {},
   "outputs": [],
   "source": []
  }
 ],
 "metadata": {
  "kernelspec": {
   "display_name": "Python 3",
   "language": "python",
   "name": "python3"
  },
  "language_info": {
   "codemirror_mode": {
    "name": "ipython",
    "version": 3
   },
   "file_extension": ".py",
   "mimetype": "text/x-python",
   "name": "python",
   "nbconvert_exporter": "python",
   "pygments_lexer": "ipython3",
   "version": "3.6.5"
  }
 },
 "nbformat": 4,
 "nbformat_minor": 2
}
