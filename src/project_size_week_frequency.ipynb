{
 "cells": [
  {
   "cell_type": "code",
   "execution_count": 1,
   "metadata": {},
   "outputs": [],
   "source": [
    "import pandas as pd\n",
    "import numpy as np\n",
    "import matplotlib.pyplot as plt"
   ]
  },
  {
   "cell_type": "code",
   "execution_count": 2,
   "metadata": {},
   "outputs": [],
   "source": [
    "FILE = '~/github/ci-analysis/travistorrent_11_1_2017.csv'"
   ]
  },
  {
   "cell_type": "code",
   "execution_count": 3,
   "metadata": {},
   "outputs": [],
   "source": [
    "dataset = pd.read_csv(FILE, sep=',', engine='c',usecols=['gh_team_size',\n",
    "                                                         'tr_build_id',\n",
    "                                                         'gh_project_name',\n",
    "                                                         'tr_build_id',\n",
    "                                                         'gh_project_name',\n",
    "                                                         'gh_is_pr',\n",
    "                                                         'gh_pr_created_at',\n",
    "                                                         'gh_lang',\n",
    "                                                         'git_branch',\n",
    "                                                         'gh_num_commits_in_push',\n",
    "                                                         'git_prev_commit_resolution_status',\n",
    "                                                         'tr_prev_build',\n",
    "                                                         'gh_first_commit_created_at',\n",
    "                                                         'gh_team_size',         \n",
    "                                                         'gh_pushed_at',\n",
    "                                                         'gh_build_started_at',\n",
    "                                                         'tr_log_num_tests_ok',        \n",
    "                                                         'tr_log_num_tests_failed' ,   \n",
    "                                                         'tr_log_num_tests_skipped',\n",
    "                                                         'gh_sloc',\n",
    "                                                         'tr_log_bool_tests_failed',\n",
    "                                                         'tr_status'],dtype={ 'tr_build_id': np.float32,\n",
    "                                                                                            'gh_project_name': 'category',\n",
    "                                                                                            'gh_is_pr': np.bool,\n",
    "                                                                                            'gh_pr_created_at': 'category',\n",
    "                                                                                            'gh_lang': 'category',\n",
    "                                                                                            'git_branch': 'category',\n",
    "                                                                                            'gh_num_commits_in_push': np.float32,\n",
    "                                                                                            'git_prev_commit_resolution_status': 'category',\n",
    "                                                                                            'tr_prev_build': np.float32,\n",
    "                                                                                            'gh_first_commit_created_at': 'category',\n",
    "                                                                                            'gh_team_size': np.int32,\n",
    "                                                                                            'gh_pushed_at': 'category',\n",
    "                                                                                            'gh_build_started_at': 'category',\n",
    "                                                                                            'tr_log_num_tests_ok': np.float32,\n",
    "                                                                                            'tr_log_num_tests_failed': np.float32,\n",
    "                                                                                            'tr_log_num_tests_skipped': np.float32,\n",
    "                                                                                            'gh_sloc': np.int32}, encoding='utf-8')\n"
   ]
  },
  {
   "cell_type": "code",
   "execution_count": 4,
   "metadata": {
    "scrolled": true
   },
   "outputs": [],
   "source": [
    "dataset = dataset.loc[dataset['git_branch'] == 'master']\n",
    "dataset = dataset[dataset.gh_lang != 'javascript']\n",
    "dataset = dataset.dropna(subset=['gh_num_commits_in_push']) #Remove NaN da coluna especificada\n",
    "dataset['gh_pushed_at'] = pd.to_datetime(dataset.gh_pushed_at)\n",
    "dataset = dataset.drop_duplicates(['tr_build_id']) # No projeto todo\n"
   ]
  },
  {
   "cell_type": "code",
   "execution_count": null,
   "metadata": {},
   "outputs": [],
   "source": []
  },
  {
   "cell_type": "markdown",
   "metadata": {},
   "source": [
    "<font size = 4/>\n",
    "3 - Projeto abaixo de 1000 linhas serão descartados,projeto possuindo acima de 1000 e menos que 10.000 serão considerados pequenos, projetos possuindo acima de 10.000 linhas e menos que 100.000 serão considerados médios e projetos acima de 100.000 linhas serão considerados grandes."
   ]
  },
  {
   "cell_type": "code",
   "execution_count": 5,
   "metadata": {},
   "outputs": [],
   "source": [
    "def size_project(language, sett):\n",
    "    if(sett == 1): #abaixo de 1000 linhas\n",
    "        df1 = dataset.loc[(dataset['gh_sloc'] < 1000) & (dataset['gh_lang'] == language)]\n",
    "        df1 = df1.drop_duplicates(['gh_project_name'])\n",
    "        #print(\"Projetos {} abaixo de 1000 linhas: {}\".format(language, len(df1.gh_project_name)))  \n",
    "\n",
    "    if(sett == 2): #acima de 1000 e menos que 10.000\n",
    "        df2 = dataset.loc[(dataset['gh_sloc'] < 10000)]\n",
    "        df2 = df2.loc[(df2['gh_sloc'] > 1000) & (df2['gh_lang'] == language)]\n",
    "        #df2 = df2.drop_duplicates(['gh_project_name']) # Filtro para quantodade de projetos\n",
    "\n",
    "        #print(\"Projetos {} acima de 1000 linhas e abaixo de 10.000 : {}\".format(language,len(df2.gh_project_name)))\n",
    "        return(df2)\n",
    "    \n",
    "    if(sett == 3): #acima de 10.000 linhas e menos que 100.000\n",
    "        df3 = dataset.loc[(dataset['gh_sloc'] < 100000)]\n",
    "        df3 = df3.loc[(df3['gh_sloc'] > 10000) & (df3['gh_lang'] == language)]\n",
    "        #df3 = df3.drop_duplicates(['gh_project_name']) # Filtro para quantodade de projetos\n",
    "\n",
    "        #print(\"Projetos {} acima de 10.000 linhas e abaixo de 100.000 : {}\".format(language,len(df3.gh_project_name)))\n",
    "        return(df3)\n",
    "    \n",
    "    if(sett == 4): #acima de 100.000 linhas\n",
    "        df4 = dataset.loc[(dataset['gh_sloc'] > 100000) & (dataset['gh_lang'] == language)]\n",
    "        #df4 = df4.drop_duplicates(['gh_project_name']) # Filtro para quantodade de projetos\n",
    "\n",
    "        #print(\"Projetos {} acima de 100.000 linhas: {}\".format(language,len(df4.gh_project_name)))\n",
    "        return(df4)        "
   ]
  },
  {
   "cell_type": "markdown",
   "metadata": {},
   "source": [
    "<font size = 4/>\n",
    "3.1 Tamanho dos projetos Ruby e Java"
   ]
  },
  {
   "cell_type": "code",
   "execution_count": 29,
   "metadata": {},
   "outputs": [
    {
     "name": "stdout",
     "output_type": "stream",
     "text": [
      "Projetos ruby abaixo de 1000 linhas: 533\n",
      "Projetos ruby acima de 1000 linhas e abaixo de 10.000 : 511\n",
      "Projetos ruby acima de 10.000 linhas e abaixo de 100.000 : 79\n",
      "Projetos ruby acima de 100.000 linhas: 8\n",
      "\n",
      "\n",
      "Projetos java abaixo de 1000 linhas: 37\n",
      "Projetos java acima de 1000 linhas e abaixo de 10.000 : 201\n",
      "Projetos java acima de 10.000 linhas e abaixo de 100.000 : 191\n",
      "Projetos java acima de 100.000 linhas: 28\n"
     ]
    }
   ],
   "source": [
    "# tirar o comentado do metodo para não haver erro\n",
    "size_project('ruby', 1)\n",
    "size_project('ruby', 2)\n",
    "size_project('ruby', 3)\n",
    "size_project('ruby', 4)\n",
    "print(\"\\n\")\n",
    "size_project('java', 1)\n",
    "size_project('java', 2)\n",
    "size_project('java', 3)\n",
    "size_project('java', 4)\n",
    "print(\"\\n\")\n",
    "size_project('javascript', 1)\n",
    "size_project('javascript', 2)\n",
    "size_project('javascript', 3)\n",
    "size_project('javascript', 4)"
   ]
  },
  {
   "cell_type": "markdown",
   "metadata": {},
   "source": [
    "<font size = 4/>\n",
    "Def para frequencia por dia e mes"
   ]
  },
  {
   "cell_type": "code",
   "execution_count": 6,
   "metadata": {
    "scrolled": true
   },
   "outputs": [],
   "source": [
    "def weekday_frequency(dataframe): #year\n",
    "    #dataframe = dataframe.loc[dataset.gh_pushed_at.dt.year == year]\n",
    "\n",
    "    dataframe = dataframe.gh_pushed_at.dt.weekday\n",
    "\n",
    "    monday  = []\n",
    "    tuesday  = []\n",
    "    wednesday = []\n",
    "    thursday  = []\n",
    "    friday = []\n",
    "    saturday = []\n",
    "    sunday = []\n",
    "\n",
    "    for date in dataframe:\n",
    "        if(date == 0):\n",
    "            monday.append(date)\n",
    "        elif(date == 1):\n",
    "            tuesday.append(date)\n",
    "        elif(date == 2):\n",
    "            wednesday.append(date)\n",
    "        elif(date == 3):\n",
    "            thursday.append(date)\n",
    "        elif(date == 4):\n",
    "            friday.append(date)\n",
    "        elif(date == 5):\n",
    "            saturday.append(date)\n",
    "        elif(date == 6):\n",
    "            sunday.append(date)\n",
    "            \n",
    "    #print(\"\\nMonday: {} commits \\n Tuesday: {} \\n wednesday: {} \\n Thursday: {} \\n Friday: {} \\n Saturday: {}\\n Sunday: {}\".format(len(monday), len(tuesday), len(wednesday), len(thursday), len(friday), len(saturday), len(sunday)))\n",
    "      \n",
    "    return([monday, tuesday, wednesday, thursday, friday, saturday, sunday])"
   ]
  },
  {
   "cell_type": "code",
   "execution_count": 7,
   "metadata": {},
   "outputs": [],
   "source": [
    "def month_frequency(dataframe): #year\n",
    "    #dataframe = dataframe.loc[dataset.gh_pushed_at.dt.year == year]\n",
    "\n",
    "    dataframe = dataframe.gh_pushed_at.dt.month\n",
    "    \n",
    "    january = []\n",
    "    february = []\n",
    "    march = []\n",
    "    april = []\n",
    "    may = []\n",
    "    june = []\n",
    "    july = []\n",
    "    august = []\n",
    "    september = []\n",
    "    october = []\n",
    "    november = []\n",
    "    december = []\n",
    "    \n",
    " \n",
    "    for month in dataframe:\n",
    "        if(month == 1):\n",
    "            january.append(month)\n",
    "        elif(month == 2):\n",
    "            february.append(month)\n",
    "        elif(month == 3):\n",
    "            march.append(month)\n",
    "        elif(month == 4):\n",
    "            april.append(month)\n",
    "        elif(month == 5):\n",
    "            may.append(month)\n",
    "        elif(month == 6):\n",
    "            june.append(month)\n",
    "        elif(month == 7):\n",
    "            july.append(month)\n",
    "        elif(month == 8):\n",
    "            august.append(month)\n",
    "        elif(month == 9):\n",
    "            september.append(month)\n",
    "        elif(month == 10):\n",
    "            october.append(month)\n",
    "        elif(month == 11):\n",
    "            november.append(month)\n",
    "        elif(month == 12):\n",
    "            december.append(month)\n",
    "            \n",
    "    #print(\"january:{} \\n february:{} \\n march:{} \\n april:{} \\n may:{} \\n june:{} \\n july:{} \\n august:{} \\n september:{} \\n october:{} \\n november:{} \\n december:{} \".format(len(january), len(february), len(march), len(april), len(may), len(june), len(july), len(august), len(september), len(october), len(november), len(december)))\n",
    "    return([january, february, march, april, may, june, july, august, september, october, november, december])"
   ]
  },
  {
   "cell_type": "code",
   "execution_count": 8,
   "metadata": {},
   "outputs": [],
   "source": [
    "def plot_bar(sett, language,low, medium, high):\n",
    "    \n",
    "    # Dados do grafico\n",
    "    if(sett == 0):\n",
    "        frequency_low = [len(low[0]),len(low[1]),len(low[2]),len(low[3]),len(low[4]),len(low[5]),len(low[6]),len(low[7]),len(low[8]),len(low[9]),len(low[10]),len(low[11])]\n",
    "        frequency_medium = [len(medium[0]),len(medium[1]),len(medium[2]),len(medium[3]),len(medium[4]),len(medium[5]),len(medium[6]),len(medium[7]),len(medium[8]),len(medium[9]),len(medium[10]),len(medium[11])]\n",
    "        frequency_high = [len(high[0]),len(high[1]),len(high[2]),len(high[3]),len(high[4]),len(high[5]),len(high[6]),len(high[7]),len(high[8]),len(high[9]),len(high[10]),len(high[11])]\n",
    "\n",
    "        labels_list = [\"january\", \"february\", \"march\", \"april\", \"may\", \"june\", \"july\", \"august\", \"september\", \"october\", \"november\", \"december\"]\n",
    "    if(sett == 1):\n",
    "        frequency_low = [len(low[0]),len(low[1]),len(low[2]),len(low[3]),len(low[4]),len(low[5]),len(low[6])]\n",
    "        frequency_medium = [len(medium[0]),len(medium[1]),len(medium[2]),len(medium[3]),len(medium[4]),len(medium[5]),len(medium[6])]\n",
    "        frequency_high = [len(high[0]),len(high[1]),len(high[2]),len(high[3]),len(high[4]),len(high[5]),len(high[6])]\n",
    "\n",
    "        labels_list = ['Monday', 'Tuesday','wednesday','thursday ','friday','saturday','sunday']\n",
    "        \n",
    "    # Largura das barras\n",
    "    barWidth = 0.25\n",
    "    \n",
    "    # Tamanho do Grafico\n",
    "    plt.figure(figsize=(9,6))\n",
    "    \n",
    "    # Posicao da barras\n",
    "    r1 = np.arange(len(frequency_low))\n",
    "    r2 = [x + barWidth for x in r1]\n",
    "    r3 = [x + barWidth for x in r2]\n",
    "    \n",
    "    \n",
    "    # Criando as barras\n",
    "    plt.bar(r1, frequency_low, color='#6A5ACD', width=barWidth, label='Small')\n",
    "    plt.bar(r2, frequency_medium, color='#6495ED', width=barWidth, label='Medium')\n",
    "    plt.bar(r3, frequency_high, color='#00BFFF', width=barWidth, label='Large')\n",
    "    \n",
    "    # Adicionando legendas as barras\n",
    "    if(sett == 0):\n",
    "        plt.xlabel('Months', fontsize=15)\n",
    "    if(sett == 1):\n",
    "        plt.xlabel('Weekday', fontsize=15)\n",
    "   \n",
    "    plt.xticks([r + barWidth for r in  range(len(frequency_low))], labels_list)\n",
    "    plt.ylabel('Project size', fontsize=15)\n",
    "    plt.title('{}'.format(language), fontsize=15)\n",
    "    \n",
    "    \n",
    "    plt.legend()\n",
    "    plt.savefig('frequencia_por_dia_semana.eps', format='eps')\n",
    "    plt.show()\n",
    "  "
   ]
  },
  {
   "cell_type": "markdown",
   "metadata": {},
   "source": [
    "<font size = 4/>\n",
    "3.2 - Frequências de commit por Mês, sendo projetos de tamanho pequeno, médio e grande."
   ]
  },
  {
   "cell_type": "markdown",
   "metadata": {},
   "source": [
    "<font size = 4/>\n",
    "3.2.1 - Projetos RUBY "
   ]
  },
  {
   "cell_type": "code",
   "execution_count": 9,
   "metadata": {},
   "outputs": [
    {
     "data": {
      "image/png": "[encoded data removed]",
      "text/plain": [
       "<Figure size 1224x504 with 1 Axes>"
      ]
     },
     "metadata": {},
     "output_type": "display_data"
    }
   ],
   "source": [
    "dataframe_l = size_project('ruby', 2)\n",
    "\n",
    "dataframe_m = size_project('ruby', 3)\n",
    "\n",
    "dataframe_h = size_project('ruby', 4)\n",
    "\n",
    "\n",
    "weekday_low = weekday_frequency(dataframe_l)\n",
    "weekday_medium = weekday_frequency(dataframe_m)\n",
    "weekday_high = weekday_frequency(dataframe_h)\n",
    "\n",
    "plot_bar(1, 'Ruby', weekday_low, weekday_medium, weekday_high)"
   ]
  },
  {
   "cell_type": "markdown",
   "metadata": {},
   "source": [
    "<font size = 4/>\n",
    "3.2.1 - Projetos Java "
   ]
  },
  {
   "cell_type": "code",
   "execution_count": 10,
   "metadata": {},
   "outputs": [
    {
     "data": {
      "image/png": "[encoded data removed]",
      "text/plain": [
       "<Figure size 1224x504 with 1 Axes>"
      ]
     },
     "metadata": {},
     "output_type": "display_data"
    }
   ],
   "source": [
    "dataframe_l = size_project('java', 2)\n",
    "\n",
    "dataframe_m = size_project('java', 3)\n",
    "\n",
    "dataframe_h = size_project('java', 4)\n",
    "\n",
    "\n",
    "\n",
    "weekday_low = weekday_frequency(dataframe_l)\n",
    "weekday_medium = weekday_frequency(dataframe_m)\n",
    "weekday_high = weekday_frequency(dataframe_h)\n",
    "\n",
    "plot_bar(1, 'Java', weekday_low, weekday_medium, weekday_high)"
   ]
  },
  {
   "cell_type": "markdown",
   "metadata": {},
   "source": [
    "<font size = 4/>\n",
    "3.3 - Frequências de commit por Mês, por tamanho do projeto, pequeno, médio e grande.\n"
   ]
  },
  {
   "cell_type": "markdown",
   "metadata": {},
   "source": [
    "<font size = 4/>\n",
    "3.3.1 - Projetos RUBY "
   ]
  },
  {
   "cell_type": "code",
   "execution_count": 11,
   "metadata": {},
   "outputs": [
    {
     "data": {
      "image/png": "[encoded data removed]",
      "text/plain": [
       "<Figure size 1224x504 with 1 Axes>"
      ]
     },
     "metadata": {},
     "output_type": "display_data"
    }
   ],
   "source": [
    "dataframe_l = size_project('ruby', 2)\n",
    "dataframe_m = size_project('ruby', 3)\n",
    "dataframe_h = size_project('ruby', 4)\n",
    "\n",
    "month_low = month_frequency(dataframe_l)\n",
    "month_medium = month_frequency(dataframe_m)\n",
    "month_high = month_frequency(dataframe_h)\n",
    "\n",
    "plot_bar(0, 'Ruby', month_low, month_medium, month_high)"
   ]
  },
  {
   "cell_type": "markdown",
   "metadata": {},
   "source": [
    "<font size = 4/>\n",
    "3.3.2 - Projetos Java "
   ]
  },
  {
   "cell_type": "code",
   "execution_count": 12,
   "metadata": {},
   "outputs": [
    {
     "data": {
      "image/png": "[encoded data removed]",
      "text/plain": [
       "<Figure size 1224x504 with 1 Axes>"
      ]
     },
     "metadata": {},
     "output_type": "display_data"
    }
   ],
   "source": [
    "dataframe_l = size_project('java', 2)\n",
    "dataframe_m = size_project('java', 3)\n",
    "dataframe_h = size_project('java', 4)\n",
    "\n",
    "month_low = month_frequency(dataframe_l)\n",
    "month_medium = month_frequency(dataframe_m)\n",
    "month_high = month_frequency(dataframe_h)\n",
    "\n",
    "plot_bar(0, 'Java', month_low, month_medium, month_high)"
   ]
  },
  {
   "cell_type": "markdown",
   "metadata": {},
   "source": [
    "<font size = 4/>\n",
    "4 - Boxplot por semana e por mês"
   ]
  },
  {
   "cell_type": "code",
   "execution_count": 13,
   "metadata": {},
   "outputs": [],
   "source": [
    "def plot_box(title, plot1, plot2, plot3=None, plot4=None, plot5=None, plot6=None, plot7=None, plot8=None, plot9=None, plot10=None, plot11=None, plot12=None):\n",
    "    \n",
    "    if(plot8 == None):\n",
    "        data=[plot1, plot2, plot3, plot4, plot5, plot6, plot7]\n",
    "    else:\n",
    "        data=[plot1, plot2, plot3, plot4, plot5, plot6, plot7, plot8, plot9, plot10, plot11, plot12]\n",
    "        \n",
    "    fig, ax = plt.subplots()\n",
    "    fig.subplots_adjust(left=0.08, right=1.48, bottom=0.05, top=1.2,\n",
    "                        hspace=0.4, wspace=0.3)\n",
    "\n",
    "    ax.set_axisbelow(True)\n",
    "    ax.set_title(title, size=20)\n",
    "    ax.boxplot(data)"
   ]
  },
  {
   "cell_type": "code",
   "execution_count": 14,
   "metadata": {},
   "outputs": [],
   "source": [
    "def commits_weekday(dataframe):\n",
    "    weekday = [] \n",
    "    for i in range(0, 7):\n",
    "        day = dataframe.loc[(dataframe.gh_pushed_at.dt.weekday == i)]\n",
    "        weekday.append(day.gh_num_commits_in_push)\n",
    "    return(weekday)"
   ]
  },
  {
   "cell_type": "code",
   "execution_count": null,
   "metadata": {},
   "outputs": [],
   "source": []
  },
  {
   "cell_type": "code",
   "execution_count": 15,
   "metadata": {},
   "outputs": [],
   "source": [
    "\n",
    "dataframe_l = size_project('ruby', 2)\n",
    "dataframe_m = size_project('ruby', 3)\n",
    "dataframe_h = size_project('ruby', 4)\n",
    "\n",
    "\n",
    "weekday_l = commits_weekday(dataframe_l)\n",
    "weekday_m = commits_weekday(dataframe_m)\n",
    "weekday_h = commits_weekday(dataframe_h)\n"
   ]
  },
  {
   "cell_type": "code",
   "execution_count": 16,
   "metadata": {},
   "outputs": [
    {
     "name": "stdout",
     "output_type": "stream",
     "text": [
      "Media para projetos pequenos\n",
      " count    96682.000000\n",
      "mean         2.381281\n",
      "std          2.658886\n",
      "Name: gh_num_commits_in_push, dtype: float64\n",
      "\n",
      "Media para projetos medios\n",
      " count    42129.000000\n",
      "mean         2.417195\n",
      "std          2.727777\n",
      "Name: gh_num_commits_in_push, dtype: float64\n",
      "\n",
      "Media para projetos grandes\n",
      " count    16707.000000\n",
      "mean         3.406476\n",
      "std          3.751727\n",
      "Name: gh_num_commits_in_push, dtype: float64\n",
      "\n",
      "\n",
      "Media para projetos pequenos fim de semana\n",
      " count    23794.000000\n",
      "mean         2.337144\n",
      "std          2.611799\n",
      "Name: gh_num_commits_in_push, dtype: float64\n",
      "\n",
      "Media para projetos medios fim de semana\n",
      " count    10045.000000\n",
      "mean         2.431458\n",
      "std          2.865199\n",
      "Name: gh_num_commits_in_push, dtype: float64\n",
      "\n",
      "Media para projetos grandes fim de semana\n",
      " count    3895.000000\n",
      "mean        3.424390\n",
      "std         3.711321\n",
      "Name: gh_num_commits_in_push, dtype: float64\n"
     ]
    }
   ],
   "source": [
    "# Media de commits para projetos\n",
    "\n",
    "dia_semana_p = dataframe_l.loc[(dataframe_l.gh_pushed_at.dt.weekday < 5)]\n",
    "dia_semana_m = dataframe_m.loc[(dataframe_m.gh_pushed_at.dt.weekday < 5)]\n",
    "dia_semana_h = dataframe_h.loc[(dataframe_h.gh_pushed_at.dt.weekday < 5)]\n",
    "\n",
    "\n",
    "print('Media para projetos pequenos\\n',dia_semana_p.gh_num_commits_in_push.describe()[0:3])\n",
    "print('\\nMedia para projetos medios\\n',dia_semana_m.gh_num_commits_in_push.describe()[0:3])\n",
    "print('\\nMedia para projetos grandes\\n',dia_semana_h.gh_num_commits_in_push.describe()[0:3])\n",
    "\n",
    "\n",
    "fim_semana_p = dataframe_l.loc[(dataframe_l.gh_pushed_at.dt.weekday >= 5)]\n",
    "fim_semana_m = dataframe_m.loc[(dataframe_m.gh_pushed_at.dt.weekday >= 5)]\n",
    "fim_semana_h = dataframe_h.loc[(dataframe_h.gh_pushed_at.dt.weekday >= 5)]\n",
    "\n",
    "print('\\n\\nMedia para projetos pequenos fim de semana\\n',fim_semana_p.gh_num_commits_in_push.describe()[0:3])\n",
    "print('\\nMedia para projetos medios fim de semana\\n',fim_semana_m.gh_num_commits_in_push.describe()[0:3])\n",
    "print('\\nMedia para projetos grandes fim de semana\\n',fim_semana_h.gh_num_commits_in_push.describe()[0:3])\n",
    "\n",
    "#weekend1, weekend2 = commits_weekend(dataframe_m)\n",
    "#weekend1, weekend2 = commits_weekend(dataframe_h)"
   ]
  },
  {
   "cell_type": "code",
   "execution_count": 17,
   "metadata": {},
   "outputs": [],
   "source": [
    "#plot_box('Projetos ruby pequenos - Semana', weekday_l[0], weekday_l[1], weekday_l[2], weekday_l[3], weekday_l[4], weekday_l[5], weekday_l[6])\n",
    "#plot_box('Projetos ruby médios - Semana', weekday_m[0], weekday_m[1], weekday_m[2], weekday_m[3], weekday_m[4], weekday_m[5], weekday_m[6])\n",
    "#plot_box('Projetos ruby grandes - Semana', weekday_h[0], weekday_h[1], weekday_h[2], weekday_h[3], weekday_h[4], weekday_h[5], weekday_h[6])"
   ]
  },
  {
   "cell_type": "code",
   "execution_count": 18,
   "metadata": {},
   "outputs": [],
   "source": [
    "# size project filtra os projetos por tamanho e depois filtra-se por cada dia da semana \n",
    "dataframe_l = size_project('java', 2)\n",
    "dataframe_m = size_project('java', 3)\n",
    "dataframe_h = size_project('java', 4)\n",
    "\n",
    "\n",
    "weekday_l = commits_weekday(dataframe_l)\n",
    "weekday_m = commits_weekday(dataframe_m)\n",
    "weekday_h = commits_weekday(dataframe_h)\n",
    "\n",
    "\n",
    "#plot_box('Projetos Java pequenos - Semana', weekday_l[0], weekday_l[1], weekday_l[2], weekday_l[3], weekday_l[4], weekday_l[5], weekday_l[6])\n",
    "#plot_box('Projetos Java médios - Semana', weekday_m[0], weekday_m[1], weekday_m[2], weekday_m[3], weekday_m[4], weekday_m[5], weekday_m[6])\n",
    "#plot_box('Projetos Java grandes - Semana', weekday_h[0], weekday_h[1], weekday_h[2], weekday_h[3], weekday_h[4], weekday_h[5], weekday_h[6])"
   ]
  },
  {
   "cell_type": "code",
   "execution_count": 19,
   "metadata": {},
   "outputs": [
    {
     "name": "stdout",
     "output_type": "stream",
     "text": [
      "Media para projetos pequenos\n",
      " count    28219.000000\n",
      "mean         2.143485\n",
      "std          2.481595\n",
      "Name: gh_num_commits_in_push, dtype: float64\n",
      "\n",
      "Media para projetos medios\n",
      " count    51132.000000\n",
      "mean         2.261754\n",
      "std          2.761387\n",
      "Name: gh_num_commits_in_push, dtype: float64\n",
      "\n",
      "Media para projetos grandes\n",
      " count    14992.000000\n",
      "mean         2.367929\n",
      "std          2.840215\n",
      "Name: gh_num_commits_in_push, dtype: float64\n",
      "\n",
      "\n",
      "Media para projetos pequenos fim de semana\n",
      " count    6549.000000\n",
      "mean        2.182318\n",
      "std         2.611190\n",
      "Name: gh_num_commits_in_push, dtype: float64\n",
      "\n",
      "Media para projetos medios fim de semana\n",
      " count    12088.000000\n",
      "mean         2.217075\n",
      "std          2.660982\n",
      "Name: gh_num_commits_in_push, dtype: float64\n",
      "\n",
      "Media para projetos grandes fim de semana\n",
      " count    3483.000000\n",
      "mean        2.295435\n",
      "std         2.771428\n",
      "Name: gh_num_commits_in_push, dtype: float64\n"
     ]
    }
   ],
   "source": [
    "# size project filtra os projetos por tamanho e depois filtra-se por dia de semana e final de semana\n",
    "\n",
    "dia_semana_p = dataframe_l.loc[(dataframe_l.gh_pushed_at.dt.weekday < 5)]\n",
    "dia_semana_m = dataframe_m.loc[(dataframe_m.gh_pushed_at.dt.weekday < 5)]\n",
    "dia_semana_h = dataframe_h.loc[(dataframe_h.gh_pushed_at.dt.weekday < 5)]\n",
    "\n",
    "\n",
    "print('Media para projetos pequenos\\n',dia_semana_p.gh_num_commits_in_push.describe()[0:3])\n",
    "print('\\nMedia para projetos medios\\n',dia_semana_m.gh_num_commits_in_push.describe()[0:3])\n",
    "print('\\nMedia para projetos grandes\\n',dia_semana_h.gh_num_commits_in_push.describe()[0:3])\n",
    "\n",
    "\n",
    "fim_semana_p = dataframe_l.loc[(dataframe_l.gh_pushed_at.dt.weekday >= 5)]\n",
    "fim_semana_m = dataframe_m.loc[(dataframe_m.gh_pushed_at.dt.weekday >= 5)]\n",
    "fim_semana_h = dataframe_h.loc[(dataframe_h.gh_pushed_at.dt.weekday >= 5)]\n",
    "\n",
    "print('\\n\\nMedia para projetos pequenos fim de semana\\n',fim_semana_p.gh_num_commits_in_push.describe()[0:3])\n",
    "print('\\nMedia para projetos medios fim de semana\\n',fim_semana_m.gh_num_commits_in_push.describe()[0:3])\n",
    "print('\\nMedia para projetos grandes fim de semana\\n',fim_semana_h.gh_num_commits_in_push.describe()[0:3])\n"
   ]
  },
  {
   "cell_type": "markdown",
   "metadata": {},
   "source": [
    "### Dados dos projetos Pequenos, Medios e Grandes"
   ]
  },
  {
   "cell_type": "code",
   "execution_count": null,
   "metadata": {},
   "outputs": [],
   "source": [
    "#acima de 1000 e menos que 10.000\n",
    "df_small = dataset.loc[(dataset['gh_sloc'] < 10000)]\n",
    "df_small = df_small.loc[(df_small['gh_sloc'] > 1000)]\n",
    "\n",
    "#acima de 10.000 linhas e menos que 100.000\n",
    "df_medium = dataset.loc[(dataset['gh_sloc'] < 100000)]\n",
    "df_medium = df_medium.loc[(df_medium['gh_sloc'] > 10000)]\n",
    "\n",
    "#acima de 100.000 linhas\n",
    "df_large = dataset.loc[(dataset['gh_sloc'] > 100000)]\n",
    "\n",
    "print(\"\\n\\nMédia e desvio padrão dos projetos pequenos\\n\", df_small.gh_num_commits_in_push.describe())\n",
    "print(\"\\n\\nMédia e desvio padrão dos projetos medios\\n\", df_medium.gh_num_commits_in_push.describe())\n",
    "print(\"\\n\\nMédia e desvio padrão dos projetos grandes\\n\", df_large.gh_num_commits_in_push.describe())"
   ]
  },
  {
   "cell_type": "code",
   "execution_count": null,
   "metadata": {},
   "outputs": [],
   "source": []
  },
  {
   "cell_type": "markdown",
   "metadata": {},
   "source": [
    "#### Media geral de commits"
   ]
  },
  {
   "cell_type": "code",
   "execution_count": 1,
   "metadata": {},
   "outputs": [
    {
     "ename": "NameError",
     "evalue": "name 'dataset' is not defined",
     "output_type": "error",
     "traceback": [
      "\u001b[0;31m---------------------------------------------------------------------------\u001b[0m",
      "\u001b[0;31mNameError\u001b[0m                                 Traceback (most recent call last)",
      "\u001b[0;32m<ipython-input-1-f815d93de8e1>\u001b[0m in \u001b[0;36m<module>\u001b[0;34m\u001b[0m\n\u001b[0;32m----> 1\u001b[0;31m \u001b[0mdataset\u001b[0m\u001b[0;34m.\u001b[0m\u001b[0mgh_num_commits_in_push\u001b[0m\u001b[0;34m.\u001b[0m\u001b[0mmean\u001b[0m\u001b[0;34m(\u001b[0m\u001b[0;34m)\u001b[0m\u001b[0;34m\u001b[0m\u001b[0;34m\u001b[0m\u001b[0m\n\u001b[0m",
      "\u001b[0;31mNameError\u001b[0m: name 'dataset' is not defined"
     ]
    }
   ],
   "source": [
    "dataset.gh_num_commits_in_push.mean()"
   ]
  },
  {
   "cell_type": "code",
   "execution_count": null,
   "metadata": {},
   "outputs": [],
   "source": []
  },
  {
   "cell_type": "markdown",
   "metadata": {},
   "source": [
    "#### Quantidade de projetos abaixo da media"
   ]
  },
  {
   "cell_type": "code",
   "execution_count": null,
   "metadata": {},
   "outputs": [],
   "source": [
    "cont=0\n",
    "\n",
    "list_name = dataset.gh_project_name.unique().tolist()\n",
    "\n",
    "for i in range(len(list_name)):\n",
    "\n",
    "    df = dataset.loc[dataset['gh_project_name'] == list_name[i]]\n",
    "\n",
    "    mean = df.gh_num_commits_in_push.mean()\n",
    "\n",
    "    if(mean < 2.36):\n",
    "        cont +=1\n",
    "\n",
    "        \n",
    "print(\"Total de projetos {} | Projetos com media a baixo de 2: {} \".format(len(list_name), cont))\n",
    "\n"
   ]
  },
  {
   "cell_type": "code",
   "execution_count": null,
   "metadata": {},
   "outputs": [],
   "source": []
  },
  {
   "cell_type": "code",
   "execution_count": null,
   "metadata": {},
   "outputs": [],
   "source": []
  },
  {
   "cell_type": "markdown",
   "metadata": {},
   "source": [
    "### Quantidade de builds por projeto"
   ]
  },
  {
   "cell_type": "code",
   "execution_count": 18,
   "metadata": {},
   "outputs": [
    {
     "data": {
      "text/plain": [
       "CloudifySource/cloudify                       4538\n",
       "gradle/gradle                                 3520\n",
       "SonarSource/sonarqube                         2540\n",
       "facebook/presto                               2008\n",
       "orbeon/orbeon-forms                           2006\n",
       "geoserver/geoserver                           1971\n",
       "languagetool-org/languagetool                 1816\n",
       "square/okhttp                                 1815\n",
       "Graylog2/graylog2-server                      1731\n",
       "maxcom/lorsource                              1529\n",
       "caelum/vraptor4                               1502\n",
       "checkstyle/checkstyle                         1450\n",
       "jOOQ/jOOQ                                     1399\n",
       "tananaev/traccar                              1327\n",
       "querydsl/querydsl                             1293\n",
       "DSpace/DSpace                                 1268\n",
       "yegor256/rultor                               1247\n",
       "dreamhead/moco                                1236\n",
       "SpongePowered/SpongeAPI                       1214\n",
       "killbill/killbill                             1176\n",
       "graphhopper/graphhopper                       1094\n",
       "nutzam/nutz                                   1081\n",
       "naver/pinpoint                                1064\n",
       "dropwizard/dropwizard                         1060\n",
       "FasterXML/jackson-databind                    1006\n",
       "grails/grails-core                             931\n",
       "puniverse/quasar                               896\n",
       "jMonkeyEngine/jmonkeyengine                    854\n",
       "deeplearning4j/deeplearning4j                  825\n",
       "structr/structr                                823\n",
       "                                              ... \n",
       "CyberAgent/android-gpuimage                     43\n",
       "pulse00/Twig-Eclipse-Plugin                     43\n",
       "twitter/elephant-bird                           37\n",
       "ReactiveX/RxAndroid                             36\n",
       "laurilehmijoki/s3_website                       34\n",
       "goodow/realtime-store                           33\n",
       "griffon/griffon                                 29\n",
       "Berico-Technologies/CLAVIN                      28\n",
       "OpenTSDB/opentsdb                               28\n",
       "zanata/zanata-server                            27\n",
       "bitsofproof/supernode                           26\n",
       "gabrielemariotti/cardslib                       25\n",
       "dinosaurwithakatana/hacker-news-android         25\n",
       "naver/yobi                                      24\n",
       "castorflex/SmoothProgressBar                    23\n",
       "syncany/syncany                                 20\n",
       "emilsjolander/sprinkles                         20\n",
       "SimonVT/android-menudrawer                      15\n",
       "artem-zinnatullin/android-wail-app              12\n",
       "englishtown/vertx-jersey                        10\n",
       "jakenjarvis/Android-OrmLiteContentProvider      10\n",
       "OpenSOC/opensoc-streaming                       10\n",
       "excilys/androidannotations                       5\n",
       "eXist-db/exist                                   4\n",
       "openpnp/openpnp                                  3\n",
       "ReactiveX/RxJava                                 3\n",
       "chocoteam/choco3                                 3\n",
       "dita-ot/dita-ot                                  3\n",
       "tilal6991/HoloIRC                                1\n",
       "SpoutDev/Vanilla                                 1\n",
       "Length: 378, dtype: int64"
      ]
     },
     "execution_count": 18,
     "metadata": {},
     "output_type": "execute_result"
    }
   ],
   "source": [
    "df = dataset.loc[dataset['gh_lang'] == 'java']\n",
    "\n",
    "list_name = df.gh_project_name.unique().tolist()\n",
    "list_size = []\n",
    "\n",
    "for i in range(len(list_name)):\n",
    "\n",
    "    data = df.loc[df['gh_project_name'] == list_name[i]]\n",
    "\n",
    "    list_size.append(data.tr_build_id.size)\n",
    "\n",
    "    \n",
    "\n",
    "df = pd.Series(list_size, index=list_name)\n",
    "df.sort_values(ascending=False)"
   ]
  },
  {
   "cell_type": "code",
   "execution_count": null,
   "metadata": {},
   "outputs": [],
   "source": []
  },
  {
   "cell_type": "markdown",
   "metadata": {},
   "source": [
    "### How common is allowing the build to stay red for long periods?"
   ]
  },
  {
   "cell_type": "code",
   "execution_count": 15,
   "metadata": {},
   "outputs": [],
   "source": [
    "df= dataset.loc[dataset['gh_lang'] == 'java']\n",
    "list_name = df.gh_project_name.unique().tolist()"
   ]
  },
  {
   "cell_type": "code",
   "execution_count": 16,
   "metadata": {},
   "outputs": [
    {
     "name": "stdout",
     "output_type": "stream",
     "text": [
      "Projetos Java\n",
      "Total de builds que passaram 1754498\n",
      "Total de builds que NÃO passaram 308807\n"
     ]
    }
   ],
   "source": [
    "passed = df.loc[df['tr_status'] == 'passed']\n",
    "failed = df.loc[df['tr_status'] == 'failed']\n",
    "print('Projetos Java')\n",
    "print('Total de builds que passaram {}'.format(passed.size))\n",
    "print('Total de builds que NÃO passaram {}'.format(failed.size))"
   ]
  },
  {
   "cell_type": "code",
   "execution_count": 28,
   "metadata": {},
   "outputs": [],
   "source": [
    "passed = []\n",
    "failed = []\n",
    "for i in range(len(list_name)):\n",
    "    project = df.loc[df['gh_project_name'] == list_name[i]] \n",
    "    _passed = project.loc[project['tr_status'] == 'passed']\n",
    "    _failed = project.loc[project['tr_status'] == 'failed']\n",
    "    \n",
    "    passed.append(_passed.size)\n",
    "    failed.append(_failed.size)"
   ]
  },
  {
   "cell_type": "code",
   "execution_count": 38,
   "metadata": {},
   "outputs": [
    {
     "data": {
      "text/plain": [
       "378"
      ]
     },
     "execution_count": 38,
     "metadata": {},
     "output_type": "execute_result"
    }
   ],
   "source": [
    "len(failed)"
   ]
  },
  {
   "cell_type": "code",
   "execution_count": 49,
   "metadata": {},
   "outputs": [
    {
     "data": {
      "text/plain": [
       "{'whiskers': [<matplotlib.lines.Line2D at 0x7efcf967ba20>,\n",
       "  <matplotlib.lines.Line2D at 0x7efcf47dc748>,\n",
       "  <matplotlib.lines.Line2D at 0x7efcef41d668>,\n",
       "  <matplotlib.lines.Line2D at 0x7efcef41de48>],\n",
       " 'caps': [<matplotlib.lines.Line2D at 0x7efcf47dcbe0>,\n",
       "  <matplotlib.lines.Line2D at 0x7efcf47dc978>,\n",
       "  <matplotlib.lines.Line2D at 0x7efcef41d390>,\n",
       "  <matplotlib.lines.Line2D at 0x7efcef41d5c0>],\n",
       " 'boxes': [<matplotlib.lines.Line2D at 0x7efcf967bb70>,\n",
       "  <matplotlib.lines.Line2D at 0x7efcf90cccf8>],\n",
       " 'medians': [<matplotlib.lines.Line2D at 0x7efcf90ccc18>,\n",
       "  <matplotlib.lines.Line2D at 0x7efcf887aa20>],\n",
       " 'fliers': [<matplotlib.lines.Line2D at 0x7efcf90ccb38>,\n",
       "  <matplotlib.lines.Line2D at 0x7efcf887aa58>],\n",
       " 'means': []}"
      ]
     },
     "execution_count": 49,
     "metadata": {},
     "output_type": "execute_result"
    },
    {
     "data": {
      "image/png": "[encoded data removed]",
      "text/plain": [
       "<Figure size 432x288 with 1 Axes>"
      ]
     },
     "metadata": {
      "needs_background": "light"
     },
     "output_type": "display_data"
    }
   ],
   "source": [
    "data=[passed, failed]\n",
    "\n",
    "fig, ax = plt.subplots()\n",
    "\n",
    "fig.subplots_adjust(left=0.08, right=1.48, bottom=0.05, top=1.2, hspace=0.4, wspace=0.3)\n",
    "\n",
    "ax.set_axisbelow(True)\n",
    "ax.set_title('', size=20)\n",
    "ax.boxplot(data)"
   ]
  },
  {
   "cell_type": "code",
   "execution_count": 43,
   "metadata": {},
   "outputs": [
    {
     "data": {
      "image/png": "[encoded data removed]",
      "text/plain": [
       "<Figure size 432x288 with 1 Axes>"
      ]
     },
     "metadata": {
      "needs_background": "light"
     },
     "output_type": "display_data"
    }
   ],
   "source": [
    "\n",
    "plt.hist(passed, normed=False, bins=10)\n",
    "plt.ylabel('Probability');"
   ]
  },
  {
   "cell_type": "code",
   "execution_count": 51,
   "metadata": {},
   "outputs": [
    {
     "data": {
      "image/png": "[encoded data removed]",
      "text/plain": [
       "<Figure size 864x432 with 1 Axes>"
      ]
     },
     "metadata": {
      "needs_background": "light"
     },
     "output_type": "display_data"
    }
   ],
   "source": [
    "\n",
    "frequency_low = passed\n",
    "frequency_medium = failed\n",
    "labels_list = ['Monday', 'Tuesday','wednesday','thursday ','friday','saturday','sunday']\n",
    "\n",
    "# Largura das barras\n",
    "barWidth = 0.25\n",
    "\n",
    "# Tamanho do Grafico\n",
    "plt.figure(figsize=(12,6))\n",
    "\n",
    "# Posicao da barras\n",
    "r1 = np.arange(len(frequency_low))\n",
    "r2 = [x + barWidth for x in r1]\n",
    "\n",
    "\n",
    "# Criando as barras\n",
    "plt.bar(r1, frequency_low, color='#6A5ACD', width=barWidth, label='Small')\n",
    "plt.bar(r2, frequency_medium, color='#6495ED', width=barWidth, label='Medium')\n",
    "#plt.bar(r3, frequency_high, color='#00BFFF', width=barWidth, label='Large')\n",
    "\n",
    "# Adicionando legendas as barras\n",
    "\n",
    "plt.xlabel('build', fontsize=15)\n",
    "\n",
    "\n",
    "#plt.xticks([r + barWidth for r in  range(len(frequency_low))], labels_list)\n",
    "plt.ylabel('Project size', fontsize=15)\n",
    "plt.title('{}'.format('java'), fontsize=15)\n",
    "\n",
    "\n",
    "plt.legend()\n",
    "#plt.savefig('frequencia_por_dia_semana.eps', format='eps')\n",
    "plt.show()\n"
   ]
  },
  {
   "cell_type": "code",
   "execution_count": null,
   "metadata": {},
   "outputs": [],
   "source": []
  }
 ],
 "metadata": {
  "kernelspec": {
   "display_name": "Python 3",
   "language": "python",
   "name": "python3"
  },
  "language_info": {
   "codemirror_mode": {
    "name": "ipython",
    "version": 3
   },
   "file_extension": ".py",
   "mimetype": "text/x-python",
   "name": "python",
   "nbconvert_exporter": "python",
   "pygments_lexer": "ipython3",
   "version": "3.6.8"
  }
 },
 "nbformat": 4,
 "nbformat_minor": 2
}
